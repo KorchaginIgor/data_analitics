{
 "cells": [
  {
   "cell_type": "markdown",
   "metadata": {},
   "source": [
    "# Исследование надёжности заёмщиков\n",
    "\n",
    "Заказчик — кредитный отдел банка. Нужно разобраться, влияет ли семейное положение и количество детей клиента на факт погашения кредита в срок. Входные данные от банка — статистика о платёжеспособности клиентов.\n",
    "\n",
    "Результаты исследования будут учтены при построении модели **кредитного скоринга** — специальной системы, которая оценивает способность потенциального заёмщика вернуть кредит банку.\n",
    "\n",
    "**Цель исследования** - ответить на 4 вопроса:\n",
    " 1. Есть ли зависимость между наличием детей и возвратом кредита в срок?\n",
    " 2. Есть ли зависимость между семейным положением и возвратом кредита в срок?\n",
    " 3. Есть ли зависимость между уровнем дохода и возвратом кредита в срок?\n",
    " 4. Как разные цели кредита влияют на его возврат в срок?\n",
    " \n",
    " **Ход исследования**\n",
    " 1. Определить и заполнить пропущенные значения:\n",
    "    - описать, какие пропущенные значения я обнаружил;\n",
    "    - привести возможные причины появления пропусков в данных;\n",
    "    - объяснить, по какому принципу заполнены пропуски;\n",
    " 2. Заменить вещественный тип данных на целочисленный:\n",
    "    - пояснить, как выбирали метод для изменения типа данных;\n",
    " 3. Удалить дубликаты:\n",
    "    - пояснить, как выбирал метод для поиска и удаления дубликатов в данных;\n",
    "    - привести возможные причины появления дубликатов;\n",
    " 4. Выделить леммы в значениях столбца с целями получения кредита:\n",
    "    - описать, как я проводил лемматизацию целей кредита;\n",
    " 5. Категоризировать данные:\n",
    "    - перечислить, какие «словари» я выделил для этого набора данных, и объяснить, почему.\n",
    " "
   ]
  },
  {
   "cell_type": "markdown",
   "metadata": {},
   "source": [
    "## Шаг 1. Откройте файл с данными и изучите общую информацию"
   ]
  },
  {
   "cell_type": "code",
   "execution_count": 2,
   "metadata": {},
   "outputs": [
    {
     "name": "stdout",
     "output_type": "stream",
     "text": [
      "<class 'pandas.core.frame.DataFrame'>\n",
      "RangeIndex: 21525 entries, 0 to 21524\n",
      "Data columns (total 12 columns):\n",
      "children            21525 non-null int64\n",
      "days_employed       19351 non-null float64\n",
      "dob_years           21525 non-null int64\n",
      "education           21525 non-null object\n",
      "education_id        21525 non-null int64\n",
      "family_status       21525 non-null object\n",
      "family_status_id    21525 non-null int64\n",
      "gender              21525 non-null object\n",
      "income_type         21525 non-null object\n",
      "debt                21525 non-null int64\n",
      "total_income        19351 non-null float64\n",
      "purpose             21525 non-null object\n",
      "dtypes: float64(2), int64(5), object(5)\n",
      "memory usage: 2.0+ MB\n"
     ]
    },
    {
     "data": {
      "text/plain": [
       "None"
      ]
     },
     "metadata": {},
     "output_type": "display_data"
    }
   ],
   "source": [
    "import pandas as pd\n",
    "from pymystem3 import Mystem\n",
    "df = pd.read_csv('data.csv')#/datasets/data.csv\n",
    "display(df.info())\n",
    "#display(df.head(10))"
   ]
  },
  {
   "cell_type": "markdown",
   "metadata": {},
   "source": [
    "**Вывод**"
   ]
  },
  {
   "cell_type": "markdown",
   "metadata": {},
   "source": [
    "В таблице семь столбцов. Тип данных разный, возможно он в каких-то столбцах не оптимален, но разберемся с этим в предобработке.\n",
    "\n",
    "Согласно документации к данным:\n",
    "\n",
    "- children — количество детей в семье\n",
    "- days_employed — общий трудовой стаж в днях\n",
    "- dob_years — возраст клиента в годах\n",
    "- education — уровень образования клиента\n",
    "- education_id — идентификатор уровня образования\n",
    "- family_status — семейное положение\n",
    "- family_status_id — идентификатор семейного положения\n",
    "- gender — пол клиента\n",
    "- income_type — тип занятости\n",
    "- debt — имел ли задолженность по возврату кредитов\n",
    "- total_income — ежемесячный доход\n",
    "- purpose — цель получения кредита\n",
    "\n",
    "Количество значений в столбцах различается. Значит, в данных есть пропущенные значения. Подозрительно одинаковое количество пропусков двух столбцах, скорее всего нет данных по этим людям, посмотрим дальше. \n",
    "\n",
    "В каждой строке таблицы — данные о клиенте банка. Это статистика о платёжеспособности клиентов, где часть колонок описывает клиента: пол, возраст, семейное положение, количество детей, уровень образования. Остальные данные рассказывают об экономических особенностях пользователя: тип занятости, доход,имеются ли задолженности.\n",
    "\n",
    "Предварительно можно утверждать, что, данных достаточно для проверки гипотез. Но встречаются пропуски в данных.\n",
    "\n",
    "Чтобы двигаться дальше, нужно устранить проблемы в данных."
   ]
  },
  {
   "cell_type": "markdown",
   "metadata": {},
   "source": [
    "## Шаг 2. Предобработка данных"
   ]
  },
  {
   "cell_type": "markdown",
   "metadata": {},
   "source": [
    "### Обработка пропусков"
   ]
  },
  {
   "cell_type": "code",
   "execution_count": 2,
   "metadata": {},
   "outputs": [
    {
     "name": "stdout",
     "output_type": "stream",
     "text": [
      "[-8437.67302776 -4024.80375385 -5623.42261023 ... -2113.3468877\n",
      " -3112.4817052  -1984.50758853]\n",
      "[253875.6394526  112080.01410244 145885.95229686 ...  89672.56115303\n",
      " 244093.05050043  82047.41889948]\n",
      " 0     14149\n",
      " 1      4818\n",
      " 2      2055\n",
      " 3       330\n",
      " 20       76\n",
      "-1        47\n",
      " 4        41\n",
      " 5         9\n",
      "Name: children, dtype: int64\n",
      "F      14236\n",
      "M       7288\n",
      "XNA        1\n",
      "Name: gender, dtype: int64\n"
     ]
    }
   ],
   "source": [
    "print(df['days_employed'].unique())\n",
    "print(df['total_income'].unique())\n",
    "print(df['children'].value_counts())\n",
    "df['children'] = df['children'].abs()#в столбце оказались отрицательные значения, перевел их в положительные\n",
    "print(df['gender'].value_counts())"
   ]
  },
  {
   "cell_type": "code",
   "execution_count": 3,
   "metadata": {
    "scrolled": true
   },
   "outputs": [
    {
     "name": "stdout",
     "output_type": "stream",
     "text": [
      "0    14149\n",
      "1     4865\n",
      "2     2131\n",
      "3      330\n",
      "4       41\n",
      "5        9\n",
      "Name: children, dtype: int64\n"
     ]
    }
   ],
   "source": [
    "df.loc[df['children'] == 20, 'children'] = 2 #меняю 20 на 2, так как похоже это опечатка\n",
    "print(df['children'].value_counts())"
   ]
  },
  {
   "cell_type": "code",
   "execution_count": 4,
   "metadata": {},
   "outputs": [
    {
     "name": "stdout",
     "output_type": "stream",
     "text": [
      "F    14237\n",
      "M     7288\n",
      "Name: gender, dtype: int64\n"
     ]
    }
   ],
   "source": [
    "df.loc[df['gender'] == 'XNA', 'gender'] = 'F' #это тоже мне кажется опечаткой, меняю на самое встречающееся значение\n",
    "print(df['gender'].value_counts())"
   ]
  },
  {
   "cell_type": "markdown",
   "metadata": {},
   "source": [
    "Как мы видим, в стобцах с пропущенными значениями есть только числа, но в столбце 'days_employed' они бывают аномально большие и отрицательные. Заменим их таким образом, предполагая, что очень большие значения даны в часах, а отрицательные возвращаем положительными, так как стаж не мжет быть отрицательным: "
   ]
  },
  {
   "cell_type": "code",
   "execution_count": 5,
   "metadata": {},
   "outputs": [
    {
     "name": "stdout",
     "output_type": "stream",
     "text": [
      "<class 'pandas.core.frame.DataFrame'>\n",
      "RangeIndex: 21525 entries, 0 to 21524\n",
      "Data columns (total 12 columns):\n",
      "children            21525 non-null int64\n",
      "days_employed       21525 non-null float64\n",
      "dob_years           21525 non-null int64\n",
      "education           21525 non-null object\n",
      "education_id        21525 non-null int64\n",
      "family_status       21525 non-null object\n",
      "family_status_id    21525 non-null int64\n",
      "gender              21525 non-null object\n",
      "income_type         21525 non-null object\n",
      "debt                21525 non-null int64\n",
      "total_income        21525 non-null float64\n",
      "purpose             21525 non-null object\n",
      "dtypes: float64(2), int64(5), object(5)\n",
      "memory usage: 2.0+ MB\n"
     ]
    },
    {
     "data": {
      "text/plain": [
       "None"
      ]
     },
     "metadata": {},
     "output_type": "display_data"
    }
   ],
   "source": [
    "df['days_employed'] = df['days_employed'].apply(abs)\n",
    "df.loc[df['days_employed'] >30000, 'days_employed'] = df.loc[df['days_employed'] >30000, 'days_employed'] / 24\n",
    "#а теперь заполняем пропуски медианами, в столбце total_income преподаватель сказал,\n",
    "#что все норм и к значениям придираться не надо, мол это учебные значения\n",
    "df.loc[df['days_employed'].isna(), 'days_employed'] = df['days_employed'].median()\n",
    "df.loc[df['total_income'].isna(), 'total_income'] = df['total_income'].median()\n",
    "display(df.info())"
   ]
  },
  {
   "cell_type": "markdown",
   "metadata": {},
   "source": [
    "**Вывод**"
   ]
  },
  {
   "cell_type": "markdown",
   "metadata": {},
   "source": [
    "Таким образом, заполнили все пропуски в данных. Почему произошли такие ошибки? Скорее всего, в данных встречается информация из двух систем. Одна из них считает стаж в часах, а другая наоборот. Для заполнения пропущенных значений использовал медиану, потому что это более объективная информация о зарплате сотрудников, чем среднее значение. То же самое и со стажем, там есть очень большие значения стажа, поэтому медиана более корректно заменит пропуск и меньше скажется на всей статистике."
   ]
  },
  {
   "cell_type": "markdown",
   "metadata": {},
   "source": [
    "### Замена типа данных"
   ]
  },
  {
   "cell_type": "code",
   "execution_count": 6,
   "metadata": {},
   "outputs": [
    {
     "name": "stdout",
     "output_type": "stream",
     "text": [
      "<class 'pandas.core.frame.DataFrame'>\n",
      "RangeIndex: 21525 entries, 0 to 21524\n",
      "Data columns (total 12 columns):\n",
      "children            21525 non-null int64\n",
      "days_employed       21525 non-null int64\n",
      "dob_years           21525 non-null int64\n",
      "education           21525 non-null object\n",
      "education_id        21525 non-null int64\n",
      "family_status       21525 non-null object\n",
      "family_status_id    21525 non-null int64\n",
      "gender              21525 non-null object\n",
      "income_type         21525 non-null object\n",
      "debt                21525 non-null int64\n",
      "total_income        21525 non-null int64\n",
      "purpose             21525 non-null object\n",
      "dtypes: int64(7), object(5)\n",
      "memory usage: 2.0+ MB\n"
     ]
    },
    {
     "data": {
      "text/plain": [
       "None"
      ]
     },
     "metadata": {},
     "output_type": "display_data"
    }
   ],
   "source": [
    "df['days_employed'] = df['days_employed'].astype('int')\n",
    "df['total_income'] = df['total_income'].astype('int')\n",
    "display(df.info())"
   ]
  },
  {
   "cell_type": "markdown",
   "metadata": {},
   "source": [
    "**Вывод**"
   ]
  },
  {
   "cell_type": "markdown",
   "metadata": {},
   "source": [
    "Так как у нас вещественный тип данных в столбцах со стажем и с доходом в месяц, можно применить к этим столбцам метод astype(), потому что он может перевести из вещественного типа в целочисленный, а эти данные удобнее и красивее представлять целочисленно, значения после запятой не будут нести большого значения, так как значения в этих слобцах \"продолжительные\"."
   ]
  },
  {
   "cell_type": "markdown",
   "metadata": {},
   "source": [
    "### Обработка дубликатов"
   ]
  },
  {
   "cell_type": "code",
   "execution_count": 7,
   "metadata": {},
   "outputs": [
    {
     "name": "stdout",
     "output_type": "stream",
     "text": [
      "71\n",
      "0\n"
     ]
    }
   ],
   "source": [
    "#df.duplicated()\n",
    "df['education'] = df['education'].str.lower()#примводим все строки в стобце с образованием к нижнеему регистру\n",
    "#display(df.head(30))\n",
    "#находим полные дубли\n",
    "#df_dubl = df[df.duplicated(keep = False)] # keep = False выведет все совпадения\n",
    "#display(df_dubl)\n",
    "print(df.duplicated().sum())#количество добликатов до их удаления\n",
    "df=df.drop_duplicates()\n",
    "print(df.duplicated().sum())#и после их удаления, преподаватель сказал, что в проекте смотрим только полные дубли строк\n"
   ]
  },
  {
   "cell_type": "markdown",
   "metadata": {},
   "source": [
    "**Вывод**"
   ]
  },
  {
   "cell_type": "markdown",
   "metadata": {},
   "source": [
    "Для поиска дубликатов использовал метод duplicated(), так как нужно было отыскать полные дубликаты строк. Дубликаты могли появится из-за разного регистра в столбце \"образование\", могли образоваться при соединении нескольких таблиц в одну, этот клиент проходить в системе под разными айди."
   ]
  },
  {
   "cell_type": "markdown",
   "metadata": {},
   "source": [
    "### Лемматизация"
   ]
  },
  {
   "cell_type": "code",
   "execution_count": 8,
   "metadata": {},
   "outputs": [],
   "source": [
    "\n",
    "#from pymystem3 import Mystem\n",
    "m = Mystem()\n",
    "\n",
    "lemmas = m.lemmatize(\" \".join(df['purpose'].unique()))"
   ]
  },
  {
   "cell_type": "markdown",
   "metadata": {},
   "source": [
    "Дальше посмотрим, какие леммы встрачаются чаще всего."
   ]
  },
  {
   "cell_type": "code",
   "execution_count": 9,
   "metadata": {
    "scrolled": false
   },
   "outputs": [
    {
     "data": {
      "text/plain": [
       "[(' ', 96),\n",
       " ('покупка', 10),\n",
       " ('недвижимость', 10),\n",
       " ('автомобиль', 9),\n",
       " ('образование', 9),\n",
       " ('жилье', 7),\n",
       " ('с', 5),\n",
       " ('операция', 4),\n",
       " ('на', 4),\n",
       " ('свой', 4),\n",
       " ('свадьба', 3),\n",
       " ('строительство', 3),\n",
       " ('получение', 3),\n",
       " ('высокий', 3),\n",
       " ('дополнительный', 2),\n",
       " ('для', 2),\n",
       " ('коммерческий', 2),\n",
       " ('жилой', 2),\n",
       " ('подержать', 2),\n",
       " ('заниматься', 2),\n",
       " ('сделка', 2),\n",
       " ('приобретение', 1),\n",
       " ('сыграть', 1),\n",
       " ('проведение', 1),\n",
       " ('семья', 1),\n",
       " ('собственный', 1),\n",
       " ('со', 1),\n",
       " ('профильный', 1),\n",
       " ('сдача', 1),\n",
       " ('ремонт', 1),\n",
       " ('\\n', 1)]"
      ]
     },
     "execution_count": 9,
     "metadata": {},
     "output_type": "execute_result"
    }
   ],
   "source": [
    "from collections import Counter\n",
    "Counter(lemmas).most_common() "
   ]
  },
  {
   "cell_type": "markdown",
   "metadata": {},
   "source": [
    "Выделяем такие категории, как ['недвижимость', 'автомобиль', 'образование', 'жилье', 'операция']. Покупку не вношу, потому что она как раз входит внутрь других категорий, она не несет смысловой нагрузки, клиенту банка нужны деньги на покупку(ясное дело), а вот на покупку чего это нас и интересует."
   ]
  },
  {
   "cell_type": "code",
   "execution_count": 10,
   "metadata": {},
   "outputs": [
    {
     "data": {
      "text/html": [
       "<div>\n",
       "<style scoped>\n",
       "    .dataframe tbody tr th:only-of-type {\n",
       "        vertical-align: middle;\n",
       "    }\n",
       "\n",
       "    .dataframe tbody tr th {\n",
       "        vertical-align: top;\n",
       "    }\n",
       "\n",
       "    .dataframe thead th {\n",
       "        text-align: right;\n",
       "    }\n",
       "</style>\n",
       "<table border=\"1\" class=\"dataframe\">\n",
       "  <thead>\n",
       "    <tr style=\"text-align: right;\">\n",
       "      <th></th>\n",
       "      <th>children</th>\n",
       "      <th>days_employed</th>\n",
       "      <th>dob_years</th>\n",
       "      <th>education</th>\n",
       "      <th>education_id</th>\n",
       "      <th>family_status</th>\n",
       "      <th>family_status_id</th>\n",
       "      <th>gender</th>\n",
       "      <th>income_type</th>\n",
       "      <th>debt</th>\n",
       "      <th>total_income</th>\n",
       "      <th>purpose</th>\n",
       "      <th>purpose_category</th>\n",
       "    </tr>\n",
       "  </thead>\n",
       "  <tbody>\n",
       "    <tr>\n",
       "      <td>0</td>\n",
       "      <td>1</td>\n",
       "      <td>8437</td>\n",
       "      <td>42</td>\n",
       "      <td>высшее</td>\n",
       "      <td>0</td>\n",
       "      <td>женат / замужем</td>\n",
       "      <td>0</td>\n",
       "      <td>F</td>\n",
       "      <td>сотрудник</td>\n",
       "      <td>0</td>\n",
       "      <td>253875</td>\n",
       "      <td>покупка жилья</td>\n",
       "      <td>жилье</td>\n",
       "    </tr>\n",
       "    <tr>\n",
       "      <td>1</td>\n",
       "      <td>1</td>\n",
       "      <td>4024</td>\n",
       "      <td>36</td>\n",
       "      <td>среднее</td>\n",
       "      <td>1</td>\n",
       "      <td>женат / замужем</td>\n",
       "      <td>0</td>\n",
       "      <td>F</td>\n",
       "      <td>сотрудник</td>\n",
       "      <td>0</td>\n",
       "      <td>112080</td>\n",
       "      <td>приобретение автомобиля</td>\n",
       "      <td>автомобиль</td>\n",
       "    </tr>\n",
       "    <tr>\n",
       "      <td>2</td>\n",
       "      <td>0</td>\n",
       "      <td>5623</td>\n",
       "      <td>33</td>\n",
       "      <td>среднее</td>\n",
       "      <td>1</td>\n",
       "      <td>женат / замужем</td>\n",
       "      <td>0</td>\n",
       "      <td>M</td>\n",
       "      <td>сотрудник</td>\n",
       "      <td>0</td>\n",
       "      <td>145885</td>\n",
       "      <td>покупка жилья</td>\n",
       "      <td>жилье</td>\n",
       "    </tr>\n",
       "    <tr>\n",
       "      <td>3</td>\n",
       "      <td>3</td>\n",
       "      <td>4124</td>\n",
       "      <td>32</td>\n",
       "      <td>среднее</td>\n",
       "      <td>1</td>\n",
       "      <td>женат / замужем</td>\n",
       "      <td>0</td>\n",
       "      <td>M</td>\n",
       "      <td>сотрудник</td>\n",
       "      <td>0</td>\n",
       "      <td>267628</td>\n",
       "      <td>дополнительное образование</td>\n",
       "      <td>образование</td>\n",
       "    </tr>\n",
       "    <tr>\n",
       "      <td>4</td>\n",
       "      <td>0</td>\n",
       "      <td>14177</td>\n",
       "      <td>53</td>\n",
       "      <td>среднее</td>\n",
       "      <td>1</td>\n",
       "      <td>гражданский брак</td>\n",
       "      <td>1</td>\n",
       "      <td>F</td>\n",
       "      <td>пенсионер</td>\n",
       "      <td>0</td>\n",
       "      <td>158616</td>\n",
       "      <td>сыграть свадьбу</td>\n",
       "      <td>прочее</td>\n",
       "    </tr>\n",
       "    <tr>\n",
       "      <td>5</td>\n",
       "      <td>0</td>\n",
       "      <td>926</td>\n",
       "      <td>27</td>\n",
       "      <td>высшее</td>\n",
       "      <td>0</td>\n",
       "      <td>гражданский брак</td>\n",
       "      <td>1</td>\n",
       "      <td>M</td>\n",
       "      <td>компаньон</td>\n",
       "      <td>0</td>\n",
       "      <td>255763</td>\n",
       "      <td>покупка жилья</td>\n",
       "      <td>жилье</td>\n",
       "    </tr>\n",
       "    <tr>\n",
       "      <td>6</td>\n",
       "      <td>0</td>\n",
       "      <td>2879</td>\n",
       "      <td>43</td>\n",
       "      <td>высшее</td>\n",
       "      <td>0</td>\n",
       "      <td>женат / замужем</td>\n",
       "      <td>0</td>\n",
       "      <td>F</td>\n",
       "      <td>компаньон</td>\n",
       "      <td>0</td>\n",
       "      <td>240525</td>\n",
       "      <td>операции с жильем</td>\n",
       "      <td>жилье</td>\n",
       "    </tr>\n",
       "    <tr>\n",
       "      <td>7</td>\n",
       "      <td>0</td>\n",
       "      <td>152</td>\n",
       "      <td>50</td>\n",
       "      <td>среднее</td>\n",
       "      <td>1</td>\n",
       "      <td>женат / замужем</td>\n",
       "      <td>0</td>\n",
       "      <td>M</td>\n",
       "      <td>сотрудник</td>\n",
       "      <td>0</td>\n",
       "      <td>135823</td>\n",
       "      <td>образование</td>\n",
       "      <td>образование</td>\n",
       "    </tr>\n",
       "    <tr>\n",
       "      <td>8</td>\n",
       "      <td>2</td>\n",
       "      <td>6929</td>\n",
       "      <td>35</td>\n",
       "      <td>высшее</td>\n",
       "      <td>0</td>\n",
       "      <td>гражданский брак</td>\n",
       "      <td>1</td>\n",
       "      <td>F</td>\n",
       "      <td>сотрудник</td>\n",
       "      <td>0</td>\n",
       "      <td>95856</td>\n",
       "      <td>на проведение свадьбы</td>\n",
       "      <td>прочее</td>\n",
       "    </tr>\n",
       "    <tr>\n",
       "      <td>9</td>\n",
       "      <td>0</td>\n",
       "      <td>2188</td>\n",
       "      <td>41</td>\n",
       "      <td>среднее</td>\n",
       "      <td>1</td>\n",
       "      <td>женат / замужем</td>\n",
       "      <td>0</td>\n",
       "      <td>M</td>\n",
       "      <td>сотрудник</td>\n",
       "      <td>0</td>\n",
       "      <td>144425</td>\n",
       "      <td>покупка жилья для семьи</td>\n",
       "      <td>жилье</td>\n",
       "    </tr>\n",
       "    <tr>\n",
       "      <td>10</td>\n",
       "      <td>2</td>\n",
       "      <td>4171</td>\n",
       "      <td>36</td>\n",
       "      <td>высшее</td>\n",
       "      <td>0</td>\n",
       "      <td>женат / замужем</td>\n",
       "      <td>0</td>\n",
       "      <td>M</td>\n",
       "      <td>компаньон</td>\n",
       "      <td>0</td>\n",
       "      <td>113943</td>\n",
       "      <td>покупка недвижимости</td>\n",
       "      <td>недвижимость</td>\n",
       "    </tr>\n",
       "    <tr>\n",
       "      <td>11</td>\n",
       "      <td>0</td>\n",
       "      <td>792</td>\n",
       "      <td>40</td>\n",
       "      <td>среднее</td>\n",
       "      <td>1</td>\n",
       "      <td>женат / замужем</td>\n",
       "      <td>0</td>\n",
       "      <td>F</td>\n",
       "      <td>сотрудник</td>\n",
       "      <td>0</td>\n",
       "      <td>77069</td>\n",
       "      <td>покупка коммерческой недвижимости</td>\n",
       "      <td>недвижимость</td>\n",
       "    </tr>\n",
       "    <tr>\n",
       "      <td>12</td>\n",
       "      <td>0</td>\n",
       "      <td>2194</td>\n",
       "      <td>65</td>\n",
       "      <td>среднее</td>\n",
       "      <td>1</td>\n",
       "      <td>гражданский брак</td>\n",
       "      <td>1</td>\n",
       "      <td>M</td>\n",
       "      <td>пенсионер</td>\n",
       "      <td>0</td>\n",
       "      <td>145017</td>\n",
       "      <td>сыграть свадьбу</td>\n",
       "      <td>прочее</td>\n",
       "    </tr>\n",
       "    <tr>\n",
       "      <td>13</td>\n",
       "      <td>0</td>\n",
       "      <td>1846</td>\n",
       "      <td>54</td>\n",
       "      <td>неоконченное высшее</td>\n",
       "      <td>2</td>\n",
       "      <td>женат / замужем</td>\n",
       "      <td>0</td>\n",
       "      <td>F</td>\n",
       "      <td>сотрудник</td>\n",
       "      <td>0</td>\n",
       "      <td>130458</td>\n",
       "      <td>приобретение автомобиля</td>\n",
       "      <td>автомобиль</td>\n",
       "    </tr>\n",
       "    <tr>\n",
       "      <td>14</td>\n",
       "      <td>0</td>\n",
       "      <td>1844</td>\n",
       "      <td>56</td>\n",
       "      <td>высшее</td>\n",
       "      <td>0</td>\n",
       "      <td>гражданский брак</td>\n",
       "      <td>1</td>\n",
       "      <td>F</td>\n",
       "      <td>компаньон</td>\n",
       "      <td>1</td>\n",
       "      <td>165127</td>\n",
       "      <td>покупка жилой недвижимости</td>\n",
       "      <td>недвижимость</td>\n",
       "    </tr>\n",
       "  </tbody>\n",
       "</table>\n",
       "</div>"
      ],
      "text/plain": [
       "    children  days_employed  dob_years            education  education_id  \\\n",
       "0          1           8437         42               высшее             0   \n",
       "1          1           4024         36              среднее             1   \n",
       "2          0           5623         33              среднее             1   \n",
       "3          3           4124         32              среднее             1   \n",
       "4          0          14177         53              среднее             1   \n",
       "5          0            926         27               высшее             0   \n",
       "6          0           2879         43               высшее             0   \n",
       "7          0            152         50              среднее             1   \n",
       "8          2           6929         35               высшее             0   \n",
       "9          0           2188         41              среднее             1   \n",
       "10         2           4171         36               высшее             0   \n",
       "11         0            792         40              среднее             1   \n",
       "12         0           2194         65              среднее             1   \n",
       "13         0           1846         54  неоконченное высшее             2   \n",
       "14         0           1844         56               высшее             0   \n",
       "\n",
       "       family_status  family_status_id gender income_type  debt  total_income  \\\n",
       "0    женат / замужем                 0      F   сотрудник     0        253875   \n",
       "1    женат / замужем                 0      F   сотрудник     0        112080   \n",
       "2    женат / замужем                 0      M   сотрудник     0        145885   \n",
       "3    женат / замужем                 0      M   сотрудник     0        267628   \n",
       "4   гражданский брак                 1      F   пенсионер     0        158616   \n",
       "5   гражданский брак                 1      M   компаньон     0        255763   \n",
       "6    женат / замужем                 0      F   компаньон     0        240525   \n",
       "7    женат / замужем                 0      M   сотрудник     0        135823   \n",
       "8   гражданский брак                 1      F   сотрудник     0         95856   \n",
       "9    женат / замужем                 0      M   сотрудник     0        144425   \n",
       "10   женат / замужем                 0      M   компаньон     0        113943   \n",
       "11   женат / замужем                 0      F   сотрудник     0         77069   \n",
       "12  гражданский брак                 1      M   пенсионер     0        145017   \n",
       "13   женат / замужем                 0      F   сотрудник     0        130458   \n",
       "14  гражданский брак                 1      F   компаньон     1        165127   \n",
       "\n",
       "                              purpose purpose_category  \n",
       "0                       покупка жилья            жилье  \n",
       "1             приобретение автомобиля       автомобиль  \n",
       "2                       покупка жилья            жилье  \n",
       "3          дополнительное образование      образование  \n",
       "4                     сыграть свадьбу           прочее  \n",
       "5                       покупка жилья            жилье  \n",
       "6                   операции с жильем            жилье  \n",
       "7                         образование      образование  \n",
       "8               на проведение свадьбы           прочее  \n",
       "9             покупка жилья для семьи            жилье  \n",
       "10               покупка недвижимости     недвижимость  \n",
       "11  покупка коммерческой недвижимости     недвижимость  \n",
       "12                    сыграть свадьбу           прочее  \n",
       "13            приобретение автомобиля       автомобиль  \n",
       "14         покупка жилой недвижимости     недвижимость  "
      ]
     },
     "metadata": {},
     "output_type": "display_data"
    }
   ],
   "source": [
    "#тут две функции, потому что я проверял, пофиг ли ядру на моей локальной машине на сложность кода, \n",
    "#оказалось пофиг и пришлось делать в тренажере\n",
    "#from pymystem3 import Mystem\n",
    "m = Mystem()\n",
    "common_purposes = ['недвижимость', 'автомобиль', 'образование', 'жилье', 'операция']\n",
    " \n",
    "def purpose_category(value):\n",
    "    lemmas = m.lemmatize(value)\n",
    "    for item in common_purposes:\n",
    "        if item in lemmas:\n",
    "            return item\n",
    "    return 'прочее'\n",
    "#def purpose_category(cell_value):\n",
    "#    cell_lemmas = m.lemmatize(cell_value)\n",
    "#    if 'недвижимость' in cell_lemmas:\n",
    "#        return 'недвижимость'\n",
    "#    if 'автомобиль' in cell_lemmas:\n",
    "#        return 'авто'\n",
    "#    if 'образование' in cell_lemmas:\n",
    "#        return 'образование'\n",
    "#    if 'жилье' in cell_lemmas:\n",
    "#        return 'жилье'\n",
    "#    if 'операция' in cell_lemmas:\n",
    "#        return 'операция'\n",
    "#    return 'прочее'\n",
    " \n",
    "df['purpose_category'] = df['purpose'].apply(purpose_category)\n",
    "display(df.head(15))"
   ]
  },
  {
   "cell_type": "code",
   "execution_count": 11,
   "metadata": {},
   "outputs": [
    {
     "data": {
      "text/plain": [
       "недвижимость    6351\n",
       "жилье           4460\n",
       "автомобиль      4306\n",
       "образование     4013\n",
       "прочее          2324\n",
       "Name: purpose_category, dtype: int64"
      ]
     },
     "execution_count": 11,
     "metadata": {},
     "output_type": "execute_result"
    }
   ],
   "source": [
    "#df[df['purpose_category'] == 'операция']#'операция'\n",
    "df['purpose_category'].value_counts()"
   ]
  },
  {
   "cell_type": "markdown",
   "metadata": {},
   "source": [
    "**Вывод**"
   ]
  },
  {
   "cell_type": "markdown",
   "metadata": {},
   "source": [
    "Мы проделали немалый путь, а именно:\n",
    "- Получили уникальные значения purpose, склеили их в одну строку с помощью join и лемматизировали.\n",
    "- С помощь Counter посчитали частоту появления слов.\n",
    "- После этого выделили (вручную) из этого списка самые частые существительные - основные категории. \n",
    "- Написали функцию для apply, которая лематизирует последовательно каждую ячейку столбца purpose и проверяет, какая из категорий обнаруживается в лемматизированном варианте.\n",
    "\n",
    "Таким образом, получилось пять катеорий."
   ]
  },
  {
   "cell_type": "markdown",
   "metadata": {},
   "source": [
    "### Категоризация данных"
   ]
  },
  {
   "cell_type": "markdown",
   "metadata": {},
   "source": [
    "Здесь выделим словари, которые помогут ответить на вопросы исследования."
   ]
  },
  {
   "cell_type": "code",
   "execution_count": 12,
   "metadata": {},
   "outputs": [
    {
     "data": {
      "text/html": [
       "<div>\n",
       "<style scoped>\n",
       "    .dataframe tbody tr th:only-of-type {\n",
       "        vertical-align: middle;\n",
       "    }\n",
       "\n",
       "    .dataframe tbody tr th {\n",
       "        vertical-align: top;\n",
       "    }\n",
       "\n",
       "    .dataframe thead th {\n",
       "        text-align: right;\n",
       "    }\n",
       "</style>\n",
       "<table border=\"1\" class=\"dataframe\">\n",
       "  <thead>\n",
       "    <tr style=\"text-align: right;\">\n",
       "      <th></th>\n",
       "      <th>education</th>\n",
       "    </tr>\n",
       "    <tr>\n",
       "      <th>education_id</th>\n",
       "      <th></th>\n",
       "    </tr>\n",
       "  </thead>\n",
       "  <tbody>\n",
       "    <tr>\n",
       "      <td>0</td>\n",
       "      <td>высшее</td>\n",
       "    </tr>\n",
       "    <tr>\n",
       "      <td>1</td>\n",
       "      <td>среднее</td>\n",
       "    </tr>\n",
       "    <tr>\n",
       "      <td>2</td>\n",
       "      <td>неоконченное высшее</td>\n",
       "    </tr>\n",
       "    <tr>\n",
       "      <td>3</td>\n",
       "      <td>начальное</td>\n",
       "    </tr>\n",
       "    <tr>\n",
       "      <td>4</td>\n",
       "      <td>ученая степень</td>\n",
       "    </tr>\n",
       "  </tbody>\n",
       "</table>\n",
       "</div>"
      ],
      "text/plain": [
       "                        education\n",
       "education_id                     \n",
       "0                          высшее\n",
       "1                         среднее\n",
       "2             неоконченное высшее\n",
       "3                       начальное\n",
       "4                  ученая степень"
      ]
     },
     "metadata": {},
     "output_type": "display_data"
    }
   ],
   "source": [
    "slovar_education = df[['education_id', 'education']].drop_duplicates().set_index('education_id')#словарь для категорий по образованию\n",
    "display(slovar_education)"
   ]
  },
  {
   "cell_type": "code",
   "execution_count": 13,
   "metadata": {},
   "outputs": [
    {
     "data": {
      "text/html": [
       "<div>\n",
       "<style scoped>\n",
       "    .dataframe tbody tr th:only-of-type {\n",
       "        vertical-align: middle;\n",
       "    }\n",
       "\n",
       "    .dataframe tbody tr th {\n",
       "        vertical-align: top;\n",
       "    }\n",
       "\n",
       "    .dataframe thead th {\n",
       "        text-align: right;\n",
       "    }\n",
       "</style>\n",
       "<table border=\"1\" class=\"dataframe\">\n",
       "  <thead>\n",
       "    <tr style=\"text-align: right;\">\n",
       "      <th></th>\n",
       "      <th>family_status</th>\n",
       "    </tr>\n",
       "    <tr>\n",
       "      <th>family_status_id</th>\n",
       "      <th></th>\n",
       "    </tr>\n",
       "  </thead>\n",
       "  <tbody>\n",
       "    <tr>\n",
       "      <td>0</td>\n",
       "      <td>женат / замужем</td>\n",
       "    </tr>\n",
       "    <tr>\n",
       "      <td>1</td>\n",
       "      <td>гражданский брак</td>\n",
       "    </tr>\n",
       "    <tr>\n",
       "      <td>2</td>\n",
       "      <td>вдовец / вдова</td>\n",
       "    </tr>\n",
       "    <tr>\n",
       "      <td>3</td>\n",
       "      <td>в разводе</td>\n",
       "    </tr>\n",
       "    <tr>\n",
       "      <td>4</td>\n",
       "      <td>Не женат / не замужем</td>\n",
       "    </tr>\n",
       "  </tbody>\n",
       "</table>\n",
       "</div>"
      ],
      "text/plain": [
       "                          family_status\n",
       "family_status_id                       \n",
       "0                       женат / замужем\n",
       "1                      гражданский брак\n",
       "2                        вдовец / вдова\n",
       "3                             в разводе\n",
       "4                 Не женат / не замужем"
      ]
     },
     "metadata": {},
     "output_type": "display_data"
    }
   ],
   "source": [
    "slovar_family = df[['family_status_id', 'family_status']].drop_duplicates().set_index('family_status_id')#словарь для категорий по семейному положению\n",
    "display(slovar_family)"
   ]
  },
  {
   "cell_type": "code",
   "execution_count": 14,
   "metadata": {
    "scrolled": false
   },
   "outputs": [
    {
     "data": {
      "text/html": [
       "<div>\n",
       "<style scoped>\n",
       "    .dataframe tbody tr th:only-of-type {\n",
       "        vertical-align: middle;\n",
       "    }\n",
       "\n",
       "    .dataframe tbody tr th {\n",
       "        vertical-align: top;\n",
       "    }\n",
       "\n",
       "    .dataframe thead th {\n",
       "        text-align: right;\n",
       "    }\n",
       "</style>\n",
       "<table border=\"1\" class=\"dataframe\">\n",
       "  <thead>\n",
       "    <tr style=\"text-align: right;\">\n",
       "      <th></th>\n",
       "      <th>children</th>\n",
       "      <th>children_id</th>\n",
       "      <th>days_employed</th>\n",
       "      <th>dob_years</th>\n",
       "      <th>education</th>\n",
       "      <th>education_id</th>\n",
       "      <th>family_status</th>\n",
       "      <th>family_status_id</th>\n",
       "      <th>gender</th>\n",
       "      <th>income_type</th>\n",
       "      <th>debt</th>\n",
       "      <th>total_income</th>\n",
       "      <th>purpose</th>\n",
       "      <th>purpose_category</th>\n",
       "    </tr>\n",
       "  </thead>\n",
       "  <tbody>\n",
       "    <tr>\n",
       "      <td>0</td>\n",
       "      <td>1</td>\n",
       "      <td>есть</td>\n",
       "      <td>8437</td>\n",
       "      <td>42</td>\n",
       "      <td>высшее</td>\n",
       "      <td>0</td>\n",
       "      <td>женат / замужем</td>\n",
       "      <td>0</td>\n",
       "      <td>F</td>\n",
       "      <td>сотрудник</td>\n",
       "      <td>0</td>\n",
       "      <td>253875</td>\n",
       "      <td>покупка жилья</td>\n",
       "      <td>жилье</td>\n",
       "    </tr>\n",
       "    <tr>\n",
       "      <td>1</td>\n",
       "      <td>1</td>\n",
       "      <td>есть</td>\n",
       "      <td>4024</td>\n",
       "      <td>36</td>\n",
       "      <td>среднее</td>\n",
       "      <td>1</td>\n",
       "      <td>женат / замужем</td>\n",
       "      <td>0</td>\n",
       "      <td>F</td>\n",
       "      <td>сотрудник</td>\n",
       "      <td>0</td>\n",
       "      <td>112080</td>\n",
       "      <td>приобретение автомобиля</td>\n",
       "      <td>автомобиль</td>\n",
       "    </tr>\n",
       "    <tr>\n",
       "      <td>2</td>\n",
       "      <td>0</td>\n",
       "      <td>нет</td>\n",
       "      <td>5623</td>\n",
       "      <td>33</td>\n",
       "      <td>среднее</td>\n",
       "      <td>1</td>\n",
       "      <td>женат / замужем</td>\n",
       "      <td>0</td>\n",
       "      <td>M</td>\n",
       "      <td>сотрудник</td>\n",
       "      <td>0</td>\n",
       "      <td>145885</td>\n",
       "      <td>покупка жилья</td>\n",
       "      <td>жилье</td>\n",
       "    </tr>\n",
       "    <tr>\n",
       "      <td>3</td>\n",
       "      <td>3</td>\n",
       "      <td>есть</td>\n",
       "      <td>4124</td>\n",
       "      <td>32</td>\n",
       "      <td>среднее</td>\n",
       "      <td>1</td>\n",
       "      <td>женат / замужем</td>\n",
       "      <td>0</td>\n",
       "      <td>M</td>\n",
       "      <td>сотрудник</td>\n",
       "      <td>0</td>\n",
       "      <td>267628</td>\n",
       "      <td>дополнительное образование</td>\n",
       "      <td>образование</td>\n",
       "    </tr>\n",
       "    <tr>\n",
       "      <td>4</td>\n",
       "      <td>0</td>\n",
       "      <td>нет</td>\n",
       "      <td>14177</td>\n",
       "      <td>53</td>\n",
       "      <td>среднее</td>\n",
       "      <td>1</td>\n",
       "      <td>гражданский брак</td>\n",
       "      <td>1</td>\n",
       "      <td>F</td>\n",
       "      <td>пенсионер</td>\n",
       "      <td>0</td>\n",
       "      <td>158616</td>\n",
       "      <td>сыграть свадьбу</td>\n",
       "      <td>прочее</td>\n",
       "    </tr>\n",
       "    <tr>\n",
       "      <td>5</td>\n",
       "      <td>0</td>\n",
       "      <td>нет</td>\n",
       "      <td>926</td>\n",
       "      <td>27</td>\n",
       "      <td>высшее</td>\n",
       "      <td>0</td>\n",
       "      <td>гражданский брак</td>\n",
       "      <td>1</td>\n",
       "      <td>M</td>\n",
       "      <td>компаньон</td>\n",
       "      <td>0</td>\n",
       "      <td>255763</td>\n",
       "      <td>покупка жилья</td>\n",
       "      <td>жилье</td>\n",
       "    </tr>\n",
       "    <tr>\n",
       "      <td>6</td>\n",
       "      <td>0</td>\n",
       "      <td>нет</td>\n",
       "      <td>2879</td>\n",
       "      <td>43</td>\n",
       "      <td>высшее</td>\n",
       "      <td>0</td>\n",
       "      <td>женат / замужем</td>\n",
       "      <td>0</td>\n",
       "      <td>F</td>\n",
       "      <td>компаньон</td>\n",
       "      <td>0</td>\n",
       "      <td>240525</td>\n",
       "      <td>операции с жильем</td>\n",
       "      <td>жилье</td>\n",
       "    </tr>\n",
       "    <tr>\n",
       "      <td>7</td>\n",
       "      <td>0</td>\n",
       "      <td>нет</td>\n",
       "      <td>152</td>\n",
       "      <td>50</td>\n",
       "      <td>среднее</td>\n",
       "      <td>1</td>\n",
       "      <td>женат / замужем</td>\n",
       "      <td>0</td>\n",
       "      <td>M</td>\n",
       "      <td>сотрудник</td>\n",
       "      <td>0</td>\n",
       "      <td>135823</td>\n",
       "      <td>образование</td>\n",
       "      <td>образование</td>\n",
       "    </tr>\n",
       "    <tr>\n",
       "      <td>8</td>\n",
       "      <td>2</td>\n",
       "      <td>есть</td>\n",
       "      <td>6929</td>\n",
       "      <td>35</td>\n",
       "      <td>высшее</td>\n",
       "      <td>0</td>\n",
       "      <td>гражданский брак</td>\n",
       "      <td>1</td>\n",
       "      <td>F</td>\n",
       "      <td>сотрудник</td>\n",
       "      <td>0</td>\n",
       "      <td>95856</td>\n",
       "      <td>на проведение свадьбы</td>\n",
       "      <td>прочее</td>\n",
       "    </tr>\n",
       "    <tr>\n",
       "      <td>9</td>\n",
       "      <td>0</td>\n",
       "      <td>нет</td>\n",
       "      <td>2188</td>\n",
       "      <td>41</td>\n",
       "      <td>среднее</td>\n",
       "      <td>1</td>\n",
       "      <td>женат / замужем</td>\n",
       "      <td>0</td>\n",
       "      <td>M</td>\n",
       "      <td>сотрудник</td>\n",
       "      <td>0</td>\n",
       "      <td>144425</td>\n",
       "      <td>покупка жилья для семьи</td>\n",
       "      <td>жилье</td>\n",
       "    </tr>\n",
       "  </tbody>\n",
       "</table>\n",
       "</div>"
      ],
      "text/plain": [
       "   children children_id  days_employed  dob_years education  education_id  \\\n",
       "0         1        есть           8437         42    высшее             0   \n",
       "1         1        есть           4024         36   среднее             1   \n",
       "2         0         нет           5623         33   среднее             1   \n",
       "3         3        есть           4124         32   среднее             1   \n",
       "4         0         нет          14177         53   среднее             1   \n",
       "5         0         нет            926         27    высшее             0   \n",
       "6         0         нет           2879         43    высшее             0   \n",
       "7         0         нет            152         50   среднее             1   \n",
       "8         2        есть           6929         35    высшее             0   \n",
       "9         0         нет           2188         41   среднее             1   \n",
       "\n",
       "      family_status  family_status_id gender income_type  debt  total_income  \\\n",
       "0   женат / замужем                 0      F   сотрудник     0        253875   \n",
       "1   женат / замужем                 0      F   сотрудник     0        112080   \n",
       "2   женат / замужем                 0      M   сотрудник     0        145885   \n",
       "3   женат / замужем                 0      M   сотрудник     0        267628   \n",
       "4  гражданский брак                 1      F   пенсионер     0        158616   \n",
       "5  гражданский брак                 1      M   компаньон     0        255763   \n",
       "6   женат / замужем                 0      F   компаньон     0        240525   \n",
       "7   женат / замужем                 0      M   сотрудник     0        135823   \n",
       "8  гражданский брак                 1      F   сотрудник     0         95856   \n",
       "9   женат / замужем                 0      M   сотрудник     0        144425   \n",
       "\n",
       "                      purpose purpose_category  \n",
       "0               покупка жилья            жилье  \n",
       "1     приобретение автомобиля       автомобиль  \n",
       "2               покупка жилья            жилье  \n",
       "3  дополнительное образование      образование  \n",
       "4             сыграть свадьбу           прочее  \n",
       "5               покупка жилья            жилье  \n",
       "6           операции с жильем            жилье  \n",
       "7                 образование      образование  \n",
       "8       на проведение свадьбы           прочее  \n",
       "9     покупка жилья для семьи            жилье  "
      ]
     },
     "metadata": {},
     "output_type": "display_data"
    }
   ],
   "source": [
    "def children_group(value):#создал две группы, потому что спрашивают наличие ребенка\n",
    "   \n",
    "    if value == 0:\n",
    "        return 'нет'\n",
    "    return 'есть' \n",
    "\n",
    "df.insert(1, 'children_id', df['children'].apply(children_group))\n",
    "display(df.head(10))"
   ]
  },
  {
   "cell_type": "code",
   "execution_count": 15,
   "metadata": {
    "scrolled": false
   },
   "outputs": [
    {
     "data": {
      "text/html": [
       "<div>\n",
       "<style scoped>\n",
       "    .dataframe tbody tr th:only-of-type {\n",
       "        vertical-align: middle;\n",
       "    }\n",
       "\n",
       "    .dataframe tbody tr th {\n",
       "        vertical-align: top;\n",
       "    }\n",
       "\n",
       "    .dataframe thead th {\n",
       "        text-align: right;\n",
       "    }\n",
       "</style>\n",
       "<table border=\"1\" class=\"dataframe\">\n",
       "  <thead>\n",
       "    <tr style=\"text-align: right;\">\n",
       "      <th></th>\n",
       "      <th>children</th>\n",
       "    </tr>\n",
       "    <tr>\n",
       "      <th>children_id</th>\n",
       "      <th></th>\n",
       "    </tr>\n",
       "  </thead>\n",
       "  <tbody>\n",
       "    <tr>\n",
       "      <td>есть</td>\n",
       "      <td>1</td>\n",
       "    </tr>\n",
       "    <tr>\n",
       "      <td>нет</td>\n",
       "      <td>0</td>\n",
       "    </tr>\n",
       "    <tr>\n",
       "      <td>есть</td>\n",
       "      <td>3</td>\n",
       "    </tr>\n",
       "    <tr>\n",
       "      <td>есть</td>\n",
       "      <td>2</td>\n",
       "    </tr>\n",
       "    <tr>\n",
       "      <td>есть</td>\n",
       "      <td>4</td>\n",
       "    </tr>\n",
       "    <tr>\n",
       "      <td>есть</td>\n",
       "      <td>5</td>\n",
       "    </tr>\n",
       "  </tbody>\n",
       "</table>\n",
       "</div>"
      ],
      "text/plain": [
       "             children\n",
       "children_id          \n",
       "есть                1\n",
       "нет                 0\n",
       "есть                3\n",
       "есть                2\n",
       "есть                4\n",
       "есть                5"
      ]
     },
     "metadata": {},
     "output_type": "display_data"
    }
   ],
   "source": [
    "slovar_children = df[['children_id', 'children']].drop_duplicates().set_index('children_id')#словарь для категорий по наличию детей\n",
    "display(slovar_children)#не знаю пригодится ли, пусть пока будет"
   ]
  },
  {
   "cell_type": "code",
   "execution_count": 16,
   "metadata": {},
   "outputs": [
    {
     "data": {
      "text/html": [
       "<div>\n",
       "<style scoped>\n",
       "    .dataframe tbody tr th:only-of-type {\n",
       "        vertical-align: middle;\n",
       "    }\n",
       "\n",
       "    .dataframe tbody tr th {\n",
       "        vertical-align: top;\n",
       "    }\n",
       "\n",
       "    .dataframe thead th {\n",
       "        text-align: right;\n",
       "    }\n",
       "</style>\n",
       "<table border=\"1\" class=\"dataframe\">\n",
       "  <thead>\n",
       "    <tr style=\"text-align: right;\">\n",
       "      <th></th>\n",
       "      <th>children_id</th>\n",
       "    </tr>\n",
       "    <tr>\n",
       "      <th>children</th>\n",
       "      <th></th>\n",
       "    </tr>\n",
       "  </thead>\n",
       "  <tbody>\n",
       "    <tr>\n",
       "      <td>0</td>\n",
       "      <td>14091</td>\n",
       "    </tr>\n",
       "    <tr>\n",
       "      <td>1</td>\n",
       "      <td>4855</td>\n",
       "    </tr>\n",
       "    <tr>\n",
       "      <td>2</td>\n",
       "      <td>2128</td>\n",
       "    </tr>\n",
       "    <tr>\n",
       "      <td>3</td>\n",
       "      <td>330</td>\n",
       "    </tr>\n",
       "    <tr>\n",
       "      <td>4</td>\n",
       "      <td>41</td>\n",
       "    </tr>\n",
       "    <tr>\n",
       "      <td>5</td>\n",
       "      <td>9</td>\n",
       "    </tr>\n",
       "  </tbody>\n",
       "</table>\n",
       "</div>"
      ],
      "text/plain": [
       "          children_id\n",
       "children             \n",
       "0               14091\n",
       "1                4855\n",
       "2                2128\n",
       "3                 330\n",
       "4                  41\n",
       "5                   9"
      ]
     },
     "metadata": {},
     "output_type": "display_data"
    }
   ],
   "source": [
    "df_children = df[['children_id', 'children']]\n",
    "display(df_children.groupby('children').count())#просто посмотреть сколько людей в каждой категории"
   ]
  },
  {
   "cell_type": "code",
   "execution_count": 17,
   "metadata": {},
   "outputs": [
    {
     "name": "stdout",
     "output_type": "stream",
     "text": [
      "20667\n",
      "2265604\n",
      "165225.6006339144\n",
      "145017.0\n"
     ]
    }
   ],
   "source": [
    "print(df['total_income'].min())\n",
    "print(df['total_income'].max())#посмотрел минимум и максимум чтобы сориентироваться по группам\n",
    "print(df['total_income'].mean())\n",
    "print(df['total_income'].median())#медиана и среднее ничего мне не сказали"
   ]
  },
  {
   "cell_type": "code",
   "execution_count": 18,
   "metadata": {
    "scrolled": false
   },
   "outputs": [
    {
     "data": {
      "text/html": [
       "<div>\n",
       "<style scoped>\n",
       "    .dataframe tbody tr th:only-of-type {\n",
       "        vertical-align: middle;\n",
       "    }\n",
       "\n",
       "    .dataframe tbody tr th {\n",
       "        vertical-align: top;\n",
       "    }\n",
       "\n",
       "    .dataframe thead th {\n",
       "        text-align: right;\n",
       "    }\n",
       "</style>\n",
       "<table border=\"1\" class=\"dataframe\">\n",
       "  <thead>\n",
       "    <tr style=\"text-align: right;\">\n",
       "      <th></th>\n",
       "      <th>children</th>\n",
       "      <th>children_id</th>\n",
       "      <th>days_employed</th>\n",
       "      <th>dob_years</th>\n",
       "      <th>education</th>\n",
       "      <th>education_id</th>\n",
       "      <th>family_status</th>\n",
       "      <th>family_status_id</th>\n",
       "      <th>gender</th>\n",
       "      <th>income_type</th>\n",
       "      <th>debt</th>\n",
       "      <th>total_income</th>\n",
       "      <th>total_income_id</th>\n",
       "      <th>purpose</th>\n",
       "      <th>purpose_category</th>\n",
       "    </tr>\n",
       "  </thead>\n",
       "  <tbody>\n",
       "    <tr>\n",
       "      <td>0</td>\n",
       "      <td>1</td>\n",
       "      <td>есть</td>\n",
       "      <td>8437</td>\n",
       "      <td>42</td>\n",
       "      <td>высшее</td>\n",
       "      <td>0</td>\n",
       "      <td>женат / замужем</td>\n",
       "      <td>0</td>\n",
       "      <td>F</td>\n",
       "      <td>сотрудник</td>\n",
       "      <td>0</td>\n",
       "      <td>253875</td>\n",
       "      <td>от 200к до 500к</td>\n",
       "      <td>покупка жилья</td>\n",
       "      <td>жилье</td>\n",
       "    </tr>\n",
       "    <tr>\n",
       "      <td>1</td>\n",
       "      <td>1</td>\n",
       "      <td>есть</td>\n",
       "      <td>4024</td>\n",
       "      <td>36</td>\n",
       "      <td>среднее</td>\n",
       "      <td>1</td>\n",
       "      <td>женат / замужем</td>\n",
       "      <td>0</td>\n",
       "      <td>F</td>\n",
       "      <td>сотрудник</td>\n",
       "      <td>0</td>\n",
       "      <td>112080</td>\n",
       "      <td>от 70к до 200к</td>\n",
       "      <td>приобретение автомобиля</td>\n",
       "      <td>автомобиль</td>\n",
       "    </tr>\n",
       "    <tr>\n",
       "      <td>2</td>\n",
       "      <td>0</td>\n",
       "      <td>нет</td>\n",
       "      <td>5623</td>\n",
       "      <td>33</td>\n",
       "      <td>среднее</td>\n",
       "      <td>1</td>\n",
       "      <td>женат / замужем</td>\n",
       "      <td>0</td>\n",
       "      <td>M</td>\n",
       "      <td>сотрудник</td>\n",
       "      <td>0</td>\n",
       "      <td>145885</td>\n",
       "      <td>от 70к до 200к</td>\n",
       "      <td>покупка жилья</td>\n",
       "      <td>жилье</td>\n",
       "    </tr>\n",
       "    <tr>\n",
       "      <td>3</td>\n",
       "      <td>3</td>\n",
       "      <td>есть</td>\n",
       "      <td>4124</td>\n",
       "      <td>32</td>\n",
       "      <td>среднее</td>\n",
       "      <td>1</td>\n",
       "      <td>женат / замужем</td>\n",
       "      <td>0</td>\n",
       "      <td>M</td>\n",
       "      <td>сотрудник</td>\n",
       "      <td>0</td>\n",
       "      <td>267628</td>\n",
       "      <td>от 200к до 500к</td>\n",
       "      <td>дополнительное образование</td>\n",
       "      <td>образование</td>\n",
       "    </tr>\n",
       "    <tr>\n",
       "      <td>4</td>\n",
       "      <td>0</td>\n",
       "      <td>нет</td>\n",
       "      <td>14177</td>\n",
       "      <td>53</td>\n",
       "      <td>среднее</td>\n",
       "      <td>1</td>\n",
       "      <td>гражданский брак</td>\n",
       "      <td>1</td>\n",
       "      <td>F</td>\n",
       "      <td>пенсионер</td>\n",
       "      <td>0</td>\n",
       "      <td>158616</td>\n",
       "      <td>от 70к до 200к</td>\n",
       "      <td>сыграть свадьбу</td>\n",
       "      <td>прочее</td>\n",
       "    </tr>\n",
       "    <tr>\n",
       "      <td>5</td>\n",
       "      <td>0</td>\n",
       "      <td>нет</td>\n",
       "      <td>926</td>\n",
       "      <td>27</td>\n",
       "      <td>высшее</td>\n",
       "      <td>0</td>\n",
       "      <td>гражданский брак</td>\n",
       "      <td>1</td>\n",
       "      <td>M</td>\n",
       "      <td>компаньон</td>\n",
       "      <td>0</td>\n",
       "      <td>255763</td>\n",
       "      <td>от 200к до 500к</td>\n",
       "      <td>покупка жилья</td>\n",
       "      <td>жилье</td>\n",
       "    </tr>\n",
       "    <tr>\n",
       "      <td>6</td>\n",
       "      <td>0</td>\n",
       "      <td>нет</td>\n",
       "      <td>2879</td>\n",
       "      <td>43</td>\n",
       "      <td>высшее</td>\n",
       "      <td>0</td>\n",
       "      <td>женат / замужем</td>\n",
       "      <td>0</td>\n",
       "      <td>F</td>\n",
       "      <td>компаньон</td>\n",
       "      <td>0</td>\n",
       "      <td>240525</td>\n",
       "      <td>от 200к до 500к</td>\n",
       "      <td>операции с жильем</td>\n",
       "      <td>жилье</td>\n",
       "    </tr>\n",
       "    <tr>\n",
       "      <td>7</td>\n",
       "      <td>0</td>\n",
       "      <td>нет</td>\n",
       "      <td>152</td>\n",
       "      <td>50</td>\n",
       "      <td>среднее</td>\n",
       "      <td>1</td>\n",
       "      <td>женат / замужем</td>\n",
       "      <td>0</td>\n",
       "      <td>M</td>\n",
       "      <td>сотрудник</td>\n",
       "      <td>0</td>\n",
       "      <td>135823</td>\n",
       "      <td>от 70к до 200к</td>\n",
       "      <td>образование</td>\n",
       "      <td>образование</td>\n",
       "    </tr>\n",
       "    <tr>\n",
       "      <td>8</td>\n",
       "      <td>2</td>\n",
       "      <td>есть</td>\n",
       "      <td>6929</td>\n",
       "      <td>35</td>\n",
       "      <td>высшее</td>\n",
       "      <td>0</td>\n",
       "      <td>гражданский брак</td>\n",
       "      <td>1</td>\n",
       "      <td>F</td>\n",
       "      <td>сотрудник</td>\n",
       "      <td>0</td>\n",
       "      <td>95856</td>\n",
       "      <td>от 70к до 200к</td>\n",
       "      <td>на проведение свадьбы</td>\n",
       "      <td>прочее</td>\n",
       "    </tr>\n",
       "    <tr>\n",
       "      <td>9</td>\n",
       "      <td>0</td>\n",
       "      <td>нет</td>\n",
       "      <td>2188</td>\n",
       "      <td>41</td>\n",
       "      <td>среднее</td>\n",
       "      <td>1</td>\n",
       "      <td>женат / замужем</td>\n",
       "      <td>0</td>\n",
       "      <td>M</td>\n",
       "      <td>сотрудник</td>\n",
       "      <td>0</td>\n",
       "      <td>144425</td>\n",
       "      <td>от 70к до 200к</td>\n",
       "      <td>покупка жилья для семьи</td>\n",
       "      <td>жилье</td>\n",
       "    </tr>\n",
       "    <tr>\n",
       "      <td>10</td>\n",
       "      <td>2</td>\n",
       "      <td>есть</td>\n",
       "      <td>4171</td>\n",
       "      <td>36</td>\n",
       "      <td>высшее</td>\n",
       "      <td>0</td>\n",
       "      <td>женат / замужем</td>\n",
       "      <td>0</td>\n",
       "      <td>M</td>\n",
       "      <td>компаньон</td>\n",
       "      <td>0</td>\n",
       "      <td>113943</td>\n",
       "      <td>от 70к до 200к</td>\n",
       "      <td>покупка недвижимости</td>\n",
       "      <td>недвижимость</td>\n",
       "    </tr>\n",
       "    <tr>\n",
       "      <td>11</td>\n",
       "      <td>0</td>\n",
       "      <td>нет</td>\n",
       "      <td>792</td>\n",
       "      <td>40</td>\n",
       "      <td>среднее</td>\n",
       "      <td>1</td>\n",
       "      <td>женат / замужем</td>\n",
       "      <td>0</td>\n",
       "      <td>F</td>\n",
       "      <td>сотрудник</td>\n",
       "      <td>0</td>\n",
       "      <td>77069</td>\n",
       "      <td>от 70к до 200к</td>\n",
       "      <td>покупка коммерческой недвижимости</td>\n",
       "      <td>недвижимость</td>\n",
       "    </tr>\n",
       "    <tr>\n",
       "      <td>12</td>\n",
       "      <td>0</td>\n",
       "      <td>нет</td>\n",
       "      <td>2194</td>\n",
       "      <td>65</td>\n",
       "      <td>среднее</td>\n",
       "      <td>1</td>\n",
       "      <td>гражданский брак</td>\n",
       "      <td>1</td>\n",
       "      <td>M</td>\n",
       "      <td>пенсионер</td>\n",
       "      <td>0</td>\n",
       "      <td>145017</td>\n",
       "      <td>от 70к до 200к</td>\n",
       "      <td>сыграть свадьбу</td>\n",
       "      <td>прочее</td>\n",
       "    </tr>\n",
       "    <tr>\n",
       "      <td>13</td>\n",
       "      <td>0</td>\n",
       "      <td>нет</td>\n",
       "      <td>1846</td>\n",
       "      <td>54</td>\n",
       "      <td>неоконченное высшее</td>\n",
       "      <td>2</td>\n",
       "      <td>женат / замужем</td>\n",
       "      <td>0</td>\n",
       "      <td>F</td>\n",
       "      <td>сотрудник</td>\n",
       "      <td>0</td>\n",
       "      <td>130458</td>\n",
       "      <td>от 70к до 200к</td>\n",
       "      <td>приобретение автомобиля</td>\n",
       "      <td>автомобиль</td>\n",
       "    </tr>\n",
       "    <tr>\n",
       "      <td>14</td>\n",
       "      <td>0</td>\n",
       "      <td>нет</td>\n",
       "      <td>1844</td>\n",
       "      <td>56</td>\n",
       "      <td>высшее</td>\n",
       "      <td>0</td>\n",
       "      <td>гражданский брак</td>\n",
       "      <td>1</td>\n",
       "      <td>F</td>\n",
       "      <td>компаньон</td>\n",
       "      <td>1</td>\n",
       "      <td>165127</td>\n",
       "      <td>от 70к до 200к</td>\n",
       "      <td>покупка жилой недвижимости</td>\n",
       "      <td>недвижимость</td>\n",
       "    </tr>\n",
       "  </tbody>\n",
       "</table>\n",
       "</div>"
      ],
      "text/plain": [
       "    children children_id  days_employed  dob_years            education  \\\n",
       "0          1        есть           8437         42               высшее   \n",
       "1          1        есть           4024         36              среднее   \n",
       "2          0         нет           5623         33              среднее   \n",
       "3          3        есть           4124         32              среднее   \n",
       "4          0         нет          14177         53              среднее   \n",
       "5          0         нет            926         27               высшее   \n",
       "6          0         нет           2879         43               высшее   \n",
       "7          0         нет            152         50              среднее   \n",
       "8          2        есть           6929         35               высшее   \n",
       "9          0         нет           2188         41              среднее   \n",
       "10         2        есть           4171         36               высшее   \n",
       "11         0         нет            792         40              среднее   \n",
       "12         0         нет           2194         65              среднее   \n",
       "13         0         нет           1846         54  неоконченное высшее   \n",
       "14         0         нет           1844         56               высшее   \n",
       "\n",
       "    education_id     family_status  family_status_id gender income_type  debt  \\\n",
       "0              0   женат / замужем                 0      F   сотрудник     0   \n",
       "1              1   женат / замужем                 0      F   сотрудник     0   \n",
       "2              1   женат / замужем                 0      M   сотрудник     0   \n",
       "3              1   женат / замужем                 0      M   сотрудник     0   \n",
       "4              1  гражданский брак                 1      F   пенсионер     0   \n",
       "5              0  гражданский брак                 1      M   компаньон     0   \n",
       "6              0   женат / замужем                 0      F   компаньон     0   \n",
       "7              1   женат / замужем                 0      M   сотрудник     0   \n",
       "8              0  гражданский брак                 1      F   сотрудник     0   \n",
       "9              1   женат / замужем                 0      M   сотрудник     0   \n",
       "10             0   женат / замужем                 0      M   компаньон     0   \n",
       "11             1   женат / замужем                 0      F   сотрудник     0   \n",
       "12             1  гражданский брак                 1      M   пенсионер     0   \n",
       "13             2   женат / замужем                 0      F   сотрудник     0   \n",
       "14             0  гражданский брак                 1      F   компаньон     1   \n",
       "\n",
       "    total_income  total_income_id                            purpose  \\\n",
       "0         253875  от 200к до 500к                      покупка жилья   \n",
       "1         112080   от 70к до 200к            приобретение автомобиля   \n",
       "2         145885   от 70к до 200к                      покупка жилья   \n",
       "3         267628  от 200к до 500к         дополнительное образование   \n",
       "4         158616   от 70к до 200к                    сыграть свадьбу   \n",
       "5         255763  от 200к до 500к                      покупка жилья   \n",
       "6         240525  от 200к до 500к                  операции с жильем   \n",
       "7         135823   от 70к до 200к                        образование   \n",
       "8          95856   от 70к до 200к              на проведение свадьбы   \n",
       "9         144425   от 70к до 200к            покупка жилья для семьи   \n",
       "10        113943   от 70к до 200к               покупка недвижимости   \n",
       "11         77069   от 70к до 200к  покупка коммерческой недвижимости   \n",
       "12        145017   от 70к до 200к                    сыграть свадьбу   \n",
       "13        130458   от 70к до 200к            приобретение автомобиля   \n",
       "14        165127   от 70к до 200к         покупка жилой недвижимости   \n",
       "\n",
       "   purpose_category  \n",
       "0             жилье  \n",
       "1        автомобиль  \n",
       "2             жилье  \n",
       "3       образование  \n",
       "4            прочее  \n",
       "5             жилье  \n",
       "6             жилье  \n",
       "7       образование  \n",
       "8            прочее  \n",
       "9             жилье  \n",
       "10     недвижимость  \n",
       "11     недвижимость  \n",
       "12           прочее  \n",
       "13       автомобиль  \n",
       "14     недвижимость  "
      ]
     },
     "metadata": {},
     "output_type": "display_data"
    }
   ],
   "source": [
    "def total_income_group(value):#решил, что поделю на 5 групп, как и везде \n",
    "   \n",
    "    if value <= 70000:\n",
    "        return 'до 70к'\n",
    "    if value <= 200000:\n",
    "        return 'от 70к до 200к'\n",
    "    if value <= 500000:\n",
    "        return 'от 200к до 500к'\n",
    "    if value <= 1000000:\n",
    "        return 'от 500к до 1м'\n",
    "    return 'свыше 1м' \n",
    "\n",
    "df.insert(12, 'total_income_id', df['total_income'].apply(total_income_group))\n",
    "display(df.head(15))\n"
   ]
  },
  {
   "cell_type": "code",
   "execution_count": 19,
   "metadata": {},
   "outputs": [
    {
     "data": {
      "text/html": [
       "<div>\n",
       "<style scoped>\n",
       "    .dataframe tbody tr th:only-of-type {\n",
       "        vertical-align: middle;\n",
       "    }\n",
       "\n",
       "    .dataframe tbody tr th {\n",
       "        vertical-align: top;\n",
       "    }\n",
       "\n",
       "    .dataframe thead th {\n",
       "        text-align: right;\n",
       "    }\n",
       "</style>\n",
       "<table border=\"1\" class=\"dataframe\">\n",
       "  <thead>\n",
       "    <tr style=\"text-align: right;\">\n",
       "      <th></th>\n",
       "      <th>total_income</th>\n",
       "    </tr>\n",
       "    <tr>\n",
       "      <th>total_income_id</th>\n",
       "      <th></th>\n",
       "    </tr>\n",
       "  </thead>\n",
       "  <tbody>\n",
       "    <tr>\n",
       "      <td>до 70к</td>\n",
       "      <td>1474</td>\n",
       "    </tr>\n",
       "    <tr>\n",
       "      <td>от 200к до 500к</td>\n",
       "      <td>4844</td>\n",
       "    </tr>\n",
       "    <tr>\n",
       "      <td>от 500к до 1м</td>\n",
       "      <td>197</td>\n",
       "    </tr>\n",
       "    <tr>\n",
       "      <td>от 70к до 200к</td>\n",
       "      <td>14914</td>\n",
       "    </tr>\n",
       "    <tr>\n",
       "      <td>свыше 1м</td>\n",
       "      <td>25</td>\n",
       "    </tr>\n",
       "  </tbody>\n",
       "</table>\n",
       "</div>"
      ],
      "text/plain": [
       "                 total_income\n",
       "total_income_id              \n",
       "до 70к                   1474\n",
       "от 200к до 500к          4844\n",
       "от 500к до 1м             197\n",
       "от 70к до 200к          14914\n",
       "свыше 1м                   25"
      ]
     },
     "metadata": {},
     "output_type": "display_data"
    }
   ],
   "source": [
    "df_income = df[['total_income_id', 'total_income']]\n",
    "display(df_income.groupby('total_income_id').count())#посчитал, сколько вхождений в каждую категорию,\n",
    "#чтобы прикинуть группы вообще нормальны вышли или нет"
   ]
  },
  {
   "cell_type": "markdown",
   "metadata": {},
   "source": [
    "**Вывод**"
   ]
  },
  {
   "cell_type": "markdown",
   "metadata": {},
   "source": [
    "Выделил словари, которые нужны для ответов на вопросы, а именно словарь образований, словарь семейного статуса, словарь наличия детей и словарь для уровня дохода."
   ]
  },
  {
   "cell_type": "markdown",
   "metadata": {},
   "source": [
    "## Шаг 3. Ответьте на вопросы"
   ]
  },
  {
   "cell_type": "markdown",
   "metadata": {},
   "source": [
    "Перед проверкой вопросов мне нужен еще один столбец с отсутствием задолженности"
   ]
  },
  {
   "cell_type": "markdown",
   "metadata": {},
   "source": [
    "- Есть ли зависимость между наличием детей и возвратом кредита в срок?"
   ]
  },
  {
   "cell_type": "code",
   "execution_count": 20,
   "metadata": {},
   "outputs": [
    {
     "data": {
      "text/html": [
       "<div>\n",
       "<style scoped>\n",
       "    .dataframe tbody tr th:only-of-type {\n",
       "        vertical-align: middle;\n",
       "    }\n",
       "\n",
       "    .dataframe tbody tr th {\n",
       "        vertical-align: top;\n",
       "    }\n",
       "\n",
       "    .dataframe thead th {\n",
       "        text-align: right;\n",
       "    }\n",
       "</style>\n",
       "<table border=\"1\" class=\"dataframe\">\n",
       "  <thead>\n",
       "    <tr style=\"text-align: right;\">\n",
       "      <th></th>\n",
       "      <th>no_debt</th>\n",
       "      <th>debt</th>\n",
       "      <th>%</th>\n",
       "    </tr>\n",
       "    <tr>\n",
       "      <th>children_id</th>\n",
       "      <th></th>\n",
       "      <th></th>\n",
       "      <th></th>\n",
       "    </tr>\n",
       "  </thead>\n",
       "  <tbody>\n",
       "    <tr>\n",
       "      <td>есть</td>\n",
       "      <td>6685</td>\n",
       "      <td>678</td>\n",
       "      <td>9.208203</td>\n",
       "    </tr>\n",
       "    <tr>\n",
       "      <td>нет</td>\n",
       "      <td>13028</td>\n",
       "      <td>1063</td>\n",
       "      <td>7.543822</td>\n",
       "    </tr>\n",
       "  </tbody>\n",
       "</table>\n",
       "</div>"
      ],
      "text/plain": [
       "             no_debt  debt         %\n",
       "children_id                         \n",
       "есть            6685   678  9.208203\n",
       "нет            13028  1063  7.543822"
      ]
     },
     "metadata": {},
     "output_type": "display_data"
    }
   ],
   "source": [
    "report = df.pivot_table(index='children_id', columns='debt', values='total_income', aggfunc='count')\n",
    "report.columns = ['no_debt', 'debt']\n",
    "report['%'] = report['debt']/(report['no_debt'] + report['debt'])*100\n",
    "report = report.fillna(0)\n",
    "display(report)"
   ]
  },
  {
   "cell_type": "markdown",
   "metadata": {},
   "source": [
    "**Вывод**"
   ]
  },
  {
   "cell_type": "markdown",
   "metadata": {},
   "source": [
    "У клиентов с детьми немного выше процент невозврата кредита, почти 2 процента. "
   ]
  },
  {
   "cell_type": "markdown",
   "metadata": {},
   "source": [
    "- Есть ли зависимость между семейным положением и возвратом кредита в срок?"
   ]
  },
  {
   "cell_type": "code",
   "execution_count": 21,
   "metadata": {},
   "outputs": [
    {
     "data": {
      "text/html": [
       "<div>\n",
       "<style scoped>\n",
       "    .dataframe tbody tr th:only-of-type {\n",
       "        vertical-align: middle;\n",
       "    }\n",
       "\n",
       "    .dataframe tbody tr th {\n",
       "        vertical-align: top;\n",
       "    }\n",
       "\n",
       "    .dataframe thead th {\n",
       "        text-align: right;\n",
       "    }\n",
       "</style>\n",
       "<table border=\"1\" class=\"dataframe\">\n",
       "  <thead>\n",
       "    <tr style=\"text-align: right;\">\n",
       "      <th></th>\n",
       "      <th>no_debt</th>\n",
       "      <th>debt</th>\n",
       "      <th>%</th>\n",
       "    </tr>\n",
       "    <tr>\n",
       "      <th>family_status</th>\n",
       "      <th></th>\n",
       "      <th></th>\n",
       "      <th></th>\n",
       "    </tr>\n",
       "  </thead>\n",
       "  <tbody>\n",
       "    <tr>\n",
       "      <td>Не женат / не замужем</td>\n",
       "      <td>2536</td>\n",
       "      <td>274</td>\n",
       "      <td>9.750890</td>\n",
       "    </tr>\n",
       "    <tr>\n",
       "      <td>в разводе</td>\n",
       "      <td>1110</td>\n",
       "      <td>85</td>\n",
       "      <td>7.112971</td>\n",
       "    </tr>\n",
       "    <tr>\n",
       "      <td>вдовец / вдова</td>\n",
       "      <td>896</td>\n",
       "      <td>63</td>\n",
       "      <td>6.569343</td>\n",
       "    </tr>\n",
       "    <tr>\n",
       "      <td>гражданский брак</td>\n",
       "      <td>3763</td>\n",
       "      <td>388</td>\n",
       "      <td>9.347145</td>\n",
       "    </tr>\n",
       "    <tr>\n",
       "      <td>женат / замужем</td>\n",
       "      <td>11408</td>\n",
       "      <td>931</td>\n",
       "      <td>7.545182</td>\n",
       "    </tr>\n",
       "  </tbody>\n",
       "</table>\n",
       "</div>"
      ],
      "text/plain": [
       "                       no_debt  debt         %\n",
       "family_status                                 \n",
       "Не женат / не замужем     2536   274  9.750890\n",
       "в разводе                 1110    85  7.112971\n",
       "вдовец / вдова             896    63  6.569343\n",
       "гражданский брак          3763   388  9.347145\n",
       "женат / замужем          11408   931  7.545182"
      ]
     },
     "metadata": {},
     "output_type": "display_data"
    }
   ],
   "source": [
    "report = df.pivot_table(index='family_status', columns='debt', values='total_income', aggfunc='count')\n",
    "report.columns = ['no_debt', 'debt']\n",
    "report['%'] = report['debt']/(report['no_debt'] + report['debt'])*100\n",
    "report = report.fillna(0)\n",
    "display(report)"
   ]
  },
  {
   "cell_type": "markdown",
   "metadata": {},
   "source": [
    "**Вывод**"
   ]
  },
  {
   "cell_type": "markdown",
   "metadata": {},
   "source": [
    "У людей неженатых и находящихся в гражданском браке чуть выше процент задолженности, чем у всех остальных, самый низкий процент у вдовцов."
   ]
  },
  {
   "cell_type": "markdown",
   "metadata": {},
   "source": [
    "- Есть ли зависимость между уровнем дохода и возвратом кредита в срок?"
   ]
  },
  {
   "cell_type": "code",
   "execution_count": 22,
   "metadata": {},
   "outputs": [
    {
     "data": {
      "text/html": [
       "<div>\n",
       "<style scoped>\n",
       "    .dataframe tbody tr th:only-of-type {\n",
       "        vertical-align: middle;\n",
       "    }\n",
       "\n",
       "    .dataframe tbody tr th {\n",
       "        vertical-align: top;\n",
       "    }\n",
       "\n",
       "    .dataframe thead th {\n",
       "        text-align: right;\n",
       "    }\n",
       "</style>\n",
       "<table border=\"1\" class=\"dataframe\">\n",
       "  <thead>\n",
       "    <tr style=\"text-align: right;\">\n",
       "      <th></th>\n",
       "      <th>no_debt</th>\n",
       "      <th>debt</th>\n",
       "      <th>%</th>\n",
       "    </tr>\n",
       "    <tr>\n",
       "      <th>total_income_id</th>\n",
       "      <th></th>\n",
       "      <th></th>\n",
       "      <th></th>\n",
       "    </tr>\n",
       "  </thead>\n",
       "  <tbody>\n",
       "    <tr>\n",
       "      <td>до 70к</td>\n",
       "      <td>1373</td>\n",
       "      <td>101</td>\n",
       "      <td>6.852103</td>\n",
       "    </tr>\n",
       "    <tr>\n",
       "      <td>от 200к до 500к</td>\n",
       "      <td>4500</td>\n",
       "      <td>344</td>\n",
       "      <td>7.101569</td>\n",
       "    </tr>\n",
       "    <tr>\n",
       "      <td>от 500к до 1м</td>\n",
       "      <td>185</td>\n",
       "      <td>12</td>\n",
       "      <td>6.091371</td>\n",
       "    </tr>\n",
       "    <tr>\n",
       "      <td>от 70к до 200к</td>\n",
       "      <td>13632</td>\n",
       "      <td>1282</td>\n",
       "      <td>8.595950</td>\n",
       "    </tr>\n",
       "    <tr>\n",
       "      <td>свыше 1м</td>\n",
       "      <td>23</td>\n",
       "      <td>2</td>\n",
       "      <td>8.000000</td>\n",
       "    </tr>\n",
       "  </tbody>\n",
       "</table>\n",
       "</div>"
      ],
      "text/plain": [
       "                 no_debt  debt         %\n",
       "total_income_id                         \n",
       "до 70к              1373   101  6.852103\n",
       "от 200к до 500к     4500   344  7.101569\n",
       "от 500к до 1м        185    12  6.091371\n",
       "от 70к до 200к     13632  1282  8.595950\n",
       "свыше 1м              23     2  8.000000"
      ]
     },
     "metadata": {},
     "output_type": "display_data"
    }
   ],
   "source": [
    "report = df.pivot_table(index='total_income_id', columns='debt', values='total_income', aggfunc='count')\n",
    "report.columns = ['no_debt', 'debt']\n",
    "report['%'] = report['debt']/(report['no_debt'] + report['debt'])*100\n",
    "report = report.fillna(0)\n",
    "display(report)"
   ]
  },
  {
   "cell_type": "markdown",
   "metadata": {},
   "source": [
    "**Вывод**"
   ]
  },
  {
   "cell_type": "markdown",
   "metadata": {},
   "source": [
    "По доходу тоже почти все одинаково и в пределах двух процентов, лучше возвращают кредиты люди с доходом от 500к до 1 миллиона, а хуже всех с доходом 70к до 200к(рублей скорее всего, вроде неизвестны единицы измерения)."
   ]
  },
  {
   "cell_type": "markdown",
   "metadata": {},
   "source": [
    "- Как разные цели кредита влияют на его возврат в срок?"
   ]
  },
  {
   "cell_type": "code",
   "execution_count": 23,
   "metadata": {},
   "outputs": [
    {
     "data": {
      "text/html": [
       "<div>\n",
       "<style scoped>\n",
       "    .dataframe tbody tr th:only-of-type {\n",
       "        vertical-align: middle;\n",
       "    }\n",
       "\n",
       "    .dataframe tbody tr th {\n",
       "        vertical-align: top;\n",
       "    }\n",
       "\n",
       "    .dataframe thead th {\n",
       "        text-align: right;\n",
       "    }\n",
       "</style>\n",
       "<table border=\"1\" class=\"dataframe\">\n",
       "  <thead>\n",
       "    <tr style=\"text-align: right;\">\n",
       "      <th></th>\n",
       "      <th>no_debt</th>\n",
       "      <th>debt</th>\n",
       "      <th>%</th>\n",
       "    </tr>\n",
       "    <tr>\n",
       "      <th>purpose_category</th>\n",
       "      <th></th>\n",
       "      <th></th>\n",
       "      <th></th>\n",
       "    </tr>\n",
       "  </thead>\n",
       "  <tbody>\n",
       "    <tr>\n",
       "      <td>автомобиль</td>\n",
       "      <td>3903</td>\n",
       "      <td>403</td>\n",
       "      <td>9.359034</td>\n",
       "    </tr>\n",
       "    <tr>\n",
       "      <td>жилье</td>\n",
       "      <td>4152</td>\n",
       "      <td>308</td>\n",
       "      <td>6.905830</td>\n",
       "    </tr>\n",
       "    <tr>\n",
       "      <td>недвижимость</td>\n",
       "      <td>5877</td>\n",
       "      <td>474</td>\n",
       "      <td>7.463392</td>\n",
       "    </tr>\n",
       "    <tr>\n",
       "      <td>образование</td>\n",
       "      <td>3643</td>\n",
       "      <td>370</td>\n",
       "      <td>9.220035</td>\n",
       "    </tr>\n",
       "    <tr>\n",
       "      <td>прочее</td>\n",
       "      <td>2138</td>\n",
       "      <td>186</td>\n",
       "      <td>8.003442</td>\n",
       "    </tr>\n",
       "  </tbody>\n",
       "</table>\n",
       "</div>"
      ],
      "text/plain": [
       "                  no_debt  debt         %\n",
       "purpose_category                         \n",
       "автомобиль           3903   403  9.359034\n",
       "жилье                4152   308  6.905830\n",
       "недвижимость         5877   474  7.463392\n",
       "образование          3643   370  9.220035\n",
       "прочее               2138   186  8.003442"
      ]
     },
     "metadata": {},
     "output_type": "display_data"
    }
   ],
   "source": [
    "report = df.pivot_table(index='purpose_category', columns='debt', values='total_income', aggfunc='count')\n",
    "report.columns = ['no_debt', 'debt']\n",
    "report['%'] = report['debt']/(report['no_debt'] + report['debt'])*100\n",
    "report = report.fillna(0)\n",
    "display(report)"
   ]
  },
  {
   "cell_type": "markdown",
   "metadata": {},
   "source": [
    "**Вывод**"
   ]
  },
  {
   "cell_type": "markdown",
   "metadata": {},
   "source": [
    "И здесь мы не видим сильно явных должников, немного хуже возвращаются кредиты взятые на приобретение автомобиля и на образование, а лучше возвращаются кредиты взятые на недвижимость. Мне кажется, что это незначительные отклонения, возможно бизнес посчитает иначе. Преподаватель сказал, что узнаем про z-тест для пропорций и сможем определить статистически значимы ли такие отклонения."
   ]
  },
  {
   "cell_type": "markdown",
   "metadata": {},
   "source": [
    "Решил проверить по гендеру еще."
   ]
  },
  {
   "cell_type": "code",
   "execution_count": 24,
   "metadata": {},
   "outputs": [
    {
     "data": {
      "text/html": [
       "<div>\n",
       "<style scoped>\n",
       "    .dataframe tbody tr th:only-of-type {\n",
       "        vertical-align: middle;\n",
       "    }\n",
       "\n",
       "    .dataframe tbody tr th {\n",
       "        vertical-align: top;\n",
       "    }\n",
       "\n",
       "    .dataframe thead th {\n",
       "        text-align: right;\n",
       "    }\n",
       "</style>\n",
       "<table border=\"1\" class=\"dataframe\">\n",
       "  <thead>\n",
       "    <tr style=\"text-align: right;\">\n",
       "      <th></th>\n",
       "      <th>no_debt</th>\n",
       "      <th>debt</th>\n",
       "      <th>%</th>\n",
       "    </tr>\n",
       "    <tr>\n",
       "      <th>gender</th>\n",
       "      <th></th>\n",
       "      <th></th>\n",
       "      <th></th>\n",
       "    </tr>\n",
       "  </thead>\n",
       "  <tbody>\n",
       "    <tr>\n",
       "      <td>F</td>\n",
       "      <td>13181</td>\n",
       "      <td>994</td>\n",
       "      <td>7.012346</td>\n",
       "    </tr>\n",
       "    <tr>\n",
       "      <td>M</td>\n",
       "      <td>6532</td>\n",
       "      <td>747</td>\n",
       "      <td>10.262399</td>\n",
       "    </tr>\n",
       "  </tbody>\n",
       "</table>\n",
       "</div>"
      ],
      "text/plain": [
       "        no_debt  debt          %\n",
       "gender                          \n",
       "F         13181   994   7.012346\n",
       "M          6532   747  10.262399"
      ]
     },
     "metadata": {},
     "output_type": "display_data"
    }
   ],
   "source": [
    "report = df.pivot_table(index='gender', columns='debt', values='total_income', aggfunc='count')\n",
    "report.columns = ['no_debt', 'debt']\n",
    "report['%'] = report['debt']/(report['no_debt'] + report['debt'])*100\n",
    "report = report.fillna(0)\n",
    "display(report)\n",
    "#gender"
   ]
  },
  {
   "cell_type": "markdown",
   "metadata": {},
   "source": [
    "И по образованию."
   ]
  },
  {
   "cell_type": "code",
   "execution_count": 25,
   "metadata": {},
   "outputs": [
    {
     "data": {
      "text/html": [
       "<div>\n",
       "<style scoped>\n",
       "    .dataframe tbody tr th:only-of-type {\n",
       "        vertical-align: middle;\n",
       "    }\n",
       "\n",
       "    .dataframe tbody tr th {\n",
       "        vertical-align: top;\n",
       "    }\n",
       "\n",
       "    .dataframe thead th {\n",
       "        text-align: right;\n",
       "    }\n",
       "</style>\n",
       "<table border=\"1\" class=\"dataframe\">\n",
       "  <thead>\n",
       "    <tr style=\"text-align: right;\">\n",
       "      <th></th>\n",
       "      <th>no_debt</th>\n",
       "      <th>debt</th>\n",
       "      <th>%</th>\n",
       "    </tr>\n",
       "    <tr>\n",
       "      <th>education</th>\n",
       "      <th></th>\n",
       "      <th></th>\n",
       "      <th></th>\n",
       "    </tr>\n",
       "  </thead>\n",
       "  <tbody>\n",
       "    <tr>\n",
       "      <td>высшее</td>\n",
       "      <td>4972.0</td>\n",
       "      <td>278.0</td>\n",
       "      <td>5.295238</td>\n",
       "    </tr>\n",
       "    <tr>\n",
       "      <td>начальное</td>\n",
       "      <td>251.0</td>\n",
       "      <td>31.0</td>\n",
       "      <td>10.992908</td>\n",
       "    </tr>\n",
       "    <tr>\n",
       "      <td>неоконченное высшее</td>\n",
       "      <td>676.0</td>\n",
       "      <td>68.0</td>\n",
       "      <td>9.139785</td>\n",
       "    </tr>\n",
       "    <tr>\n",
       "      <td>среднее</td>\n",
       "      <td>13808.0</td>\n",
       "      <td>1364.0</td>\n",
       "      <td>8.990245</td>\n",
       "    </tr>\n",
       "    <tr>\n",
       "      <td>ученая степень</td>\n",
       "      <td>6.0</td>\n",
       "      <td>0.0</td>\n",
       "      <td>0.000000</td>\n",
       "    </tr>\n",
       "  </tbody>\n",
       "</table>\n",
       "</div>"
      ],
      "text/plain": [
       "                     no_debt    debt          %\n",
       "education                                      \n",
       "высшее                4972.0   278.0   5.295238\n",
       "начальное              251.0    31.0  10.992908\n",
       "неоконченное высшее    676.0    68.0   9.139785\n",
       "среднее              13808.0  1364.0   8.990245\n",
       "ученая степень           6.0     0.0   0.000000"
      ]
     },
     "metadata": {},
     "output_type": "display_data"
    }
   ],
   "source": [
    "report = df.pivot_table(index='education', columns='debt', values='total_income', aggfunc='count')\n",
    "report.columns = ['no_debt', 'debt']\n",
    "report['%'] = report['debt']/(report['no_debt'] + report['debt'])*100\n",
    "report = report.fillna(0)\n",
    "display(report)\n",
    "#education"
   ]
  },
  {
   "cell_type": "markdown",
   "metadata": {},
   "source": [
    "## Шаг 4. Общий вывод"
   ]
  },
  {
   "cell_type": "markdown",
   "metadata": {},
   "source": [
    "Мы попытались ответить на 4 вопроса и дополнительно я задал еще два, по обязательным вопросам мы определили такие закономерности:\n",
    "- У клиентов с детьми немного выше процент невозврата кредита, почти 2 процента.\n",
    "- У людей неженатых и находящихся в гражданском браке чуть выше процент задолженности, чем у всех остальных. Самый низкий процент у вдовцов.\n",
    "- Лучше возвращают кредиты люди с доходом от 500к до 1 миллиона, а хуже всех с доходом 70к до 200к(рублей скорее всего, вроде бы неизвестны единицы измерения).\n",
    "- Немного хуже возвращаются кредиты взятые на приобретение автомобиля и на образование, а лучше возвращаются кредиты взятые на недвижимость.\n",
    "\n",
    "На мои доп.вопросы:\n",
    "- Женщины лучше возвращают кредиты, чем мужчины.\n",
    "- Чем выше уровень образованности заещика, тем вероятнее он вернет кредит. Исключение состовляют люди с неоконченным высшим образованием, у них процент задолженностей выше, чем у людей со средним уровнем образования."
   ]
  }
 ],
 "metadata": {
  "ExecuteTimeLog": [
   {
    "duration": 3874,
    "start_time": "2021-11-23T13:25:35.406Z"
   },
   {
    "duration": 85,
    "start_time": "2021-11-23T13:25:51.348Z"
   },
   {
    "duration": 74,
    "start_time": "2021-11-23T13:30:05.633Z"
   },
   {
    "duration": 9,
    "start_time": "2021-11-23T13:30:05.711Z"
   },
   {
    "duration": 82,
    "start_time": "2021-11-23T13:30:05.723Z"
   },
   {
    "duration": 20,
    "start_time": "2021-11-23T13:30:05.809Z"
   },
   {
    "duration": 79,
    "start_time": "2021-11-23T13:30:05.832Z"
   },
   {
    "duration": 950,
    "start_time": "2021-11-23T13:30:05.913Z"
   },
   {
    "duration": 7,
    "start_time": "2021-11-23T13:30:06.866Z"
   },
   {
    "duration": 4693,
    "start_time": "2021-11-23T13:30:06.877Z"
   },
   {
    "duration": 4753,
    "start_time": "2021-11-23T13:32:35.794Z"
   },
   {
    "duration": 27,
    "start_time": "2021-11-23T14:08:36.769Z"
   },
   {
    "duration": 35,
    "start_time": "2021-11-23T14:09:58.728Z"
   },
   {
    "duration": 4,
    "start_time": "2021-11-23T18:00:45.769Z"
   },
   {
    "duration": 396,
    "start_time": "2021-11-23T18:07:40.731Z"
   },
   {
    "duration": 956,
    "start_time": "2021-11-23T18:08:02.461Z"
   },
   {
    "duration": 7,
    "start_time": "2021-11-23T18:08:03.420Z"
   },
   {
    "duration": 37,
    "start_time": "2021-11-23T18:08:03.430Z"
   },
   {
    "duration": 50,
    "start_time": "2021-11-23T18:08:03.469Z"
   },
   {
    "duration": 95,
    "start_time": "2021-11-23T18:08:03.521Z"
   },
   {
    "duration": 963,
    "start_time": "2021-11-23T18:08:03.618Z"
   },
   {
    "duration": 16,
    "start_time": "2021-11-23T18:08:04.584Z"
   },
   {
    "duration": 4614,
    "start_time": "2021-11-23T18:08:04.603Z"
   },
   {
    "duration": 26,
    "start_time": "2021-11-23T18:08:09.221Z"
   },
   {
    "duration": 442,
    "start_time": "2021-11-23T18:13:53.592Z"
   },
   {
    "duration": 357,
    "start_time": "2021-11-23T18:14:05.356Z"
   },
   {
    "duration": 15,
    "start_time": "2021-11-23T18:14:16.708Z"
   },
   {
    "duration": 7,
    "start_time": "2021-11-23T18:53:01.259Z"
   },
   {
    "duration": 7,
    "start_time": "2021-11-23T18:53:26.275Z"
   },
   {
    "duration": 8,
    "start_time": "2021-11-23T19:08:06.424Z"
   },
   {
    "duration": 9,
    "start_time": "2021-11-23T19:18:10.207Z"
   },
   {
    "duration": 340,
    "start_time": "2021-11-23T19:22:39.248Z"
   },
   {
    "duration": 11,
    "start_time": "2021-11-23T19:22:45.950Z"
   },
   {
    "duration": 17,
    "start_time": "2021-11-23T19:30:36.983Z"
   },
   {
    "duration": 16,
    "start_time": "2021-11-23T19:32:25.143Z"
   },
   {
    "duration": 19,
    "start_time": "2021-11-23T19:33:06.131Z"
   },
   {
    "duration": 11,
    "start_time": "2021-11-23T20:04:22.128Z"
   },
   {
    "duration": 14,
    "start_time": "2021-11-23T20:07:27.955Z"
   },
   {
    "duration": 365,
    "start_time": "2021-11-23T20:07:49.656Z"
   },
   {
    "duration": 13,
    "start_time": "2021-11-23T20:07:58.537Z"
   },
   {
    "duration": 19,
    "start_time": "2021-11-23T20:09:42.305Z"
   },
   {
    "duration": 346,
    "start_time": "2021-11-23T20:18:56.891Z"
   },
   {
    "duration": 36,
    "start_time": "2021-11-23T20:19:22.991Z"
   },
   {
    "duration": 15,
    "start_time": "2021-11-23T20:22:16.518Z"
   },
   {
    "duration": 7,
    "start_time": "2021-11-23T20:32:04.203Z"
   },
   {
    "duration": 9,
    "start_time": "2021-11-23T20:32:26.311Z"
   },
   {
    "duration": 6,
    "start_time": "2021-11-23T20:32:51.430Z"
   },
   {
    "duration": 8,
    "start_time": "2021-11-23T20:34:13.132Z"
   },
   {
    "duration": 38,
    "start_time": "2021-11-23T21:31:08.053Z"
   },
   {
    "duration": 363,
    "start_time": "2021-11-23T21:39:55.590Z"
   },
   {
    "duration": 77,
    "start_time": "2021-11-23T21:40:06.302Z"
   },
   {
    "duration": 29,
    "start_time": "2021-11-23T21:40:06.381Z"
   },
   {
    "duration": 11,
    "start_time": "2021-11-23T21:40:06.413Z"
   },
   {
    "duration": 14,
    "start_time": "2021-11-23T21:40:06.427Z"
   },
   {
    "duration": 72,
    "start_time": "2021-11-23T21:40:06.444Z"
   },
   {
    "duration": 19,
    "start_time": "2021-11-23T21:40:06.519Z"
   },
   {
    "duration": 101,
    "start_time": "2021-11-23T21:40:06.540Z"
   },
   {
    "duration": 1100,
    "start_time": "2021-11-23T21:40:06.644Z"
   },
   {
    "duration": 10,
    "start_time": "2021-11-23T21:40:07.747Z"
   },
   {
    "duration": 4558,
    "start_time": "2021-11-23T21:40:07.760Z"
   },
   {
    "duration": 20,
    "start_time": "2021-11-23T21:40:12.321Z"
   },
   {
    "duration": 16,
    "start_time": "2021-11-23T21:40:12.343Z"
   },
   {
    "duration": 69,
    "start_time": "2021-11-23T21:40:12.361Z"
   },
   {
    "duration": 22,
    "start_time": "2021-11-23T21:40:12.433Z"
   },
   {
    "duration": 8,
    "start_time": "2021-11-23T21:40:12.457Z"
   },
   {
    "duration": 65,
    "start_time": "2021-11-23T21:40:12.468Z"
   },
   {
    "duration": 389,
    "start_time": "2021-11-23T21:49:02.523Z"
   },
   {
    "duration": 360,
    "start_time": "2021-11-23T21:49:12.783Z"
   },
   {
    "duration": 78,
    "start_time": "2021-11-23T21:49:24.421Z"
   },
   {
    "duration": 16,
    "start_time": "2021-11-23T21:49:24.501Z"
   },
   {
    "duration": 10,
    "start_time": "2021-11-23T21:49:24.520Z"
   },
   {
    "duration": 13,
    "start_time": "2021-11-23T21:49:24.533Z"
   },
   {
    "duration": 80,
    "start_time": "2021-11-23T21:49:24.549Z"
   },
   {
    "duration": 20,
    "start_time": "2021-11-23T21:49:24.631Z"
   },
   {
    "duration": 116,
    "start_time": "2021-11-23T21:49:24.654Z"
   },
   {
    "duration": 1447,
    "start_time": "2021-11-23T21:49:24.775Z"
   },
   {
    "duration": 11,
    "start_time": "2021-11-23T21:49:26.227Z"
   },
   {
    "duration": 4828,
    "start_time": "2021-11-23T21:49:26.241Z"
   },
   {
    "duration": 34,
    "start_time": "2021-11-23T21:49:31.072Z"
   },
   {
    "duration": 16,
    "start_time": "2021-11-23T21:49:31.108Z"
   },
   {
    "duration": 34,
    "start_time": "2021-11-23T21:49:31.126Z"
   },
   {
    "duration": 51,
    "start_time": "2021-11-23T21:49:31.162Z"
   },
   {
    "duration": 20,
    "start_time": "2021-11-23T21:49:31.216Z"
   },
   {
    "duration": 46,
    "start_time": "2021-11-23T21:49:31.238Z"
   },
   {
    "duration": 407,
    "start_time": "2021-11-23T21:49:34.675Z"
   },
   {
    "duration": 8,
    "start_time": "2021-11-23T21:49:42.131Z"
   },
   {
    "duration": 878,
    "start_time": "2021-11-23T21:50:47.599Z"
   },
   {
    "duration": 26,
    "start_time": "2021-11-23T21:50:48.479Z"
   },
   {
    "duration": 11,
    "start_time": "2021-11-23T21:50:48.508Z"
   },
   {
    "duration": 14,
    "start_time": "2021-11-23T21:50:48.522Z"
   },
   {
    "duration": 69,
    "start_time": "2021-11-23T21:50:48.538Z"
   },
   {
    "duration": 22,
    "start_time": "2021-11-23T21:50:48.610Z"
   },
   {
    "duration": 114,
    "start_time": "2021-11-23T21:50:48.636Z"
   },
   {
    "duration": 997,
    "start_time": "2021-11-23T21:50:48.755Z"
   },
   {
    "duration": 8,
    "start_time": "2021-11-23T21:50:49.755Z"
   },
   {
    "duration": 4586,
    "start_time": "2021-11-23T21:50:49.766Z"
   },
   {
    "duration": 24,
    "start_time": "2021-11-23T21:50:54.355Z"
   },
   {
    "duration": 18,
    "start_time": "2021-11-23T21:50:54.401Z"
   },
   {
    "duration": 33,
    "start_time": "2021-11-23T21:50:54.422Z"
   },
   {
    "duration": 51,
    "start_time": "2021-11-23T21:50:54.457Z"
   },
   {
    "duration": 14,
    "start_time": "2021-11-23T21:50:54.510Z"
   },
   {
    "duration": 41,
    "start_time": "2021-11-23T21:50:54.526Z"
   },
   {
    "duration": 469,
    "start_time": "2021-11-23T21:53:06.898Z"
   },
   {
    "duration": 19,
    "start_time": "2021-11-23T21:53:46.407Z"
   },
   {
    "duration": 22,
    "start_time": "2021-11-23T21:54:32.696Z"
   },
   {
    "duration": 23,
    "start_time": "2021-11-23T21:59:37.268Z"
   },
   {
    "duration": 11,
    "start_time": "2021-11-23T21:59:55.569Z"
   },
   {
    "duration": 13,
    "start_time": "2021-11-23T22:00:13.012Z"
   },
   {
    "duration": 166,
    "start_time": "2021-11-23T22:00:45.783Z"
   },
   {
    "duration": 15,
    "start_time": "2021-11-23T22:00:56.461Z"
   },
   {
    "duration": 13,
    "start_time": "2021-11-23T22:12:39.283Z"
   },
   {
    "duration": 382,
    "start_time": "2021-11-23T23:06:31.968Z"
   },
   {
    "duration": 78,
    "start_time": "2021-11-23T23:07:15.278Z"
   },
   {
    "duration": 16,
    "start_time": "2021-11-23T23:07:15.359Z"
   },
   {
    "duration": 30,
    "start_time": "2021-11-23T23:07:15.378Z"
   },
   {
    "duration": 14,
    "start_time": "2021-11-23T23:07:15.411Z"
   },
   {
    "duration": 73,
    "start_time": "2021-11-23T23:07:15.428Z"
   },
   {
    "duration": 21,
    "start_time": "2021-11-23T23:07:15.503Z"
   },
   {
    "duration": 98,
    "start_time": "2021-11-23T23:07:15.526Z"
   },
   {
    "duration": 1026,
    "start_time": "2021-11-23T23:07:15.628Z"
   },
   {
    "duration": 7,
    "start_time": "2021-11-23T23:07:16.657Z"
   },
   {
    "duration": 4616,
    "start_time": "2021-11-23T23:07:16.667Z"
   },
   {
    "duration": 33,
    "start_time": "2021-11-23T23:07:21.286Z"
   },
   {
    "duration": 16,
    "start_time": "2021-11-23T23:07:21.321Z"
   },
   {
    "duration": 62,
    "start_time": "2021-11-23T23:07:21.339Z"
   },
   {
    "duration": 17,
    "start_time": "2021-11-23T23:07:21.403Z"
   },
   {
    "duration": 22,
    "start_time": "2021-11-23T23:07:21.422Z"
   },
   {
    "duration": 14,
    "start_time": "2021-11-23T23:07:21.446Z"
   },
   {
    "duration": 63,
    "start_time": "2021-11-23T23:07:21.463Z"
   },
   {
    "duration": 31,
    "start_time": "2021-11-23T23:07:21.528Z"
   },
   {
    "duration": 778,
    "start_time": "2021-11-24T09:35:39.740Z"
   },
   {
    "duration": 14,
    "start_time": "2021-11-24T09:35:40.521Z"
   },
   {
    "duration": 8,
    "start_time": "2021-11-24T09:35:40.537Z"
   },
   {
    "duration": 10,
    "start_time": "2021-11-24T09:35:40.548Z"
   },
   {
    "duration": 50,
    "start_time": "2021-11-24T09:35:40.559Z"
   },
   {
    "duration": 18,
    "start_time": "2021-11-24T09:35:40.611Z"
   },
   {
    "duration": 53,
    "start_time": "2021-11-24T09:35:40.631Z"
   },
   {
    "duration": 809,
    "start_time": "2021-11-24T09:35:40.707Z"
   },
   {
    "duration": 6,
    "start_time": "2021-11-24T09:35:41.518Z"
   },
   {
    "duration": 3859,
    "start_time": "2021-11-24T09:35:41.526Z"
   },
   {
    "duration": 40,
    "start_time": "2021-11-24T09:35:45.387Z"
   },
   {
    "duration": 11,
    "start_time": "2021-11-24T09:35:45.429Z"
   },
   {
    "duration": 20,
    "start_time": "2021-11-24T09:35:45.442Z"
   },
   {
    "duration": 11,
    "start_time": "2021-11-24T09:35:45.464Z"
   },
   {
    "duration": 17,
    "start_time": "2021-11-24T09:35:45.476Z"
   },
   {
    "duration": 7,
    "start_time": "2021-11-24T09:35:45.515Z"
   },
   {
    "duration": 28,
    "start_time": "2021-11-24T09:35:45.525Z"
   },
   {
    "duration": 17,
    "start_time": "2021-11-24T09:35:45.555Z"
   },
   {
    "duration": 22,
    "start_time": "2021-11-24T11:51:26.508Z"
   },
   {
    "duration": 21,
    "start_time": "2021-11-24T11:52:30.345Z"
   },
   {
    "duration": 22,
    "start_time": "2021-11-24T12:13:50.858Z"
   },
   {
    "duration": 27,
    "start_time": "2021-11-24T12:14:08.791Z"
   },
   {
    "duration": 18,
    "start_time": "2021-11-24T12:18:12.974Z"
   },
   {
    "duration": 19,
    "start_time": "2021-11-24T12:20:07.430Z"
   },
   {
    "duration": 18,
    "start_time": "2021-11-24T12:20:36.769Z"
   },
   {
    "duration": 454,
    "start_time": "2021-11-24T12:21:24.076Z"
   },
   {
    "duration": 58,
    "start_time": "2021-11-24T12:21:38.363Z"
   },
   {
    "duration": 11,
    "start_time": "2021-11-24T12:21:38.423Z"
   },
   {
    "duration": 13,
    "start_time": "2021-11-24T12:21:38.437Z"
   },
   {
    "duration": 37,
    "start_time": "2021-11-24T12:21:38.452Z"
   },
   {
    "duration": 30,
    "start_time": "2021-11-24T12:21:38.491Z"
   },
   {
    "duration": 21,
    "start_time": "2021-11-24T12:21:38.523Z"
   },
   {
    "duration": 99,
    "start_time": "2021-11-24T12:21:38.547Z"
   },
   {
    "duration": 712,
    "start_time": "2021-11-24T12:21:38.649Z"
   },
   {
    "duration": 7,
    "start_time": "2021-11-24T12:21:39.363Z"
   },
   {
    "duration": 3801,
    "start_time": "2021-11-24T12:21:39.372Z"
   },
   {
    "duration": 15,
    "start_time": "2021-11-24T12:21:43.175Z"
   },
   {
    "duration": 24,
    "start_time": "2021-11-24T12:21:43.192Z"
   },
   {
    "duration": 19,
    "start_time": "2021-11-24T12:21:43.218Z"
   },
   {
    "duration": 16,
    "start_time": "2021-11-24T12:21:43.239Z"
   },
   {
    "duration": 11,
    "start_time": "2021-11-24T12:21:43.257Z"
   },
   {
    "duration": 42,
    "start_time": "2021-11-24T12:21:43.270Z"
   },
   {
    "duration": 42,
    "start_time": "2021-11-24T12:21:43.314Z"
   },
   {
    "duration": 14,
    "start_time": "2021-11-24T12:21:43.358Z"
   },
   {
    "duration": 57,
    "start_time": "2021-11-24T12:21:43.374Z"
   },
   {
    "duration": 24,
    "start_time": "2021-11-24T12:25:38.346Z"
   },
   {
    "duration": 350,
    "start_time": "2021-11-24T12:41:50.276Z"
   },
   {
    "duration": 60,
    "start_time": "2021-11-24T12:41:58.187Z"
   },
   {
    "duration": 11,
    "start_time": "2021-11-24T12:41:58.249Z"
   },
   {
    "duration": 8,
    "start_time": "2021-11-24T12:41:58.263Z"
   },
   {
    "duration": 36,
    "start_time": "2021-11-24T12:41:58.273Z"
   },
   {
    "duration": 23,
    "start_time": "2021-11-24T12:41:58.310Z"
   },
   {
    "duration": 14,
    "start_time": "2021-11-24T12:41:58.334Z"
   },
   {
    "duration": 82,
    "start_time": "2021-11-24T12:41:58.350Z"
   },
   {
    "duration": 698,
    "start_time": "2021-11-24T12:41:58.434Z"
   },
   {
    "duration": 5,
    "start_time": "2021-11-24T12:41:59.135Z"
   },
   {
    "duration": 3671,
    "start_time": "2021-11-24T12:41:59.141Z"
   },
   {
    "duration": 15,
    "start_time": "2021-11-24T12:42:02.814Z"
   },
   {
    "duration": 11,
    "start_time": "2021-11-24T12:42:02.831Z"
   },
   {
    "duration": 19,
    "start_time": "2021-11-24T12:42:02.844Z"
   },
   {
    "duration": 50,
    "start_time": "2021-11-24T12:42:02.865Z"
   },
   {
    "duration": 10,
    "start_time": "2021-11-24T12:42:02.917Z"
   },
   {
    "duration": 18,
    "start_time": "2021-11-24T12:42:02.929Z"
   },
   {
    "duration": 34,
    "start_time": "2021-11-24T12:42:02.949Z"
   },
   {
    "duration": 23,
    "start_time": "2021-11-24T12:42:02.985Z"
   },
   {
    "duration": 30,
    "start_time": "2021-11-24T12:42:03.010Z"
   },
   {
    "duration": 42,
    "start_time": "2021-11-24T12:42:03.042Z"
   },
   {
    "duration": 37,
    "start_time": "2021-11-24T12:46:41.414Z"
   },
   {
    "duration": 21,
    "start_time": "2021-11-24T12:55:33.940Z"
   },
   {
    "duration": 20,
    "start_time": "2021-11-24T13:09:27.603Z"
   },
   {
    "duration": 101,
    "start_time": "2021-11-24T13:11:50.438Z"
   },
   {
    "duration": 22,
    "start_time": "2021-11-24T13:12:20.103Z"
   },
   {
    "duration": 61,
    "start_time": "2021-11-24T13:30:00.265Z"
   },
   {
    "duration": 12,
    "start_time": "2021-11-24T13:30:00.328Z"
   },
   {
    "duration": 38,
    "start_time": "2021-11-24T13:30:00.343Z"
   },
   {
    "duration": 14,
    "start_time": "2021-11-24T13:30:00.383Z"
   },
   {
    "duration": 38,
    "start_time": "2021-11-24T13:30:00.399Z"
   },
   {
    "duration": 20,
    "start_time": "2021-11-24T13:30:00.440Z"
   },
   {
    "duration": 116,
    "start_time": "2021-11-24T13:30:00.462Z"
   },
   {
    "duration": 718,
    "start_time": "2021-11-24T13:30:00.581Z"
   },
   {
    "duration": 6,
    "start_time": "2021-11-24T13:30:01.302Z"
   },
   {
    "duration": 3728,
    "start_time": "2021-11-24T13:30:01.310Z"
   },
   {
    "duration": 14,
    "start_time": "2021-11-24T13:30:05.041Z"
   },
   {
    "duration": 28,
    "start_time": "2021-11-24T13:30:05.057Z"
   },
   {
    "duration": 35,
    "start_time": "2021-11-24T13:30:05.087Z"
   },
   {
    "duration": 36,
    "start_time": "2021-11-24T13:30:05.124Z"
   },
   {
    "duration": 13,
    "start_time": "2021-11-24T13:30:05.162Z"
   },
   {
    "duration": 15,
    "start_time": "2021-11-24T13:30:05.176Z"
   },
   {
    "duration": 54,
    "start_time": "2021-11-24T13:30:05.193Z"
   },
   {
    "duration": 50,
    "start_time": "2021-11-24T13:30:05.249Z"
   },
   {
    "duration": 47,
    "start_time": "2021-11-24T13:30:05.301Z"
   },
   {
    "duration": 25,
    "start_time": "2021-11-24T13:30:05.349Z"
   },
   {
    "duration": 37,
    "start_time": "2021-11-24T13:30:05.376Z"
   },
   {
    "duration": 22,
    "start_time": "2021-11-24T13:30:05.415Z"
   },
   {
    "duration": 32,
    "start_time": "2021-11-24T13:30:05.441Z"
   },
   {
    "duration": 22,
    "start_time": "2021-11-24T13:30:05.475Z"
   },
   {
    "duration": 624,
    "start_time": "2021-11-24T18:49:33.460Z"
   },
   {
    "duration": 10,
    "start_time": "2021-11-24T18:49:34.086Z"
   },
   {
    "duration": 7,
    "start_time": "2021-11-24T18:49:34.097Z"
   },
   {
    "duration": 9,
    "start_time": "2021-11-24T18:49:34.106Z"
   },
   {
    "duration": 25,
    "start_time": "2021-11-24T18:49:34.116Z"
   },
   {
    "duration": 11,
    "start_time": "2021-11-24T18:49:34.143Z"
   },
   {
    "duration": 74,
    "start_time": "2021-11-24T18:49:34.155Z"
   },
   {
    "duration": 600,
    "start_time": "2021-11-24T18:49:34.231Z"
   },
   {
    "duration": 5,
    "start_time": "2021-11-24T18:49:34.833Z"
   },
   {
    "duration": 3275,
    "start_time": "2021-11-24T18:49:34.839Z"
   },
   {
    "duration": 14,
    "start_time": "2021-11-24T18:49:38.116Z"
   },
   {
    "duration": 10,
    "start_time": "2021-11-24T18:49:38.131Z"
   },
   {
    "duration": 21,
    "start_time": "2021-11-24T18:49:38.143Z"
   },
   {
    "duration": 283,
    "start_time": "2021-11-24T18:49:38.187Z"
   },
   {
    "duration": 8,
    "start_time": "2021-11-24T18:49:38.472Z"
   },
   {
    "duration": 5,
    "start_time": "2021-11-24T18:49:38.482Z"
   },
   {
    "duration": 20,
    "start_time": "2021-11-24T18:49:38.488Z"
   },
   {
    "duration": 12,
    "start_time": "2021-11-24T18:49:38.509Z"
   },
   {
    "duration": 17,
    "start_time": "2021-11-24T18:49:38.522Z"
   },
   {
    "duration": 17,
    "start_time": "2021-11-24T18:49:38.541Z"
   },
   {
    "duration": 45,
    "start_time": "2021-11-24T18:49:38.559Z"
   },
   {
    "duration": 18,
    "start_time": "2021-11-24T18:49:38.606Z"
   },
   {
    "duration": 16,
    "start_time": "2021-11-24T18:49:38.627Z"
   },
   {
    "duration": 43,
    "start_time": "2021-11-24T18:49:38.644Z"
   },
   {
    "duration": 30,
    "start_time": "2021-11-24T19:13:46.101Z"
   },
   {
    "duration": 14,
    "start_time": "2021-11-24T19:13:57.146Z"
   },
   {
    "duration": 4,
    "start_time": "2021-11-24T19:19:32.302Z"
   },
   {
    "duration": 7,
    "start_time": "2021-11-24T19:29:54.739Z"
   },
   {
    "duration": 4714,
    "start_time": "2021-11-24T19:30:22.313Z"
   },
   {
    "duration": 110,
    "start_time": "2021-11-24T20:06:14.058Z"
   },
   {
    "duration": 291,
    "start_time": "2021-11-24T20:06:31.194Z"
   },
   {
    "duration": 712,
    "start_time": "2021-11-24T20:06:41.326Z"
   },
   {
    "duration": 11,
    "start_time": "2021-11-24T20:06:42.040Z"
   },
   {
    "duration": 8,
    "start_time": "2021-11-24T20:06:42.053Z"
   },
   {
    "duration": 21,
    "start_time": "2021-11-24T20:06:42.063Z"
   },
   {
    "duration": 27,
    "start_time": "2021-11-24T20:06:42.086Z"
   },
   {
    "duration": 16,
    "start_time": "2021-11-24T20:06:42.115Z"
   },
   {
    "duration": 52,
    "start_time": "2021-11-24T20:06:42.145Z"
   },
   {
    "duration": 653,
    "start_time": "2021-11-24T20:06:42.201Z"
   },
   {
    "duration": 5,
    "start_time": "2021-11-24T20:06:42.857Z"
   },
   {
    "duration": 6645,
    "start_time": "2021-11-24T20:06:42.864Z"
   },
   {
    "duration": 24,
    "start_time": "2021-11-24T20:06:49.488Z"
   },
   {
    "duration": -138,
    "start_time": "2021-11-24T20:06:49.651Z"
   },
   {
    "duration": -155,
    "start_time": "2021-11-24T20:06:49.670Z"
   },
   {
    "duration": -238,
    "start_time": "2021-11-24T20:06:49.754Z"
   },
   {
    "duration": -258,
    "start_time": "2021-11-24T20:06:49.775Z"
   },
   {
    "duration": -265,
    "start_time": "2021-11-24T20:06:49.784Z"
   },
   {
    "duration": -270,
    "start_time": "2021-11-24T20:06:49.790Z"
   },
   {
    "duration": -274,
    "start_time": "2021-11-24T20:06:49.795Z"
   },
   {
    "duration": -277,
    "start_time": "2021-11-24T20:06:49.800Z"
   },
   {
    "duration": -286,
    "start_time": "2021-11-24T20:06:49.810Z"
   },
   {
    "duration": -296,
    "start_time": "2021-11-24T20:06:49.821Z"
   },
   {
    "duration": -300,
    "start_time": "2021-11-24T20:06:49.827Z"
   },
   {
    "duration": -318,
    "start_time": "2021-11-24T20:06:49.846Z"
   },
   {
    "duration": -328,
    "start_time": "2021-11-24T20:06:49.857Z"
   },
   {
    "duration": -331,
    "start_time": "2021-11-24T20:06:49.862Z"
   },
   {
    "duration": 7490,
    "start_time": "2021-11-24T20:07:27.493Z"
   },
   {
    "duration": 7756,
    "start_time": "2021-11-24T20:08:02.102Z"
   },
   {
    "duration": 59,
    "start_time": "2021-11-24T20:10:05.178Z"
   },
   {
    "duration": 11,
    "start_time": "2021-11-24T20:10:05.239Z"
   },
   {
    "duration": 11,
    "start_time": "2021-11-24T20:10:05.252Z"
   },
   {
    "duration": 9,
    "start_time": "2021-11-24T20:10:05.265Z"
   },
   {
    "duration": 24,
    "start_time": "2021-11-24T20:10:05.275Z"
   },
   {
    "duration": 14,
    "start_time": "2021-11-24T20:10:05.301Z"
   },
   {
    "duration": 75,
    "start_time": "2021-11-24T20:10:05.316Z"
   },
   {
    "duration": 690,
    "start_time": "2021-11-24T20:10:05.393Z"
   },
   {
    "duration": 6,
    "start_time": "2021-11-24T20:10:06.085Z"
   },
   {
    "duration": 3,
    "start_time": "2021-11-24T20:10:06.093Z"
   },
   {
    "duration": 3797,
    "start_time": "2021-11-24T20:10:06.098Z"
   },
   {
    "duration": 304,
    "start_time": "2021-11-24T20:10:09.897Z"
   },
   {
    "duration": 100,
    "start_time": "2021-11-24T20:10:10.103Z"
   },
   {
    "duration": 99,
    "start_time": "2021-11-24T20:10:10.106Z"
   },
   {
    "duration": 85,
    "start_time": "2021-11-24T20:10:10.121Z"
   },
   {
    "duration": 82,
    "start_time": "2021-11-24T20:10:10.125Z"
   },
   {
    "duration": 78,
    "start_time": "2021-11-24T20:10:10.130Z"
   },
   {
    "duration": 74,
    "start_time": "2021-11-24T20:10:10.135Z"
   },
   {
    "duration": 70,
    "start_time": "2021-11-24T20:10:10.140Z"
   },
   {
    "duration": 67,
    "start_time": "2021-11-24T20:10:10.144Z"
   },
   {
    "duration": 65,
    "start_time": "2021-11-24T20:10:10.147Z"
   },
   {
    "duration": 60,
    "start_time": "2021-11-24T20:10:10.153Z"
   },
   {
    "duration": 58,
    "start_time": "2021-11-24T20:10:10.157Z"
   },
   {
    "duration": 56,
    "start_time": "2021-11-24T20:10:10.160Z"
   },
   {
    "duration": 54,
    "start_time": "2021-11-24T20:10:10.163Z"
   },
   {
    "duration": 49,
    "start_time": "2021-11-24T20:10:10.169Z"
   },
   {
    "duration": 8,
    "start_time": "2021-11-24T20:11:14.459Z"
   },
   {
    "duration": 7836,
    "start_time": "2021-11-24T20:14:26.260Z"
   },
   {
    "duration": 288,
    "start_time": "2021-11-24T20:15:18.540Z"
   },
   {
    "duration": 8,
    "start_time": "2021-11-24T20:18:01.875Z"
   },
   {
    "duration": 9,
    "start_time": "2021-11-24T20:21:23.258Z"
   },
   {
    "duration": 70,
    "start_time": "2021-11-24T20:30:24.428Z"
   },
   {
    "duration": 15,
    "start_time": "2021-11-24T20:30:24.500Z"
   },
   {
    "duration": 33,
    "start_time": "2021-11-24T20:30:24.518Z"
   },
   {
    "duration": 14,
    "start_time": "2021-11-24T20:30:24.553Z"
   },
   {
    "duration": 36,
    "start_time": "2021-11-24T20:30:24.570Z"
   },
   {
    "duration": 44,
    "start_time": "2021-11-24T20:30:24.608Z"
   },
   {
    "duration": 63,
    "start_time": "2021-11-24T20:30:24.654Z"
   },
   {
    "duration": 701,
    "start_time": "2021-11-24T20:30:24.719Z"
   },
   {
    "duration": 6,
    "start_time": "2021-11-24T20:30:25.423Z"
   },
   {
    "duration": 3516,
    "start_time": "2021-11-24T20:30:25.431Z"
   },
   {
    "duration": 7,
    "start_time": "2021-11-24T20:30:28.949Z"
   },
   {
    "duration": 17,
    "start_time": "2021-11-24T20:30:28.958Z"
   },
   {
    "duration": 10,
    "start_time": "2021-11-24T20:30:28.977Z"
   },
   {
    "duration": 17,
    "start_time": "2021-11-24T20:30:28.988Z"
   },
   {
    "duration": 38,
    "start_time": "2021-11-24T20:30:29.007Z"
   },
   {
    "duration": 10,
    "start_time": "2021-11-24T20:30:29.047Z"
   },
   {
    "duration": 7,
    "start_time": "2021-11-24T20:30:29.059Z"
   },
   {
    "duration": 22,
    "start_time": "2021-11-24T20:30:29.067Z"
   },
   {
    "duration": 11,
    "start_time": "2021-11-24T20:30:29.096Z"
   },
   {
    "duration": 47,
    "start_time": "2021-11-24T20:30:29.109Z"
   },
   {
    "duration": 19,
    "start_time": "2021-11-24T20:30:29.158Z"
   },
   {
    "duration": 20,
    "start_time": "2021-11-24T20:30:29.180Z"
   },
   {
    "duration": 49,
    "start_time": "2021-11-24T20:30:29.202Z"
   },
   {
    "duration": 21,
    "start_time": "2021-11-24T20:30:29.253Z"
   },
   {
    "duration": 24,
    "start_time": "2021-11-24T20:30:29.276Z"
   },
   {
    "duration": 883,
    "start_time": "2021-11-25T12:34:50.858Z"
   },
   {
    "duration": 30,
    "start_time": "2021-11-25T12:34:51.743Z"
   },
   {
    "duration": 12,
    "start_time": "2021-11-25T12:34:51.777Z"
   },
   {
    "duration": 22,
    "start_time": "2021-11-25T12:34:51.792Z"
   },
   {
    "duration": 64,
    "start_time": "2021-11-25T12:34:51.816Z"
   },
   {
    "duration": 21,
    "start_time": "2021-11-25T12:34:51.883Z"
   },
   {
    "duration": 105,
    "start_time": "2021-11-25T12:34:51.906Z"
   },
   {
    "duration": 952,
    "start_time": "2021-11-25T12:34:52.015Z"
   },
   {
    "duration": 8,
    "start_time": "2021-11-25T12:34:52.971Z"
   },
   {
    "duration": 4671,
    "start_time": "2021-11-25T12:34:52.981Z"
   },
   {
    "duration": 22,
    "start_time": "2021-11-25T12:34:57.655Z"
   },
   {
    "duration": 27,
    "start_time": "2021-11-25T12:34:57.680Z"
   },
   {
    "duration": 15,
    "start_time": "2021-11-25T12:34:57.709Z"
   },
   {
    "duration": 61,
    "start_time": "2021-11-25T12:34:57.727Z"
   },
   {
    "duration": 21,
    "start_time": "2021-11-25T12:34:57.791Z"
   },
   {
    "duration": 17,
    "start_time": "2021-11-25T12:34:57.815Z"
   },
   {
    "duration": 37,
    "start_time": "2021-11-25T12:34:57.835Z"
   },
   {
    "duration": 37,
    "start_time": "2021-11-25T12:34:57.875Z"
   },
   {
    "duration": 54,
    "start_time": "2021-11-25T12:34:57.915Z"
   },
   {
    "duration": 34,
    "start_time": "2021-11-25T12:34:57.971Z"
   },
   {
    "duration": 60,
    "start_time": "2021-11-25T12:34:58.007Z"
   },
   {
    "duration": 34,
    "start_time": "2021-11-25T12:34:58.070Z"
   },
   {
    "duration": 60,
    "start_time": "2021-11-25T12:34:58.109Z"
   },
   {
    "duration": 32,
    "start_time": "2021-11-25T12:34:58.172Z"
   },
   {
    "duration": 60,
    "start_time": "2021-11-25T12:34:58.207Z"
   },
   {
    "duration": 54,
    "start_time": "2021-11-25T12:39:29.394Z"
   },
   {
    "duration": 24,
    "start_time": "2021-11-25T12:39:39.732Z"
   }
  ],
  "kernelspec": {
   "display_name": "Python 3 (ipykernel)",
   "language": "python",
   "name": "python3"
  },
  "language_info": {
   "codemirror_mode": {
    "name": "ipython",
    "version": 3
   },
   "file_extension": ".py",
   "mimetype": "text/x-python",
   "name": "python",
   "nbconvert_exporter": "python",
   "pygments_lexer": "ipython3",
   "version": "3.9.7"
  },
  "toc": {
   "base_numbering": 1,
   "nav_menu": {},
   "number_sections": true,
   "sideBar": true,
   "skip_h1_title": true,
   "title_cell": "Table of Contents",
   "title_sidebar": "Contents",
   "toc_cell": false,
   "toc_position": {},
   "toc_section_display": true,
   "toc_window_display": false
  }
 },
 "nbformat": 4,
 "nbformat_minor": 2
}

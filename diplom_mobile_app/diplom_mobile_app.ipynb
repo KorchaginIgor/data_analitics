{
 "cells": [
  {
   "cell_type": "markdown",
   "id": "783559c3",
   "metadata": {},
   "source": [
    "# Дашборд и презентация\n",
    "\n",
    "Дашборд: https://public.tableau.com/app/profile/igor4812/viz/Book2_16522907313270/sheet2?publish=yes\n",
    "\n",
    "Презентация: https://disk.yandex.ru/i/qXGP8-Qj_TOfOg"
   ]
  },
  {
   "cell_type": "markdown",
   "id": "2de68928",
   "metadata": {},
   "source": [
    "# Название проекта\n",
    "Выделение групп пользователей на основе их поведения в мобильном приложении \"Ненужные вещи\"."
   ]
  },
  {
   "cell_type": "markdown",
   "id": "a71bd587",
   "metadata": {},
   "source": [
    "# Описание проекта\n",
    "Дерзкая и амбициозная команда сервиса «Ненужные вещи» жаждет увидеть в своём составе крутого аналитика, который возьмёт огромное количество наших данных и сотворит из них чудо. Конкретнее про чудо: наши пользователи совершают много действий в приложении, и мы уверены, что в этих данных есть инсайты, которые позволят нам стать лучшим приложением для продажи ненужных вещей. В ходе проекта необходимо проанализировать поведение пользователей в мобильном приложениии \"Ненужные вещи\" и кластеризировать их на основе их поведения, чтобы сделать более точный механизм взаимодействия с пользователями и повысить вовлеченность групп пользователей с низкими показателями."
   ]
  },
  {
   "cell_type": "markdown",
   "id": "b25e8e92",
   "metadata": {},
   "source": [
    "# Декомпозиция\n",
    "- Предобработка данных\n",
    "- Исследовательский анализ данных EDA\n",
    "   - Расчет Retention Rate\n",
    "   - Изучить распределение событий по дням и неделям\n",
    "   - Изучить кол-во событий по пользователям\n",
    "   - Построение и сравнение конверсии воронки взаимодействия с основными карточками через поиск по сайту(+ по другим событиям)\n",
    "   - Изучить количество взаимодействий в приложении и появление новых пользователей по дням и неделям, изучение среднего взаимодействия с событиями на одного пользователя по неделям(так как их 4, можно назвать их когортами наверное)\n",
    "- Кластеризация   \n",
    "   - Сформировать таблицу с признаками для кластеризации\n",
    "   - Рассчитать показатели на каждого пользователя: продолжительность каждого сеанса, количество совершенных пользователем целевых действий, количество просмотров рекомендованных объявлений, добавление объявления в избранное, общее время использования приложения, время от начала регистрации до начала поиска по сайту\n",
    "   - Построить графики распределения и матрицу корреляции признаков\n",
    "   - Сегментировать пользователей на основе признаков с помощью кластеризации\n",
    "   - Построить графики распределения признаков для кластеров и описать получившиеся кластеры\n",
    "   - Ответить на вопросы:\n",
    "      - Какие пользователи склонны часто возвращаться в мобильное приложение?\n",
    "      - Какие пользователи часто делают целевое событие (contacts_show)\n",
    "      - Как различается время между распространенными событиями пользователей, (например, различаются ли пользователи по группам на основе времени, которое проходит с момента первого использования мобильного приложения и до использования функции поиска)?\n",
    "- Проверить статистические гипотезы\n",
    "   - Проверить гипотезу: Конверсия в просмотр контактов между пользователями, установившими приложение по ссылке из yandex и пользователями, установившими приложение по ссылке из google, различается\n",
    "   - Проверить гипотезу: Конверсия в использование поиска между пользователями, установившими приложение по ссылке из yandex и пользователями, установившими приложение по ссылке из google, различается\n",
    "   - Проверить гипотезу: Конверсия в просмотр карты с объявлениями между пользователями, установившими приложение по ссылке из yandex и пользователями, установившими приложение по ссылке из google, различается\n",
    "   - Проверить гипотезу: Конверсия в добавление объявления в избранное между пользователями, установившими приложение по ссылке из yandex и пользователями, установившими приложение по ссылке из google, различается\n",
    "- Выводы и рекомендации\n",
    "- Сделать презентацию и дашборд "
   ]
  },
  {
   "cell_type": "markdown",
   "id": "7a71ea55",
   "metadata": {},
   "source": [
    "# Загрузка данных и библиотек\n",
    "Загрузим библиотеки, отключим предупреждения об ошибках, потом загрузим данные и взглянем на дубликаты, пропуски и на сами данные."
   ]
  },
  {
   "cell_type": "code",
   "execution_count": 45,
   "id": "561e033e",
   "metadata": {},
   "outputs": [],
   "source": [
    "# импортируем библиотеки\n",
    "import pandas as pd\n",
    "import datetime as dt\n",
    "import numpy as np\n",
    "import math as mth\n",
    "import scipy.stats as stats\n",
    "import seaborn as sns\n",
    "import matplotlib.pyplot as plt\n",
    "import warnings\n",
    "import calendar\n",
    "from sklearn.model_selection import train_test_split\n",
    "from sklearn.linear_model import LogisticRegression\n",
    "from sklearn.ensemble import RandomForestClassifier\n",
    "from sklearn.metrics import silhouette_score\n",
    "from sklearn.metrics import accuracy_score, precision_score, recall_score, f1_score\n",
    "from sklearn.preprocessing import StandardScaler\n",
    "from scipy.cluster.hierarchy import dendrogram, linkage\n",
    "from sklearn.cluster import KMeans\n",
    "from plotly.offline import download_plotlyjs, init_notebook_mode, plot, iplot\n",
    "import plotly.graph_objs as go\n",
    "import plotly.express as px\n",
    "import plotly.figure_factory as ff\n",
    "warnings.filterwarnings('ignore')\n",
    "pd.set_option('display.max_columns', 500)\n",
    "pd.options.mode.chained_assignment = None\n",
    "pd.set_option('display.float_format', '{:.2f}'.format)"
   ]
  },
  {
   "cell_type": "code",
   "execution_count": 46,
   "id": "c275b50a",
   "metadata": {},
   "outputs": [],
   "source": [
    "# импорт данных \n",
    "# sources = pd.read_csv('/datasets/mobile_soures.csv')\n",
    "# data = pd.read_csv('/datasets/mobile_dataset.csv')\n",
    "sources = pd.read_csv('mobile_sourсes.csv')\n",
    "data = pd.read_csv('mobile_dataset.csv')"
   ]
  },
  {
   "cell_type": "markdown",
   "id": "1decaa1a",
   "metadata": {},
   "source": [
    "А теперь взглянем на сами данные:"
   ]
  },
  {
   "cell_type": "code",
   "execution_count": 47,
   "id": "2518f3bc",
   "metadata": {},
   "outputs": [
    {
     "data": {
      "text/html": [
       "<div>\n",
       "<style scoped>\n",
       "    .dataframe tbody tr th:only-of-type {\n",
       "        vertical-align: middle;\n",
       "    }\n",
       "\n",
       "    .dataframe tbody tr th {\n",
       "        vertical-align: top;\n",
       "    }\n",
       "\n",
       "    .dataframe thead th {\n",
       "        text-align: right;\n",
       "    }\n",
       "</style>\n",
       "<table border=\"1\" class=\"dataframe\">\n",
       "  <thead>\n",
       "    <tr style=\"text-align: right;\">\n",
       "      <th></th>\n",
       "      <th>event.time</th>\n",
       "      <th>event.name</th>\n",
       "      <th>user.id</th>\n",
       "    </tr>\n",
       "  </thead>\n",
       "  <tbody>\n",
       "    <tr>\n",
       "      <th>0</th>\n",
       "      <td>2019-10-07 00:00:00.431357</td>\n",
       "      <td>advert_open</td>\n",
       "      <td>020292ab-89bc-4156-9acf-68bc2783f894</td>\n",
       "    </tr>\n",
       "    <tr>\n",
       "      <th>1</th>\n",
       "      <td>2019-10-07 00:00:01.236320</td>\n",
       "      <td>tips_show</td>\n",
       "      <td>020292ab-89bc-4156-9acf-68bc2783f894</td>\n",
       "    </tr>\n",
       "    <tr>\n",
       "      <th>2</th>\n",
       "      <td>2019-10-07 00:00:02.245341</td>\n",
       "      <td>tips_show</td>\n",
       "      <td>cf7eda61-9349-469f-ac27-e5b6f5ec475c</td>\n",
       "    </tr>\n",
       "    <tr>\n",
       "      <th>3</th>\n",
       "      <td>2019-10-07 00:00:07.039334</td>\n",
       "      <td>tips_show</td>\n",
       "      <td>020292ab-89bc-4156-9acf-68bc2783f894</td>\n",
       "    </tr>\n",
       "    <tr>\n",
       "      <th>4</th>\n",
       "      <td>2019-10-07 00:00:56.319813</td>\n",
       "      <td>advert_open</td>\n",
       "      <td>cf7eda61-9349-469f-ac27-e5b6f5ec475c</td>\n",
       "    </tr>\n",
       "  </tbody>\n",
       "</table>\n",
       "</div>"
      ],
      "text/plain": [
       "                   event.time   event.name  \\\n",
       "0  2019-10-07 00:00:00.431357  advert_open   \n",
       "1  2019-10-07 00:00:01.236320    tips_show   \n",
       "2  2019-10-07 00:00:02.245341    tips_show   \n",
       "3  2019-10-07 00:00:07.039334    tips_show   \n",
       "4  2019-10-07 00:00:56.319813  advert_open   \n",
       "\n",
       "                                user.id  \n",
       "0  020292ab-89bc-4156-9acf-68bc2783f894  \n",
       "1  020292ab-89bc-4156-9acf-68bc2783f894  \n",
       "2  cf7eda61-9349-469f-ac27-e5b6f5ec475c  \n",
       "3  020292ab-89bc-4156-9acf-68bc2783f894  \n",
       "4  cf7eda61-9349-469f-ac27-e5b6f5ec475c  "
      ]
     },
     "metadata": {},
     "output_type": "display_data"
    },
    {
     "name": "stdout",
     "output_type": "stream",
     "text": [
      "<class 'pandas.core.frame.DataFrame'>\n",
      "RangeIndex: 74197 entries, 0 to 74196\n",
      "Data columns (total 3 columns):\n",
      " #   Column      Non-Null Count  Dtype \n",
      "---  ------      --------------  ----- \n",
      " 0   event.time  74197 non-null  object\n",
      " 1   event.name  74197 non-null  object\n",
      " 2   user.id     74197 non-null  object\n",
      "dtypes: object(3)\n",
      "memory usage: 1.7+ MB\n",
      "None\n"
     ]
    },
    {
     "data": {
      "text/html": [
       "<div>\n",
       "<style scoped>\n",
       "    .dataframe tbody tr th:only-of-type {\n",
       "        vertical-align: middle;\n",
       "    }\n",
       "\n",
       "    .dataframe tbody tr th {\n",
       "        vertical-align: top;\n",
       "    }\n",
       "\n",
       "    .dataframe thead th {\n",
       "        text-align: right;\n",
       "    }\n",
       "</style>\n",
       "<table border=\"1\" class=\"dataframe\">\n",
       "  <thead>\n",
       "    <tr style=\"text-align: right;\">\n",
       "      <th></th>\n",
       "      <th>userId</th>\n",
       "      <th>source</th>\n",
       "    </tr>\n",
       "  </thead>\n",
       "  <tbody>\n",
       "    <tr>\n",
       "      <th>0</th>\n",
       "      <td>020292ab-89bc-4156-9acf-68bc2783f894</td>\n",
       "      <td>other</td>\n",
       "    </tr>\n",
       "    <tr>\n",
       "      <th>1</th>\n",
       "      <td>cf7eda61-9349-469f-ac27-e5b6f5ec475c</td>\n",
       "      <td>yandex</td>\n",
       "    </tr>\n",
       "    <tr>\n",
       "      <th>2</th>\n",
       "      <td>8c356c42-3ba9-4cb6-80b8-3f868d0192c3</td>\n",
       "      <td>yandex</td>\n",
       "    </tr>\n",
       "    <tr>\n",
       "      <th>3</th>\n",
       "      <td>d9b06b47-0f36-419b-bbb0-3533e582a6cb</td>\n",
       "      <td>other</td>\n",
       "    </tr>\n",
       "    <tr>\n",
       "      <th>4</th>\n",
       "      <td>f32e1e2a-3027-4693-b793-b7b3ff274439</td>\n",
       "      <td>google</td>\n",
       "    </tr>\n",
       "  </tbody>\n",
       "</table>\n",
       "</div>"
      ],
      "text/plain": [
       "                                 userId  source\n",
       "0  020292ab-89bc-4156-9acf-68bc2783f894   other\n",
       "1  cf7eda61-9349-469f-ac27-e5b6f5ec475c  yandex\n",
       "2  8c356c42-3ba9-4cb6-80b8-3f868d0192c3  yandex\n",
       "3  d9b06b47-0f36-419b-bbb0-3533e582a6cb   other\n",
       "4  f32e1e2a-3027-4693-b793-b7b3ff274439  google"
      ]
     },
     "metadata": {},
     "output_type": "display_data"
    },
    {
     "name": "stdout",
     "output_type": "stream",
     "text": [
      "<class 'pandas.core.frame.DataFrame'>\n",
      "RangeIndex: 4293 entries, 0 to 4292\n",
      "Data columns (total 2 columns):\n",
      " #   Column  Non-Null Count  Dtype \n",
      "---  ------  --------------  ----- \n",
      " 0   userId  4293 non-null   object\n",
      " 1   source  4293 non-null   object\n",
      "dtypes: object(2)\n",
      "memory usage: 67.2+ KB\n",
      "None\n"
     ]
    }
   ],
   "source": [
    "# первое впечатление о данных \n",
    "for i in [data, sources]:\n",
    "    display(i.head())\n",
    "    print(i.info())"
   ]
  },
  {
   "cell_type": "markdown",
   "id": "fc424f7f",
   "metadata": {},
   "source": [
    "А теперь на пропуски и дубликаты:"
   ]
  },
  {
   "cell_type": "code",
   "execution_count": 48,
   "id": "53f7d62d",
   "metadata": {},
   "outputs": [
    {
     "name": "stdout",
     "output_type": "stream",
     "text": [
      "event.time    0\n",
      "event.name    0\n",
      "user.id       0\n",
      "dtype: int64\n",
      "userId    0\n",
      "source    0\n",
      "dtype: int64\n"
     ]
    }
   ],
   "source": [
    "# пропуски\n",
    "for i in [data, sources]:\n",
    "    print(i.isna().sum())"
   ]
  },
  {
   "cell_type": "code",
   "execution_count": 49,
   "id": "7f1dabf0",
   "metadata": {},
   "outputs": [
    {
     "name": "stdout",
     "output_type": "stream",
     "text": [
      "0\n",
      "0\n"
     ]
    }
   ],
   "source": [
    "# дубликаты\n",
    "for df in [data, sources]:\n",
    "    print(df.duplicated().sum())"
   ]
  },
  {
   "cell_type": "markdown",
   "id": "dc1ec1a8",
   "metadata": {},
   "source": [
    "# Предобработка данных\n",
    "Поменяем названия столбцов для удобства, отыщем проблемы в данных и решим их, например, contacts_show  и  show_contacts обозначают одно действие. Опишем данные, что в них входит, какие значения что означают."
   ]
  },
  {
   "cell_type": "markdown",
   "id": "5499ee2a",
   "metadata": {},
   "source": [
    "В датасете содержатся данные пользователей, впервые совершивших действия в приложении после 7 октября 2019 года.\n",
    "Датасет mobile_dataset.csv содержит колонки:\n",
    "- event.time  — время совершения\n",
    "- event.name  — название события\n",
    "- user.id  — идентификатор пользователя\n",
    "\n",
    "Датасет mobile_sources.csv содержит колонки:\n",
    "- userId  — идентификатор пользователя\n",
    "- source  — источник, с которого пользователь установил приложение\n",
    "\n",
    "Расшифровки событий:\n",
    "- advert_open  — открытие карточки объявления\n",
    "- photos_show  — просмотр фотографий в объявлении\n",
    "- tips_show  — пользователь увидел рекомендованные объявления\n",
    "- tips_click  — пользователь кликнул по рекомендованному объявлению\n",
    "- contacts_show  и  show_contacts  — пользователь нажал на кнопку \"посмотреть номер телефона\" на карточке объявления\n",
    "- contacts_call  — пользователь позвонил по номеру телефона на карточке объявления\n",
    "- map  — пользователь открыл карту размещенных объявлений\n",
    "- search_1 - search_7  — разные события, связанные с поиском по сайту\n",
    "- favorites_add  — добавление объявления в избранное\n",
    "\n",
    "Переименуем столбцы:"
   ]
  },
  {
   "cell_type": "code",
   "execution_count": 50,
   "id": "f6055f00",
   "metadata": {},
   "outputs": [
    {
     "data": {
      "text/html": [
       "<div>\n",
       "<style scoped>\n",
       "    .dataframe tbody tr th:only-of-type {\n",
       "        vertical-align: middle;\n",
       "    }\n",
       "\n",
       "    .dataframe tbody tr th {\n",
       "        vertical-align: top;\n",
       "    }\n",
       "\n",
       "    .dataframe thead th {\n",
       "        text-align: right;\n",
       "    }\n",
       "</style>\n",
       "<table border=\"1\" class=\"dataframe\">\n",
       "  <thead>\n",
       "    <tr style=\"text-align: right;\">\n",
       "      <th></th>\n",
       "      <th>event_time</th>\n",
       "      <th>event_name</th>\n",
       "      <th>user_id</th>\n",
       "    </tr>\n",
       "  </thead>\n",
       "  <tbody>\n",
       "    <tr>\n",
       "      <th>0</th>\n",
       "      <td>2019-10-07 00:00:00.431357</td>\n",
       "      <td>advert_open</td>\n",
       "      <td>020292ab-89bc-4156-9acf-68bc2783f894</td>\n",
       "    </tr>\n",
       "    <tr>\n",
       "      <th>1</th>\n",
       "      <td>2019-10-07 00:00:01.236320</td>\n",
       "      <td>tips_show</td>\n",
       "      <td>020292ab-89bc-4156-9acf-68bc2783f894</td>\n",
       "    </tr>\n",
       "    <tr>\n",
       "      <th>2</th>\n",
       "      <td>2019-10-07 00:00:02.245341</td>\n",
       "      <td>tips_show</td>\n",
       "      <td>cf7eda61-9349-469f-ac27-e5b6f5ec475c</td>\n",
       "    </tr>\n",
       "    <tr>\n",
       "      <th>3</th>\n",
       "      <td>2019-10-07 00:00:07.039334</td>\n",
       "      <td>tips_show</td>\n",
       "      <td>020292ab-89bc-4156-9acf-68bc2783f894</td>\n",
       "    </tr>\n",
       "    <tr>\n",
       "      <th>4</th>\n",
       "      <td>2019-10-07 00:00:56.319813</td>\n",
       "      <td>advert_open</td>\n",
       "      <td>cf7eda61-9349-469f-ac27-e5b6f5ec475c</td>\n",
       "    </tr>\n",
       "  </tbody>\n",
       "</table>\n",
       "</div>"
      ],
      "text/plain": [
       "                   event_time   event_name  \\\n",
       "0  2019-10-07 00:00:00.431357  advert_open   \n",
       "1  2019-10-07 00:00:01.236320    tips_show   \n",
       "2  2019-10-07 00:00:02.245341    tips_show   \n",
       "3  2019-10-07 00:00:07.039334    tips_show   \n",
       "4  2019-10-07 00:00:56.319813  advert_open   \n",
       "\n",
       "                                user_id  \n",
       "0  020292ab-89bc-4156-9acf-68bc2783f894  \n",
       "1  020292ab-89bc-4156-9acf-68bc2783f894  \n",
       "2  cf7eda61-9349-469f-ac27-e5b6f5ec475c  \n",
       "3  020292ab-89bc-4156-9acf-68bc2783f894  \n",
       "4  cf7eda61-9349-469f-ac27-e5b6f5ec475c  "
      ]
     },
     "metadata": {},
     "output_type": "display_data"
    },
    {
     "data": {
      "text/html": [
       "<div>\n",
       "<style scoped>\n",
       "    .dataframe tbody tr th:only-of-type {\n",
       "        vertical-align: middle;\n",
       "    }\n",
       "\n",
       "    .dataframe tbody tr th {\n",
       "        vertical-align: top;\n",
       "    }\n",
       "\n",
       "    .dataframe thead th {\n",
       "        text-align: right;\n",
       "    }\n",
       "</style>\n",
       "<table border=\"1\" class=\"dataframe\">\n",
       "  <thead>\n",
       "    <tr style=\"text-align: right;\">\n",
       "      <th></th>\n",
       "      <th>user_id</th>\n",
       "      <th>source</th>\n",
       "    </tr>\n",
       "  </thead>\n",
       "  <tbody>\n",
       "    <tr>\n",
       "      <th>0</th>\n",
       "      <td>020292ab-89bc-4156-9acf-68bc2783f894</td>\n",
       "      <td>other</td>\n",
       "    </tr>\n",
       "    <tr>\n",
       "      <th>1</th>\n",
       "      <td>cf7eda61-9349-469f-ac27-e5b6f5ec475c</td>\n",
       "      <td>yandex</td>\n",
       "    </tr>\n",
       "    <tr>\n",
       "      <th>2</th>\n",
       "      <td>8c356c42-3ba9-4cb6-80b8-3f868d0192c3</td>\n",
       "      <td>yandex</td>\n",
       "    </tr>\n",
       "    <tr>\n",
       "      <th>3</th>\n",
       "      <td>d9b06b47-0f36-419b-bbb0-3533e582a6cb</td>\n",
       "      <td>other</td>\n",
       "    </tr>\n",
       "    <tr>\n",
       "      <th>4</th>\n",
       "      <td>f32e1e2a-3027-4693-b793-b7b3ff274439</td>\n",
       "      <td>google</td>\n",
       "    </tr>\n",
       "  </tbody>\n",
       "</table>\n",
       "</div>"
      ],
      "text/plain": [
       "                                user_id  source\n",
       "0  020292ab-89bc-4156-9acf-68bc2783f894   other\n",
       "1  cf7eda61-9349-469f-ac27-e5b6f5ec475c  yandex\n",
       "2  8c356c42-3ba9-4cb6-80b8-3f868d0192c3  yandex\n",
       "3  d9b06b47-0f36-419b-bbb0-3533e582a6cb   other\n",
       "4  f32e1e2a-3027-4693-b793-b7b3ff274439  google"
      ]
     },
     "metadata": {},
     "output_type": "display_data"
    }
   ],
   "source": [
    "# меняем названия столбцов\n",
    "data.columns = ['event_time', 'event_name', 'user_id']\n",
    "sources.columns = ['user_id', 'source']\n",
    "for i in [data, sources]:\n",
    "    display(i.head())"
   ]
  },
  {
   "cell_type": "markdown",
   "id": "90d6b249",
   "metadata": {},
   "source": [
    "Приведем столбец event_time к формату даты и округлим данные до 1 секунды:"
   ]
  },
  {
   "cell_type": "code",
   "execution_count": 51,
   "id": "125d5ca6",
   "metadata": {},
   "outputs": [
    {
     "data": {
      "text/html": [
       "<div>\n",
       "<style scoped>\n",
       "    .dataframe tbody tr th:only-of-type {\n",
       "        vertical-align: middle;\n",
       "    }\n",
       "\n",
       "    .dataframe tbody tr th {\n",
       "        vertical-align: top;\n",
       "    }\n",
       "\n",
       "    .dataframe thead th {\n",
       "        text-align: right;\n",
       "    }\n",
       "</style>\n",
       "<table border=\"1\" class=\"dataframe\">\n",
       "  <thead>\n",
       "    <tr style=\"text-align: right;\">\n",
       "      <th></th>\n",
       "      <th>event_time</th>\n",
       "      <th>event_name</th>\n",
       "      <th>user_id</th>\n",
       "    </tr>\n",
       "  </thead>\n",
       "  <tbody>\n",
       "    <tr>\n",
       "      <th>0</th>\n",
       "      <td>2019-10-07 00:00:00</td>\n",
       "      <td>advert_open</td>\n",
       "      <td>020292ab-89bc-4156-9acf-68bc2783f894</td>\n",
       "    </tr>\n",
       "    <tr>\n",
       "      <th>1</th>\n",
       "      <td>2019-10-07 00:00:01</td>\n",
       "      <td>tips_show</td>\n",
       "      <td>020292ab-89bc-4156-9acf-68bc2783f894</td>\n",
       "    </tr>\n",
       "    <tr>\n",
       "      <th>2</th>\n",
       "      <td>2019-10-07 00:00:02</td>\n",
       "      <td>tips_show</td>\n",
       "      <td>cf7eda61-9349-469f-ac27-e5b6f5ec475c</td>\n",
       "    </tr>\n",
       "    <tr>\n",
       "      <th>3</th>\n",
       "      <td>2019-10-07 00:00:07</td>\n",
       "      <td>tips_show</td>\n",
       "      <td>020292ab-89bc-4156-9acf-68bc2783f894</td>\n",
       "    </tr>\n",
       "    <tr>\n",
       "      <th>4</th>\n",
       "      <td>2019-10-07 00:00:56</td>\n",
       "      <td>advert_open</td>\n",
       "      <td>cf7eda61-9349-469f-ac27-e5b6f5ec475c</td>\n",
       "    </tr>\n",
       "  </tbody>\n",
       "</table>\n",
       "</div>"
      ],
      "text/plain": [
       "           event_time   event_name                               user_id\n",
       "0 2019-10-07 00:00:00  advert_open  020292ab-89bc-4156-9acf-68bc2783f894\n",
       "1 2019-10-07 00:00:01    tips_show  020292ab-89bc-4156-9acf-68bc2783f894\n",
       "2 2019-10-07 00:00:02    tips_show  cf7eda61-9349-469f-ac27-e5b6f5ec475c\n",
       "3 2019-10-07 00:00:07    tips_show  020292ab-89bc-4156-9acf-68bc2783f894\n",
       "4 2019-10-07 00:00:56  advert_open  cf7eda61-9349-469f-ac27-e5b6f5ec475c"
      ]
     },
     "execution_count": 51,
     "metadata": {},
     "output_type": "execute_result"
    }
   ],
   "source": [
    "# приведем столбец event_time к формату даты и округлим данные до 1 секунды\n",
    "data['event_time'] = pd.to_datetime(data['event_time'], format='%Y.%m.%d %H:%M:%S').dt.round('1S')\n",
    "data.head()"
   ]
  },
  {
   "cell_type": "markdown",
   "id": "8e886005",
   "metadata": {},
   "source": [
    "Проверим кол-во пользователей в датасетах и склеим их по столбцу 'user_id':"
   ]
  },
  {
   "cell_type": "code",
   "execution_count": 52,
   "id": "a8b989bb",
   "metadata": {},
   "outputs": [
    {
     "data": {
      "text/plain": [
       "4293"
      ]
     },
     "metadata": {},
     "output_type": "display_data"
    },
    {
     "data": {
      "text/plain": [
       "4293"
      ]
     },
     "metadata": {},
     "output_type": "display_data"
    }
   ],
   "source": [
    "for i in [data, sources]:\n",
    "    display(len(i['user_id'].unique()))"
   ]
  },
  {
   "cell_type": "code",
   "execution_count": 53,
   "id": "cb3298a8",
   "metadata": {},
   "outputs": [
    {
     "data": {
      "text/html": [
       "<div>\n",
       "<style scoped>\n",
       "    .dataframe tbody tr th:only-of-type {\n",
       "        vertical-align: middle;\n",
       "    }\n",
       "\n",
       "    .dataframe tbody tr th {\n",
       "        vertical-align: top;\n",
       "    }\n",
       "\n",
       "    .dataframe thead th {\n",
       "        text-align: right;\n",
       "    }\n",
       "</style>\n",
       "<table border=\"1\" class=\"dataframe\">\n",
       "  <thead>\n",
       "    <tr style=\"text-align: right;\">\n",
       "      <th></th>\n",
       "      <th>event_time</th>\n",
       "      <th>event_name</th>\n",
       "      <th>user_id</th>\n",
       "      <th>source</th>\n",
       "    </tr>\n",
       "  </thead>\n",
       "  <tbody>\n",
       "    <tr>\n",
       "      <th>0</th>\n",
       "      <td>2019-10-07 00:00:00</td>\n",
       "      <td>advert_open</td>\n",
       "      <td>020292ab-89bc-4156-9acf-68bc2783f894</td>\n",
       "      <td>other</td>\n",
       "    </tr>\n",
       "    <tr>\n",
       "      <th>1</th>\n",
       "      <td>2019-10-07 00:00:01</td>\n",
       "      <td>tips_show</td>\n",
       "      <td>020292ab-89bc-4156-9acf-68bc2783f894</td>\n",
       "      <td>other</td>\n",
       "    </tr>\n",
       "    <tr>\n",
       "      <th>2</th>\n",
       "      <td>2019-10-07 00:00:07</td>\n",
       "      <td>tips_show</td>\n",
       "      <td>020292ab-89bc-4156-9acf-68bc2783f894</td>\n",
       "      <td>other</td>\n",
       "    </tr>\n",
       "    <tr>\n",
       "      <th>3</th>\n",
       "      <td>2019-10-07 00:01:28</td>\n",
       "      <td>advert_open</td>\n",
       "      <td>020292ab-89bc-4156-9acf-68bc2783f894</td>\n",
       "      <td>other</td>\n",
       "    </tr>\n",
       "    <tr>\n",
       "      <th>4</th>\n",
       "      <td>2019-10-07 00:01:35</td>\n",
       "      <td>tips_show</td>\n",
       "      <td>020292ab-89bc-4156-9acf-68bc2783f894</td>\n",
       "      <td>other</td>\n",
       "    </tr>\n",
       "  </tbody>\n",
       "</table>\n",
       "</div>"
      ],
      "text/plain": [
       "           event_time   event_name                               user_id  \\\n",
       "0 2019-10-07 00:00:00  advert_open  020292ab-89bc-4156-9acf-68bc2783f894   \n",
       "1 2019-10-07 00:00:01    tips_show  020292ab-89bc-4156-9acf-68bc2783f894   \n",
       "2 2019-10-07 00:00:07    tips_show  020292ab-89bc-4156-9acf-68bc2783f894   \n",
       "3 2019-10-07 00:01:28  advert_open  020292ab-89bc-4156-9acf-68bc2783f894   \n",
       "4 2019-10-07 00:01:35    tips_show  020292ab-89bc-4156-9acf-68bc2783f894   \n",
       "\n",
       "  source  \n",
       "0  other  \n",
       "1  other  \n",
       "2  other  \n",
       "3  other  \n",
       "4  other  "
      ]
     },
     "execution_count": 53,
     "metadata": {},
     "output_type": "execute_result"
    }
   ],
   "source": [
    "data = data.merge(sources, on='user_id', how = 'right')\n",
    "data.head()"
   ]
  },
  {
   "cell_type": "markdown",
   "id": "3ec79355",
   "metadata": {},
   "source": [
    "Теперь заменим  значения contacts_show и show_contacts, а также seacrh_7 и seacrh_1:"
   ]
  },
  {
   "cell_type": "code",
   "execution_count": 54,
   "id": "84858515",
   "metadata": {
    "scrolled": true
   },
   "outputs": [
    {
     "data": {
      "text/plain": [
       "array(['advert_open', 'tips_show', 'map', 'tips_click', 'search',\n",
       "       'contacts_show', 'photos_show', 'favorites_add', 'contacts_call'],\n",
       "      dtype=object)"
      ]
     },
     "execution_count": 54,
     "metadata": {},
     "output_type": "execute_result"
    }
   ],
   "source": [
    "# функция для замены\n",
    "def events_type(i):\n",
    "    if i == 'show_contacts':\n",
    "        new_name = 'contacts_show'\n",
    "        return new_name\n",
    "    elif 'search' in i:\n",
    "        new_name = 'search'\n",
    "        return new_name\n",
    "    return i\n",
    "\n",
    "# применим фукнцию и проверим результат\n",
    "data['event_name'] = data['event_name'].apply(events_type)\n",
    "data['event_name'].unique()"
   ]
  },
  {
   "cell_type": "markdown",
   "id": "0ce3dd7d",
   "metadata": {},
   "source": [
    "Выделим из столбцов с датами час, неделю, месяц, год и полную дату в отдельные столбцы:"
   ]
  },
  {
   "cell_type": "code",
   "execution_count": 55,
   "id": "6f02ea29",
   "metadata": {},
   "outputs": [
    {
     "data": {
      "text/html": [
       "<div>\n",
       "<style scoped>\n",
       "    .dataframe tbody tr th:only-of-type {\n",
       "        vertical-align: middle;\n",
       "    }\n",
       "\n",
       "    .dataframe tbody tr th {\n",
       "        vertical-align: top;\n",
       "    }\n",
       "\n",
       "    .dataframe thead th {\n",
       "        text-align: right;\n",
       "    }\n",
       "</style>\n",
       "<table border=\"1\" class=\"dataframe\">\n",
       "  <thead>\n",
       "    <tr style=\"text-align: right;\">\n",
       "      <th></th>\n",
       "      <th>event_time</th>\n",
       "      <th>event_name</th>\n",
       "      <th>user_id</th>\n",
       "      <th>source</th>\n",
       "      <th>event_hour</th>\n",
       "      <th>event_week</th>\n",
       "      <th>event_month</th>\n",
       "      <th>event_year</th>\n",
       "      <th>event_date</th>\n",
       "    </tr>\n",
       "  </thead>\n",
       "  <tbody>\n",
       "    <tr>\n",
       "      <th>0</th>\n",
       "      <td>2019-10-07 00:00:00</td>\n",
       "      <td>advert_open</td>\n",
       "      <td>020292ab-89bc-4156-9acf-68bc2783f894</td>\n",
       "      <td>other</td>\n",
       "      <td>0</td>\n",
       "      <td>2019-10-03</td>\n",
       "      <td>2019-10-01</td>\n",
       "      <td>2019-01-01</td>\n",
       "      <td>2019-10-07</td>\n",
       "    </tr>\n",
       "    <tr>\n",
       "      <th>1</th>\n",
       "      <td>2019-10-07 00:00:01</td>\n",
       "      <td>tips_show</td>\n",
       "      <td>020292ab-89bc-4156-9acf-68bc2783f894</td>\n",
       "      <td>other</td>\n",
       "      <td>0</td>\n",
       "      <td>2019-10-03</td>\n",
       "      <td>2019-10-01</td>\n",
       "      <td>2019-01-01</td>\n",
       "      <td>2019-10-07</td>\n",
       "    </tr>\n",
       "    <tr>\n",
       "      <th>2</th>\n",
       "      <td>2019-10-07 00:00:07</td>\n",
       "      <td>tips_show</td>\n",
       "      <td>020292ab-89bc-4156-9acf-68bc2783f894</td>\n",
       "      <td>other</td>\n",
       "      <td>0</td>\n",
       "      <td>2019-10-03</td>\n",
       "      <td>2019-10-01</td>\n",
       "      <td>2019-01-01</td>\n",
       "      <td>2019-10-07</td>\n",
       "    </tr>\n",
       "    <tr>\n",
       "      <th>3</th>\n",
       "      <td>2019-10-07 00:01:28</td>\n",
       "      <td>advert_open</td>\n",
       "      <td>020292ab-89bc-4156-9acf-68bc2783f894</td>\n",
       "      <td>other</td>\n",
       "      <td>0</td>\n",
       "      <td>2019-10-03</td>\n",
       "      <td>2019-10-01</td>\n",
       "      <td>2019-01-01</td>\n",
       "      <td>2019-10-07</td>\n",
       "    </tr>\n",
       "    <tr>\n",
       "      <th>4</th>\n",
       "      <td>2019-10-07 00:01:35</td>\n",
       "      <td>tips_show</td>\n",
       "      <td>020292ab-89bc-4156-9acf-68bc2783f894</td>\n",
       "      <td>other</td>\n",
       "      <td>0</td>\n",
       "      <td>2019-10-03</td>\n",
       "      <td>2019-10-01</td>\n",
       "      <td>2019-01-01</td>\n",
       "      <td>2019-10-07</td>\n",
       "    </tr>\n",
       "  </tbody>\n",
       "</table>\n",
       "</div>"
      ],
      "text/plain": [
       "           event_time   event_name                               user_id  \\\n",
       "0 2019-10-07 00:00:00  advert_open  020292ab-89bc-4156-9acf-68bc2783f894   \n",
       "1 2019-10-07 00:00:01    tips_show  020292ab-89bc-4156-9acf-68bc2783f894   \n",
       "2 2019-10-07 00:00:07    tips_show  020292ab-89bc-4156-9acf-68bc2783f894   \n",
       "3 2019-10-07 00:01:28  advert_open  020292ab-89bc-4156-9acf-68bc2783f894   \n",
       "4 2019-10-07 00:01:35    tips_show  020292ab-89bc-4156-9acf-68bc2783f894   \n",
       "\n",
       "  source  event_hour event_week event_month event_year event_date  \n",
       "0  other           0 2019-10-03  2019-10-01 2019-01-01 2019-10-07  \n",
       "1  other           0 2019-10-03  2019-10-01 2019-01-01 2019-10-07  \n",
       "2  other           0 2019-10-03  2019-10-01 2019-01-01 2019-10-07  \n",
       "3  other           0 2019-10-03  2019-10-01 2019-01-01 2019-10-07  \n",
       "4  other           0 2019-10-03  2019-10-01 2019-01-01 2019-10-07  "
      ]
     },
     "execution_count": 55,
     "metadata": {},
     "output_type": "execute_result"
    }
   ],
   "source": [
    "data['event_hour'] = data['event_time'].dt.hour\n",
    "data['event_week'] = data['event_time'].astype('datetime64[W]')\n",
    "data['event_month'] = data['event_time'].astype('datetime64[M]')\n",
    "data['event_year'] = data['event_time'].astype('datetime64[Y]')\n",
    "data['event_date'] = data['event_time'].astype('datetime64[D]')\n",
    "data.head()"
   ]
  },
  {
   "cell_type": "markdown",
   "id": "e4283659",
   "metadata": {},
   "source": [
    "# Исследовательский анализ данных\n",
    "Посмотрим, сколько раз было совершено каждое действие:"
   ]
  },
  {
   "cell_type": "code",
   "execution_count": 56,
   "id": "c7171faf",
   "metadata": {},
   "outputs": [
    {
     "data": {
      "text/html": [
       "<div>\n",
       "<style scoped>\n",
       "    .dataframe tbody tr th:only-of-type {\n",
       "        vertical-align: middle;\n",
       "    }\n",
       "\n",
       "    .dataframe tbody tr th {\n",
       "        vertical-align: top;\n",
       "    }\n",
       "\n",
       "    .dataframe thead th {\n",
       "        text-align: right;\n",
       "    }\n",
       "</style>\n",
       "<table border=\"1\" class=\"dataframe\">\n",
       "  <thead>\n",
       "    <tr style=\"text-align: right;\">\n",
       "      <th></th>\n",
       "      <th>user_id</th>\n",
       "    </tr>\n",
       "    <tr>\n",
       "      <th>event_name</th>\n",
       "      <th></th>\n",
       "    </tr>\n",
       "  </thead>\n",
       "  <tbody>\n",
       "    <tr>\n",
       "      <th>tips_show</th>\n",
       "      <td>40055</td>\n",
       "    </tr>\n",
       "    <tr>\n",
       "      <th>photos_show</th>\n",
       "      <td>10012</td>\n",
       "    </tr>\n",
       "    <tr>\n",
       "      <th>search</th>\n",
       "      <td>6784</td>\n",
       "    </tr>\n",
       "    <tr>\n",
       "      <th>advert_open</th>\n",
       "      <td>6164</td>\n",
       "    </tr>\n",
       "    <tr>\n",
       "      <th>contacts_show</th>\n",
       "      <td>4529</td>\n",
       "    </tr>\n",
       "    <tr>\n",
       "      <th>map</th>\n",
       "      <td>3881</td>\n",
       "    </tr>\n",
       "    <tr>\n",
       "      <th>favorites_add</th>\n",
       "      <td>1417</td>\n",
       "    </tr>\n",
       "    <tr>\n",
       "      <th>tips_click</th>\n",
       "      <td>814</td>\n",
       "    </tr>\n",
       "    <tr>\n",
       "      <th>contacts_call</th>\n",
       "      <td>541</td>\n",
       "    </tr>\n",
       "  </tbody>\n",
       "</table>\n",
       "</div>"
      ],
      "text/plain": [
       "               user_id\n",
       "event_name            \n",
       "tips_show        40055\n",
       "photos_show      10012\n",
       "search            6784\n",
       "advert_open       6164\n",
       "contacts_show     4529\n",
       "map               3881\n",
       "favorites_add     1417\n",
       "tips_click         814\n",
       "contacts_call      541"
      ]
     },
     "execution_count": 56,
     "metadata": {},
     "output_type": "execute_result"
    }
   ],
   "source": [
    "data.groupby('event_name').agg({'user_id' : 'count'}).sort_values(by='user_id', ascending=False)"
   ]
  },
  {
   "cell_type": "markdown",
   "id": "1aacc477",
   "metadata": {},
   "source": [
    "Посмотрим на количество пользователей, пришедших из каждого источника:"
   ]
  },
  {
   "cell_type": "code",
   "execution_count": 57,
   "id": "c9e01260",
   "metadata": {},
   "outputs": [
    {
     "data": {
      "text/html": [
       "<div>\n",
       "<style scoped>\n",
       "    .dataframe tbody tr th:only-of-type {\n",
       "        vertical-align: middle;\n",
       "    }\n",
       "\n",
       "    .dataframe tbody tr th {\n",
       "        vertical-align: top;\n",
       "    }\n",
       "\n",
       "    .dataframe thead th {\n",
       "        text-align: right;\n",
       "    }\n",
       "</style>\n",
       "<table border=\"1\" class=\"dataframe\">\n",
       "  <thead>\n",
       "    <tr style=\"text-align: right;\">\n",
       "      <th></th>\n",
       "      <th>user_id</th>\n",
       "    </tr>\n",
       "    <tr>\n",
       "      <th>source</th>\n",
       "      <th></th>\n",
       "    </tr>\n",
       "  </thead>\n",
       "  <tbody>\n",
       "    <tr>\n",
       "      <th>yandex</th>\n",
       "      <td>1934</td>\n",
       "    </tr>\n",
       "    <tr>\n",
       "      <th>other</th>\n",
       "      <td>1230</td>\n",
       "    </tr>\n",
       "    <tr>\n",
       "      <th>google</th>\n",
       "      <td>1129</td>\n",
       "    </tr>\n",
       "  </tbody>\n",
       "</table>\n",
       "</div>"
      ],
      "text/plain": [
       "        user_id\n",
       "source         \n",
       "yandex     1934\n",
       "other      1230\n",
       "google     1129"
      ]
     },
     "execution_count": 57,
     "metadata": {},
     "output_type": "execute_result"
    }
   ],
   "source": [
    "data.groupby('source').agg({'user_id' : 'nunique'}).sort_values(by='user_id', ascending=False)"
   ]
  },
  {
   "cell_type": "markdown",
   "id": "f59121cd",
   "metadata": {},
   "source": [
    "Данными за какой период мы обладаем:"
   ]
  },
  {
   "cell_type": "code",
   "execution_count": 58,
   "id": "a69ead0f",
   "metadata": {},
   "outputs": [
    {
     "name": "stdout",
     "output_type": "stream",
     "text": [
      "У нас события за период с 2019-10-07 по 2019-11-03\n"
     ]
    }
   ],
   "source": [
    "print(f'У нас события за период с {data[\"event_date\"].min().date()} по {data[\"event_date\"].max().date()}')"
   ]
  },
  {
   "cell_type": "markdown",
   "id": "2f5d0708",
   "metadata": {},
   "source": [
    "Посчитаем количество событий по дням для каждого пользователя и построим график распределения событий по дням:"
   ]
  },
  {
   "cell_type": "code",
   "execution_count": 59,
   "id": "2e50eb16",
   "metadata": {},
   "outputs": [
    {
     "data": {
      "text/html": [
       "<div>\n",
       "<style scoped>\n",
       "    .dataframe tbody tr th:only-of-type {\n",
       "        vertical-align: middle;\n",
       "    }\n",
       "\n",
       "    .dataframe tbody tr th {\n",
       "        vertical-align: top;\n",
       "    }\n",
       "\n",
       "    .dataframe thead th {\n",
       "        text-align: right;\n",
       "    }\n",
       "</style>\n",
       "<table border=\"1\" class=\"dataframe\">\n",
       "  <thead>\n",
       "    <tr style=\"text-align: right;\">\n",
       "      <th></th>\n",
       "      <th>event_date</th>\n",
       "      <th>user_id</th>\n",
       "    </tr>\n",
       "  </thead>\n",
       "  <tbody>\n",
       "    <tr>\n",
       "      <th>0</th>\n",
       "      <td>2019-10-07</td>\n",
       "      <td>2545</td>\n",
       "    </tr>\n",
       "    <tr>\n",
       "      <th>1</th>\n",
       "      <td>2019-10-08</td>\n",
       "      <td>2499</td>\n",
       "    </tr>\n",
       "    <tr>\n",
       "      <th>2</th>\n",
       "      <td>2019-10-09</td>\n",
       "      <td>2027</td>\n",
       "    </tr>\n",
       "    <tr>\n",
       "      <th>3</th>\n",
       "      <td>2019-10-10</td>\n",
       "      <td>2243</td>\n",
       "    </tr>\n",
       "    <tr>\n",
       "      <th>4</th>\n",
       "      <td>2019-10-11</td>\n",
       "      <td>2030</td>\n",
       "    </tr>\n",
       "  </tbody>\n",
       "</table>\n",
       "</div>"
      ],
      "text/plain": [
       "  event_date  user_id\n",
       "0 2019-10-07     2545\n",
       "1 2019-10-08     2499\n",
       "2 2019-10-09     2027\n",
       "3 2019-10-10     2243\n",
       "4 2019-10-11     2030"
      ]
     },
     "metadata": {},
     "output_type": "display_data"
    },
    {
     "data": {
      "image/png": "[encoded data removed]",
      "text/plain": [
       "<Figure size 1152x576 with 1 Axes>"
      ]
     },
     "metadata": {},
     "output_type": "display_data"
    }
   ],
   "source": [
    "events_by_day = data.groupby('event_date', as_index=False).agg({'user_id':'count'})\n",
    "display(events_by_day.head())\n",
    "plt.figure(figsize=(16, 8))\n",
    "plt.bar(events_by_day['event_date'], events_by_day['user_id'])\n",
    "plt.xlabel('Дата')\n",
    "plt.ylabel('Количество событий')\n",
    "plt.title('Распределение событий по дням')\n",
    "plt.xticks(rotation=45)\n",
    "plt.grid(True)\n",
    "plt.show();"
   ]
  },
  {
   "cell_type": "markdown",
   "id": "98e90004",
   "metadata": {},
   "source": [
    "Таким образом у нас есть:\n",
    "- данные за период с 07.10.2019 по 03.11.2019\n",
    "\n",
    "Условно данные можно разбить на 4 недели:\n",
    "- 1 неделя - с 07.10.2019 по 13.10.2019\n",
    "- 2 неделя - с 14.10.2019 по 20.10.2019\n",
    "- 3 неделя - с 21.10.2019 по 27.10.2019\n",
    "- 4 неделя - с 28.10.2019 по 03.11.2019\n",
    "\n",
    "Больше всего событий совершено 23.10.2019 - чуть меньше 3500 событий;\n",
    "Меньше всего событий совершено 12.12.2019 - чуть меньше 2000 событий;\n",
    "Намечается тенденция: просадки происходят в выходные дни - 12.10.2019 и 02.11.2019 - оба эти дня приходятся на субботу, в последние выходные дни октября активность больше, чем в остальные выходные. Вероятно, это связано с получением пользователями зарплаты или премии, и желанием потратить эти средства на новые вещи.\n",
    "В целом, данные распределены равномерно, аномалий нет.\n",
    "\n",
    "Теперь посмотрим на график накопительного распределения количества событий по дням на каждый источник:"
   ]
  },
  {
   "cell_type": "code",
   "execution_count": 60,
   "id": "e38ea486",
   "metadata": {},
   "outputs": [
    {
     "data": {
      "image/png": "[encoded data removed]",
      "text/plain": [
       "<Figure size 1152x576 with 1 Axes>"
      ]
     },
     "metadata": {},
     "output_type": "display_data"
    }
   ],
   "source": [
    "yandex_by_day = data.query('source == \"yandex\"')\\\n",
    ".groupby('event_date', as_index=False).agg({'user_id':'count'})\n",
    "\n",
    "google_by_day = data.query('source == \"google\"')\\\n",
    ".groupby('event_date', as_index=False).agg({'user_id':'count'})\n",
    "\n",
    "other_by_day = data.query('source == \"other\"')\\\n",
    ".groupby('event_date', as_index=False).agg({'user_id':'count'})\n",
    "\n",
    "plt.figure(figsize=(16, 8))\n",
    "plt.bar(yandex_by_day['event_date'], yandex_by_day['user_id'])\n",
    "plt.bar(google_by_day['event_date'], google_by_day['user_id'])\n",
    "plt.bar(other_by_day['event_date'], other_by_day['user_id'])\n",
    "plt.title('Распеределение событий по дням и по каждому источнику')\n",
    "plt.xlabel('Дата')\n",
    "plt.ylabel('Количество событий')\n",
    "plt.legend(['Яндекс', 'Google', 'Другие'])\n",
    "plt.xticks(rotation=45)\n",
    "plt.show();"
   ]
  },
  {
   "cell_type": "markdown",
   "id": "c9e57b42",
   "metadata": {},
   "source": [
    "Визуально можно сказать, что неизвестные источники более популярны среди пользователей совершающие действия в нашем приложении. Из известных источников больше всего событий совершают пользователи, пришедшие через Яндекс. Распределение в целом очень похоже на распределение без разбивки по источникам.\n",
    "\n",
    "Посмотрим на распредения событий по дням:"
   ]
  },
  {
   "cell_type": "code",
   "execution_count": 61,
   "id": "d4995cf8",
   "metadata": {},
   "outputs": [
    {
     "data": {
      "text/html": [
       "<div>\n",
       "<style scoped>\n",
       "    .dataframe tbody tr th:only-of-type {\n",
       "        vertical-align: middle;\n",
       "    }\n",
       "\n",
       "    .dataframe tbody tr th {\n",
       "        vertical-align: top;\n",
       "    }\n",
       "\n",
       "    .dataframe thead th {\n",
       "        text-align: right;\n",
       "    }\n",
       "</style>\n",
       "<table border=\"1\" class=\"dataframe\">\n",
       "  <thead>\n",
       "    <tr style=\"text-align: right;\">\n",
       "      <th></th>\n",
       "      <th>week_day</th>\n",
       "      <th>event_time</th>\n",
       "    </tr>\n",
       "  </thead>\n",
       "  <tbody>\n",
       "    <tr>\n",
       "      <th>1</th>\n",
       "      <td>Monday</td>\n",
       "      <td>11671</td>\n",
       "    </tr>\n",
       "    <tr>\n",
       "      <th>5</th>\n",
       "      <td>Tuesday</td>\n",
       "      <td>11145</td>\n",
       "    </tr>\n",
       "    <tr>\n",
       "      <th>6</th>\n",
       "      <td>Wednesday</td>\n",
       "      <td>10994</td>\n",
       "    </tr>\n",
       "    <tr>\n",
       "      <th>4</th>\n",
       "      <td>Thursday</td>\n",
       "      <td>10763</td>\n",
       "    </tr>\n",
       "    <tr>\n",
       "      <th>3</th>\n",
       "      <td>Sunday</td>\n",
       "      <td>10501</td>\n",
       "    </tr>\n",
       "    <tr>\n",
       "      <th>0</th>\n",
       "      <td>Friday</td>\n",
       "      <td>9969</td>\n",
       "    </tr>\n",
       "    <tr>\n",
       "      <th>2</th>\n",
       "      <td>Saturday</td>\n",
       "      <td>9154</td>\n",
       "    </tr>\n",
       "  </tbody>\n",
       "</table>\n",
       "</div>"
      ],
      "text/plain": [
       "    week_day  event_time\n",
       "1     Monday       11671\n",
       "5    Tuesday       11145\n",
       "6  Wednesday       10994\n",
       "4   Thursday       10763\n",
       "3     Sunday       10501\n",
       "0     Friday        9969\n",
       "2   Saturday        9154"
      ]
     },
     "metadata": {},
     "output_type": "display_data"
    },
    {
     "data": {
      "image/png": "[encoded data removed]",
      "text/plain": [
       "<Figure size 1152x576 with 1 Axes>"
      ]
     },
     "metadata": {},
     "output_type": "display_data"
    }
   ],
   "source": [
    "# добавим информацию с текстовой датой совершения событий\n",
    "data['week_day'] = data['event_date'].apply(lambda x: calendar.day_name[x.weekday()])\n",
    "# посчиатем, сколько событий происходит с разбивкой по дням недели и нарисуем график\n",
    "events_per_week = data.groupby('week_day', as_index=False).agg({'event_time':'count'}).sort_values(by='event_time', ascending=False)\n",
    "\n",
    "display(events_per_week)\n",
    "plt.figure(figsize=(16, 8))\n",
    "plt.bar(events_per_week['week_day'], events_per_week['event_time'])\n",
    "plt.title('Распеределение событий по дням недели')\n",
    "plt.xlabel('День недели')\n",
    "plt.ylabel('Количество событий')\n",
    "plt.xticks(rotation=45)\n",
    "plt.show();"
   ]
  },
  {
   "cell_type": "markdown",
   "id": "347d00e7",
   "metadata": {},
   "source": [
    "Можно заметить, что с течением недели количество операций в нашем приложении падает, в понедельник больше всего операций, а в субботу меньше всего. В воскресенье количество операций на уровне четверга-пятницы.\n",
    "\n",
    "Теперь посчитаем количество событий на одного пользователя, нарисуем гистограмму и ящик с усами для оценки распределения."
   ]
  },
  {
   "cell_type": "code",
   "execution_count": 62,
   "id": "c9576b8d",
   "metadata": {},
   "outputs": [
    {
     "data": {
      "text/html": [
       "<div>\n",
       "<style scoped>\n",
       "    .dataframe tbody tr th:only-of-type {\n",
       "        vertical-align: middle;\n",
       "    }\n",
       "\n",
       "    .dataframe tbody tr th {\n",
       "        vertical-align: top;\n",
       "    }\n",
       "\n",
       "    .dataframe thead th {\n",
       "        text-align: right;\n",
       "    }\n",
       "</style>\n",
       "<table border=\"1\" class=\"dataframe\">\n",
       "  <thead>\n",
       "    <tr style=\"text-align: right;\">\n",
       "      <th></th>\n",
       "      <th>user_id</th>\n",
       "      <th>event_count</th>\n",
       "    </tr>\n",
       "  </thead>\n",
       "  <tbody>\n",
       "    <tr>\n",
       "      <th>0</th>\n",
       "      <td>0001b1d5-b74a-4cbf-aeb0-7df5947bf349</td>\n",
       "      <td>35</td>\n",
       "    </tr>\n",
       "    <tr>\n",
       "      <th>1</th>\n",
       "      <td>00157779-810c-4498-9e05-a1e9e3cedf93</td>\n",
       "      <td>71</td>\n",
       "    </tr>\n",
       "    <tr>\n",
       "      <th>2</th>\n",
       "      <td>00463033-5717-4bf1-91b4-09183923b9df</td>\n",
       "      <td>10</td>\n",
       "    </tr>\n",
       "    <tr>\n",
       "      <th>3</th>\n",
       "      <td>004690c3-5a84-4bb7-a8af-e0c8f8fca64e</td>\n",
       "      <td>32</td>\n",
       "    </tr>\n",
       "    <tr>\n",
       "      <th>4</th>\n",
       "      <td>00551e79-152e-4441-9cf7-565d7eb04090</td>\n",
       "      <td>8</td>\n",
       "    </tr>\n",
       "  </tbody>\n",
       "</table>\n",
       "</div>"
      ],
      "text/plain": [
       "                                user_id  event_count\n",
       "0  0001b1d5-b74a-4cbf-aeb0-7df5947bf349           35\n",
       "1  00157779-810c-4498-9e05-a1e9e3cedf93           71\n",
       "2  00463033-5717-4bf1-91b4-09183923b9df           10\n",
       "3  004690c3-5a84-4bb7-a8af-e0c8f8fca64e           32\n",
       "4  00551e79-152e-4441-9cf7-565d7eb04090            8"
      ]
     },
     "metadata": {},
     "output_type": "display_data"
    },
    {
     "name": "stdout",
     "output_type": "stream",
     "text": [
      "count   4293.00\n",
      "mean      17.28\n",
      "std       29.13\n",
      "min        1.00\n",
      "25%        5.00\n",
      "50%        9.00\n",
      "75%       17.00\n",
      "max      478.00\n",
      "Name: event_count, dtype: float64\n"
     ]
    }
   ],
   "source": [
    "events_per_user = (data\\\n",
    "                   .groupby(['user_id'], as_index=False)\\\n",
    "                   .agg({'event_time':'count'})\\\n",
    "                   .rename(columns={'event_time':'event_count'}))\n",
    "display(events_per_user.head())\n",
    "print(events_per_user['event_count'].describe())"
   ]
  },
  {
   "cell_type": "code",
   "execution_count": 63,
   "id": "955aa4c8",
   "metadata": {
    "scrolled": false
   },
   "outputs": [
    {
     "data": {
      "image/png": "[encoded data removed]",
      "text/plain": [
       "<Figure size 1152x288 with 2 Axes>"
      ]
     },
     "metadata": {},
     "output_type": "display_data"
    }
   ],
   "source": [
    "fig, ax = plt.subplots(figsize = (16, 4))\n",
    "events_per_user['event_count'].hist(bins=30, ax = plt.subplot(1, 2, 1))\n",
    "plt.title('Распределение количества событий на одного пользователя')\n",
    "plt.xlabel('Cобытий')\n",
    "plt.ylabel('Количество пользователей')\n",
    "sns.boxplot(events_per_user['event_count'], showfliers=False, ax = plt.subplot(1, 2, 2))\n",
    "plt.title('Распределение количества событий на одного пользователя')\n",
    "plt.xlabel('Cобытий')\n",
    "plt.ylabel('')\n",
    "plt.show()"
   ]
  },
  {
   "cell_type": "markdown",
   "id": "51f5c821",
   "metadata": {},
   "source": [
    "В распределении количества событий на пользователя есть выбросы. В основном, каждый пользователь совершает от 5 до 17 событий. Все, что лежит вне  значений примем за аномальные значения, если мы их уберем, то потеряем 5% данных, что допустимо."
   ]
  },
  {
   "cell_type": "code",
   "execution_count": 64,
   "id": "1c9b3111",
   "metadata": {},
   "outputs": [
    {
     "name": "stdout",
     "output_type": "stream",
     "text": [
      "Кол-во строк до фильтрации 4293\n",
      "Кол-во строк после фильтрации 4083\n"
     ]
    },
    {
     "data": {
      "image/png": "[encoded data removed]",
      "text/plain": [
       "<Figure size 1152x360 with 1 Axes>"
      ]
     },
     "metadata": {},
     "output_type": "display_data"
    },
    {
     "data": {
      "text/plain": [
       "count   4083.00\n",
       "mean      12.38\n",
       "std       10.69\n",
       "min        1.00\n",
       "25%        5.00\n",
       "50%        8.00\n",
       "75%       15.00\n",
       "max       59.00\n",
       "Name: event_count, dtype: float64"
      ]
     },
     "execution_count": 64,
     "metadata": {},
     "output_type": "execute_result"
    }
   ],
   "source": [
    "right_cut = events_per_user.event_count.quantile(0.95)\n",
    "events_per_user_filtered = events_per_user.query('event_count <= @right_cut')\n",
    "print('Кол-во строк до фильтрации',len(events_per_user))\n",
    "print('Кол-во строк после фильтрации',len(events_per_user_filtered))\n",
    "plt.figure(figsize=(16, 5))\n",
    "events_per_user_filtered['event_count'].hist(bins=30)\n",
    "plt.title('Распределение количества событий на одного пользователя')\n",
    "plt.xlabel('Количество событий на одного пользователя')\n",
    "plt.ylabel('Количество пользователей')\n",
    "plt.show()\n",
    "events_per_user_filtered['event_count'].describe()"
   ]
  },
  {
   "cell_type": "markdown",
   "id": "89ad61b5",
   "metadata": {},
   "source": [
    "Больше убрать данных мы не можем, такое распределение уже ближе к нормальному. Посчитаем продолжительность сессии каждого пользователя в приложении:"
   ]
  },
  {
   "cell_type": "code",
   "execution_count": 65,
   "id": "b50f1489",
   "metadata": {},
   "outputs": [],
   "source": [
    "sess_data = data[['user_id', 'event_name', 'event_time']]\n",
    "#sess_data.head()"
   ]
  },
  {
   "cell_type": "code",
   "execution_count": 66,
   "id": "264c52b4",
   "metadata": {},
   "outputs": [],
   "source": [
    "g = (sess_data.groupby('user_id')['event_time'].diff() > pd.Timedelta('60min')).cumsum()\n",
    "sess_data['session_id'] = sess_data.groupby(['user_id', g], sort=False).ngroup()+1\n",
    "# начало сессии\n",
    "user_time_min = sess_data.groupby(['session_id','user_id']).agg({'event_time':'min'})\\\n",
    ".rename(columns={'event_time':'event_time_start'})\n",
    "# конец сессии\n",
    "user_time_max = sess_data.groupby(['session_id','user_id']).agg({'event_time':'max'})\\\n",
    ".rename(columns={'event_time':'event_time_stop'})"
   ]
  },
  {
   "cell_type": "code",
   "execution_count": 67,
   "id": "036fddac",
   "metadata": {},
   "outputs": [
    {
     "data": {
      "text/html": [
       "<div>\n",
       "<style scoped>\n",
       "    .dataframe tbody tr th:only-of-type {\n",
       "        vertical-align: middle;\n",
       "    }\n",
       "\n",
       "    .dataframe tbody tr th {\n",
       "        vertical-align: top;\n",
       "    }\n",
       "\n",
       "    .dataframe thead th {\n",
       "        text-align: right;\n",
       "    }\n",
       "</style>\n",
       "<table border=\"1\" class=\"dataframe\">\n",
       "  <thead>\n",
       "    <tr style=\"text-align: right;\">\n",
       "      <th></th>\n",
       "      <th></th>\n",
       "      <th>event_time_start</th>\n",
       "      <th>event_time_stop</th>\n",
       "      <th>time_spent</th>\n",
       "    </tr>\n",
       "    <tr>\n",
       "      <th>user_id</th>\n",
       "      <th>session_id</th>\n",
       "      <th></th>\n",
       "      <th></th>\n",
       "      <th></th>\n",
       "    </tr>\n",
       "  </thead>\n",
       "  <tbody>\n",
       "    <tr>\n",
       "      <th>020292ab-89bc-4156-9acf-68bc2783f894</th>\n",
       "      <th>1</th>\n",
       "      <td>2019-10-07 00:00:00</td>\n",
       "      <td>2019-10-07 00:18:43</td>\n",
       "      <td>18.72</td>\n",
       "    </tr>\n",
       "    <tr>\n",
       "      <th rowspan=\"7\" valign=\"top\">cf7eda61-9349-469f-ac27-e5b6f5ec475c</th>\n",
       "      <th>2</th>\n",
       "      <td>2019-10-07 00:00:02</td>\n",
       "      <td>2019-10-07 00:41:40</td>\n",
       "      <td>41.63</td>\n",
       "    </tr>\n",
       "    <tr>\n",
       "      <th>3</th>\n",
       "      <td>2019-10-08 20:06:42</td>\n",
       "      <td>2019-10-08 20:19:08</td>\n",
       "      <td>12.43</td>\n",
       "    </tr>\n",
       "    <tr>\n",
       "      <th>4</th>\n",
       "      <td>2019-10-10 19:43:23</td>\n",
       "      <td>2019-10-10 20:12:33</td>\n",
       "      <td>29.17</td>\n",
       "    </tr>\n",
       "    <tr>\n",
       "      <th>5</th>\n",
       "      <td>2019-10-16 21:17:07</td>\n",
       "      <td>2019-10-16 22:02:51</td>\n",
       "      <td>45.73</td>\n",
       "    </tr>\n",
       "    <tr>\n",
       "      <th>6</th>\n",
       "      <td>2019-10-18 01:11:35</td>\n",
       "      <td>2019-10-18 01:14:43</td>\n",
       "      <td>3.13</td>\n",
       "    </tr>\n",
       "    <tr>\n",
       "      <th>7</th>\n",
       "      <td>2019-10-21 22:57:26</td>\n",
       "      <td>2019-10-21 23:26:45</td>\n",
       "      <td>29.32</td>\n",
       "    </tr>\n",
       "    <tr>\n",
       "      <th>8</th>\n",
       "      <td>2019-10-30 23:34:26</td>\n",
       "      <td>2019-10-30 23:39:24</td>\n",
       "      <td>4.97</td>\n",
       "    </tr>\n",
       "    <tr>\n",
       "      <th rowspan=\"4\" valign=\"top\">8c356c42-3ba9-4cb6-80b8-3f868d0192c3</th>\n",
       "      <th>9</th>\n",
       "      <td>2019-10-07 00:02:07</td>\n",
       "      <td>2019-10-07 00:30:22</td>\n",
       "      <td>28.25</td>\n",
       "    </tr>\n",
       "    <tr>\n",
       "      <th>10</th>\n",
       "      <td>2019-10-17 21:48:10</td>\n",
       "      <td>2019-10-17 22:50:03</td>\n",
       "      <td>61.88</td>\n",
       "    </tr>\n",
       "    <tr>\n",
       "      <th>11</th>\n",
       "      <td>2019-10-23 23:28:29</td>\n",
       "      <td>2019-10-23 23:37:58</td>\n",
       "      <td>9.48</td>\n",
       "    </tr>\n",
       "    <tr>\n",
       "      <th>12</th>\n",
       "      <td>2019-10-29 23:10:19</td>\n",
       "      <td>2019-10-29 23:43:51</td>\n",
       "      <td>33.53</td>\n",
       "    </tr>\n",
       "    <tr>\n",
       "      <th rowspan=\"3\" valign=\"top\">d9b06b47-0f36-419b-bbb0-3533e582a6cb</th>\n",
       "      <th>13</th>\n",
       "      <td>2019-10-07 00:05:20</td>\n",
       "      <td>2019-10-07 00:05:23</td>\n",
       "      <td>0.05</td>\n",
       "    </tr>\n",
       "    <tr>\n",
       "      <th>14</th>\n",
       "      <td>2019-10-10 15:45:36</td>\n",
       "      <td>2019-10-10 15:47:43</td>\n",
       "      <td>2.12</td>\n",
       "    </tr>\n",
       "    <tr>\n",
       "      <th>15</th>\n",
       "      <td>2019-10-26 10:42:37</td>\n",
       "      <td>2019-10-26 10:42:56</td>\n",
       "      <td>0.32</td>\n",
       "    </tr>\n",
       "  </tbody>\n",
       "</table>\n",
       "</div>"
      ],
      "text/plain": [
       "                                                   event_time_start  \\\n",
       "user_id                              session_id                       \n",
       "020292ab-89bc-4156-9acf-68bc2783f894 1          2019-10-07 00:00:00   \n",
       "cf7eda61-9349-469f-ac27-e5b6f5ec475c 2          2019-10-07 00:00:02   \n",
       "                                     3          2019-10-08 20:06:42   \n",
       "                                     4          2019-10-10 19:43:23   \n",
       "                                     5          2019-10-16 21:17:07   \n",
       "                                     6          2019-10-18 01:11:35   \n",
       "                                     7          2019-10-21 22:57:26   \n",
       "                                     8          2019-10-30 23:34:26   \n",
       "8c356c42-3ba9-4cb6-80b8-3f868d0192c3 9          2019-10-07 00:02:07   \n",
       "                                     10         2019-10-17 21:48:10   \n",
       "                                     11         2019-10-23 23:28:29   \n",
       "                                     12         2019-10-29 23:10:19   \n",
       "d9b06b47-0f36-419b-bbb0-3533e582a6cb 13         2019-10-07 00:05:20   \n",
       "                                     14         2019-10-10 15:45:36   \n",
       "                                     15         2019-10-26 10:42:37   \n",
       "\n",
       "                                                    event_time_stop  \\\n",
       "user_id                              session_id                       \n",
       "020292ab-89bc-4156-9acf-68bc2783f894 1          2019-10-07 00:18:43   \n",
       "cf7eda61-9349-469f-ac27-e5b6f5ec475c 2          2019-10-07 00:41:40   \n",
       "                                     3          2019-10-08 20:19:08   \n",
       "                                     4          2019-10-10 20:12:33   \n",
       "                                     5          2019-10-16 22:02:51   \n",
       "                                     6          2019-10-18 01:14:43   \n",
       "                                     7          2019-10-21 23:26:45   \n",
       "                                     8          2019-10-30 23:39:24   \n",
       "8c356c42-3ba9-4cb6-80b8-3f868d0192c3 9          2019-10-07 00:30:22   \n",
       "                                     10         2019-10-17 22:50:03   \n",
       "                                     11         2019-10-23 23:37:58   \n",
       "                                     12         2019-10-29 23:43:51   \n",
       "d9b06b47-0f36-419b-bbb0-3533e582a6cb 13         2019-10-07 00:05:23   \n",
       "                                     14         2019-10-10 15:47:43   \n",
       "                                     15         2019-10-26 10:42:56   \n",
       "\n",
       "                                                 time_spent  \n",
       "user_id                              session_id              \n",
       "020292ab-89bc-4156-9acf-68bc2783f894 1                18.72  \n",
       "cf7eda61-9349-469f-ac27-e5b6f5ec475c 2                41.63  \n",
       "                                     3                12.43  \n",
       "                                     4                29.17  \n",
       "                                     5                45.73  \n",
       "                                     6                 3.13  \n",
       "                                     7                29.32  \n",
       "                                     8                 4.97  \n",
       "8c356c42-3ba9-4cb6-80b8-3f868d0192c3 9                28.25  \n",
       "                                     10               61.88  \n",
       "                                     11                9.48  \n",
       "                                     12               33.53  \n",
       "d9b06b47-0f36-419b-bbb0-3533e582a6cb 13                0.05  \n",
       "                                     14                2.12  \n",
       "                                     15                0.32  "
      ]
     },
     "metadata": {},
     "output_type": "display_data"
    },
    {
     "data": {
      "text/plain": [
       "count   9573.00\n",
       "mean      17.52\n",
       "std       28.54\n",
       "min        0.00\n",
       "25%        0.73\n",
       "50%        6.82\n",
       "75%       21.75\n",
       "max      434.98\n",
       "Name: time_spent, dtype: float64"
      ]
     },
     "execution_count": 67,
     "metadata": {},
     "output_type": "execute_result"
    }
   ],
   "source": [
    "# объединим столбцы с временем начала и окончания сессии для пользователей\n",
    "user_time =  pd.merge(user_time_min, user_time_max, on=['user_id', 'session_id'])\n",
    "# посчитаем, cколько длилась сессия и переведем в минуты\n",
    "user_time['time_spent'] = (user_time['event_time_stop'] - user_time['event_time_start']).astype('timedelta64[s]') / 60\n",
    "display(user_time.head(15))\n",
    "user_time['time_spent'].describe()"
   ]
  },
  {
   "cell_type": "markdown",
   "id": "d0357414",
   "metadata": {},
   "source": [
    "Можно видеть, что среднее время сессии 18 минут, но есть пользователи засиживающиеся у нас и по 7 часов. Теперь нарисуем воронку по действиям пользователей"
   ]
  },
  {
   "cell_type": "markdown",
   "id": "16005c74",
   "metadata": {},
   "source": [
    "## Воронка пользователей"
   ]
  },
  {
   "cell_type": "code",
   "execution_count": 68,
   "id": "da7a891d",
   "metadata": {
    "scrolled": true
   },
   "outputs": [
    {
     "data": {
      "text/html": [
       "<div>\n",
       "<style scoped>\n",
       "    .dataframe tbody tr th:only-of-type {\n",
       "        vertical-align: middle;\n",
       "    }\n",
       "\n",
       "    .dataframe tbody tr th {\n",
       "        vertical-align: top;\n",
       "    }\n",
       "\n",
       "    .dataframe thead th {\n",
       "        text-align: right;\n",
       "    }\n",
       "</style>\n",
       "<table border=\"1\" class=\"dataframe\">\n",
       "  <thead>\n",
       "    <tr style=\"text-align: right;\">\n",
       "      <th></th>\n",
       "      <th>кол-во</th>\n",
       "      <th>уникальные</th>\n",
       "      <th>% уникальных от всех уникальных</th>\n",
       "    </tr>\n",
       "    <tr>\n",
       "      <th>event_name</th>\n",
       "      <th></th>\n",
       "      <th></th>\n",
       "      <th></th>\n",
       "    </tr>\n",
       "  </thead>\n",
       "  <tbody>\n",
       "    <tr>\n",
       "      <th>tips_show</th>\n",
       "      <td>40055</td>\n",
       "      <td>2801</td>\n",
       "      <td>0.65</td>\n",
       "    </tr>\n",
       "    <tr>\n",
       "      <th>search</th>\n",
       "      <td>6784</td>\n",
       "      <td>1666</td>\n",
       "      <td>0.39</td>\n",
       "    </tr>\n",
       "    <tr>\n",
       "      <th>map</th>\n",
       "      <td>3881</td>\n",
       "      <td>1456</td>\n",
       "      <td>0.34</td>\n",
       "    </tr>\n",
       "    <tr>\n",
       "      <th>photos_show</th>\n",
       "      <td>10012</td>\n",
       "      <td>1095</td>\n",
       "      <td>0.26</td>\n",
       "    </tr>\n",
       "    <tr>\n",
       "      <th>contacts_show</th>\n",
       "      <td>4529</td>\n",
       "      <td>981</td>\n",
       "      <td>0.23</td>\n",
       "    </tr>\n",
       "    <tr>\n",
       "      <th>advert_open</th>\n",
       "      <td>6164</td>\n",
       "      <td>751</td>\n",
       "      <td>0.17</td>\n",
       "    </tr>\n",
       "    <tr>\n",
       "      <th>favorites_add</th>\n",
       "      <td>1417</td>\n",
       "      <td>351</td>\n",
       "      <td>0.08</td>\n",
       "    </tr>\n",
       "    <tr>\n",
       "      <th>tips_click</th>\n",
       "      <td>814</td>\n",
       "      <td>322</td>\n",
       "      <td>0.08</td>\n",
       "    </tr>\n",
       "    <tr>\n",
       "      <th>contacts_call</th>\n",
       "      <td>541</td>\n",
       "      <td>213</td>\n",
       "      <td>0.05</td>\n",
       "    </tr>\n",
       "  </tbody>\n",
       "</table>\n",
       "</div>"
      ],
      "text/plain": [
       "               кол-во  уникальные  % уникальных от всех уникальных\n",
       "event_name                                                        \n",
       "tips_show       40055        2801                             0.65\n",
       "search           6784        1666                             0.39\n",
       "map              3881        1456                             0.34\n",
       "photos_show     10012        1095                             0.26\n",
       "contacts_show    4529         981                             0.23\n",
       "advert_open      6164         751                             0.17\n",
       "favorites_add    1417         351                             0.08\n",
       "tips_click        814         322                             0.08\n",
       "contacts_call     541         213                             0.05"
      ]
     },
     "execution_count": 68,
     "metadata": {},
     "output_type": "execute_result"
    }
   ],
   "source": [
    "#tips_click = data.query('event_name == \"tips_show\"')\n",
    "#tips_click_users_list = tips_click['user_id'].unique().tolist()\n",
    "#search = data.query('event_name == \"search\"')\n",
    "#search_users_list = search['user_id'].unique().tolist()\n",
    "#search_voronka = data.query('user_id not in @tips_click_users_list')\n",
    "#search_voronka = search_voronka.query('user_id in @search_users_list')\n",
    "\n",
    "voronka = data.groupby('event_name').agg({\n",
    "    'event_date': 'count',\n",
    "    'user_id': 'nunique'\n",
    "}).sort_values(by='user_id', ascending=False)\n",
    "voronka['% уникальных от всех уникальных'] = voronka['user_id']/data['user_id'].nunique()\n",
    "voronka = voronka.rename(columns={'event_date': 'кол-во', 'user_id': 'уникальные'})\n",
    "voronka"
   ]
  },
  {
   "cell_type": "markdown",
   "id": "d936bb16",
   "metadata": {},
   "source": [
    "По общей воронке можно сказать, что скорее всего при входе в приложение пользователю сразу показываются рекомендации. Этот факт поможет нам в будущем для определения времени потраченного пользователем от начала использования приложения до поиска. Чтобы воронка заканчивалась целевым событием, уберем события ниже него: \"advert_open\", \"favorites_add\", \"contacts_call\", \"tips_click\". Добавим информацию о конверсии в шаг."
   ]
  },
  {
   "cell_type": "code",
   "execution_count": 69,
   "id": "913c5f3c",
   "metadata": {
    "scrolled": true
   },
   "outputs": [
    {
     "data": {
      "text/html": [
       "<div>\n",
       "<style scoped>\n",
       "    .dataframe tbody tr th:only-of-type {\n",
       "        vertical-align: middle;\n",
       "    }\n",
       "\n",
       "    .dataframe tbody tr th {\n",
       "        vertical-align: top;\n",
       "    }\n",
       "\n",
       "    .dataframe thead th {\n",
       "        text-align: right;\n",
       "    }\n",
       "</style>\n",
       "<table border=\"1\" class=\"dataframe\">\n",
       "  <thead>\n",
       "    <tr style=\"text-align: right;\">\n",
       "      <th></th>\n",
       "      <th>кол-во</th>\n",
       "      <th>уникальные</th>\n",
       "      <th>% уникальных от всех уникальных</th>\n",
       "      <th>conv</th>\n",
       "      <th>prev_step</th>\n",
       "      <th>step_conv</th>\n",
       "    </tr>\n",
       "    <tr>\n",
       "      <th>event_name</th>\n",
       "      <th></th>\n",
       "      <th></th>\n",
       "      <th></th>\n",
       "      <th></th>\n",
       "      <th></th>\n",
       "      <th></th>\n",
       "    </tr>\n",
       "  </thead>\n",
       "  <tbody>\n",
       "    <tr>\n",
       "      <th>tips_show</th>\n",
       "      <td>40055</td>\n",
       "      <td>2801</td>\n",
       "      <td>0.65</td>\n",
       "      <td>1.00</td>\n",
       "      <td>NaN</td>\n",
       "      <td>NaN</td>\n",
       "    </tr>\n",
       "    <tr>\n",
       "      <th>search</th>\n",
       "      <td>6784</td>\n",
       "      <td>1666</td>\n",
       "      <td>0.39</td>\n",
       "      <td>0.59</td>\n",
       "      <td>2801.00</td>\n",
       "      <td>0.59</td>\n",
       "    </tr>\n",
       "    <tr>\n",
       "      <th>map</th>\n",
       "      <td>3881</td>\n",
       "      <td>1456</td>\n",
       "      <td>0.34</td>\n",
       "      <td>0.52</td>\n",
       "      <td>1666.00</td>\n",
       "      <td>0.87</td>\n",
       "    </tr>\n",
       "    <tr>\n",
       "      <th>photos_show</th>\n",
       "      <td>10012</td>\n",
       "      <td>1095</td>\n",
       "      <td>0.26</td>\n",
       "      <td>0.39</td>\n",
       "      <td>1456.00</td>\n",
       "      <td>0.75</td>\n",
       "    </tr>\n",
       "    <tr>\n",
       "      <th>contacts_show</th>\n",
       "      <td>4529</td>\n",
       "      <td>981</td>\n",
       "      <td>0.23</td>\n",
       "      <td>0.35</td>\n",
       "      <td>1095.00</td>\n",
       "      <td>0.90</td>\n",
       "    </tr>\n",
       "  </tbody>\n",
       "</table>\n",
       "</div>"
      ],
      "text/plain": [
       "               кол-во  уникальные  % уникальных от всех уникальных  conv  \\\n",
       "event_name                                                                 \n",
       "tips_show       40055        2801                             0.65  1.00   \n",
       "search           6784        1666                             0.39  0.59   \n",
       "map              3881        1456                             0.34  0.52   \n",
       "photos_show     10012        1095                             0.26  0.39   \n",
       "contacts_show    4529         981                             0.23  0.35   \n",
       "\n",
       "               prev_step  step_conv  \n",
       "event_name                           \n",
       "tips_show            NaN        NaN  \n",
       "search           2801.00       0.59  \n",
       "map              1666.00       0.87  \n",
       "photos_show      1456.00       0.75  \n",
       "contacts_show    1095.00       0.90  "
      ]
     },
     "execution_count": 69,
     "metadata": {},
     "output_type": "execute_result"
    }
   ],
   "source": [
    "voronka = voronka.query('event_name != \"advert_open\" and event_name != \"favorites_add\" and event_name != \"contacts_call\" and event_name != \"tips_click\"')\n",
    "voronka['conv'] = voronka['уникальные']/voronka['уникальные'].values[0]\n",
    "voronka['prev_step'] = voronka['уникальные'].shift()\n",
    "voronka['step_conv'] = voronka['уникальные']/voronka['prev_step']#конверсия в следующий шаг\n",
    "voronka"
   ]
  },
  {
   "cell_type": "markdown",
   "id": "79c14458",
   "metadata": {},
   "source": [
    "Нарисуем нашу воронку:"
   ]
  },
  {
   "cell_type": "code",
   "execution_count": 70,
   "id": "e7b5e2ef",
   "metadata": {
    "scrolled": false
   },
   "outputs": [
    {
     "data": {
      "application/vnd.plotly.v1+json": {
       "config": {
        "plotlyServerURL": "https://plot.ly"
       },
       "data": [
        {
         "textinfo": "value+percent initial+percent previous",
         "textposition": "auto",
         "type": "funnel",
         "x": [
          2801,
          1666,
          1456,
          1095,
          981
         ],
         "y": [
          "tips_show",
          "search",
          "map",
          "photos_show",
          "contacts_show"
         ]
        }
       ],
       "layout": {
        "template": {
         "data": {
          "bar": [
           {
            "error_x": {
             "color": "#2a3f5f"
            },
            "error_y": {
             "color": "#2a3f5f"
            },
            "marker": {
             "line": {
              "color": "#E5ECF6",
              "width": 0.5
             },
             "pattern": {
              "fillmode": "overlay",
              "size": 10,
              "solidity": 0.2
             }
            },
            "type": "bar"
           }
          ],
          "barpolar": [
           {
            "marker": {
             "line": {
              "color": "#E5ECF6",
              "width": 0.5
             },
             "pattern": {
              "fillmode": "overlay",
              "size": 10,
              "solidity": 0.2
             }
            },
            "type": "barpolar"
           }
          ],
          "carpet": [
           {
            "aaxis": {
             "endlinecolor": "#2a3f5f",
             "gridcolor": "white",
             "linecolor": "white",
             "minorgridcolor": "white",
             "startlinecolor": "#2a3f5f"
            },
            "baxis": {
             "endlinecolor": "#2a3f5f",
             "gridcolor": "white",
             "linecolor": "white",
             "minorgridcolor": "white",
             "startlinecolor": "#2a3f5f"
            },
            "type": "carpet"
           }
          ],
          "choropleth": [
           {
            "colorbar": {
             "outlinewidth": 0,
             "ticks": ""
            },
            "type": "choropleth"
           }
          ],
          "contour": [
           {
            "colorbar": {
             "outlinewidth": 0,
             "ticks": ""
            },
            "colorscale": [
             [
              0,
              "#0d0887"
             ],
             [
              0.1111111111111111,
              "#46039f"
             ],
             [
              0.2222222222222222,
              "#7201a8"
             ],
             [
              0.3333333333333333,
              "#9c179e"
             ],
             [
              0.4444444444444444,
              "#bd3786"
             ],
             [
              0.5555555555555556,
              "#d8576b"
             ],
             [
              0.6666666666666666,
              "#ed7953"
             ],
             [
              0.7777777777777778,
              "#fb9f3a"
             ],
             [
              0.8888888888888888,
              "#fdca26"
             ],
             [
              1,
              "#f0f921"
             ]
            ],
            "type": "contour"
           }
          ],
          "contourcarpet": [
           {
            "colorbar": {
             "outlinewidth": 0,
             "ticks": ""
            },
            "type": "contourcarpet"
           }
          ],
          "heatmap": [
           {
            "colorbar": {
             "outlinewidth": 0,
             "ticks": ""
            },
            "colorscale": [
             [
              0,
              "#0d0887"
             ],
             [
              0.1111111111111111,
              "#46039f"
             ],
             [
              0.2222222222222222,
              "#7201a8"
             ],
             [
              0.3333333333333333,
              "#9c179e"
             ],
             [
              0.4444444444444444,
              "#bd3786"
             ],
             [
              0.5555555555555556,
              "#d8576b"
             ],
             [
              0.6666666666666666,
              "#ed7953"
             ],
             [
              0.7777777777777778,
              "#fb9f3a"
             ],
             [
              0.8888888888888888,
              "#fdca26"
             ],
             [
              1,
              "#f0f921"
             ]
            ],
            "type": "heatmap"
           }
          ],
          "heatmapgl": [
           {
            "colorbar": {
             "outlinewidth": 0,
             "ticks": ""
            },
            "colorscale": [
             [
              0,
              "#0d0887"
             ],
             [
              0.1111111111111111,
              "#46039f"
             ],
             [
              0.2222222222222222,
              "#7201a8"
             ],
             [
              0.3333333333333333,
              "#9c179e"
             ],
             [
              0.4444444444444444,
              "#bd3786"
             ],
             [
              0.5555555555555556,
              "#d8576b"
             ],
             [
              0.6666666666666666,
              "#ed7953"
             ],
             [
              0.7777777777777778,
              "#fb9f3a"
             ],
             [
              0.8888888888888888,
              "#fdca26"
             ],
             [
              1,
              "#f0f921"
             ]
            ],
            "type": "heatmapgl"
           }
          ],
          "histogram": [
           {
            "marker": {
             "pattern": {
              "fillmode": "overlay",
              "size": 10,
              "solidity": 0.2
             }
            },
            "type": "histogram"
           }
          ],
          "histogram2d": [
           {
            "colorbar": {
             "outlinewidth": 0,
             "ticks": ""
            },
            "colorscale": [
             [
              0,
              "#0d0887"
             ],
             [
              0.1111111111111111,
              "#46039f"
             ],
             [
              0.2222222222222222,
              "#7201a8"
             ],
             [
              0.3333333333333333,
              "#9c179e"
             ],
             [
              0.4444444444444444,
              "#bd3786"
             ],
             [
              0.5555555555555556,
              "#d8576b"
             ],
             [
              0.6666666666666666,
              "#ed7953"
             ],
             [
              0.7777777777777778,
              "#fb9f3a"
             ],
             [
              0.8888888888888888,
              "#fdca26"
             ],
             [
              1,
              "#f0f921"
             ]
            ],
            "type": "histogram2d"
           }
          ],
          "histogram2dcontour": [
           {
            "colorbar": {
             "outlinewidth": 0,
             "ticks": ""
            },
            "colorscale": [
             [
              0,
              "#0d0887"
             ],
             [
              0.1111111111111111,
              "#46039f"
             ],
             [
              0.2222222222222222,
              "#7201a8"
             ],
             [
              0.3333333333333333,
              "#9c179e"
             ],
             [
              0.4444444444444444,
              "#bd3786"
             ],
             [
              0.5555555555555556,
              "#d8576b"
             ],
             [
              0.6666666666666666,
              "#ed7953"
             ],
             [
              0.7777777777777778,
              "#fb9f3a"
             ],
             [
              0.8888888888888888,
              "#fdca26"
             ],
             [
              1,
              "#f0f921"
             ]
            ],
            "type": "histogram2dcontour"
           }
          ],
          "mesh3d": [
           {
            "colorbar": {
             "outlinewidth": 0,
             "ticks": ""
            },
            "type": "mesh3d"
           }
          ],
          "parcoords": [
           {
            "line": {
             "colorbar": {
              "outlinewidth": 0,
              "ticks": ""
             }
            },
            "type": "parcoords"
           }
          ],
          "pie": [
           {
            "automargin": true,
            "type": "pie"
           }
          ],
          "scatter": [
           {
            "marker": {
             "colorbar": {
              "outlinewidth": 0,
              "ticks": ""
             }
            },
            "type": "scatter"
           }
          ],
          "scatter3d": [
           {
            "line": {
             "colorbar": {
              "outlinewidth": 0,
              "ticks": ""
             }
            },
            "marker": {
             "colorbar": {
              "outlinewidth": 0,
              "ticks": ""
             }
            },
            "type": "scatter3d"
           }
          ],
          "scattercarpet": [
           {
            "marker": {
             "colorbar": {
              "outlinewidth": 0,
              "ticks": ""
             }
            },
            "type": "scattercarpet"
           }
          ],
          "scattergeo": [
           {
            "marker": {
             "colorbar": {
              "outlinewidth": 0,
              "ticks": ""
             }
            },
            "type": "scattergeo"
           }
          ],
          "scattergl": [
           {
            "marker": {
             "colorbar": {
              "outlinewidth": 0,
              "ticks": ""
             }
            },
            "type": "scattergl"
           }
          ],
          "scattermapbox": [
           {
            "marker": {
             "colorbar": {
              "outlinewidth": 0,
              "ticks": ""
             }
            },
            "type": "scattermapbox"
           }
          ],
          "scatterpolar": [
           {
            "marker": {
             "colorbar": {
              "outlinewidth": 0,
              "ticks": ""
             }
            },
            "type": "scatterpolar"
           }
          ],
          "scatterpolargl": [
           {
            "marker": {
             "colorbar": {
              "outlinewidth": 0,
              "ticks": ""
             }
            },
            "type": "scatterpolargl"
           }
          ],
          "scatterternary": [
           {
            "marker": {
             "colorbar": {
              "outlinewidth": 0,
              "ticks": ""
             }
            },
            "type": "scatterternary"
           }
          ],
          "surface": [
           {
            "colorbar": {
             "outlinewidth": 0,
             "ticks": ""
            },
            "colorscale": [
             [
              0,
              "#0d0887"
             ],
             [
              0.1111111111111111,
              "#46039f"
             ],
             [
              0.2222222222222222,
              "#7201a8"
             ],
             [
              0.3333333333333333,
              "#9c179e"
             ],
             [
              0.4444444444444444,
              "#bd3786"
             ],
             [
              0.5555555555555556,
              "#d8576b"
             ],
             [
              0.6666666666666666,
              "#ed7953"
             ],
             [
              0.7777777777777778,
              "#fb9f3a"
             ],
             [
              0.8888888888888888,
              "#fdca26"
             ],
             [
              1,
              "#f0f921"
             ]
            ],
            "type": "surface"
           }
          ],
          "table": [
           {
            "cells": {
             "fill": {
              "color": "#EBF0F8"
             },
             "line": {
              "color": "white"
             }
            },
            "header": {
             "fill": {
              "color": "#C8D4E3"
             },
             "line": {
              "color": "white"
             }
            },
            "type": "table"
           }
          ]
         },
         "layout": {
          "annotationdefaults": {
           "arrowcolor": "#2a3f5f",
           "arrowhead": 0,
           "arrowwidth": 1
          },
          "autotypenumbers": "strict",
          "coloraxis": {
           "colorbar": {
            "outlinewidth": 0,
            "ticks": ""
           }
          },
          "colorscale": {
           "diverging": [
            [
             0,
             "#8e0152"
            ],
            [
             0.1,
             "#c51b7d"
            ],
            [
             0.2,
             "#de77ae"
            ],
            [
             0.3,
             "#f1b6da"
            ],
            [
             0.4,
             "#fde0ef"
            ],
            [
             0.5,
             "#f7f7f7"
            ],
            [
             0.6,
             "#e6f5d0"
            ],
            [
             0.7,
             "#b8e186"
            ],
            [
             0.8,
             "#7fbc41"
            ],
            [
             0.9,
             "#4d9221"
            ],
            [
             1,
             "#276419"
            ]
           ],
           "sequential": [
            [
             0,
             "#0d0887"
            ],
            [
             0.1111111111111111,
             "#46039f"
            ],
            [
             0.2222222222222222,
             "#7201a8"
            ],
            [
             0.3333333333333333,
             "#9c179e"
            ],
            [
             0.4444444444444444,
             "#bd3786"
            ],
            [
             0.5555555555555556,
             "#d8576b"
            ],
            [
             0.6666666666666666,
             "#ed7953"
            ],
            [
             0.7777777777777778,
             "#fb9f3a"
            ],
            [
             0.8888888888888888,
             "#fdca26"
            ],
            [
             1,
             "#f0f921"
            ]
           ],
           "sequentialminus": [
            [
             0,
             "#0d0887"
            ],
            [
             0.1111111111111111,
             "#46039f"
            ],
            [
             0.2222222222222222,
             "#7201a8"
            ],
            [
             0.3333333333333333,
             "#9c179e"
            ],
            [
             0.4444444444444444,
             "#bd3786"
            ],
            [
             0.5555555555555556,
             "#d8576b"
            ],
            [
             0.6666666666666666,
             "#ed7953"
            ],
            [
             0.7777777777777778,
             "#fb9f3a"
            ],
            [
             0.8888888888888888,
             "#fdca26"
            ],
            [
             1,
             "#f0f921"
            ]
           ]
          },
          "colorway": [
           "#636efa",
           "#EF553B",
           "#00cc96",
           "#ab63fa",
           "#FFA15A",
           "#19d3f3",
           "#FF6692",
           "#B6E880",
           "#FF97FF",
           "#FECB52"
          ],
          "font": {
           "color": "#2a3f5f"
          },
          "geo": {
           "bgcolor": "white",
           "lakecolor": "white",
           "landcolor": "#E5ECF6",
           "showlakes": true,
           "showland": true,
           "subunitcolor": "white"
          },
          "hoverlabel": {
           "align": "left"
          },
          "hovermode": "closest",
          "mapbox": {
           "style": "light"
          },
          "paper_bgcolor": "white",
          "plot_bgcolor": "#E5ECF6",
          "polar": {
           "angularaxis": {
            "gridcolor": "white",
            "linecolor": "white",
            "ticks": ""
           },
           "bgcolor": "#E5ECF6",
           "radialaxis": {
            "gridcolor": "white",
            "linecolor": "white",
            "ticks": ""
           }
          },
          "scene": {
           "xaxis": {
            "backgroundcolor": "#E5ECF6",
            "gridcolor": "white",
            "gridwidth": 2,
            "linecolor": "white",
            "showbackground": true,
            "ticks": "",
            "zerolinecolor": "white"
           },
           "yaxis": {
            "backgroundcolor": "#E5ECF6",
            "gridcolor": "white",
            "gridwidth": 2,
            "linecolor": "white",
            "showbackground": true,
            "ticks": "",
            "zerolinecolor": "white"
           },
           "zaxis": {
            "backgroundcolor": "#E5ECF6",
            "gridcolor": "white",
            "gridwidth": 2,
            "linecolor": "white",
            "showbackground": true,
            "ticks": "",
            "zerolinecolor": "white"
           }
          },
          "shapedefaults": {
           "line": {
            "color": "#2a3f5f"
           }
          },
          "ternary": {
           "aaxis": {
            "gridcolor": "white",
            "linecolor": "white",
            "ticks": ""
           },
           "baxis": {
            "gridcolor": "white",
            "linecolor": "white",
            "ticks": ""
           },
           "bgcolor": "#E5ECF6",
           "caxis": {
            "gridcolor": "white",
            "linecolor": "white",
            "ticks": ""
           }
          },
          "title": {
           "x": 0.05
          },
          "xaxis": {
           "automargin": true,
           "gridcolor": "white",
           "linecolor": "white",
           "ticks": "",
           "title": {
            "standoff": 15
           },
           "zerolinecolor": "white",
           "zerolinewidth": 2
          },
          "yaxis": {
           "automargin": true,
           "gridcolor": "white",
           "linecolor": "white",
           "ticks": "",
           "title": {
            "standoff": 15
           },
           "zerolinecolor": "white",
           "zerolinewidth": 2
          }
         }
        },
        "title": {
         "text": "Воронка взаимодействий пользователей, кто воспользовался только поисковой системой"
        }
       }
      },
      "text/html": [
       "<div>                            <div id=\"c0a52fab-1964-43ab-bbca-d161bbc09e03\" class=\"plotly-graph-div\" style=\"height:525px; width:100%;\"></div>            <script type=\"text/javascript\">                require([\"plotly\"], function(Plotly) {                    window.PLOTLYENV=window.PLOTLYENV || {};                                    if (document.getElementById(\"c0a52fab-1964-43ab-bbca-d161bbc09e03\")) {                    Plotly.newPlot(                        \"c0a52fab-1964-43ab-bbca-d161bbc09e03\",                        [{\"textinfo\":\"value+percent initial+percent previous\",\"textposition\":\"auto\",\"x\":[2801,1666,1456,1095,981],\"y\":[\"tips_show\",\"search\",\"map\",\"photos_show\",\"contacts_show\"],\"type\":\"funnel\"}],                        {\"template\":{\"data\":{\"bar\":[{\"error_x\":{\"color\":\"#2a3f5f\"},\"error_y\":{\"color\":\"#2a3f5f\"},\"marker\":{\"line\":{\"color\":\"#E5ECF6\",\"width\":0.5},\"pattern\":{\"fillmode\":\"overlay\",\"size\":10,\"solidity\":0.2}},\"type\":\"bar\"}],\"barpolar\":[{\"marker\":{\"line\":{\"color\":\"#E5ECF6\",\"width\":0.5},\"pattern\":{\"fillmode\":\"overlay\",\"size\":10,\"solidity\":0.2}},\"type\":\"barpolar\"}],\"carpet\":[{\"aaxis\":{\"endlinecolor\":\"#2a3f5f\",\"gridcolor\":\"white\",\"linecolor\":\"white\",\"minorgridcolor\":\"white\",\"startlinecolor\":\"#2a3f5f\"},\"baxis\":{\"endlinecolor\":\"#2a3f5f\",\"gridcolor\":\"white\",\"linecolor\":\"white\",\"minorgridcolor\":\"white\",\"startlinecolor\":\"#2a3f5f\"},\"type\":\"carpet\"}],\"choropleth\":[{\"colorbar\":{\"outlinewidth\":0,\"ticks\":\"\"},\"type\":\"choropleth\"}],\"contour\":[{\"colorbar\":{\"outlinewidth\":0,\"ticks\":\"\"},\"colorscale\":[[0.0,\"#0d0887\"],[0.1111111111111111,\"#46039f\"],[0.2222222222222222,\"#7201a8\"],[0.3333333333333333,\"#9c179e\"],[0.4444444444444444,\"#bd3786\"],[0.5555555555555556,\"#d8576b\"],[0.6666666666666666,\"#ed7953\"],[0.7777777777777778,\"#fb9f3a\"],[0.8888888888888888,\"#fdca26\"],[1.0,\"#f0f921\"]],\"type\":\"contour\"}],\"contourcarpet\":[{\"colorbar\":{\"outlinewidth\":0,\"ticks\":\"\"},\"type\":\"contourcarpet\"}],\"heatmap\":[{\"colorbar\":{\"outlinewidth\":0,\"ticks\":\"\"},\"colorscale\":[[0.0,\"#0d0887\"],[0.1111111111111111,\"#46039f\"],[0.2222222222222222,\"#7201a8\"],[0.3333333333333333,\"#9c179e\"],[0.4444444444444444,\"#bd3786\"],[0.5555555555555556,\"#d8576b\"],[0.6666666666666666,\"#ed7953\"],[0.7777777777777778,\"#fb9f3a\"],[0.8888888888888888,\"#fdca26\"],[1.0,\"#f0f921\"]],\"type\":\"heatmap\"}],\"heatmapgl\":[{\"colorbar\":{\"outlinewidth\":0,\"ticks\":\"\"},\"colorscale\":[[0.0,\"#0d0887\"],[0.1111111111111111,\"#46039f\"],[0.2222222222222222,\"#7201a8\"],[0.3333333333333333,\"#9c179e\"],[0.4444444444444444,\"#bd3786\"],[0.5555555555555556,\"#d8576b\"],[0.6666666666666666,\"#ed7953\"],[0.7777777777777778,\"#fb9f3a\"],[0.8888888888888888,\"#fdca26\"],[1.0,\"#f0f921\"]],\"type\":\"heatmapgl\"}],\"histogram\":[{\"marker\":{\"pattern\":{\"fillmode\":\"overlay\",\"size\":10,\"solidity\":0.2}},\"type\":\"histogram\"}],\"histogram2d\":[{\"colorbar\":{\"outlinewidth\":0,\"ticks\":\"\"},\"colorscale\":[[0.0,\"#0d0887\"],[0.1111111111111111,\"#46039f\"],[0.2222222222222222,\"#7201a8\"],[0.3333333333333333,\"#9c179e\"],[0.4444444444444444,\"#bd3786\"],[0.5555555555555556,\"#d8576b\"],[0.6666666666666666,\"#ed7953\"],[0.7777777777777778,\"#fb9f3a\"],[0.8888888888888888,\"#fdca26\"],[1.0,\"#f0f921\"]],\"type\":\"histogram2d\"}],\"histogram2dcontour\":[{\"colorbar\":{\"outlinewidth\":0,\"ticks\":\"\"},\"colorscale\":[[0.0,\"#0d0887\"],[0.1111111111111111,\"#46039f\"],[0.2222222222222222,\"#7201a8\"],[0.3333333333333333,\"#9c179e\"],[0.4444444444444444,\"#bd3786\"],[0.5555555555555556,\"#d8576b\"],[0.6666666666666666,\"#ed7953\"],[0.7777777777777778,\"#fb9f3a\"],[0.8888888888888888,\"#fdca26\"],[1.0,\"#f0f921\"]],\"type\":\"histogram2dcontour\"}],\"mesh3d\":[{\"colorbar\":{\"outlinewidth\":0,\"ticks\":\"\"},\"type\":\"mesh3d\"}],\"parcoords\":[{\"line\":{\"colorbar\":{\"outlinewidth\":0,\"ticks\":\"\"}},\"type\":\"parcoords\"}],\"pie\":[{\"automargin\":true,\"type\":\"pie\"}],\"scatter\":[{\"marker\":{\"colorbar\":{\"outlinewidth\":0,\"ticks\":\"\"}},\"type\":\"scatter\"}],\"scatter3d\":[{\"line\":{\"colorbar\":{\"outlinewidth\":0,\"ticks\":\"\"}},\"marker\":{\"colorbar\":{\"outlinewidth\":0,\"ticks\":\"\"}},\"type\":\"scatter3d\"}],\"scattercarpet\":[{\"marker\":{\"colorbar\":{\"outlinewidth\":0,\"ticks\":\"\"}},\"type\":\"scattercarpet\"}],\"scattergeo\":[{\"marker\":{\"colorbar\":{\"outlinewidth\":0,\"ticks\":\"\"}},\"type\":\"scattergeo\"}],\"scattergl\":[{\"marker\":{\"colorbar\":{\"outlinewidth\":0,\"ticks\":\"\"}},\"type\":\"scattergl\"}],\"scattermapbox\":[{\"marker\":{\"colorbar\":{\"outlinewidth\":0,\"ticks\":\"\"}},\"type\":\"scattermapbox\"}],\"scatterpolar\":[{\"marker\":{\"colorbar\":{\"outlinewidth\":0,\"ticks\":\"\"}},\"type\":\"scatterpolar\"}],\"scatterpolargl\":[{\"marker\":{\"colorbar\":{\"outlinewidth\":0,\"ticks\":\"\"}},\"type\":\"scatterpolargl\"}],\"scatterternary\":[{\"marker\":{\"colorbar\":{\"outlinewidth\":0,\"ticks\":\"\"}},\"type\":\"scatterternary\"}],\"surface\":[{\"colorbar\":{\"outlinewidth\":0,\"ticks\":\"\"},\"colorscale\":[[0.0,\"#0d0887\"],[0.1111111111111111,\"#46039f\"],[0.2222222222222222,\"#7201a8\"],[0.3333333333333333,\"#9c179e\"],[0.4444444444444444,\"#bd3786\"],[0.5555555555555556,\"#d8576b\"],[0.6666666666666666,\"#ed7953\"],[0.7777777777777778,\"#fb9f3a\"],[0.8888888888888888,\"#fdca26\"],[1.0,\"#f0f921\"]],\"type\":\"surface\"}],\"table\":[{\"cells\":{\"fill\":{\"color\":\"#EBF0F8\"},\"line\":{\"color\":\"white\"}},\"header\":{\"fill\":{\"color\":\"#C8D4E3\"},\"line\":{\"color\":\"white\"}},\"type\":\"table\"}]},\"layout\":{\"annotationdefaults\":{\"arrowcolor\":\"#2a3f5f\",\"arrowhead\":0,\"arrowwidth\":1},\"autotypenumbers\":\"strict\",\"coloraxis\":{\"colorbar\":{\"outlinewidth\":0,\"ticks\":\"\"}},\"colorscale\":{\"diverging\":[[0,\"#8e0152\"],[0.1,\"#c51b7d\"],[0.2,\"#de77ae\"],[0.3,\"#f1b6da\"],[0.4,\"#fde0ef\"],[0.5,\"#f7f7f7\"],[0.6,\"#e6f5d0\"],[0.7,\"#b8e186\"],[0.8,\"#7fbc41\"],[0.9,\"#4d9221\"],[1,\"#276419\"]],\"sequential\":[[0.0,\"#0d0887\"],[0.1111111111111111,\"#46039f\"],[0.2222222222222222,\"#7201a8\"],[0.3333333333333333,\"#9c179e\"],[0.4444444444444444,\"#bd3786\"],[0.5555555555555556,\"#d8576b\"],[0.6666666666666666,\"#ed7953\"],[0.7777777777777778,\"#fb9f3a\"],[0.8888888888888888,\"#fdca26\"],[1.0,\"#f0f921\"]],\"sequentialminus\":[[0.0,\"#0d0887\"],[0.1111111111111111,\"#46039f\"],[0.2222222222222222,\"#7201a8\"],[0.3333333333333333,\"#9c179e\"],[0.4444444444444444,\"#bd3786\"],[0.5555555555555556,\"#d8576b\"],[0.6666666666666666,\"#ed7953\"],[0.7777777777777778,\"#fb9f3a\"],[0.8888888888888888,\"#fdca26\"],[1.0,\"#f0f921\"]]},\"colorway\":[\"#636efa\",\"#EF553B\",\"#00cc96\",\"#ab63fa\",\"#FFA15A\",\"#19d3f3\",\"#FF6692\",\"#B6E880\",\"#FF97FF\",\"#FECB52\"],\"font\":{\"color\":\"#2a3f5f\"},\"geo\":{\"bgcolor\":\"white\",\"lakecolor\":\"white\",\"landcolor\":\"#E5ECF6\",\"showlakes\":true,\"showland\":true,\"subunitcolor\":\"white\"},\"hoverlabel\":{\"align\":\"left\"},\"hovermode\":\"closest\",\"mapbox\":{\"style\":\"light\"},\"paper_bgcolor\":\"white\",\"plot_bgcolor\":\"#E5ECF6\",\"polar\":{\"angularaxis\":{\"gridcolor\":\"white\",\"linecolor\":\"white\",\"ticks\":\"\"},\"bgcolor\":\"#E5ECF6\",\"radialaxis\":{\"gridcolor\":\"white\",\"linecolor\":\"white\",\"ticks\":\"\"}},\"scene\":{\"xaxis\":{\"backgroundcolor\":\"#E5ECF6\",\"gridcolor\":\"white\",\"gridwidth\":2,\"linecolor\":\"white\",\"showbackground\":true,\"ticks\":\"\",\"zerolinecolor\":\"white\"},\"yaxis\":{\"backgroundcolor\":\"#E5ECF6\",\"gridcolor\":\"white\",\"gridwidth\":2,\"linecolor\":\"white\",\"showbackground\":true,\"ticks\":\"\",\"zerolinecolor\":\"white\"},\"zaxis\":{\"backgroundcolor\":\"#E5ECF6\",\"gridcolor\":\"white\",\"gridwidth\":2,\"linecolor\":\"white\",\"showbackground\":true,\"ticks\":\"\",\"zerolinecolor\":\"white\"}},\"shapedefaults\":{\"line\":{\"color\":\"#2a3f5f\"}},\"ternary\":{\"aaxis\":{\"gridcolor\":\"white\",\"linecolor\":\"white\",\"ticks\":\"\"},\"baxis\":{\"gridcolor\":\"white\",\"linecolor\":\"white\",\"ticks\":\"\"},\"bgcolor\":\"#E5ECF6\",\"caxis\":{\"gridcolor\":\"white\",\"linecolor\":\"white\",\"ticks\":\"\"}},\"title\":{\"x\":0.05},\"xaxis\":{\"automargin\":true,\"gridcolor\":\"white\",\"linecolor\":\"white\",\"ticks\":\"\",\"title\":{\"standoff\":15},\"zerolinecolor\":\"white\",\"zerolinewidth\":2},\"yaxis\":{\"automargin\":true,\"gridcolor\":\"white\",\"linecolor\":\"white\",\"ticks\":\"\",\"title\":{\"standoff\":15},\"zerolinecolor\":\"white\",\"zerolinewidth\":2}}},\"title\":{\"text\":\"\\u0412\\u043e\\u0440\\u043e\\u043d\\u043a\\u0430 \\u0432\\u0437\\u0430\\u0438\\u043c\\u043e\\u0434\\u0435\\u0439\\u0441\\u0442\\u0432\\u0438\\u0439 \\u043f\\u043e\\u043b\\u044c\\u0437\\u043e\\u0432\\u0430\\u0442\\u0435\\u043b\\u0435\\u0439, \\u043a\\u0442\\u043e \\u0432\\u043e\\u0441\\u043f\\u043e\\u043b\\u044c\\u0437\\u043e\\u0432\\u0430\\u043b\\u0441\\u044f \\u0442\\u043e\\u043b\\u044c\\u043a\\u043e \\u043f\\u043e\\u0438\\u0441\\u043a\\u043e\\u0432\\u043e\\u0439 \\u0441\\u0438\\u0441\\u0442\\u0435\\u043c\\u043e\\u0439\"}},                        {\"responsive\": true}                    ).then(function(){\n",
       "                            \n",
       "var gd = document.getElementById('c0a52fab-1964-43ab-bbca-d161bbc09e03');\n",
       "var x = new MutationObserver(function (mutations, observer) {{\n",
       "        var display = window.getComputedStyle(gd).display;\n",
       "        if (!display || display === 'none') {{\n",
       "            console.log([gd, 'removed!']);\n",
       "            Plotly.purge(gd);\n",
       "            observer.disconnect();\n",
       "        }}\n",
       "}});\n",
       "\n",
       "// Listen for the removal of the full notebook cells\n",
       "var notebookContainer = gd.closest('#notebook-container');\n",
       "if (notebookContainer) {{\n",
       "    x.observe(notebookContainer, {childList: true});\n",
       "}}\n",
       "\n",
       "// Listen for the clearing of the current output cell\n",
       "var outputEl = gd.closest('.output');\n",
       "if (outputEl) {{\n",
       "    x.observe(outputEl, {childList: true});\n",
       "}}\n",
       "\n",
       "                        })                };                });            </script>        </div>"
      ]
     },
     "metadata": {},
     "output_type": "display_data"
    }
   ],
   "source": [
    "fig = go.Figure(\n",
    "    go.Funnel(\n",
    "        y= voronka['уникальные'].index,\n",
    "        x= voronka['уникальные'].values,\n",
    "        textposition = \"auto\",\n",
    "        textinfo = \"value+percent initial+percent previous\"\n",
    "    )\n",
    ")\n",
    "fig.update_layout(title='Воронка взаимодействий пользователей, кто воспользовался только поисковой системой')\n",
    "fig.show()"
   ]
  },
  {
   "cell_type": "markdown",
   "id": "d8b6c3a9",
   "metadata": {},
   "source": [
    "- После просмотра рекомендаций 59% пользователей переходят в поиск.\n",
    "- После поиска 87% пользователей просматривают карту и 52% от общего количества просмотра рекомендаций\n",
    "- После открытия карты объявлений 75% пользователей открывают фотографии объявления и 39% от общего кол-ва поисковых действий\n",
    "- Пользователи, которые смотрят номер телефона составляют 35% от общего кол-ва просмотренных рекомендаций, но от посмотревших фотографии 90%.\n",
    "\n",
    "После всего этого меня осенило, что в нашем приложении можно смотреть номер телефона в ленте карточек(поиска или рекомендаций) и тогда промежуточных действий может не быть и условно воронка может быть и скорее всего такой и является: tips_show -> search -> contacts_show или еще меньше: tips_show -> contacts_show. К огромному сожалению у нас нет User flow пользователя, с ним была бы полная картина происходящего в приложении со стороны пользователя. Посмотрим на еще две возможные воронки:"
   ]
  },
  {
   "cell_type": "code",
   "execution_count": 71,
   "id": "e7d859d4",
   "metadata": {},
   "outputs": [
    {
     "data": {
      "text/html": [
       "<div>\n",
       "<style scoped>\n",
       "    .dataframe tbody tr th:only-of-type {\n",
       "        vertical-align: middle;\n",
       "    }\n",
       "\n",
       "    .dataframe tbody tr th {\n",
       "        vertical-align: top;\n",
       "    }\n",
       "\n",
       "    .dataframe thead th {\n",
       "        text-align: right;\n",
       "    }\n",
       "</style>\n",
       "<table border=\"1\" class=\"dataframe\">\n",
       "  <thead>\n",
       "    <tr style=\"text-align: right;\">\n",
       "      <th></th>\n",
       "      <th>кол-во</th>\n",
       "      <th>уникальные</th>\n",
       "      <th>% уникальных от всех уникальных</th>\n",
       "      <th>conv</th>\n",
       "      <th>prev_step</th>\n",
       "      <th>step_conv</th>\n",
       "    </tr>\n",
       "    <tr>\n",
       "      <th>event_name</th>\n",
       "      <th></th>\n",
       "      <th></th>\n",
       "      <th></th>\n",
       "      <th></th>\n",
       "      <th></th>\n",
       "      <th></th>\n",
       "    </tr>\n",
       "  </thead>\n",
       "  <tbody>\n",
       "    <tr>\n",
       "      <th>tips_show</th>\n",
       "      <td>40055</td>\n",
       "      <td>2801</td>\n",
       "      <td>0.65</td>\n",
       "      <td>1.00</td>\n",
       "      <td>NaN</td>\n",
       "      <td>NaN</td>\n",
       "    </tr>\n",
       "    <tr>\n",
       "      <th>search</th>\n",
       "      <td>6784</td>\n",
       "      <td>1666</td>\n",
       "      <td>0.39</td>\n",
       "      <td>0.59</td>\n",
       "      <td>2801.00</td>\n",
       "      <td>0.59</td>\n",
       "    </tr>\n",
       "    <tr>\n",
       "      <th>contacts_show</th>\n",
       "      <td>4529</td>\n",
       "      <td>981</td>\n",
       "      <td>0.23</td>\n",
       "      <td>0.35</td>\n",
       "      <td>1666.00</td>\n",
       "      <td>0.59</td>\n",
       "    </tr>\n",
       "  </tbody>\n",
       "</table>\n",
       "</div>"
      ],
      "text/plain": [
       "               кол-во  уникальные  % уникальных от всех уникальных  conv  \\\n",
       "event_name                                                                 \n",
       "tips_show       40055        2801                             0.65  1.00   \n",
       "search           6784        1666                             0.39  0.59   \n",
       "contacts_show    4529         981                             0.23  0.35   \n",
       "\n",
       "               prev_step  step_conv  \n",
       "event_name                           \n",
       "tips_show            NaN        NaN  \n",
       "search           2801.00       0.59  \n",
       "contacts_show    1666.00       0.59  "
      ]
     },
     "execution_count": 71,
     "metadata": {},
     "output_type": "execute_result"
    }
   ],
   "source": [
    "voronka_1 = data.query('event_name == \"tips_show\" or event_name == \"search\" or event_name == \"contacts_show\"').groupby('event_name').agg({\n",
    "    'event_date': 'count',\n",
    "    'user_id': 'nunique'\n",
    "}).sort_values(by='user_id', ascending=False)\n",
    "voronka_1['% уникальных от всех уникальных'] = voronka_1['user_id']/data['user_id'].nunique()\n",
    "voronka_1 = voronka_1.rename(columns={'event_date': 'кол-во', 'user_id': 'уникальные'})\n",
    "voronka_1['conv'] = voronka_1['уникальные']/voronka_1['уникальные'].values[0]\n",
    "voronka_1['prev_step'] = voronka_1['уникальные'].shift()\n",
    "voronka_1['step_conv'] = voronka_1['уникальные']/voronka_1['prev_step']#конверсия в следующий шаг\n",
    "voronka_1"
   ]
  },
  {
   "cell_type": "code",
   "execution_count": 72,
   "id": "9722fe19",
   "metadata": {},
   "outputs": [
    {
     "data": {
      "text/html": [
       "<div>\n",
       "<style scoped>\n",
       "    .dataframe tbody tr th:only-of-type {\n",
       "        vertical-align: middle;\n",
       "    }\n",
       "\n",
       "    .dataframe tbody tr th {\n",
       "        vertical-align: top;\n",
       "    }\n",
       "\n",
       "    .dataframe thead th {\n",
       "        text-align: right;\n",
       "    }\n",
       "</style>\n",
       "<table border=\"1\" class=\"dataframe\">\n",
       "  <thead>\n",
       "    <tr style=\"text-align: right;\">\n",
       "      <th></th>\n",
       "      <th>кол-во</th>\n",
       "      <th>уникальные</th>\n",
       "      <th>% уникальных от всех уникальных</th>\n",
       "      <th>conv</th>\n",
       "      <th>prev_step</th>\n",
       "      <th>step_conv</th>\n",
       "    </tr>\n",
       "    <tr>\n",
       "      <th>event_name</th>\n",
       "      <th></th>\n",
       "      <th></th>\n",
       "      <th></th>\n",
       "      <th></th>\n",
       "      <th></th>\n",
       "      <th></th>\n",
       "    </tr>\n",
       "  </thead>\n",
       "  <tbody>\n",
       "    <tr>\n",
       "      <th>tips_show</th>\n",
       "      <td>40055</td>\n",
       "      <td>2801</td>\n",
       "      <td>0.65</td>\n",
       "      <td>1.00</td>\n",
       "      <td>NaN</td>\n",
       "      <td>NaN</td>\n",
       "    </tr>\n",
       "    <tr>\n",
       "      <th>contacts_show</th>\n",
       "      <td>4529</td>\n",
       "      <td>981</td>\n",
       "      <td>0.23</td>\n",
       "      <td>0.35</td>\n",
       "      <td>2801.00</td>\n",
       "      <td>0.35</td>\n",
       "    </tr>\n",
       "  </tbody>\n",
       "</table>\n",
       "</div>"
      ],
      "text/plain": [
       "               кол-во  уникальные  % уникальных от всех уникальных  conv  \\\n",
       "event_name                                                                 \n",
       "tips_show       40055        2801                             0.65  1.00   \n",
       "contacts_show    4529         981                             0.23  0.35   \n",
       "\n",
       "               prev_step  step_conv  \n",
       "event_name                           \n",
       "tips_show            NaN        NaN  \n",
       "contacts_show    2801.00       0.35  "
      ]
     },
     "execution_count": 72,
     "metadata": {},
     "output_type": "execute_result"
    }
   ],
   "source": [
    "voronka_2 = data.query('event_name == \"tips_show\" or event_name == \"contacts_show\"').groupby('event_name').agg({\n",
    "    'event_date': 'count',\n",
    "    'user_id': 'nunique'\n",
    "}).sort_values(by='user_id', ascending=False)\n",
    "voronka_2['% уникальных от всех уникальных'] = voronka_2['user_id']/data['user_id'].nunique()\n",
    "voronka_2 = voronka_2.rename(columns={'event_date': 'кол-во', 'user_id': 'уникальные'})\n",
    "voronka_2['conv'] = voronka_2['уникальные']/voronka_2['уникальные'].values[0]\n",
    "voronka_2['prev_step'] = voronka_2['уникальные'].shift()\n",
    "voronka_2['step_conv'] = voronka_2['уникальные']/voronka_2['prev_step']#конверсия в следующий шаг\n",
    "voronka_2"
   ]
  },
  {
   "cell_type": "markdown",
   "id": "220288cd",
   "metadata": {},
   "source": [
    "Таким образом, посмотрели еще две возможные воронки, по которым конверсия в целевое действие от общего числа составила 35% пользователей, но в воронке с поиском переход из поиска в просмотр контактов 60%."
   ]
  },
  {
   "cell_type": "markdown",
   "id": "ef4be782",
   "metadata": {},
   "source": [
    "# Кластеризация\n",
    "Сформируем для начала таблицу с признаками для кластеризации наших пользователей"
   ]
  },
  {
   "cell_type": "code",
   "execution_count": 73,
   "id": "2b48ac65",
   "metadata": {},
   "outputs": [
    {
     "data": {
      "text/html": [
       "<div>\n",
       "<style scoped>\n",
       "    .dataframe tbody tr th:only-of-type {\n",
       "        vertical-align: middle;\n",
       "    }\n",
       "\n",
       "    .dataframe tbody tr th {\n",
       "        vertical-align: top;\n",
       "    }\n",
       "\n",
       "    .dataframe thead th {\n",
       "        text-align: right;\n",
       "    }\n",
       "</style>\n",
       "<table border=\"1\" class=\"dataframe\">\n",
       "  <thead>\n",
       "    <tr style=\"text-align: right;\">\n",
       "      <th></th>\n",
       "      <th>time_spent</th>\n",
       "      <th>visits</th>\n",
       "    </tr>\n",
       "    <tr>\n",
       "      <th>user_id</th>\n",
       "      <th></th>\n",
       "      <th></th>\n",
       "    </tr>\n",
       "  </thead>\n",
       "  <tbody>\n",
       "    <tr>\n",
       "      <th>0001b1d5-b74a-4cbf-aeb0-7df5947bf349</th>\n",
       "      <td>11.50</td>\n",
       "      <td>4</td>\n",
       "    </tr>\n",
       "    <tr>\n",
       "      <th>00157779-810c-4498-9e05-a1e9e3cedf93</th>\n",
       "      <td>32.71</td>\n",
       "      <td>6</td>\n",
       "    </tr>\n",
       "    <tr>\n",
       "      <th>00463033-5717-4bf1-91b4-09183923b9df</th>\n",
       "      <td>24.72</td>\n",
       "      <td>1</td>\n",
       "    </tr>\n",
       "    <tr>\n",
       "      <th>004690c3-5a84-4bb7-a8af-e0c8f8fca64e</th>\n",
       "      <td>18.46</td>\n",
       "      <td>6</td>\n",
       "    </tr>\n",
       "    <tr>\n",
       "      <th>00551e79-152e-4441-9cf7-565d7eb04090</th>\n",
       "      <td>3.11</td>\n",
       "      <td>3</td>\n",
       "    </tr>\n",
       "  </tbody>\n",
       "</table>\n",
       "</div>"
      ],
      "text/plain": [
       "                                      time_spent  visits\n",
       "user_id                                                 \n",
       "0001b1d5-b74a-4cbf-aeb0-7df5947bf349       11.50       4\n",
       "00157779-810c-4498-9e05-a1e9e3cedf93       32.71       6\n",
       "00463033-5717-4bf1-91b4-09183923b9df       24.72       1\n",
       "004690c3-5a84-4bb7-a8af-e0c8f8fca64e       18.46       6\n",
       "00551e79-152e-4441-9cf7-565d7eb04090        3.11       3"
      ]
     },
     "execution_count": 73,
     "metadata": {},
     "output_type": "execute_result"
    }
   ],
   "source": [
    "# features - таблица с признаками\n",
    "# добавим в нее среднее время продолжительности сессии для каждого пользователя и \n",
    "# число сессий для каждого пользователя\n",
    "features = user_time.groupby('user_id').agg({'time_spent':'mean', 'event_time_stop':'count'})\\\n",
    ".rename(columns={'event_time_stop':'visits'})\n",
    "features.head()"
   ]
  },
  {
   "cell_type": "markdown",
   "id": "52eee189",
   "metadata": {},
   "source": [
    "Напишем функцию которая будет добавлять информацию об интересующем нас признаке в таблицу features:"
   ]
  },
  {
   "cell_type": "code",
   "execution_count": 74,
   "id": "6de690b6",
   "metadata": {
    "scrolled": false
   },
   "outputs": [
    {
     "data": {
      "text/html": [
       "<div>\n",
       "<style scoped>\n",
       "    .dataframe tbody tr th:only-of-type {\n",
       "        vertical-align: middle;\n",
       "    }\n",
       "\n",
       "    .dataframe tbody tr th {\n",
       "        vertical-align: top;\n",
       "    }\n",
       "\n",
       "    .dataframe thead th {\n",
       "        text-align: right;\n",
       "    }\n",
       "</style>\n",
       "<table border=\"1\" class=\"dataframe\">\n",
       "  <thead>\n",
       "    <tr style=\"text-align: right;\">\n",
       "      <th></th>\n",
       "      <th>user_id</th>\n",
       "      <th>time_spent</th>\n",
       "      <th>visits</th>\n",
       "      <th>advert_open</th>\n",
       "      <th>tips_show</th>\n",
       "      <th>map</th>\n",
       "      <th>tips_click</th>\n",
       "      <th>search</th>\n",
       "      <th>contacts_show</th>\n",
       "      <th>photos_show</th>\n",
       "      <th>favorites_add</th>\n",
       "      <th>contacts_call</th>\n",
       "    </tr>\n",
       "  </thead>\n",
       "  <tbody>\n",
       "    <tr>\n",
       "      <th>0</th>\n",
       "      <td>0001b1d5-b74a-4cbf-aeb0-7df5947bf349</td>\n",
       "      <td>11.50</td>\n",
       "      <td>4</td>\n",
       "      <td>0.00</td>\n",
       "      <td>29.00</td>\n",
       "      <td>6.00</td>\n",
       "      <td>0.00</td>\n",
       "      <td>0.00</td>\n",
       "      <td>0.00</td>\n",
       "      <td>0.00</td>\n",
       "      <td>0.00</td>\n",
       "      <td>0.00</td>\n",
       "    </tr>\n",
       "    <tr>\n",
       "      <th>1</th>\n",
       "      <td>00157779-810c-4498-9e05-a1e9e3cedf93</td>\n",
       "      <td>32.71</td>\n",
       "      <td>6</td>\n",
       "      <td>2.00</td>\n",
       "      <td>0.00</td>\n",
       "      <td>0.00</td>\n",
       "      <td>0.00</td>\n",
       "      <td>18.00</td>\n",
       "      <td>11.00</td>\n",
       "      <td>33.00</td>\n",
       "      <td>2.00</td>\n",
       "      <td>5.00</td>\n",
       "    </tr>\n",
       "    <tr>\n",
       "      <th>2</th>\n",
       "      <td>00463033-5717-4bf1-91b4-09183923b9df</td>\n",
       "      <td>24.72</td>\n",
       "      <td>1</td>\n",
       "      <td>0.00</td>\n",
       "      <td>0.00</td>\n",
       "      <td>0.00</td>\n",
       "      <td>0.00</td>\n",
       "      <td>0.00</td>\n",
       "      <td>0.00</td>\n",
       "      <td>10.00</td>\n",
       "      <td>0.00</td>\n",
       "      <td>0.00</td>\n",
       "    </tr>\n",
       "    <tr>\n",
       "      <th>3</th>\n",
       "      <td>004690c3-5a84-4bb7-a8af-e0c8f8fca64e</td>\n",
       "      <td>18.46</td>\n",
       "      <td>6</td>\n",
       "      <td>5.00</td>\n",
       "      <td>4.00</td>\n",
       "      <td>6.00</td>\n",
       "      <td>0.00</td>\n",
       "      <td>17.00</td>\n",
       "      <td>0.00</td>\n",
       "      <td>0.00</td>\n",
       "      <td>0.00</td>\n",
       "      <td>0.00</td>\n",
       "    </tr>\n",
       "    <tr>\n",
       "      <th>4</th>\n",
       "      <td>00551e79-152e-4441-9cf7-565d7eb04090</td>\n",
       "      <td>3.11</td>\n",
       "      <td>3</td>\n",
       "      <td>0.00</td>\n",
       "      <td>0.00</td>\n",
       "      <td>0.00</td>\n",
       "      <td>0.00</td>\n",
       "      <td>1.00</td>\n",
       "      <td>3.00</td>\n",
       "      <td>1.00</td>\n",
       "      <td>0.00</td>\n",
       "      <td>3.00</td>\n",
       "    </tr>\n",
       "  </tbody>\n",
       "</table>\n",
       "</div>"
      ],
      "text/plain": [
       "                                user_id  time_spent  visits  advert_open  \\\n",
       "0  0001b1d5-b74a-4cbf-aeb0-7df5947bf349       11.50       4         0.00   \n",
       "1  00157779-810c-4498-9e05-a1e9e3cedf93       32.71       6         2.00   \n",
       "2  00463033-5717-4bf1-91b4-09183923b9df       24.72       1         0.00   \n",
       "3  004690c3-5a84-4bb7-a8af-e0c8f8fca64e       18.46       6         5.00   \n",
       "4  00551e79-152e-4441-9cf7-565d7eb04090        3.11       3         0.00   \n",
       "\n",
       "   tips_show  map  tips_click  search  contacts_show  photos_show  \\\n",
       "0      29.00 6.00        0.00    0.00           0.00         0.00   \n",
       "1       0.00 0.00        0.00   18.00          11.00        33.00   \n",
       "2       0.00 0.00        0.00    0.00           0.00        10.00   \n",
       "3       4.00 6.00        0.00   17.00           0.00         0.00   \n",
       "4       0.00 0.00        0.00    1.00           3.00         1.00   \n",
       "\n",
       "   favorites_add  contacts_call  \n",
       "0           0.00           0.00  \n",
       "1           2.00           5.00  \n",
       "2           0.00           0.00  \n",
       "3           0.00           0.00  \n",
       "4           0.00           3.00  "
      ]
     },
     "execution_count": 74,
     "metadata": {},
     "output_type": "execute_result"
    }
   ],
   "source": [
    "features_list = data['event_name'].unique()\n",
    "def dobavka(df, features, df_new):\n",
    "    df1 = df.query('event_name == @features')\\\n",
    "    .groupby('user_id', as_index=False)\\\n",
    "    .agg({'event_name':'count'})\\\n",
    "    .rename(columns={'event_name': features})\n",
    "    df_new = pd.merge(df_new, df1, on='user_id', how='left')\n",
    "    return df_new\n",
    "for i in features_list:\n",
    "    features = dobavka(data, i, features)\n",
    "\n",
    "features = features.fillna(0)\n",
    "features.head()"
   ]
  },
  {
   "cell_type": "markdown",
   "id": "e86ee331",
   "metadata": {},
   "source": [
    "Теперь посмотрим на корреляцию признаков и на статистические показатели признаков:"
   ]
  },
  {
   "cell_type": "code",
   "execution_count": 75,
   "id": "dbd93649",
   "metadata": {},
   "outputs": [
    {
     "data": {
      "text/html": [
       "<div>\n",
       "<style scoped>\n",
       "    .dataframe tbody tr th:only-of-type {\n",
       "        vertical-align: middle;\n",
       "    }\n",
       "\n",
       "    .dataframe tbody tr th {\n",
       "        vertical-align: top;\n",
       "    }\n",
       "\n",
       "    .dataframe thead th {\n",
       "        text-align: right;\n",
       "    }\n",
       "</style>\n",
       "<table border=\"1\" class=\"dataframe\">\n",
       "  <thead>\n",
       "    <tr style=\"text-align: right;\">\n",
       "      <th></th>\n",
       "      <th>count</th>\n",
       "      <th>mean</th>\n",
       "      <th>std</th>\n",
       "      <th>min</th>\n",
       "      <th>25%</th>\n",
       "      <th>50%</th>\n",
       "      <th>75%</th>\n",
       "      <th>max</th>\n",
       "    </tr>\n",
       "  </thead>\n",
       "  <tbody>\n",
       "    <tr>\n",
       "      <th>time_spent</th>\n",
       "      <td>4293.00</td>\n",
       "      <td>18.39</td>\n",
       "      <td>22.54</td>\n",
       "      <td>0.00</td>\n",
       "      <td>4.69</td>\n",
       "      <td>10.95</td>\n",
       "      <td>23.92</td>\n",
       "      <td>269.62</td>\n",
       "    </tr>\n",
       "    <tr>\n",
       "      <th>visits</th>\n",
       "      <td>4293.00</td>\n",
       "      <td>2.23</td>\n",
       "      <td>3.00</td>\n",
       "      <td>1.00</td>\n",
       "      <td>1.00</td>\n",
       "      <td>1.00</td>\n",
       "      <td>2.00</td>\n",
       "      <td>72.00</td>\n",
       "    </tr>\n",
       "    <tr>\n",
       "      <th>advert_open</th>\n",
       "      <td>4293.00</td>\n",
       "      <td>1.44</td>\n",
       "      <td>6.16</td>\n",
       "      <td>0.00</td>\n",
       "      <td>0.00</td>\n",
       "      <td>0.00</td>\n",
       "      <td>0.00</td>\n",
       "      <td>137.00</td>\n",
       "    </tr>\n",
       "    <tr>\n",
       "      <th>tips_show</th>\n",
       "      <td>4293.00</td>\n",
       "      <td>9.33</td>\n",
       "      <td>19.88</td>\n",
       "      <td>0.00</td>\n",
       "      <td>0.00</td>\n",
       "      <td>4.00</td>\n",
       "      <td>10.00</td>\n",
       "      <td>346.00</td>\n",
       "    </tr>\n",
       "    <tr>\n",
       "      <th>map</th>\n",
       "      <td>4293.00</td>\n",
       "      <td>0.90</td>\n",
       "      <td>3.04</td>\n",
       "      <td>0.00</td>\n",
       "      <td>0.00</td>\n",
       "      <td>0.00</td>\n",
       "      <td>1.00</td>\n",
       "      <td>71.00</td>\n",
       "    </tr>\n",
       "    <tr>\n",
       "      <th>tips_click</th>\n",
       "      <td>4293.00</td>\n",
       "      <td>0.19</td>\n",
       "      <td>1.04</td>\n",
       "      <td>0.00</td>\n",
       "      <td>0.00</td>\n",
       "      <td>0.00</td>\n",
       "      <td>0.00</td>\n",
       "      <td>30.00</td>\n",
       "    </tr>\n",
       "    <tr>\n",
       "      <th>search</th>\n",
       "      <td>4293.00</td>\n",
       "      <td>1.58</td>\n",
       "      <td>3.78</td>\n",
       "      <td>0.00</td>\n",
       "      <td>0.00</td>\n",
       "      <td>0.00</td>\n",
       "      <td>2.00</td>\n",
       "      <td>68.00</td>\n",
       "    </tr>\n",
       "    <tr>\n",
       "      <th>contacts_show</th>\n",
       "      <td>4293.00</td>\n",
       "      <td>1.05</td>\n",
       "      <td>4.99</td>\n",
       "      <td>0.00</td>\n",
       "      <td>0.00</td>\n",
       "      <td>0.00</td>\n",
       "      <td>0.00</td>\n",
       "      <td>137.00</td>\n",
       "    </tr>\n",
       "    <tr>\n",
       "      <th>photos_show</th>\n",
       "      <td>4293.00</td>\n",
       "      <td>2.33</td>\n",
       "      <td>8.39</td>\n",
       "      <td>0.00</td>\n",
       "      <td>0.00</td>\n",
       "      <td>0.00</td>\n",
       "      <td>1.00</td>\n",
       "      <td>177.00</td>\n",
       "    </tr>\n",
       "    <tr>\n",
       "      <th>favorites_add</th>\n",
       "      <td>4293.00</td>\n",
       "      <td>0.33</td>\n",
       "      <td>2.11</td>\n",
       "      <td>0.00</td>\n",
       "      <td>0.00</td>\n",
       "      <td>0.00</td>\n",
       "      <td>0.00</td>\n",
       "      <td>63.00</td>\n",
       "    </tr>\n",
       "    <tr>\n",
       "      <th>contacts_call</th>\n",
       "      <td>4293.00</td>\n",
       "      <td>0.13</td>\n",
       "      <td>0.77</td>\n",
       "      <td>0.00</td>\n",
       "      <td>0.00</td>\n",
       "      <td>0.00</td>\n",
       "      <td>0.00</td>\n",
       "      <td>17.00</td>\n",
       "    </tr>\n",
       "  </tbody>\n",
       "</table>\n",
       "</div>"
      ],
      "text/plain": [
       "                count  mean   std  min  25%   50%   75%    max\n",
       "time_spent    4293.00 18.39 22.54 0.00 4.69 10.95 23.92 269.62\n",
       "visits        4293.00  2.23  3.00 1.00 1.00  1.00  2.00  72.00\n",
       "advert_open   4293.00  1.44  6.16 0.00 0.00  0.00  0.00 137.00\n",
       "tips_show     4293.00  9.33 19.88 0.00 0.00  4.00 10.00 346.00\n",
       "map           4293.00  0.90  3.04 0.00 0.00  0.00  1.00  71.00\n",
       "tips_click    4293.00  0.19  1.04 0.00 0.00  0.00  0.00  30.00\n",
       "search        4293.00  1.58  3.78 0.00 0.00  0.00  2.00  68.00\n",
       "contacts_show 4293.00  1.05  4.99 0.00 0.00  0.00  0.00 137.00\n",
       "photos_show   4293.00  2.33  8.39 0.00 0.00  0.00  1.00 177.00\n",
       "favorites_add 4293.00  0.33  2.11 0.00 0.00  0.00  0.00  63.00\n",
       "contacts_call 4293.00  0.13  0.77 0.00 0.00  0.00  0.00  17.00"
      ]
     },
     "execution_count": 75,
     "metadata": {},
     "output_type": "execute_result"
    }
   ],
   "source": [
    "features.describe().T"
   ]
  },
  {
   "cell_type": "code",
   "execution_count": 76,
   "id": "ba98c32f",
   "metadata": {},
   "outputs": [
    {
     "data": {
      "image/png": "[encoded data removed]",
      "text/plain": [
       "<Figure size 1152x648 with 2 Axes>"
      ]
     },
     "metadata": {},
     "output_type": "display_data"
    }
   ],
   "source": [
    "cm = features.corr() #вычисляем матрицу корреляций\n",
    "fig, ax = plt.subplots(figsize=(16, 9))\n",
    "\n",
    "#нарисуем тепловую карту с подписями для матрицы корреляций\n",
    "sns.heatmap(cm, annot=True, square=True)\n",
    "    \n",
    "plt.show()"
   ]
  },
  {
   "cell_type": "markdown",
   "id": "eba859d9",
   "metadata": {},
   "source": [
    "Заметна достаточно сильная корреляция с целевой переменной contacts_show у признаков: \n",
    "- visits — общее количество посещений\n",
    "- tips_show  — пользователь увидел рекомендованные объявления\n",
    "- map  — пользователь открыл карту размещенных объявлений\n",
    "- tips_click  — пользователь кликнул по рекомендованному объявлению\n",
    "- contacts_call  — пользователь позвонил по номеру телефона на карточке объявления\n",
    "\n",
    "Предполагаю, что с этим связана общая заинтересованность пользователей приложением и логично, что более заинтересованного в нашем приложении пользователя будет интересовать просмотр контактов. По всем остальным признакам можно сказать, что корреляции нет или она очень мала. \n",
    "Теперь стандартизируем данные, а потом построим матрицу расстояний на стандартизованной матрице признаков и нарисуем дендрограмму. На основании полученного графика предположим, какое количество кластеров можно выделить."
   ]
  },
  {
   "cell_type": "code",
   "execution_count": 77,
   "id": "ef21de32",
   "metadata": {
    "scrolled": false
   },
   "outputs": [
    {
     "data": {
      "image/png": "[encoded data removed]",
      "text/plain": [
       "<Figure size 1080x720 with 1 Axes>"
      ]
     },
     "metadata": {},
     "output_type": "display_data"
    }
   ],
   "source": [
    "#выделим данные для кластеризации, 'tips_show' уберем, так как это событие не влияет на поведение пользователей \n",
    "X = features.drop(['user_id', 'contacts_show','tips_show'], axis=1)#,'tips_show' \n",
    "\n",
    "#стандартизируем\n",
    "sc = StandardScaler()\n",
    "X_sc = sc.fit_transform(X)\n",
    "\n",
    "#строим таблицу расстояний между объектами\n",
    "linked = linkage(X_sc, method = 'ward') \n",
    "\n",
    "#визуализируем\n",
    "plt.figure(figsize=(15, 10))  \n",
    "dendrogram(linked, orientation='top')\n",
    "plt.show() "
   ]
  },
  {
   "cell_type": "markdown",
   "id": "26aeb8dc",
   "metadata": {},
   "source": [
    "Разобьём данные на 3 кластера, желтая часть получилась в несколько раз больше других. Теперь обучим модель кластеризации на основании алгоритма K-Means и спрогнозируем кластеры клиентов."
   ]
  },
  {
   "cell_type": "code",
   "execution_count": 78,
   "id": "fddab449",
   "metadata": {
    "scrolled": false
   },
   "outputs": [
    {
     "data": {
      "text/html": [
       "<div>\n",
       "<style scoped>\n",
       "    .dataframe tbody tr th:only-of-type {\n",
       "        vertical-align: middle;\n",
       "    }\n",
       "\n",
       "    .dataframe tbody tr th {\n",
       "        vertical-align: top;\n",
       "    }\n",
       "\n",
       "    .dataframe thead th {\n",
       "        text-align: right;\n",
       "    }\n",
       "</style>\n",
       "<table border=\"1\" class=\"dataframe\">\n",
       "  <thead>\n",
       "    <tr style=\"text-align: right;\">\n",
       "      <th>km_cluster</th>\n",
       "      <th>0</th>\n",
       "      <th>1</th>\n",
       "      <th>2</th>\n",
       "    </tr>\n",
       "  </thead>\n",
       "  <tbody>\n",
       "    <tr>\n",
       "      <th>time_spent</th>\n",
       "      <td>17.50</td>\n",
       "      <td>45.94</td>\n",
       "      <td>21.69</td>\n",
       "    </tr>\n",
       "    <tr>\n",
       "      <th>visits</th>\n",
       "      <td>1.87</td>\n",
       "      <td>8.80</td>\n",
       "      <td>9.89</td>\n",
       "    </tr>\n",
       "    <tr>\n",
       "      <th>advert_open</th>\n",
       "      <td>0.80</td>\n",
       "      <td>21.74</td>\n",
       "      <td>2.95</td>\n",
       "    </tr>\n",
       "    <tr>\n",
       "      <th>tips_show</th>\n",
       "      <td>7.65</td>\n",
       "      <td>70.70</td>\n",
       "      <td>2.06</td>\n",
       "    </tr>\n",
       "    <tr>\n",
       "      <th>map</th>\n",
       "      <td>0.67</td>\n",
       "      <td>9.04</td>\n",
       "      <td>0.43</td>\n",
       "    </tr>\n",
       "    <tr>\n",
       "      <th>tips_click</th>\n",
       "      <td>0.12</td>\n",
       "      <td>2.64</td>\n",
       "      <td>0.02</td>\n",
       "    </tr>\n",
       "    <tr>\n",
       "      <th>search</th>\n",
       "      <td>1.30</td>\n",
       "      <td>3.86</td>\n",
       "      <td>11.36</td>\n",
       "    </tr>\n",
       "    <tr>\n",
       "      <th>contacts_show</th>\n",
       "      <td>0.76</td>\n",
       "      <td>8.12</td>\n",
       "      <td>4.91</td>\n",
       "    </tr>\n",
       "    <tr>\n",
       "      <th>photos_show</th>\n",
       "      <td>1.64</td>\n",
       "      <td>0.00</td>\n",
       "      <td>37.87</td>\n",
       "    </tr>\n",
       "    <tr>\n",
       "      <th>favorites_add</th>\n",
       "      <td>0.22</td>\n",
       "      <td>2.48</td>\n",
       "      <td>2.39</td>\n",
       "    </tr>\n",
       "    <tr>\n",
       "      <th>contacts_call</th>\n",
       "      <td>0.07</td>\n",
       "      <td>0.00</td>\n",
       "      <td>2.94</td>\n",
       "    </tr>\n",
       "  </tbody>\n",
       "</table>\n",
       "</div>"
      ],
      "text/plain": [
       "km_cluster        0     1     2\n",
       "time_spent    17.50 45.94 21.69\n",
       "visits         1.87  8.80  9.89\n",
       "advert_open    0.80 21.74  2.95\n",
       "tips_show      7.65 70.70  2.06\n",
       "map            0.67  9.04  0.43\n",
       "tips_click     0.12  2.64  0.02\n",
       "search         1.30  3.86 11.36\n",
       "contacts_show  0.76  8.12  4.91\n",
       "photos_show    1.64  0.00 37.87\n",
       "favorites_add  0.22  2.48  2.39\n",
       "contacts_call  0.07  0.00  2.94"
      ]
     },
     "metadata": {},
     "output_type": "display_data"
    },
    {
     "name": "stdout",
     "output_type": "stream",
     "text": [
      "Размеры кластеров\n"
     ]
    },
    {
     "data": {
      "text/html": [
       "<div>\n",
       "<style scoped>\n",
       "    .dataframe tbody tr th:only-of-type {\n",
       "        vertical-align: middle;\n",
       "    }\n",
       "\n",
       "    .dataframe tbody tr th {\n",
       "        vertical-align: top;\n",
       "    }\n",
       "\n",
       "    .dataframe thead th {\n",
       "        text-align: right;\n",
       "    }\n",
       "</style>\n",
       "<table border=\"1\" class=\"dataframe\">\n",
       "  <thead>\n",
       "    <tr style=\"text-align: right;\">\n",
       "      <th></th>\n",
       "      <th>count</th>\n",
       "    </tr>\n",
       "    <tr>\n",
       "      <th>km_cluster</th>\n",
       "      <th></th>\n",
       "    </tr>\n",
       "  </thead>\n",
       "  <tbody>\n",
       "    <tr>\n",
       "      <th>0</th>\n",
       "      <td>4084</td>\n",
       "    </tr>\n",
       "    <tr>\n",
       "      <th>1</th>\n",
       "      <td>122</td>\n",
       "    </tr>\n",
       "    <tr>\n",
       "      <th>2</th>\n",
       "      <td>87</td>\n",
       "    </tr>\n",
       "  </tbody>\n",
       "</table>\n",
       "</div>"
      ],
      "text/plain": [
       "            count\n",
       "km_cluster       \n",
       "0            4084\n",
       "1             122\n",
       "2              87"
      ]
     },
     "metadata": {},
     "output_type": "display_data"
    },
    {
     "name": "stdout",
     "output_type": "stream",
     "text": [
      "Silhouette_score (метрика силуэта): 0.74\n"
     ]
    }
   ],
   "source": [
    "km = KMeans(n_clusters = 3, random_state = 1)\n",
    "\n",
    "#спрогнозируем кластеры для наблюдений\n",
    "labels = km.fit_predict(X_sc)\n",
    "\n",
    "#метки кластера в поле нашего датасета\n",
    "features['km_cluster'] = labels\n",
    "\n",
    "#статистика по средним значениям наших признаков по кластеру\n",
    "display(features.groupby('km_cluster').agg('mean').T)\n",
    "print('Размеры кластеров')\n",
    "display(features.groupby('km_cluster').agg(count=('user_id','count')))\n",
    "\n",
    "#метрика силуэта для нашей кластеризации\n",
    "print('Silhouette_score (метрика силуэта): {:.2f}'.format(silhouette_score(X_sc, labels)))"
   ]
  },
  {
   "cell_type": "markdown",
   "id": "04308e43",
   "metadata": {},
   "source": [
    "Посмотрим на распределения признаков и опишем данные:"
   ]
  },
  {
   "cell_type": "code",
   "execution_count": 79,
   "id": "f73f83dd",
   "metadata": {},
   "outputs": [
    {
     "data": {
      "text/html": [
       "<div>\n",
       "<style scoped>\n",
       "    .dataframe tbody tr th:only-of-type {\n",
       "        vertical-align: middle;\n",
       "    }\n",
       "\n",
       "    .dataframe tbody tr th {\n",
       "        vertical-align: top;\n",
       "    }\n",
       "\n",
       "    .dataframe thead th {\n",
       "        text-align: right;\n",
       "    }\n",
       "</style>\n",
       "<table border=\"1\" class=\"dataframe\">\n",
       "  <thead>\n",
       "    <tr style=\"text-align: right;\">\n",
       "      <th></th>\n",
       "      <th>time_spent</th>\n",
       "      <th>visits</th>\n",
       "      <th>advert_open</th>\n",
       "      <th>tips_show</th>\n",
       "      <th>map</th>\n",
       "      <th>tips_click</th>\n",
       "      <th>search</th>\n",
       "      <th>contacts_show</th>\n",
       "      <th>photos_show</th>\n",
       "      <th>favorites_add</th>\n",
       "      <th>contacts_call</th>\n",
       "      <th>km_cluster</th>\n",
       "    </tr>\n",
       "  </thead>\n",
       "  <tbody>\n",
       "    <tr>\n",
       "      <th>count</th>\n",
       "      <td>4084.00</td>\n",
       "      <td>4084.00</td>\n",
       "      <td>4084.00</td>\n",
       "      <td>4084.00</td>\n",
       "      <td>4084.00</td>\n",
       "      <td>4084.00</td>\n",
       "      <td>4084.00</td>\n",
       "      <td>4084.00</td>\n",
       "      <td>4084.00</td>\n",
       "      <td>4084.00</td>\n",
       "      <td>4084.00</td>\n",
       "      <td>4084.00</td>\n",
       "    </tr>\n",
       "    <tr>\n",
       "      <th>mean</th>\n",
       "      <td>17.50</td>\n",
       "      <td>1.87</td>\n",
       "      <td>0.80</td>\n",
       "      <td>7.65</td>\n",
       "      <td>0.67</td>\n",
       "      <td>0.12</td>\n",
       "      <td>1.30</td>\n",
       "      <td>0.76</td>\n",
       "      <td>1.64</td>\n",
       "      <td>0.22</td>\n",
       "      <td>0.07</td>\n",
       "      <td>0.00</td>\n",
       "    </tr>\n",
       "    <tr>\n",
       "      <th>std</th>\n",
       "      <td>21.27</td>\n",
       "      <td>1.60</td>\n",
       "      <td>2.68</td>\n",
       "      <td>12.75</td>\n",
       "      <td>1.41</td>\n",
       "      <td>0.56</td>\n",
       "      <td>2.41</td>\n",
       "      <td>3.08</td>\n",
       "      <td>4.28</td>\n",
       "      <td>1.24</td>\n",
       "      <td>0.39</td>\n",
       "      <td>0.00</td>\n",
       "    </tr>\n",
       "    <tr>\n",
       "      <th>min</th>\n",
       "      <td>0.00</td>\n",
       "      <td>1.00</td>\n",
       "      <td>0.00</td>\n",
       "      <td>0.00</td>\n",
       "      <td>0.00</td>\n",
       "      <td>0.00</td>\n",
       "      <td>0.00</td>\n",
       "      <td>0.00</td>\n",
       "      <td>0.00</td>\n",
       "      <td>0.00</td>\n",
       "      <td>0.00</td>\n",
       "      <td>0.00</td>\n",
       "    </tr>\n",
       "    <tr>\n",
       "      <th>25%</th>\n",
       "      <td>4.44</td>\n",
       "      <td>1.00</td>\n",
       "      <td>0.00</td>\n",
       "      <td>0.00</td>\n",
       "      <td>0.00</td>\n",
       "      <td>0.00</td>\n",
       "      <td>0.00</td>\n",
       "      <td>0.00</td>\n",
       "      <td>0.00</td>\n",
       "      <td>0.00</td>\n",
       "      <td>0.00</td>\n",
       "      <td>0.00</td>\n",
       "    </tr>\n",
       "    <tr>\n",
       "      <th>50%</th>\n",
       "      <td>10.42</td>\n",
       "      <td>1.00</td>\n",
       "      <td>0.00</td>\n",
       "      <td>4.00</td>\n",
       "      <td>0.00</td>\n",
       "      <td>0.00</td>\n",
       "      <td>0.00</td>\n",
       "      <td>0.00</td>\n",
       "      <td>0.00</td>\n",
       "      <td>0.00</td>\n",
       "      <td>0.00</td>\n",
       "      <td>0.00</td>\n",
       "    </tr>\n",
       "    <tr>\n",
       "      <th>75%</th>\n",
       "      <td>22.45</td>\n",
       "      <td>2.00</td>\n",
       "      <td>0.00</td>\n",
       "      <td>10.00</td>\n",
       "      <td>1.00</td>\n",
       "      <td>0.00</td>\n",
       "      <td>2.00</td>\n",
       "      <td>0.00</td>\n",
       "      <td>0.00</td>\n",
       "      <td>0.00</td>\n",
       "      <td>0.00</td>\n",
       "      <td>0.00</td>\n",
       "    </tr>\n",
       "    <tr>\n",
       "      <th>max</th>\n",
       "      <td>252.15</td>\n",
       "      <td>25.00</td>\n",
       "      <td>33.00</td>\n",
       "      <td>188.00</td>\n",
       "      <td>19.00</td>\n",
       "      <td>7.00</td>\n",
       "      <td>25.00</td>\n",
       "      <td>69.00</td>\n",
       "      <td>45.00</td>\n",
       "      <td>21.00</td>\n",
       "      <td>5.00</td>\n",
       "      <td>0.00</td>\n",
       "    </tr>\n",
       "  </tbody>\n",
       "</table>\n",
       "</div>"
      ],
      "text/plain": [
       "       time_spent  visits  advert_open  tips_show     map  tips_click  search  \\\n",
       "count     4084.00 4084.00      4084.00    4084.00 4084.00     4084.00 4084.00   \n",
       "mean        17.50    1.87         0.80       7.65    0.67        0.12    1.30   \n",
       "std         21.27    1.60         2.68      12.75    1.41        0.56    2.41   \n",
       "min          0.00    1.00         0.00       0.00    0.00        0.00    0.00   \n",
       "25%          4.44    1.00         0.00       0.00    0.00        0.00    0.00   \n",
       "50%         10.42    1.00         0.00       4.00    0.00        0.00    0.00   \n",
       "75%         22.45    2.00         0.00      10.00    1.00        0.00    2.00   \n",
       "max        252.15   25.00        33.00     188.00   19.00        7.00   25.00   \n",
       "\n",
       "       contacts_show  photos_show  favorites_add  contacts_call  km_cluster  \n",
       "count        4084.00      4084.00        4084.00        4084.00     4084.00  \n",
       "mean            0.76         1.64           0.22           0.07        0.00  \n",
       "std             3.08         4.28           1.24           0.39        0.00  \n",
       "min             0.00         0.00           0.00           0.00        0.00  \n",
       "25%             0.00         0.00           0.00           0.00        0.00  \n",
       "50%             0.00         0.00           0.00           0.00        0.00  \n",
       "75%             0.00         0.00           0.00           0.00        0.00  \n",
       "max            69.00        45.00          21.00           5.00        0.00  "
      ]
     },
     "execution_count": 79,
     "metadata": {},
     "output_type": "execute_result"
    }
   ],
   "source": [
    "features.query('km_cluster == 0').describe()"
   ]
  },
  {
   "cell_type": "markdown",
   "id": "773c0439",
   "metadata": {},
   "source": [
    "Самая большая когорта у нас самая малоактивная, у них и время в приложении маленькое, и все остальные признаки в среднем близки к нулю. Эта когорта приходит в наше приложение, не находит нужных им вещей и больше не приходят в наше приложение, а также у них медианное значение просмотров рекомендаций равно четырем. "
   ]
  },
  {
   "cell_type": "code",
   "execution_count": 80,
   "id": "81388346",
   "metadata": {},
   "outputs": [
    {
     "data": {
      "text/html": [
       "<div>\n",
       "<style scoped>\n",
       "    .dataframe tbody tr th:only-of-type {\n",
       "        vertical-align: middle;\n",
       "    }\n",
       "\n",
       "    .dataframe tbody tr th {\n",
       "        vertical-align: top;\n",
       "    }\n",
       "\n",
       "    .dataframe thead th {\n",
       "        text-align: right;\n",
       "    }\n",
       "</style>\n",
       "<table border=\"1\" class=\"dataframe\">\n",
       "  <thead>\n",
       "    <tr style=\"text-align: right;\">\n",
       "      <th></th>\n",
       "      <th>time_spent</th>\n",
       "      <th>visits</th>\n",
       "      <th>advert_open</th>\n",
       "      <th>tips_show</th>\n",
       "      <th>map</th>\n",
       "      <th>tips_click</th>\n",
       "      <th>search</th>\n",
       "      <th>contacts_show</th>\n",
       "      <th>photos_show</th>\n",
       "      <th>favorites_add</th>\n",
       "      <th>contacts_call</th>\n",
       "      <th>km_cluster</th>\n",
       "    </tr>\n",
       "  </thead>\n",
       "  <tbody>\n",
       "    <tr>\n",
       "      <th>count</th>\n",
       "      <td>122.00</td>\n",
       "      <td>122.00</td>\n",
       "      <td>122.00</td>\n",
       "      <td>122.00</td>\n",
       "      <td>122.00</td>\n",
       "      <td>122.00</td>\n",
       "      <td>122.00</td>\n",
       "      <td>122.00</td>\n",
       "      <td>122.00</td>\n",
       "      <td>122.00</td>\n",
       "      <td>122.00</td>\n",
       "      <td>122.00</td>\n",
       "    </tr>\n",
       "    <tr>\n",
       "      <th>mean</th>\n",
       "      <td>45.94</td>\n",
       "      <td>8.80</td>\n",
       "      <td>21.74</td>\n",
       "      <td>70.70</td>\n",
       "      <td>9.04</td>\n",
       "      <td>2.64</td>\n",
       "      <td>3.86</td>\n",
       "      <td>8.12</td>\n",
       "      <td>0.00</td>\n",
       "      <td>2.48</td>\n",
       "      <td>0.00</td>\n",
       "      <td>1.00</td>\n",
       "    </tr>\n",
       "    <tr>\n",
       "      <th>std</th>\n",
       "      <td>41.65</td>\n",
       "      <td>10.06</td>\n",
       "      <td>24.91</td>\n",
       "      <td>66.72</td>\n",
       "      <td>13.66</td>\n",
       "      <td>4.66</td>\n",
       "      <td>7.26</td>\n",
       "      <td>21.85</td>\n",
       "      <td>0.00</td>\n",
       "      <td>8.75</td>\n",
       "      <td>0.00</td>\n",
       "      <td>0.00</td>\n",
       "    </tr>\n",
       "    <tr>\n",
       "      <th>min</th>\n",
       "      <td>1.20</td>\n",
       "      <td>1.00</td>\n",
       "      <td>0.00</td>\n",
       "      <td>0.00</td>\n",
       "      <td>0.00</td>\n",
       "      <td>0.00</td>\n",
       "      <td>0.00</td>\n",
       "      <td>0.00</td>\n",
       "      <td>0.00</td>\n",
       "      <td>0.00</td>\n",
       "      <td>0.00</td>\n",
       "      <td>1.00</td>\n",
       "    </tr>\n",
       "    <tr>\n",
       "      <th>25%</th>\n",
       "      <td>21.66</td>\n",
       "      <td>2.00</td>\n",
       "      <td>0.00</td>\n",
       "      <td>30.00</td>\n",
       "      <td>1.00</td>\n",
       "      <td>0.00</td>\n",
       "      <td>0.00</td>\n",
       "      <td>0.00</td>\n",
       "      <td>0.00</td>\n",
       "      <td>0.00</td>\n",
       "      <td>0.00</td>\n",
       "      <td>1.00</td>\n",
       "    </tr>\n",
       "    <tr>\n",
       "      <th>50%</th>\n",
       "      <td>35.70</td>\n",
       "      <td>5.00</td>\n",
       "      <td>17.00</td>\n",
       "      <td>50.50</td>\n",
       "      <td>4.50</td>\n",
       "      <td>0.00</td>\n",
       "      <td>0.00</td>\n",
       "      <td>0.00</td>\n",
       "      <td>0.00</td>\n",
       "      <td>0.00</td>\n",
       "      <td>0.00</td>\n",
       "      <td>1.00</td>\n",
       "    </tr>\n",
       "    <tr>\n",
       "      <th>75%</th>\n",
       "      <td>53.44</td>\n",
       "      <td>11.00</td>\n",
       "      <td>35.75</td>\n",
       "      <td>89.00</td>\n",
       "      <td>10.00</td>\n",
       "      <td>3.75</td>\n",
       "      <td>4.00</td>\n",
       "      <td>5.00</td>\n",
       "      <td>0.00</td>\n",
       "      <td>0.00</td>\n",
       "      <td>0.00</td>\n",
       "      <td>1.00</td>\n",
       "    </tr>\n",
       "    <tr>\n",
       "      <th>max</th>\n",
       "      <td>269.62</td>\n",
       "      <td>72.00</td>\n",
       "      <td>137.00</td>\n",
       "      <td>346.00</td>\n",
       "      <td>71.00</td>\n",
       "      <td>30.00</td>\n",
       "      <td>48.00</td>\n",
       "      <td>137.00</td>\n",
       "      <td>0.00</td>\n",
       "      <td>63.00</td>\n",
       "      <td>0.00</td>\n",
       "      <td>1.00</td>\n",
       "    </tr>\n",
       "  </tbody>\n",
       "</table>\n",
       "</div>"
      ],
      "text/plain": [
       "       time_spent  visits  advert_open  tips_show    map  tips_click  search  \\\n",
       "count      122.00  122.00       122.00     122.00 122.00      122.00  122.00   \n",
       "mean        45.94    8.80        21.74      70.70   9.04        2.64    3.86   \n",
       "std         41.65   10.06        24.91      66.72  13.66        4.66    7.26   \n",
       "min          1.20    1.00         0.00       0.00   0.00        0.00    0.00   \n",
       "25%         21.66    2.00         0.00      30.00   1.00        0.00    0.00   \n",
       "50%         35.70    5.00        17.00      50.50   4.50        0.00    0.00   \n",
       "75%         53.44   11.00        35.75      89.00  10.00        3.75    4.00   \n",
       "max        269.62   72.00       137.00     346.00  71.00       30.00   48.00   \n",
       "\n",
       "       contacts_show  photos_show  favorites_add  contacts_call  km_cluster  \n",
       "count         122.00       122.00         122.00         122.00      122.00  \n",
       "mean            8.12         0.00           2.48           0.00        1.00  \n",
       "std            21.85         0.00           8.75           0.00        0.00  \n",
       "min             0.00         0.00           0.00           0.00        1.00  \n",
       "25%             0.00         0.00           0.00           0.00        1.00  \n",
       "50%             0.00         0.00           0.00           0.00        1.00  \n",
       "75%             5.00         0.00           0.00           0.00        1.00  \n",
       "max           137.00         0.00          63.00           0.00        1.00  "
      ]
     },
     "execution_count": 80,
     "metadata": {},
     "output_type": "execute_result"
    }
   ],
   "source": [
    "features.query('km_cluster == 1').describe()"
   ]
  },
  {
   "cell_type": "markdown",
   "id": "312bd72f",
   "metadata": {},
   "source": [
    "Вторая когорта, тут собраны пользователи, которые в разы чаще совершают все события. Видимо эта когорта с самыми лояльными для нас пользователями."
   ]
  },
  {
   "cell_type": "code",
   "execution_count": 81,
   "id": "2160e0dc",
   "metadata": {},
   "outputs": [
    {
     "data": {
      "text/html": [
       "<div>\n",
       "<style scoped>\n",
       "    .dataframe tbody tr th:only-of-type {\n",
       "        vertical-align: middle;\n",
       "    }\n",
       "\n",
       "    .dataframe tbody tr th {\n",
       "        vertical-align: top;\n",
       "    }\n",
       "\n",
       "    .dataframe thead th {\n",
       "        text-align: right;\n",
       "    }\n",
       "</style>\n",
       "<table border=\"1\" class=\"dataframe\">\n",
       "  <thead>\n",
       "    <tr style=\"text-align: right;\">\n",
       "      <th></th>\n",
       "      <th>time_spent</th>\n",
       "      <th>visits</th>\n",
       "      <th>advert_open</th>\n",
       "      <th>tips_show</th>\n",
       "      <th>map</th>\n",
       "      <th>tips_click</th>\n",
       "      <th>search</th>\n",
       "      <th>contacts_show</th>\n",
       "      <th>photos_show</th>\n",
       "      <th>favorites_add</th>\n",
       "      <th>contacts_call</th>\n",
       "      <th>km_cluster</th>\n",
       "    </tr>\n",
       "  </thead>\n",
       "  <tbody>\n",
       "    <tr>\n",
       "      <th>count</th>\n",
       "      <td>87.00</td>\n",
       "      <td>87.00</td>\n",
       "      <td>87.00</td>\n",
       "      <td>87.00</td>\n",
       "      <td>87.00</td>\n",
       "      <td>87.00</td>\n",
       "      <td>87.00</td>\n",
       "      <td>87.00</td>\n",
       "      <td>87.00</td>\n",
       "      <td>87.00</td>\n",
       "      <td>87.00</td>\n",
       "      <td>87.00</td>\n",
       "    </tr>\n",
       "    <tr>\n",
       "      <th>mean</th>\n",
       "      <td>21.69</td>\n",
       "      <td>9.89</td>\n",
       "      <td>2.95</td>\n",
       "      <td>2.06</td>\n",
       "      <td>0.43</td>\n",
       "      <td>0.02</td>\n",
       "      <td>11.36</td>\n",
       "      <td>4.91</td>\n",
       "      <td>37.87</td>\n",
       "      <td>2.39</td>\n",
       "      <td>2.94</td>\n",
       "      <td>2.00</td>\n",
       "    </tr>\n",
       "    <tr>\n",
       "      <th>std</th>\n",
       "      <td>17.40</td>\n",
       "      <td>7.59</td>\n",
       "      <td>8.45</td>\n",
       "      <td>14.25</td>\n",
       "      <td>2.73</td>\n",
       "      <td>0.21</td>\n",
       "      <td>15.94</td>\n",
       "      <td>5.53</td>\n",
       "      <td>36.49</td>\n",
       "      <td>5.52</td>\n",
       "      <td>3.71</td>\n",
       "      <td>0.00</td>\n",
       "    </tr>\n",
       "    <tr>\n",
       "      <th>min</th>\n",
       "      <td>0.57</td>\n",
       "      <td>1.00</td>\n",
       "      <td>0.00</td>\n",
       "      <td>0.00</td>\n",
       "      <td>0.00</td>\n",
       "      <td>0.00</td>\n",
       "      <td>0.00</td>\n",
       "      <td>0.00</td>\n",
       "      <td>0.00</td>\n",
       "      <td>0.00</td>\n",
       "      <td>0.00</td>\n",
       "      <td>2.00</td>\n",
       "    </tr>\n",
       "    <tr>\n",
       "      <th>25%</th>\n",
       "      <td>10.77</td>\n",
       "      <td>4.50</td>\n",
       "      <td>0.00</td>\n",
       "      <td>0.00</td>\n",
       "      <td>0.00</td>\n",
       "      <td>0.00</td>\n",
       "      <td>0.50</td>\n",
       "      <td>0.00</td>\n",
       "      <td>9.50</td>\n",
       "      <td>0.00</td>\n",
       "      <td>0.00</td>\n",
       "      <td>2.00</td>\n",
       "    </tr>\n",
       "    <tr>\n",
       "      <th>50%</th>\n",
       "      <td>15.54</td>\n",
       "      <td>8.00</td>\n",
       "      <td>0.00</td>\n",
       "      <td>0.00</td>\n",
       "      <td>0.00</td>\n",
       "      <td>0.00</td>\n",
       "      <td>3.00</td>\n",
       "      <td>3.00</td>\n",
       "      <td>31.00</td>\n",
       "      <td>0.00</td>\n",
       "      <td>2.00</td>\n",
       "      <td>2.00</td>\n",
       "    </tr>\n",
       "    <tr>\n",
       "      <th>75%</th>\n",
       "      <td>26.05</td>\n",
       "      <td>13.00</td>\n",
       "      <td>1.00</td>\n",
       "      <td>0.00</td>\n",
       "      <td>0.00</td>\n",
       "      <td>0.00</td>\n",
       "      <td>17.50</td>\n",
       "      <td>7.50</td>\n",
       "      <td>58.00</td>\n",
       "      <td>1.00</td>\n",
       "      <td>5.00</td>\n",
       "      <td>2.00</td>\n",
       "    </tr>\n",
       "    <tr>\n",
       "      <th>max</th>\n",
       "      <td>98.78</td>\n",
       "      <td>38.00</td>\n",
       "      <td>65.00</td>\n",
       "      <td>129.00</td>\n",
       "      <td>23.00</td>\n",
       "      <td>2.00</td>\n",
       "      <td>68.00</td>\n",
       "      <td>28.00</td>\n",
       "      <td>177.00</td>\n",
       "      <td>37.00</td>\n",
       "      <td>17.00</td>\n",
       "      <td>2.00</td>\n",
       "    </tr>\n",
       "  </tbody>\n",
       "</table>\n",
       "</div>"
      ],
      "text/plain": [
       "       time_spent  visits  advert_open  tips_show   map  tips_click  search  \\\n",
       "count       87.00   87.00        87.00      87.00 87.00       87.00   87.00   \n",
       "mean        21.69    9.89         2.95       2.06  0.43        0.02   11.36   \n",
       "std         17.40    7.59         8.45      14.25  2.73        0.21   15.94   \n",
       "min          0.57    1.00         0.00       0.00  0.00        0.00    0.00   \n",
       "25%         10.77    4.50         0.00       0.00  0.00        0.00    0.50   \n",
       "50%         15.54    8.00         0.00       0.00  0.00        0.00    3.00   \n",
       "75%         26.05   13.00         1.00       0.00  0.00        0.00   17.50   \n",
       "max         98.78   38.00        65.00     129.00 23.00        2.00   68.00   \n",
       "\n",
       "       contacts_show  photos_show  favorites_add  contacts_call  km_cluster  \n",
       "count          87.00        87.00          87.00          87.00       87.00  \n",
       "mean            4.91        37.87           2.39           2.94        2.00  \n",
       "std             5.53        36.49           5.52           3.71        0.00  \n",
       "min             0.00         0.00           0.00           0.00        2.00  \n",
       "25%             0.00         9.50           0.00           0.00        2.00  \n",
       "50%             3.00        31.00           0.00           2.00        2.00  \n",
       "75%             7.50        58.00           1.00           5.00        2.00  \n",
       "max            28.00       177.00          37.00          17.00        2.00  "
      ]
     },
     "execution_count": 81,
     "metadata": {},
     "output_type": "execute_result"
    }
   ],
   "source": [
    "features.query('km_cluster == 2').describe()"
   ]
  },
  {
   "cell_type": "markdown",
   "id": "f4d51239",
   "metadata": {},
   "source": [
    "Самая малочисленная когорта тоже имеет небольшие отличия от предыдущих в поведении, они заходят и в отличие от первой когорты, проходят по некоторым объявлениям, больше смотрят на целевую переменную, и соответственно и времени проводят больше в приложении. В основном они пользуются поиском, больше всех из трех когорт, очень часто рассматривают фотографии тоже больше всех."
   ]
  },
  {
   "cell_type": "code",
   "execution_count": 82,
   "id": "ecac0641",
   "metadata": {},
   "outputs": [
    {
     "name": "stdout",
     "output_type": "stream",
     "text": [
      "<class 'pandas.core.frame.DataFrame'>\n",
      "Int64Index: 74197 entries, 0 to 74196\n",
      "Data columns (total 22 columns):\n",
      " #   Column         Non-Null Count  Dtype         \n",
      "---  ------         --------------  -----         \n",
      " 0   event_time     74197 non-null  datetime64[ns]\n",
      " 1   event_name     74197 non-null  object        \n",
      " 2   user_id        74197 non-null  object        \n",
      " 3   source         74197 non-null  object        \n",
      " 4   event_hour     74197 non-null  int64         \n",
      " 5   event_week     74197 non-null  datetime64[ns]\n",
      " 6   event_month    74197 non-null  datetime64[ns]\n",
      " 7   event_year     74197 non-null  datetime64[ns]\n",
      " 8   event_date     74197 non-null  datetime64[ns]\n",
      " 9   week_day       74197 non-null  object        \n",
      " 10  time_spent     74197 non-null  float64       \n",
      " 11  visits         74197 non-null  int64         \n",
      " 12  advert_open    74197 non-null  float64       \n",
      " 13  tips_show      74197 non-null  float64       \n",
      " 14  map            74197 non-null  float64       \n",
      " 15  tips_click     74197 non-null  float64       \n",
      " 16  search         74197 non-null  float64       \n",
      " 17  contacts_show  74197 non-null  float64       \n",
      " 18  photos_show    74197 non-null  float64       \n",
      " 19  favorites_add  74197 non-null  float64       \n",
      " 20  contacts_call  74197 non-null  float64       \n",
      " 21  km_cluster     74197 non-null  int32         \n",
      "dtypes: datetime64[ns](5), float64(10), int32(1), int64(2), object(4)\n",
      "memory usage: 12.7+ MB\n"
     ]
    }
   ],
   "source": [
    "data = pd.merge(data, features, on='user_id')\n",
    "data.info()"
   ]
  },
  {
   "cell_type": "markdown",
   "id": "56d96807",
   "metadata": {},
   "source": [
    "## Retention Rate\n",
    "Рассчитаем Retention Rate для каждой из когорт по неделям:"
   ]
  },
  {
   "cell_type": "code",
   "execution_count": 83,
   "id": "328a7fd5",
   "metadata": {},
   "outputs": [
    {
     "data": {
      "image/png": "[encoded data removed]",
      "text/plain": [
       "<Figure size 720x504 with 2 Axes>"
      ]
     },
     "metadata": {},
     "output_type": "display_data"
    },
    {
     "data": {
      "image/png": "[encoded data removed]",
      "text/plain": [
       "<Figure size 720x504 with 2 Axes>"
      ]
     },
     "metadata": {},
     "output_type": "display_data"
    },
    {
     "data": {
      "image/png": "[encoded data removed]",
      "text/plain": [
       "<Figure size 720x504 with 2 Axes>"
      ]
     },
     "metadata": {},
     "output_type": "display_data"
    }
   ],
   "source": [
    "for i in range(0,3):\n",
    "    first_activity_date = data.loc[data['km_cluster']==i].groupby(['user_id'])['event_date'].min()\n",
    "    first_activity_date.name = 'first_activity_date'\n",
    "    user_activity = data.loc[data['km_cluster']==i].join(first_activity_date,on='user_id')\n",
    "    user_activity['activity_week'] = pd.to_datetime(user_activity['event_date'],\n",
    "                                                unit='d') - pd.to_timedelta(user_activity['event_date'].dt.dayofweek, unit='d')\n",
    "    user_activity['first_activity_week'] = pd.to_datetime(user_activity['first_activity_date'],\n",
    "                                                      unit='d') - pd.to_timedelta(user_activity['first_activity_date'].dt.dayofweek, unit='d')\n",
    "    user_activity['cohort_lifetime'] = user_activity['activity_week'] - user_activity['first_activity_week']\n",
    "    user_activity['cohort_lifetime'] = user_activity['cohort_lifetime'] / np.timedelta64(1,'W')\n",
    "    user_activity['cohort_lifetime'] = user_activity['cohort_lifetime'].astype(int)\n",
    "    cohorts = user_activity.groupby(['first_activity_week','cohort_lifetime']).agg({'user_id':'nunique'}).reset_index()\n",
    "    initial_users_count = cohorts[cohorts['cohort_lifetime'] == 0][['first_activity_week','user_id']]\n",
    "    initial_users_count = initial_users_count.rename(columns={'user_id':'cohort_users'})\n",
    "    cohorts = cohorts.merge(initial_users_count,on='first_activity_week')\n",
    "    cohorts['retention'] = cohorts['user_id']/cohorts['cohort_users']\n",
    "    retention_pivot = cohorts.pivot_table(index='first_activity_week',columns='cohort_lifetime',values='retention',aggfunc='sum')\n",
    "\n",
    "    sns.set(style='white')\n",
    "    plt.figure(figsize=(10, 7))\n",
    "    plt.title('Retention Rate')\n",
    "    sns.heatmap(retention_pivot, annot=True, fmt='.1%', linewidths=1, linecolor='gray');"
   ]
  },
  {
   "cell_type": "markdown",
   "id": "001777f8",
   "metadata": {},
   "source": [
    "У нас есть две когорты с очень хорошим удержанием, номер 1 и 2, у них почти схожие показатели удержания. Но группа поменьше возвращается к нам почаще, видимо это связано с тем, что они никак не могу найти желаемые вещи и периодически приходят к нам обратно. Это может объяснить и частое использование поиска в когорте номер 2. "
   ]
  },
  {
   "cell_type": "markdown",
   "id": "ba3acdfb",
   "metadata": {},
   "source": [
    "##  Изучение длительности с момента взаимодействия с tips_show до начала поиска\n",
    "Посмотрим на то, как пользователи разных когорт переходят с рекомендаций в поиск в нашем приложении. Вопрос стоял так: Как различается время между распространенными событиями пользователей, (например, различаются ли пользователи по группам на основе времени, которое проходит с момента первого использования мобильного приложения и до использования функции поиска)?\n",
    "\n",
    "Я посмотрел на общую воронку пользователей и решил что за начало отсчета пользования приложением можно считать событие tips_show, 65% уникальных пользователей здесь оказывается, поэтому логика такая: начало использования приложения является событие tips_show."
   ]
  },
  {
   "cell_type": "code",
   "execution_count": 84,
   "id": "a83d231b",
   "metadata": {
    "scrolled": false
   },
   "outputs": [
    {
     "data": {
      "image/png": "[encoded data removed]",
      "text/plain": [
       "<Figure size 1152x432 with 1 Axes>"
      ]
     },
     "metadata": {},
     "output_type": "display_data"
    },
    {
     "data": {
      "text/html": [
       "<div>\n",
       "<style scoped>\n",
       "    .dataframe tbody tr th:only-of-type {\n",
       "        vertical-align: middle;\n",
       "    }\n",
       "\n",
       "    .dataframe tbody tr th {\n",
       "        vertical-align: top;\n",
       "    }\n",
       "\n",
       "    .dataframe thead th {\n",
       "        text-align: right;\n",
       "    }\n",
       "</style>\n",
       "<table border=\"1\" class=\"dataframe\">\n",
       "  <thead>\n",
       "    <tr style=\"text-align: right;\">\n",
       "      <th></th>\n",
       "      <th>count</th>\n",
       "      <th>mean</th>\n",
       "      <th>std</th>\n",
       "      <th>min</th>\n",
       "      <th>25%</th>\n",
       "      <th>50%</th>\n",
       "      <th>75%</th>\n",
       "      <th>max</th>\n",
       "    </tr>\n",
       "    <tr>\n",
       "      <th>km_cluster</th>\n",
       "      <th></th>\n",
       "      <th></th>\n",
       "      <th></th>\n",
       "      <th></th>\n",
       "      <th></th>\n",
       "      <th></th>\n",
       "      <th></th>\n",
       "      <th></th>\n",
       "    </tr>\n",
       "  </thead>\n",
       "  <tbody>\n",
       "    <tr>\n",
       "      <th>0</th>\n",
       "      <td>1541.00</td>\n",
       "      <td>835.27</td>\n",
       "      <td>3391.18</td>\n",
       "      <td>0.00</td>\n",
       "      <td>0.00</td>\n",
       "      <td>0.00</td>\n",
       "      <td>1.12</td>\n",
       "      <td>37418.68</td>\n",
       "    </tr>\n",
       "    <tr>\n",
       "      <th>1</th>\n",
       "      <td>60.00</td>\n",
       "      <td>2360.85</td>\n",
       "      <td>5893.70</td>\n",
       "      <td>0.00</td>\n",
       "      <td>0.00</td>\n",
       "      <td>10.07</td>\n",
       "      <td>653.70</td>\n",
       "      <td>34527.07</td>\n",
       "    </tr>\n",
       "    <tr>\n",
       "      <th>2</th>\n",
       "      <td>65.00</td>\n",
       "      <td>1889.98</td>\n",
       "      <td>4403.17</td>\n",
       "      <td>0.00</td>\n",
       "      <td>0.00</td>\n",
       "      <td>0.00</td>\n",
       "      <td>1087.05</td>\n",
       "      <td>22264.48</td>\n",
       "    </tr>\n",
       "  </tbody>\n",
       "</table>\n",
       "</div>"
      ],
      "text/plain": [
       "             count    mean     std  min  25%   50%     75%      max\n",
       "km_cluster                                                         \n",
       "0          1541.00  835.27 3391.18 0.00 0.00  0.00    1.12 37418.68\n",
       "1            60.00 2360.85 5893.70 0.00 0.00 10.07  653.70 34527.07\n",
       "2            65.00 1889.98 4403.17 0.00 0.00  0.00 1087.05 22264.48"
      ]
     },
     "execution_count": 84,
     "metadata": {},
     "output_type": "execute_result"
    }
   ],
   "source": [
    "# search_users = user_activity.query('user_id not in @tips_click_users_list')\n",
    "# search_users = search_users.query('user_id in @search_users_list')\n",
    "search_min_time = data.query('event_name ==\"search\"').groupby(['user_id']).agg({'event_time':'min'}).sort_values(by='event_time')\n",
    "min_time = data.groupby(['user_id']).agg({'event_time':'min'}).sort_values(by='event_time')\n",
    "search_time = min_time.merge(search_min_time, on ='user_id', how='right')\n",
    "search_time.columns=['min_time', 'search_time']\n",
    "search_time['td'] = search_time['search_time'] - search_time['min_time']\n",
    "search_time['td'] = search_time['td'] / np.timedelta64(1,'m')\n",
    "search_time = data.merge(search_time, on=['user_id'], how='right')\n",
    "search_time = search_time[['user_id', 'km_cluster', 'td']]\n",
    "search_time = search_time.drop_duplicates('user_id')\n",
    "plt.figure(figsize=(16, 6))\n",
    "\n",
    "#sns.distplot(search_time[search_time['km_cluster']==2]['td'])\n",
    "# search_time.query('km_cluster == 0')['td'].hist(bins=10)\n",
    "# search_time.query('km_cluster == 1')['td'].hist(bins=10)\n",
    "# search_time.query('km_cluster == 2')['td'].hist(bins=10)\n",
    "sns.distplot(search_time.query('km_cluster == 0')['td'].to_list(), bins=30)\n",
    "sns.distplot(search_time.query('km_cluster == 1')['td'].to_list(), bins=30)\n",
    "sns.distplot(search_time.query('km_cluster == 2')['td'].to_list(), bins=30)\n",
    "#sns.distplot(search_time.query('lifetime ==\"4 недели активности\"')['td'].to_list(), bins=41)\n",
    "plt.legend(labels = ('0 когорта', '1 когорта', '2 когорта'))#'2 когорта'\n",
    "plt.xlim()\n",
    "plt.title('График распределения длительности в минутах с момента взаимодействия с tips_show до начала поиска')\n",
    "\n",
    "plt.show()\n",
    "search_time.groupby('km_cluster')['td'].describe()"
   ]
  },
  {
   "cell_type": "markdown",
   "id": "2d8dab19",
   "metadata": {},
   "source": [
    "Как видно по графику и по портретам пользователей у когорты номер 1 медианное время от действия tips_show до действия search больше. Это говорит о том, что все пользователи из этой когорты доверяют нашему рекомендательному сервису и долго не начинают искать нужные им вещи через поиск, а пользователи из когорты номер 2 наоборот имеют меньшее максимальное время до начала поиска и ведут себя немного стремительнее в сторону поиска в отличие от когорты номер 1. В когорте номер 0 все очень разнообразно."
   ]
  },
  {
   "cell_type": "markdown",
   "id": "369ac58c",
   "metadata": {},
   "source": [
    "## Выводы кластеризации и исследователького анализа данных\n",
    "Мы выделили такие события, которые часто совершают пользователи вместе с целевым событием:\n",
    "- tips_show - просмотр рекомендаций\n",
    "- search - поисковые действия\n",
    "- map - просмотр объявлений на карте\n",
    "- photos_show - просмотр фотографий в объявлении\n",
    "\n",
    "Все эти действия совершаются чаще уникальными пользователями, чем contacts_show - просмотр контакта. Также посмотрели еще две воронки предполагаемые: tips_show -> search -> contacts_show и tips_show -> contacts_show, конверсия в целевое событие у которых 35%.\n",
    "\n",
    "Проанализировали за какое время до совершения целевого события совершаются вспомогательные события, например, tips_show, потому что это событие предполагаемого начала использования приложения. Кластеризировали пользователей на основе их поведения(совершаемых событий в приложении и проведенного времени в нем) Посчитали Retention Rate для трех когорт-кластеров: наилучшие показатели у когорты с любимым событием в поведении - поиск, предположили, что это связано с тем, что эти пользователи ждут появления желаемых вещей. А когорта с наибольшим количеством просмотров контактов наоборот больше любит наши рекомендации."
   ]
  },
  {
   "cell_type": "markdown",
   "id": "a936f351",
   "metadata": {},
   "source": [
    "# Проверка гипотез\n",
    "Напишем функцию для проверки гиппотез, проверим на пересечение группы, cформулируем гипотезы, а также посотрим на сами размеры групп:"
   ]
  },
  {
   "cell_type": "code",
   "execution_count": 85,
   "id": "fd5cbd79",
   "metadata": {
    "scrolled": false
   },
   "outputs": [
    {
     "data": {
      "text/html": [
       "<div>\n",
       "<style scoped>\n",
       "    .dataframe tbody tr th:only-of-type {\n",
       "        vertical-align: middle;\n",
       "    }\n",
       "\n",
       "    .dataframe tbody tr th {\n",
       "        vertical-align: top;\n",
       "    }\n",
       "\n",
       "    .dataframe thead th {\n",
       "        text-align: right;\n",
       "    }\n",
       "</style>\n",
       "<table border=\"1\" class=\"dataframe\">\n",
       "  <thead>\n",
       "    <tr style=\"text-align: right;\">\n",
       "      <th></th>\n",
       "      <th>user_id</th>\n",
       "    </tr>\n",
       "    <tr>\n",
       "      <th>source</th>\n",
       "      <th></th>\n",
       "    </tr>\n",
       "  </thead>\n",
       "  <tbody>\n",
       "    <tr>\n",
       "      <th>google</th>\n",
       "      <td>1129</td>\n",
       "    </tr>\n",
       "    <tr>\n",
       "      <th>other</th>\n",
       "      <td>1230</td>\n",
       "    </tr>\n",
       "    <tr>\n",
       "      <th>yandex</th>\n",
       "      <td>1934</td>\n",
       "    </tr>\n",
       "  </tbody>\n",
       "</table>\n",
       "</div>"
      ],
      "text/plain": [
       "        user_id\n",
       "source         \n",
       "google     1129\n",
       "other      1230\n",
       "yandex     1934"
      ]
     },
     "metadata": {},
     "output_type": "display_data"
    },
    {
     "data": {
      "text/html": [
       "<div>\n",
       "<style scoped>\n",
       "    .dataframe tbody tr th:only-of-type {\n",
       "        vertical-align: middle;\n",
       "    }\n",
       "\n",
       "    .dataframe tbody tr th {\n",
       "        vertical-align: top;\n",
       "    }\n",
       "\n",
       "    .dataframe thead th {\n",
       "        text-align: right;\n",
       "    }\n",
       "</style>\n",
       "<table border=\"1\" class=\"dataframe\">\n",
       "  <thead>\n",
       "    <tr style=\"text-align: right;\">\n",
       "      <th>source</th>\n",
       "      <th>google</th>\n",
       "      <th>other</th>\n",
       "      <th>yandex</th>\n",
       "    </tr>\n",
       "    <tr>\n",
       "      <th>event_name</th>\n",
       "      <th></th>\n",
       "      <th></th>\n",
       "      <th></th>\n",
       "    </tr>\n",
       "  </thead>\n",
       "  <tbody>\n",
       "    <tr>\n",
       "      <th>advert_open</th>\n",
       "      <td>195</td>\n",
       "      <td>259</td>\n",
       "      <td>297</td>\n",
       "    </tr>\n",
       "    <tr>\n",
       "      <th>contacts_call</th>\n",
       "      <td>67</td>\n",
       "      <td>54</td>\n",
       "      <td>92</td>\n",
       "    </tr>\n",
       "    <tr>\n",
       "      <th>contacts_show</th>\n",
       "      <td>275</td>\n",
       "      <td>228</td>\n",
       "      <td>478</td>\n",
       "    </tr>\n",
       "    <tr>\n",
       "      <th>favorites_add</th>\n",
       "      <td>114</td>\n",
       "      <td>77</td>\n",
       "      <td>160</td>\n",
       "    </tr>\n",
       "    <tr>\n",
       "      <th>map</th>\n",
       "      <td>354</td>\n",
       "      <td>415</td>\n",
       "      <td>687</td>\n",
       "    </tr>\n",
       "    <tr>\n",
       "      <th>photos_show</th>\n",
       "      <td>363</td>\n",
       "      <td>289</td>\n",
       "      <td>443</td>\n",
       "    </tr>\n",
       "    <tr>\n",
       "      <th>search</th>\n",
       "      <td>485</td>\n",
       "      <td>557</td>\n",
       "      <td>624</td>\n",
       "    </tr>\n",
       "    <tr>\n",
       "      <th>tips_click</th>\n",
       "      <td>71</td>\n",
       "      <td>101</td>\n",
       "      <td>150</td>\n",
       "    </tr>\n",
       "    <tr>\n",
       "      <th>tips_show</th>\n",
       "      <td>651</td>\n",
       "      <td>840</td>\n",
       "      <td>1310</td>\n",
       "    </tr>\n",
       "  </tbody>\n",
       "</table>\n",
       "</div>"
      ],
      "text/plain": [
       "source         google  other  yandex\n",
       "event_name                          \n",
       "advert_open       195    259     297\n",
       "contacts_call      67     54      92\n",
       "contacts_show     275    228     478\n",
       "favorites_add     114     77     160\n",
       "map               354    415     687\n",
       "photos_show       363    289     443\n",
       "search            485    557     624\n",
       "tips_click         71    101     150\n",
       "tips_show         651    840    1310"
      ]
     },
     "execution_count": 85,
     "metadata": {},
     "output_type": "execute_result"
    }
   ],
   "source": [
    "trials = data.groupby('source').agg({'user_id': 'nunique'})\n",
    "display(trials)\n",
    "funnel = data.pivot_table(index='event_name', columns='source', values='user_id', aggfunc='nunique')\n",
    "funnel"
   ]
  },
  {
   "cell_type": "markdown",
   "id": "06fa4bb7",
   "metadata": {},
   "source": [
    "Посмотрев на группы можно сказать, что размеры групп таковы, что количественно между нашими группами отличие около 30% процентов. Рзличия между группами значительны, но терпимы, теперь проверим на пересечение пользователей."
   ]
  },
  {
   "cell_type": "code",
   "execution_count": 86,
   "id": "1c10a040",
   "metadata": {
    "scrolled": true
   },
   "outputs": [
    {
     "name": "stdout",
     "output_type": "stream",
     "text": [
      "Пересечение пользователей в группах google и yandex: 0\n"
     ]
    }
   ],
   "source": [
    "google = data.query('source == \"google\"')\n",
    "yandex = data.query('source == \"yandex\"')\n",
    "# проверка на пересечение пользователей\n",
    "print('Пересечение пользователей в группах google и yandex:', len(np.intersect1d(\n",
    "    google['user_id'].unique(), yandex['user_id'].unique())))"
   ]
  },
  {
   "cell_type": "markdown",
   "id": "a3af9b69",
   "metadata": {},
   "source": [
    "Таким образом, сформулируем гипотезы Н0: Нет статистически значимых различий в доле пользователей, совершивших событие Х. H1: Есть статистически значимые различия в доле пользователей, совершивших событие Х. Сама функция:"
   ]
  },
  {
   "cell_type": "code",
   "execution_count": 87,
   "id": "87ad7477",
   "metadata": {},
   "outputs": [],
   "source": [
    "def check_hypothesis(successes1, successes2, trials1, trials2):\n",
    "    p1 = successes1/trials1\n",
    "    p2 = successes2/trials2\n",
    "    p_combined = (successes1+successes2)/(trials1+trials2)\n",
    "    difference = p1-p2\n",
    "    # считаем статистику в ст.отклонениях стандартного нормального распределения\n",
    "    z_value = difference / \\\n",
    "        mth.sqrt(p_combined * (1 - p_combined) * (1/trials1 + 1/trials2))\n",
    "    # задаем стандартное нормальное распределение (среднее 0, ст.отклонение 1)\n",
    "    distr = stats.norm(0, 1)\n",
    "    p_value = (1 - distr.cdf(abs(z_value))) * 2\n",
    "    return p_value"
   ]
  },
  {
   "cell_type": "markdown",
   "id": "a05cbb19",
   "metadata": {},
   "source": [
    "Несколько сравнений, проводимых на одних и тех же данных — это множественный тест. Его важная особенность в том, что с каждой новой проверкой гипотезы растёт вероятность ошибки первого рода - ложнопозитивным результатом статистического теста. Чтобы снизить вероятность ложнопозитивного результата при множественном тестировании гипотез, применяют разные методы корректировки уровня значимости для уменьшения групповой вероятности ошибки первого рода. Для проверки надо принять поправку на множественный статтест, потому что у нас их 9 штук, примем поправку Шидака. В таком случае у нас альфа = 0.00568"
   ]
  },
  {
   "cell_type": "code",
   "execution_count": 88,
   "id": "a6112b58",
   "metadata": {},
   "outputs": [
    {
     "name": "stdout",
     "output_type": "stream",
     "text": [
      "Отличие между группами google и yandex по событию advert_open статистически незначимо, p_value =  0.16374933557640547\n",
      "Отличие между группами google и yandex по событию contacts_call статистически незначимо, p_value =  0.15645082811640143\n",
      "Отличие между группами google и yandex по событию contacts_show статистически незначимо, p_value =  0.8244316027993777\n",
      "Отличие между группами google и yandex по событию favorites_add статистически незначимо, p_value =  0.08786519265881387\n",
      "Отличие между группами google и yandex по событию map статистически незначимо, p_value =  0.01882973688158396\n",
      "Отличие между группами google и yandex по событию photos_show статистически значимо, p_value =  2.0647853649080616e-08\n",
      "Отличие между группами google и yandex по событию search статистически значимо, p_value =  2.8361002435417504e-09\n",
      "Отличие между группами google и yandex по событию tips_click статистически незначимо, p_value =  0.13002360363914844\n",
      "Отличие между группами google и yandex по событию tips_show статистически значимо, p_value =  2.0936110844971267e-08\n"
     ]
    }
   ],
   "source": [
    "alpha = 0.00568\n",
    "for event in ['advert_open', 'contacts_call', 'contacts_show', 'favorites_add', 'map',\n",
    "       'photos_show', 'search', 'tips_click', 'tips_show']:\n",
    "    if check_hypothesis(funnel.loc[event, 'google'], funnel.loc[event, 'yandex'],\n",
    "                        trials.loc['google'].values[0], trials.loc['yandex'].values[0]) < alpha:\n",
    "        result = 'значимо'\n",
    "    else:\n",
    "        result = 'незначимо'\n",
    "    print(f'Отличие между группами google и yandex по событию {event} статистически {result}, p_value = ',\n",
    "          check_hypothesis(funnel.loc[event, 'google'], funnel.loc[event, 'yandex'],\n",
    "                           trials.loc['google'].values[0], trials.loc['yandex'].values[0]))"
   ]
  },
  {
   "cell_type": "markdown",
   "id": "2f158856",
   "metadata": {},
   "source": [
    "Подведем итоги:\n",
    "- статтест нашел отличия только в трех группах: tips_show, photos_show, search.\n",
    "- странно, что в группах есть отличия по событию tips_show, потому что вроде как это никак не связано с поведением пользователя и по логике, рекомендации должны видеть все, но получается так, что есть различия, возможно стоит проверить рекомендательную систему, может быть она как-то некорректно работает или пользователеи пришедшие из google просто скачивают и не пользуются приложением или сразу идут в поиск, короче говоря стоит детальнее изучить вопрос рекомендаций для пользователей из источника google.\n",
    "- по всем остальным событиям тест не нашел отличий, в том числе и по целевому событию - просмотр контактов."
   ]
  },
  {
   "cell_type": "markdown",
   "id": "571a5efa",
   "metadata": {},
   "source": [
    "# Выводы\n",
    "Мы провели большой и глубокий анализ пользователей в приложения \"Ненужные вещи\".\n",
    "Сначала привели данные в порядок, потом посмотрели на распределения по разным признакам и построили воронку: \n",
    "- После просмотра рекомендаций 59% пользователей переходят в поиск.\n",
    "- После поиска 87% пользователей просматривают карту и 52% от общего количества просмотра рекомендаций\n",
    "- После открытия карты объявлений 75% пользователей открывают фотографии объявления и 39% от общего кол-ва поисковых действий\n",
    "- Пользователи, которые смотрят номер телефона составляют 35% от общего кол-ва просмотренных рекомендаций, но от посмотревших фотографии 90%.\n",
    " \n",
    "И в итоге разделили пользователей на три когорты с помощью кластеризации:\n",
    "- когорта 0: Самая большая когорта и самая малоактивная, у них и время в приложении маленькое, и все остальные признаки в среднем близки к нулю. Эта когорта приходит в наше приложение, не находит нужных им вещей и больше не приходят в наше приложение.\n",
    "- когорта 1: Вторая когорта, тут собраны пользователи, которые в разы чаще совершают все события. Видимо эта когорта с самыми лояльными для нас пользователями.\n",
    "- когорта 2: Самая малочисленная когорта тоже имеет небольшие отличия от предыдущих в поведении, они заходят и в отличие от первой когорты, проходят по некоторым объявлениям, больше смотрят на целевую переменную, и соответственно и времени проводят больше в приложении. В основном они пользуются поиском, больше всех из трех когорт, очень часто рассматривают фотографии тоже больше всех.\n",
    "\n",
    "Потом сравнили пользователей из этих когорт:\n",
    "- У нас есть две когорты с очень хорошим удержанием, номер 1 и 2, у них почти схожие показатели удержания. Но группа поменьше возвращается к нам почаще, видимо это связано с тем, что они никак не могу найти желаемые вещи и периодически приходят к нам обратно. Это может объяснить и частое использование поиска в когорте номер 2.\n",
    "\n",
    "Проверили гипотезы и пришли к выводам, что:\n",
    "- статтест нашел отличия только в трех группах: tips_show, photos_show, search.\n",
    "- странно, что в группах есть отличия по событию tips_show, потому что вроде как это никак не связано с поведением пользователя и по логике, рекомендации должны видеть все, но получается так, что есть различия, возможно стоит проверить рекомендательную систему, может быть она как-то некорректно работает или пользователеи пришедшие из google просто скачивают и не пользуются приложением или сразу идут в поиск, короче говоря стоит детальнее изучить вопрос рекомендаций для пользователей из источника google.\n",
    "- по всем остальным событиям тест не нашел отличий, в том числе и по целевому событию - просмотр контактов.\n",
    "\n",
    "Таким образом мы провели кластеризацию пользователей и нашли точки роста для нашего приложения."
   ]
  }
 ],
 "metadata": {
  "ExecuteTimeLog": [
   {
    "duration": 44581,
    "start_time": "2022-05-09T12:16:12.151Z"
   },
   {
    "duration": 138,
    "start_time": "2022-05-09T12:16:56.734Z"
   },
   {
    "duration": 49,
    "start_time": "2022-05-09T12:16:56.874Z"
   },
   {
    "duration": 14,
    "start_time": "2022-05-09T12:16:56.925Z"
   },
   {
    "duration": 33,
    "start_time": "2022-05-09T12:16:56.941Z"
   },
   {
    "duration": 16,
    "start_time": "2022-05-09T12:16:56.994Z"
   },
   {
    "duration": 35,
    "start_time": "2022-05-09T12:16:57.012Z"
   },
   {
    "duration": 12,
    "start_time": "2022-05-09T12:16:57.048Z"
   },
   {
    "duration": 47,
    "start_time": "2022-05-09T12:16:57.062Z"
   },
   {
    "duration": 31,
    "start_time": "2022-05-09T12:16:57.110Z"
   },
   {
    "duration": 67,
    "start_time": "2022-05-09T12:16:57.143Z"
   },
   {
    "duration": 30,
    "start_time": "2022-05-09T12:16:57.212Z"
   },
   {
    "duration": 24,
    "start_time": "2022-05-09T12:16:57.244Z"
   },
   {
    "duration": 23,
    "start_time": "2022-05-09T12:16:57.271Z"
   },
   {
    "duration": 424,
    "start_time": "2022-05-09T12:16:57.297Z"
   },
   {
    "duration": 550,
    "start_time": "2022-05-09T12:16:57.723Z"
   },
   {
    "duration": 648,
    "start_time": "2022-05-09T12:16:58.276Z"
   },
   {
    "duration": 27,
    "start_time": "2022-05-09T12:16:58.926Z"
   },
   {
    "duration": 312,
    "start_time": "2022-05-09T12:16:58.955Z"
   },
   {
    "duration": 232,
    "start_time": "2022-05-09T12:16:59.269Z"
   },
   {
    "duration": 70,
    "start_time": "2022-05-09T12:16:59.503Z"
   },
   {
    "duration": 11379,
    "start_time": "2022-05-09T12:16:59.574Z"
   },
   {
    "duration": 41,
    "start_time": "2022-05-09T12:17:10.955Z"
   },
   {
    "duration": 25,
    "start_time": "2022-05-09T12:17:10.998Z"
   },
   {
    "duration": 294,
    "start_time": "2022-05-09T12:17:11.025Z"
   },
   {
    "duration": 40,
    "start_time": "2022-05-09T12:17:11.321Z"
   },
   {
    "duration": 994,
    "start_time": "2022-05-09T12:17:11.363Z"
   },
   {
    "duration": 147580,
    "start_time": "2022-05-09T12:17:12.359Z"
   },
   {
    "duration": 1308,
    "start_time": "2022-05-09T12:19:39.942Z"
   },
   {
    "duration": 47,
    "start_time": "2022-05-09T12:19:41.253Z"
   },
   {
    "duration": 40,
    "start_time": "2022-05-09T12:19:41.303Z"
   },
   {
    "duration": 65,
    "start_time": "2022-05-09T12:19:41.346Z"
   },
   {
    "duration": 58,
    "start_time": "2022-05-09T12:19:41.412Z"
   },
   {
    "duration": 1368,
    "start_time": "2022-05-09T12:19:41.472Z"
   },
   {
    "duration": 431,
    "start_time": "2022-05-09T12:19:42.842Z"
   },
   {
    "duration": 126,
    "start_time": "2022-05-09T12:19:43.275Z"
   },
   {
    "duration": 29,
    "start_time": "2022-05-09T12:19:43.404Z"
   },
   {
    "duration": 4,
    "start_time": "2022-05-09T12:19:43.435Z"
   },
   {
    "duration": 82,
    "start_time": "2022-05-09T12:19:43.441Z"
   },
   {
    "duration": 62143,
    "start_time": "2022-05-11T16:14:44.923Z"
   },
   {
    "duration": 139,
    "start_time": "2022-05-11T16:15:47.069Z"
   },
   {
    "duration": 53,
    "start_time": "2022-05-11T16:15:47.210Z"
   },
   {
    "duration": 39,
    "start_time": "2022-05-11T16:15:47.266Z"
   },
   {
    "duration": 50,
    "start_time": "2022-05-11T16:15:47.307Z"
   },
   {
    "duration": 43,
    "start_time": "2022-05-11T16:15:47.359Z"
   },
   {
    "duration": 41,
    "start_time": "2022-05-11T16:15:47.404Z"
   },
   {
    "duration": 47,
    "start_time": "2022-05-11T16:15:47.447Z"
   },
   {
    "duration": 35,
    "start_time": "2022-05-11T16:15:47.497Z"
   },
   {
    "duration": 59,
    "start_time": "2022-05-11T16:15:47.535Z"
   },
   {
    "duration": 51,
    "start_time": "2022-05-11T16:15:47.597Z"
   },
   {
    "duration": 49,
    "start_time": "2022-05-11T16:15:47.650Z"
   },
   {
    "duration": 33,
    "start_time": "2022-05-11T16:15:47.701Z"
   },
   {
    "duration": 6,
    "start_time": "2022-05-11T16:15:47.736Z"
   },
   {
    "duration": 544,
    "start_time": "2022-05-11T16:15:47.743Z"
   },
   {
    "duration": 693,
    "start_time": "2022-05-11T16:15:48.293Z"
   },
   {
    "duration": 906,
    "start_time": "2022-05-11T16:15:48.989Z"
   },
   {
    "duration": 33,
    "start_time": "2022-05-11T16:15:49.897Z"
   },
   {
    "duration": 464,
    "start_time": "2022-05-11T16:15:49.932Z"
   },
   {
    "duration": 358,
    "start_time": "2022-05-11T16:15:50.399Z"
   },
   {
    "duration": 33,
    "start_time": "2022-05-11T16:15:50.760Z"
   },
   {
    "duration": 1458,
    "start_time": "2022-05-11T16:15:50.795Z"
   },
   {
    "duration": 53,
    "start_time": "2022-05-11T16:15:52.255Z"
   },
   {
    "duration": 51,
    "start_time": "2022-05-11T16:15:52.310Z"
   },
   {
    "duration": 44,
    "start_time": "2022-05-11T16:15:52.363Z"
   },
   {
    "duration": 11859,
    "start_time": "2022-05-11T16:15:52.409Z"
   },
   {
    "duration": 161,
    "start_time": "2022-05-11T16:16:04.271Z"
   },
   {
    "duration": 113,
    "start_time": "2022-05-11T16:16:04.438Z"
   },
   {
    "duration": 39,
    "start_time": "2022-05-11T16:16:04.553Z"
   },
   {
    "duration": 292,
    "start_time": "2022-05-11T16:16:04.595Z"
   },
   {
    "duration": 76,
    "start_time": "2022-05-11T16:16:04.894Z"
   },
   {
    "duration": 1923,
    "start_time": "2022-05-11T16:16:04.973Z"
   },
   {
    "duration": 173735,
    "start_time": "2022-05-11T16:16:06.899Z"
   },
   {
    "duration": 2431,
    "start_time": "2022-05-11T16:19:00.636Z"
   },
   {
    "duration": 69,
    "start_time": "2022-05-11T16:19:03.070Z"
   },
   {
    "duration": 67,
    "start_time": "2022-05-11T16:19:03.141Z"
   },
   {
    "duration": 55,
    "start_time": "2022-05-11T16:19:03.210Z"
   },
   {
    "duration": 101,
    "start_time": "2022-05-11T16:19:03.267Z"
   },
   {
    "duration": 2161,
    "start_time": "2022-05-11T16:19:03.370Z"
   },
   {
    "duration": 805,
    "start_time": "2022-05-11T16:19:05.533Z"
   },
   {
    "duration": 98,
    "start_time": "2022-05-11T16:19:06.340Z"
   },
   {
    "duration": 35,
    "start_time": "2022-05-11T16:19:06.440Z"
   },
   {
    "duration": 18,
    "start_time": "2022-05-11T16:19:06.477Z"
   },
   {
    "duration": 45,
    "start_time": "2022-05-11T16:19:06.498Z"
   }
  ],
  "kernelspec": {
   "display_name": "Python 3 (ipykernel)",
   "language": "python",
   "name": "python3"
  },
  "language_info": {
   "codemirror_mode": {
    "name": "ipython",
    "version": 3
   },
   "file_extension": ".py",
   "mimetype": "text/x-python",
   "name": "python",
   "nbconvert_exporter": "python",
   "pygments_lexer": "ipython3",
   "version": "3.9.7"
  },
  "toc": {
   "base_numbering": 1,
   "nav_menu": {},
   "number_sections": true,
   "sideBar": true,
   "skip_h1_title": false,
   "title_cell": "Table of Contents",
   "title_sidebar": "Contents",
   "toc_cell": false,
   "toc_position": {
    "height": "calc(100% - 180px)",
    "left": "10px",
    "top": "150px",
    "width": "307.2px"
   },
   "toc_section_display": true,
   "toc_window_display": true
  }
 },
 "nbformat": 4,
 "nbformat_minor": 5
}

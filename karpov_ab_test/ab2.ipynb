{
 "cells": [
  {
   "cell_type": "markdown",
   "id": "103768b5",
   "metadata": {},
   "source": [
    "# Задание 2 Анализ А/В теста"
   ]
  },
  {
   "cell_type": "markdown",
   "id": "92ab7a57",
   "metadata": {},
   "source": [
    "Пришло время проанализировать результаты эксперимента, который мы провели вместе с командой дата сайентистов. Эксперимент проходил с 2022-05-24 по 2022-05-30 включительно. Для эксперимента были задействованы 2 и 1 группы. \n",
    "\n",
    "В группе 2 был использован один из новых алгоритмов рекомендации постов, группа 1 использовалась в качестве контроля. \n",
    "\n",
    "Основная гипотеза заключается в том, что новый алгоритм во 2-й группе приведет к увеличению CTR. "
   ]
  },
  {
   "cell_type": "markdown",
   "id": "e3624b46",
   "metadata": {},
   "source": [
    "# Загружаем библиотеки и подключаемся к базе"
   ]
  },
  {
   "cell_type": "code",
   "execution_count": 2,
   "id": "16722d9a",
   "metadata": {},
   "outputs": [],
   "source": [
    "import hashlib\n",
    "import pandahouse\n",
    "import pandas as pd\n",
    "import swifter\n",
    "import seaborn as sns\n",
    "import matplotlib.pyplot as plt\n",
    "from scipy import stats\n",
    "import random\n",
    "import numpy as np\n",
    "import warnings\n",
    "pd.set_option('display.float_format', '{:.5f}'.format)\n",
    "warnings.filterwarnings('ignore')\n",
    "sns.set(rc={'figure.figsize':(15,7)})"
   ]
  },
  {
   "cell_type": "code",
   "execution_count": 3,
   "id": "df8dcba8",
   "metadata": {},
   "outputs": [],
   "source": [
    "connection = {\n",
    "    'host': 'https://clickhouse.lab.karpov.courses',\n",
    "    'password': 'dpo_python_2020',\n",
    "    'user': 'student',\n",
    "    'database': 'simulator'\n",
    "}"
   ]
  },
  {
   "cell_type": "code",
   "execution_count": 4,
   "id": "81f86555",
   "metadata": {},
   "outputs": [],
   "source": [
    "q = '''SELECT user_id, exp_group,\n",
    "sum(action = 'like') as likes,\n",
    "sum(action = 'view') as views,\n",
    "likes/views as ctr\n",
    "from simulator_20220620.feed_actions \n",
    "group by user_id, exp_group\n",
    "having toDate(time)>='2022-05-24' and toDate(time)<='2022-05-30' and exp_group in (1,2) \n",
    "'''"
   ]
  },
  {
   "cell_type": "code",
   "execution_count": 5,
   "id": "a53f3632",
   "metadata": {},
   "outputs": [],
   "source": [
    "df = pandahouse.read_clickhouse(query=q, connection=connection)"
   ]
  },
  {
   "cell_type": "code",
   "execution_count": 6,
   "id": "fa238774",
   "metadata": {},
   "outputs": [],
   "source": [
    "df['exp_group'].replace(1,'control', inplace=True)\n",
    "df['exp_group'].replace(2,'test', inplace=True)"
   ]
  },
  {
   "cell_type": "markdown",
   "id": "b1908c8a",
   "metadata": {},
   "source": [
    "# Подготовка и сам анализ теста"
   ]
  },
  {
   "cell_type": "markdown",
   "id": "87cb3474",
   "metadata": {},
   "source": [
    "Проверяем базовые статистики по тестовой и контрольной группам."
   ]
  },
  {
   "cell_type": "code",
   "execution_count": 7,
   "id": "205ebe8d",
   "metadata": {},
   "outputs": [
    {
     "data": {
      "text/html": [
       "<div>\n",
       "<style scoped>\n",
       "    .dataframe tbody tr th:only-of-type {\n",
       "        vertical-align: middle;\n",
       "    }\n",
       "\n",
       "    .dataframe tbody tr th {\n",
       "        vertical-align: top;\n",
       "    }\n",
       "\n",
       "    .dataframe thead th {\n",
       "        text-align: right;\n",
       "    }\n",
       "</style>\n",
       "<table border=\"1\" class=\"dataframe\">\n",
       "  <thead>\n",
       "    <tr style=\"text-align: right;\">\n",
       "      <th></th>\n",
       "      <th>count</th>\n",
       "      <th>mean</th>\n",
       "      <th>std</th>\n",
       "      <th>min</th>\n",
       "      <th>25%</th>\n",
       "      <th>50%</th>\n",
       "      <th>75%</th>\n",
       "      <th>max</th>\n",
       "    </tr>\n",
       "    <tr>\n",
       "      <th>exp_group</th>\n",
       "      <th></th>\n",
       "      <th></th>\n",
       "      <th></th>\n",
       "      <th></th>\n",
       "      <th></th>\n",
       "      <th></th>\n",
       "      <th></th>\n",
       "      <th></th>\n",
       "    </tr>\n",
       "  </thead>\n",
       "  <tbody>\n",
       "    <tr>\n",
       "      <th>control</th>\n",
       "      <td>10079.00000</td>\n",
       "      <td>0.21560</td>\n",
       "      <td>0.08416</td>\n",
       "      <td>0.00000</td>\n",
       "      <td>0.16010</td>\n",
       "      <td>0.20312</td>\n",
       "      <td>0.25765</td>\n",
       "      <td>0.72222</td>\n",
       "    </tr>\n",
       "    <tr>\n",
       "      <th>test</th>\n",
       "      <td>9952.00000</td>\n",
       "      <td>0.21442</td>\n",
       "      <td>0.14418</td>\n",
       "      <td>0.00000</td>\n",
       "      <td>0.09524</td>\n",
       "      <td>0.14286</td>\n",
       "      <td>0.32500</td>\n",
       "      <td>0.92308</td>\n",
       "    </tr>\n",
       "  </tbody>\n",
       "</table>\n",
       "</div>"
      ],
      "text/plain": [
       "                count    mean     std     min     25%     50%     75%     max\n",
       "exp_group                                                                    \n",
       "control   10079.00000 0.21560 0.08416 0.00000 0.16010 0.20312 0.25765 0.72222\n",
       "test       9952.00000 0.21442 0.14418 0.00000 0.09524 0.14286 0.32500 0.92308"
      ]
     },
     "execution_count": 7,
     "metadata": {},
     "output_type": "execute_result"
    }
   ],
   "source": [
    "df.groupby('exp_group').ctr.describe()"
   ]
  },
  {
   "cell_type": "markdown",
   "id": "046d3c80",
   "metadata": {},
   "source": [
    "Средний ctr по группам очень похожее, для тестового чуть меньше (21,44% против 21,56%). \n",
    "Но стандартное отклонение по тестовой выборке намного выше. Кроме того, видно, что крайние квартили по тестовой выборке тоже сильно отличаются от контрольной. Посмотрим на их гистограммы"
   ]
  },
  {
   "cell_type": "code",
   "execution_count": 8,
   "id": "8ccc4917",
   "metadata": {},
   "outputs": [
    {
     "data": {
      "text/plain": [
       "Text(0.5, 1.0, 'Распределения CTR в тестовой и контрольной группах')"
      ]
     },
     "execution_count": 8,
     "metadata": {},
     "output_type": "execute_result"
    },
    {
     "data": {
      "image/png": "[encoded data removed]",
      "text/plain": [
       "<Figure size 1080x504 with 1 Axes>"
      ]
     },
     "metadata": {},
     "output_type": "display_data"
    }
   ],
   "source": [
    "sns.histplot(data=df, x='ctr', hue='exp_group', palette=['r','b'])\n",
    "plt.title('Распределения CTR в тестовой и контрольной группах')"
   ]
  },
  {
   "cell_type": "markdown",
   "id": "688e658e",
   "metadata": {},
   "source": [
    "Гистограмма показывает что-то неожиданное. Для тестовой выборки есть 2 горба - в районе 10% и в районе 30%. Горб в районе 10% больше (второй менее размазан). Для контрольной - распределение похоже на нормальное с центром в районе 20%.\n",
    "Предполагаю, что эксперимент дал разные результаты - у кого-то ухудшил ctr, у кого-то увеличил. \n",
    "Надо будет изучить эти группы (1 - у кого ухудшили и 2 - у кого улучшили) отдельно - по профилю (ос, пол-возраст и т.д.) и поведению (кол-во просмотров и т.д. и т.п.)"
   ]
  },
  {
   "cell_type": "markdown",
   "id": "c650ad1a",
   "metadata": {},
   "source": [
    "# т-тест Стьюдента"
   ]
  },
  {
   "cell_type": "code",
   "execution_count": 9,
   "id": "4cb3b533",
   "metadata": {
    "scrolled": true
   },
   "outputs": [
    {
     "data": {
      "text/plain": [
       "0.4780623130874935"
      ]
     },
     "execution_count": 9,
     "metadata": {},
     "output_type": "execute_result"
    }
   ],
   "source": [
    "_, pvalue = stats.ttest_ind(df[df['exp_group']=='test'].ctr, df[df['exp_group']=='control'].ctr,\n",
    "                            equal_var=False)\n",
    "pvalue"
   ]
  },
  {
   "cell_type": "markdown",
   "id": "19b12ecc",
   "metadata": {},
   "source": [
    "## Вывод по т-тесту Стьюдента\n",
    "Стандартный т-тест дает pvalue сильно больше 0.05, то есть он говорит, что выборки не одинаковые."
   ]
  },
  {
   "cell_type": "markdown",
   "id": "7b4a1f10",
   "metadata": {},
   "source": [
    "# Манна-Уитни"
   ]
  },
  {
   "cell_type": "code",
   "execution_count": 10,
   "id": "855d4e1b",
   "metadata": {},
   "outputs": [],
   "source": [
    "df_ctr_tst = df[df['exp_group']=='test']\n",
    "df_ctr_ctrl = df[df['exp_group']=='control']"
   ]
  },
  {
   "cell_type": "code",
   "execution_count": 11,
   "id": "3cd9210e",
   "metadata": {
    "scrolled": true
   },
   "outputs": [
    {
     "data": {
      "text/plain": [
       "6.0376484617779035e-56"
      ]
     },
     "execution_count": 11,
     "metadata": {},
     "output_type": "execute_result"
    }
   ],
   "source": [
    "_, pvalue_mw = stats.mannwhitneyu(df_ctr_tst.ctr, df_ctr_ctrl.ctr)\n",
    "pvalue_mw"
   ]
  },
  {
   "cell_type": "markdown",
   "id": "b6d864ac",
   "metadata": {},
   "source": [
    "Теперь сравним по случайным значениям из теста и контроля"
   ]
  },
  {
   "cell_type": "code",
   "execution_count": 12,
   "id": "6c1dfc50",
   "metadata": {},
   "outputs": [
    {
     "name": "stdout",
     "output_type": "stream",
     "text": [
      "В 43.41 % случаев test > control. Должно получиться около 50%\n"
     ]
    }
   ],
   "source": [
    "A_gt_B = 0\n",
    "n_samples = 10**5\n",
    "\n",
    "for _ in range(n_samples):\n",
    "    A_gt_B+= df_ctr_tst.ctr.sample().values[0] > df_ctr_ctrl.ctr.sample().values[0]\n",
    "    \n",
    "print('В', round((A_gt_B/n_samples)*100, 2), '% случаев test > control. Должно получиться около 50%')"
   ]
  },
  {
   "cell_type": "markdown",
   "id": "0d9cc6ff",
   "metadata": {},
   "source": [
    "## Вывод по тесту Манна-Уитни\n",
    "Нулевая гипотеза (ранги выборок одинаковые) отвергнута (и по pvalue, и по сравнению случайных значений). Это значит, что распределения выборок разные."
   ]
  },
  {
   "cell_type": "markdown",
   "id": "ad762c08",
   "metadata": {},
   "source": [
    "#  Пуассоновский бутстреп"
   ]
  },
  {
   "cell_type": "code",
   "execution_count": 13,
   "id": "219c9e4d",
   "metadata": {},
   "outputs": [],
   "source": [
    "n_test = df_ctr_tst.shape[0]\n",
    "n_control = df_ctr_ctrl.shape[0]\n",
    "\n",
    "n_samples = 5000\n",
    "\n",
    "poisson_samples_tst = stats.poisson(1).rvs((n_samples, n_test))\n",
    "poisson_samples_ctrl = stats.poisson(1).rvs((n_samples, n_control))"
   ]
  },
  {
   "cell_type": "markdown",
   "id": "02b3cd1c",
   "metadata": {},
   "source": [
    "Проверим разброс выборок - сколько раз выпадало каждое из значений"
   ]
  },
  {
   "cell_type": "code",
   "execution_count": 14,
   "id": "fc9a696c",
   "metadata": {},
   "outputs": [
    {
     "data": {
      "text/plain": [
       "Text(0.5, 1.0, 'Разброс выборок для тестовой группы')"
      ]
     },
     "execution_count": 14,
     "metadata": {},
     "output_type": "execute_result"
    },
    {
     "data": {
      "image/png": "[encoded data removed]",
      "text/plain": [
       "<Figure size 1080x504 with 1 Axes>"
      ]
     },
     "metadata": {},
     "output_type": "display_data"
    }
   ],
   "source": [
    "sns.histplot(sum(poisson_samples_tst))\n",
    "plt.title('Разброс выборок для тестовой группы')"
   ]
  },
  {
   "cell_type": "code",
   "execution_count": 15,
   "id": "db327a42",
   "metadata": {},
   "outputs": [
    {
     "data": {
      "text/plain": [
       "Text(0.5, 1.0, 'Разброс выборок для контрольной группы')"
      ]
     },
     "execution_count": 15,
     "metadata": {},
     "output_type": "execute_result"
    },
    {
     "data": {
      "image/png": "[encoded data removed]",
      "text/plain": [
       "<Figure size 1080x504 with 1 Axes>"
      ]
     },
     "metadata": {},
     "output_type": "display_data"
    }
   ],
   "source": [
    "sns.histplot(sum(poisson_samples_ctrl))\n",
    "plt.title('Разброс выборок для контрольной группы')"
   ]
  },
  {
   "cell_type": "markdown",
   "id": "bc97db53",
   "metadata": {},
   "source": [
    "Визуально разница очень маленькая. Дальше нам надо посчитать глобальный ctr для каждой выборки."
   ]
  },
  {
   "cell_type": "code",
   "execution_count": 16,
   "id": "0ba0654d",
   "metadata": {},
   "outputs": [],
   "source": [
    "ctr_pois_tst = (poisson_samples_tst * df_ctr_tst.likes.to_numpy()).sum(axis=1) / (poisson_samples_tst * df_ctr_tst.views.to_numpy()).sum(axis=1)\n",
    "ctr_pois_ctrl = (poisson_samples_ctrl * df_ctr_ctrl.likes.to_numpy()).sum(axis=1) / (poisson_samples_ctrl * df_ctr_ctrl.views.to_numpy()).sum(axis=1)"
   ]
  },
  {
   "cell_type": "markdown",
   "id": "64deb14c",
   "metadata": {},
   "source": [
    "Теперь нарисуем их:"
   ]
  },
  {
   "cell_type": "code",
   "execution_count": 17,
   "id": "dac22c82",
   "metadata": {},
   "outputs": [
    {
     "data": {
      "text/plain": [
       "<matplotlib.legend.Legend at 0x231db381880>"
      ]
     },
     "execution_count": 17,
     "metadata": {},
     "output_type": "execute_result"
    },
    {
     "data": {
      "image/png": "[encoded data removed]",
      "text/plain": [
       "<Figure size 1080x504 with 1 Axes>"
      ]
     },
     "metadata": {},
     "output_type": "display_data"
    }
   ],
   "source": [
    "sns.histplot(ctr_pois_tst, color='b')\n",
    "sns.histplot(ctr_pois_ctrl, color='r')\n",
    "plt.title('Распредение глобального ctr для каждой выборки')\n",
    "plt.legend(['тестовые', 'контрольные'])"
   ]
  },
  {
   "cell_type": "markdown",
   "id": "0e8e4c3f",
   "metadata": {},
   "source": [
    "Можно заметить, что тестовые значения ниже чем контрольные и разница проявилась в отличие от т-теста очень сильно."
   ]
  },
  {
   "cell_type": "code",
   "execution_count": 18,
   "id": "624345df",
   "metadata": {},
   "outputs": [
    {
     "data": {
      "text/plain": [
       "Text(0.5, 1.0, 'Распределение разностей теста и контроля')"
      ]
     },
     "execution_count": 18,
     "metadata": {},
     "output_type": "execute_result"
    },
    {
     "data": {
      "image/png": "[encoded data removed]",
      "text/plain": [
       "<Figure size 1080x504 with 1 Axes>"
      ]
     },
     "metadata": {},
     "output_type": "display_data"
    }
   ],
   "source": [
    "sns.histplot(ctr_pois_tst - ctr_pois_ctrl)\n",
    "plt.title('Распределение разностей теста и контроля')"
   ]
  },
  {
   "cell_type": "markdown",
   "id": "5895eb5b",
   "metadata": {},
   "source": [
    "## Вывод по пуассоновскому бутстрепу\n",
    "Всё распределение разностей теста и контроля (пуассоновским бутстрепом) находится в отрицальной зоне, это значит, что тестовый CTR сильно меньше контрольного(что в принципе видно по распределениям). Новый алгоритм во 2-й группе не привел к увеличению CTR."
   ]
  },
  {
   "cell_type": "markdown",
   "id": "31aa3ebd",
   "metadata": {},
   "source": [
    "# Тесты на сглаженном CTR\n",
    "Посомтрим как ведут себя тесты на сглаженном распределении CTR."
   ]
  },
  {
   "cell_type": "code",
   "execution_count": 19,
   "id": "b5db22aa",
   "metadata": {},
   "outputs": [],
   "source": [
    "def smoothed_ctr(like, view, general_ctr, alpha):\n",
    "    return (like + alpha*general_ctr) / (view + alpha)"
   ]
  },
  {
   "cell_type": "markdown",
   "id": "73a64360",
   "metadata": {},
   "source": [
    "Опять считаем глобальные CTR:"
   ]
  },
  {
   "cell_type": "code",
   "execution_count": 20,
   "id": "bc40109f",
   "metadata": {},
   "outputs": [],
   "source": [
    "global_ctr_tst = df_ctr_tst.likes.sum() / df_ctr_tst.views.sum()\n",
    "global_ctr_ctrl = df_ctr_ctrl.likes.sum() / df_ctr_ctrl.views.sum()"
   ]
  },
  {
   "cell_type": "markdown",
   "id": "99279060",
   "metadata": {},
   "source": [
    "А теперь сглаживаем:"
   ]
  },
  {
   "cell_type": "code",
   "execution_count": 21,
   "id": "cb50bc39",
   "metadata": {},
   "outputs": [],
   "source": [
    "df_ctr_tst['smoothed_ctr'] = df_ctr_tst.apply(\n",
    "    lambda x: smoothed_ctr(x['likes'], x['views'], global_ctr_tst, 5), axis=1)\n",
    "\n",
    "df_ctr_ctrl['smoothed_ctr'] = df_ctr_ctrl.apply(\n",
    "    lambda x: smoothed_ctr(x['likes'], x['views'], global_ctr_ctrl, 5), axis=1)"
   ]
  },
  {
   "cell_type": "markdown",
   "id": "f7c930a3",
   "metadata": {},
   "source": [
    "Посмотрим на статистику и на распределения:"
   ]
  },
  {
   "cell_type": "code",
   "execution_count": 22,
   "id": "82b7ca0e",
   "metadata": {},
   "outputs": [
    {
     "data": {
      "text/html": [
       "<div>\n",
       "<style scoped>\n",
       "    .dataframe tbody tr th:only-of-type {\n",
       "        vertical-align: middle;\n",
       "    }\n",
       "\n",
       "    .dataframe tbody tr th {\n",
       "        vertical-align: top;\n",
       "    }\n",
       "\n",
       "    .dataframe thead th {\n",
       "        text-align: right;\n",
       "    }\n",
       "</style>\n",
       "<table border=\"1\" class=\"dataframe\">\n",
       "  <thead>\n",
       "    <tr style=\"text-align: right;\">\n",
       "      <th></th>\n",
       "      <th>control</th>\n",
       "      <th>test</th>\n",
       "    </tr>\n",
       "  </thead>\n",
       "  <tbody>\n",
       "    <tr>\n",
       "      <th>count</th>\n",
       "      <td>9952.00000</td>\n",
       "      <td>10079.00000</td>\n",
       "    </tr>\n",
       "    <tr>\n",
       "      <th>mean</th>\n",
       "      <td>0.21074</td>\n",
       "      <td>0.21403</td>\n",
       "    </tr>\n",
       "    <tr>\n",
       "      <th>std</th>\n",
       "      <td>0.12477</td>\n",
       "      <td>0.07137</td>\n",
       "    </tr>\n",
       "    <tr>\n",
       "      <th>min</th>\n",
       "      <td>0.03095</td>\n",
       "      <td>0.03587</td>\n",
       "    </tr>\n",
       "    <tr>\n",
       "      <th>25%</th>\n",
       "      <td>0.10512</td>\n",
       "      <td>0.16454</td>\n",
       "    </tr>\n",
       "    <tr>\n",
       "      <th>50%</th>\n",
       "      <td>0.14788</td>\n",
       "      <td>0.20348</td>\n",
       "    </tr>\n",
       "    <tr>\n",
       "      <th>75%</th>\n",
       "      <td>0.31090</td>\n",
       "      <td>0.25167</td>\n",
       "    </tr>\n",
       "    <tr>\n",
       "      <th>max</th>\n",
       "      <td>0.77063</td>\n",
       "      <td>0.62311</td>\n",
       "    </tr>\n",
       "  </tbody>\n",
       "</table>\n",
       "</div>"
      ],
      "text/plain": [
       "         control        test\n",
       "count 9952.00000 10079.00000\n",
       "mean     0.21074     0.21403\n",
       "std      0.12477     0.07137\n",
       "min      0.03095     0.03587\n",
       "25%      0.10512     0.16454\n",
       "50%      0.14788     0.20348\n",
       "75%      0.31090     0.25167\n",
       "max      0.77063     0.62311"
      ]
     },
     "execution_count": 22,
     "metadata": {},
     "output_type": "execute_result"
    }
   ],
   "source": [
    "pd.DataFrame(dict(control = df_ctr_tst.smoothed_ctr.describe(), test = df_ctr_ctrl.smoothed_ctr.describe()))"
   ]
  },
  {
   "cell_type": "code",
   "execution_count": 23,
   "id": "ae59fcac",
   "metadata": {},
   "outputs": [
    {
     "data": {
      "text/plain": [
       "<matplotlib.legend.Legend at 0x231db766fd0>"
      ]
     },
     "execution_count": 23,
     "metadata": {},
     "output_type": "execute_result"
    },
    {
     "data": {
      "image/png": "[encoded data removed]",
      "text/plain": [
       "<Figure size 1080x504 with 1 Axes>"
      ]
     },
     "metadata": {},
     "output_type": "display_data"
    }
   ],
   "source": [
    "sns.histplot(df_ctr_tst.smoothed_ctr, color='b')\n",
    "sns.histplot(df_ctr_ctrl.smoothed_ctr, color='r')\n",
    "plt.title('Распредение сглаженного ctr для каждой выборки')\n",
    "plt.legend(['тестовые', 'контрольные'])"
   ]
  },
  {
   "cell_type": "markdown",
   "id": "c6c87176",
   "metadata": {},
   "source": [
    "## т-тест Стьюдента по сглаженному CTR"
   ]
  },
  {
   "cell_type": "code",
   "execution_count": 24,
   "id": "a305c2c1",
   "metadata": {},
   "outputs": [
    {
     "name": "stdout",
     "output_type": "stream",
     "text": [
      "P-value т-теста для обычного ctr = 0.4780623130874935, для сглаженного ctr = 0.0223769815558559\n"
     ]
    }
   ],
   "source": [
    "_, pvalue = stats.ttest_ind(df_ctr_tst.ctr, df_ctr_ctrl.ctr, equal_var=False)\n",
    "_, pvalue_smoothed = stats.ttest_ind(df_ctr_tst.smoothed_ctr, df_ctr_ctrl.smoothed_ctr, equal_var=False)\n",
    "print(f'P-value т-теста для обычного ctr = {pvalue}, для сглаженного ctr = {pvalue_smoothed}')"
   ]
  },
  {
   "cell_type": "markdown",
   "id": "e1019cdb",
   "metadata": {},
   "source": [
    "По сглаженному ctr т-тест покрасился."
   ]
  },
  {
   "cell_type": "markdown",
   "id": "d8debbef",
   "metadata": {},
   "source": [
    "## Манна-Уитни по сглаженному CTR"
   ]
  },
  {
   "cell_type": "code",
   "execution_count": 25,
   "id": "a8ae6320",
   "metadata": {},
   "outputs": [
    {
     "name": "stdout",
     "output_type": "stream",
     "text": [
      "P-value теста Манна-Уитни для обычного ctr = 6.0376484617779035e-56, для сглаженного ctr = 1.6163964114270227e-61\n"
     ]
    }
   ],
   "source": [
    "_, pvalue_mw = stats.mannwhitneyu(df_ctr_tst.ctr, df_ctr_ctrl.ctr)\n",
    "_, pvalue_mw_sm = stats.mannwhitneyu(df_ctr_tst.smoothed_ctr, df_ctr_ctrl.smoothed_ctr)\n",
    "print(f'P-value теста Манна-Уитни для обычного ctr = {pvalue_mw}, для сглаженного ctr = {pvalue_mw_sm}')"
   ]
  },
  {
   "cell_type": "markdown",
   "id": "8f551482",
   "metadata": {},
   "source": [
    "Манн-Уитни и до сглаживания был маленький(тест покрашивался), теперь еще меньше."
   ]
  },
  {
   "cell_type": "markdown",
   "id": "31a53267",
   "metadata": {},
   "source": [
    "# Бакетное преобразование"
   ]
  },
  {
   "cell_type": "markdown",
   "id": "9445385f",
   "metadata": {},
   "source": [
    "Попробуем реализовать бакетное преобразование, начнем с хэширования. Будем делить на 100 групп (мета-юзеров)"
   ]
  },
  {
   "cell_type": "code",
   "execution_count": 26,
   "id": "0371682d",
   "metadata": {},
   "outputs": [],
   "source": [
    "def ab_split(id, salt='exp_mess_1', n_groups=100):\n",
    "    test_id = str(id) + '-' + str(salt)\n",
    "    test_id_digest = hashlib.md5(test_id.encode('ascii')).hexdigest()\n",
    "    test_id_final_int = int(test_id_digest, 16)\n",
    "    return test_id_final_int % n_groups"
   ]
  },
  {
   "cell_type": "code",
   "execution_count": 27,
   "id": "f4ca87dd",
   "metadata": {},
   "outputs": [],
   "source": [
    "df_ctr_tst['backet'] = df_ctr_tst.user_id.apply(ab_split)\n",
    "df_ctr_ctrl['backet'] = df_ctr_ctrl.user_id.apply(ab_split)"
   ]
  },
  {
   "cell_type": "markdown",
   "id": "2d73b022",
   "metadata": {},
   "source": [
    "И посчитаем CTR"
   ]
  },
  {
   "cell_type": "code",
   "execution_count": 28,
   "id": "a9529003",
   "metadata": {},
   "outputs": [],
   "source": [
    "df_ctr_tst_backet = df_ctr_tst.groupby('backet').likes.sum() / df_ctr_tst.groupby('backet').views.sum()\n",
    "df_ctr_ctrl_backet = df_ctr_ctrl.groupby('backet').likes.sum() / df_ctr_ctrl.groupby('backet').views.sum()"
   ]
  },
  {
   "cell_type": "markdown",
   "id": "570af784",
   "metadata": {},
   "source": [
    "## т-тест по бакетному преобразованию"
   ]
  },
  {
   "cell_type": "code",
   "execution_count": 29,
   "id": "f3c9fcb1",
   "metadata": {},
   "outputs": [
    {
     "name": "stdout",
     "output_type": "stream",
     "text": [
      "P-value т-теста для обычного ctr = 0.4780623130874935, для сглаженного = 0.0223769815558559, для бакетного ctr = 5.4294865493877956e-08\n"
     ]
    }
   ],
   "source": [
    "_, pvalue = stats.ttest_ind(df_ctr_tst.ctr, df_ctr_ctrl.ctr, equal_var=False)\n",
    "_, pvalue_backet = stats.ttest_ind(df_ctr_tst_backet, df_ctr_ctrl_backet, equal_var=False)\n",
    "print(f'P-value т-теста для обычного ctr = {pvalue}, для сглаженного = {pvalue_smoothed}, для бакетного ctr = {pvalue_backet}')"
   ]
  },
  {
   "cell_type": "markdown",
   "id": "778ff2b8",
   "metadata": {},
   "source": [
    "## тест Манна-Уитни по бакетному преобразованию"
   ]
  },
  {
   "cell_type": "code",
   "execution_count": 30,
   "id": "2802b53e",
   "metadata": {
    "scrolled": true
   },
   "outputs": [
    {
     "name": "stdout",
     "output_type": "stream",
     "text": [
      "P-value теста Манна-Уитни для обычного ctr = 6.0376484617779035e-56, для сглаженного ctr = 1.6163964114270227e-61, для бакетного ctr = 2.0110869513991762e-07\n"
     ]
    }
   ],
   "source": [
    "_, pvalue_mw = stats.mannwhitneyu(df_ctr_tst.ctr, df_ctr_ctrl.ctr)\n",
    "_, pvalue_mw_backet = stats.mannwhitneyu(df_ctr_tst_backet, df_ctr_ctrl_backet)\n",
    "print(f'P-value теста Манна-Уитни для обычного ctr = {pvalue_mw}, для сглаженного ctr = {pvalue_mw_sm}, для бакетного ctr = {pvalue_mw_backet}')"
   ]
  },
  {
   "cell_type": "markdown",
   "id": "79f8e180",
   "metadata": {},
   "source": [
    "Тест Манна-Уитни прокрашивается во всех случаях, после бактеного стал прокрашиваться меньше (возможно из-за уменьшения выборки через хэширование)."
   ]
  },
  {
   "cell_type": "markdown",
   "id": "e4def1fd",
   "metadata": {},
   "source": [
    "# Выводы"
   ]
  },
  {
   "cell_type": "markdown",
   "id": "71ac8e8c",
   "metadata": {},
   "source": [
    "Почти все тесты показали, что выборки не одинаковые. Это можно увидеть по распределениям и квартилям. Эксперимент привел к тому, что для одних пользователей CTR стал меньше, а для других вырос. Предположу причины такого результата:\n",
    "  - Разные группы пользователей по-разному реагируют на сам алгоритм. Например, одним может не нравится, что им алгоритм выдает не те посты, к которым они привыкли, им не нравятся изменения т.д., а другие лояльны к нашему алгоритму и изменения им подуше.\n",
    "  - Ошибка в алгоритме. Для одних он работал хорошо, для других работал с ошибкой в алгоритме. Эксперимент имеет хороший потенциал, потому что для тех у кого CTR упал алгоритм можно отключить. Тогда общий CTR вырастет, чего мы и добивались.\n",
    "  \n",
    "  \n",
    "Рекомендации:\n",
    "\n",
    "- учитывая сильное падение CTR для примерно половины тестовых пользователей, лучше остановить эксперимент.\n",
    "- найти причины проблемы. Начать с изучения алгоритма. \n",
    "- изучать 2 группы - у которых CTR вырос, и у которых упал. Возможно есть какие-то особенности. \n",
    "- провести повторный тест после исправлений\n",
    "- если повторный тест окажется успешным, то можно дать новый алгоритм всем пользователям."
   ]
  }
 ],
 "metadata": {
  "kernelspec": {
   "display_name": "Python 3 (ipykernel)",
   "language": "python",
   "name": "python3"
  },
  "language_info": {
   "codemirror_mode": {
    "name": "ipython",
    "version": 3
   },
   "file_extension": ".py",
   "mimetype": "text/x-python",
   "name": "python",
   "nbconvert_exporter": "python",
   "pygments_lexer": "ipython3",
   "version": "3.9.7"
  },
  "toc": {
   "base_numbering": 1,
   "nav_menu": {},
   "number_sections": true,
   "sideBar": true,
   "skip_h1_title": false,
   "title_cell": "Table of Contents",
   "title_sidebar": "Contents",
   "toc_cell": false,
   "toc_position": {
    "height": "calc(100% - 180px)",
    "left": "10px",
    "top": "150px",
    "width": "307.2px"
   },
   "toc_section_display": true,
   "toc_window_display": true
  }
 },
 "nbformat": 4,
 "nbformat_minor": 5
}

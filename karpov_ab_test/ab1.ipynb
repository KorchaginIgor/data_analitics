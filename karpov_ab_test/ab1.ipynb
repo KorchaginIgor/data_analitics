{
 "cells": [
  {
   "cell_type": "markdown",
   "id": "5522f52f",
   "metadata": {},
   "source": [
    "# Задание 1 А/А тест"
   ]
  },
  {
   "cell_type": "markdown",
   "id": "87fa2245",
   "metadata": {},
   "source": [
    "У нас есть данные АА-теста с 2022-05-17 по 2022-05-23. Нам нужно сделать симуляцию, как будто мы провели 10000(сделаем 100000) АА-тестов. На каждой итерации вам нужно сформировать подвыборки с повторением в 500 юзеров из 2 и 3 экспериментальной группы. Нам нужно провести сравнение этих подвыборок t-testом."
   ]
  },
  {
   "cell_type": "markdown",
   "id": "74ba670d",
   "metadata": {},
   "source": [
    "# Загружаем библиотеки и подключаемся к базе"
   ]
  },
  {
   "cell_type": "code",
   "execution_count": 20,
   "id": "795e7daa",
   "metadata": {},
   "outputs": [],
   "source": [
    "import hashlib\n",
    "import pandahouse\n",
    "import pandas as pd\n",
    "import swifter\n",
    "import seaborn as sns\n",
    "import matplotlib.pyplot as plt\n",
    "from scipy import stats\n",
    "import random\n",
    "import numpy as np\n",
    "pd.set_option('display.float_format', '{:.3f}'.format)\n",
    "import warnings\n",
    "warnings.filterwarnings('ignore')"
   ]
  },
  {
   "cell_type": "code",
   "execution_count": 21,
   "id": "2446dda6",
   "metadata": {},
   "outputs": [],
   "source": [
    "connection = {\n",
    "    'host': 'https://clickhouse.lab.karpov.courses',\n",
    "    'password': 'dpo_python_2020',\n",
    "    'user': 'student',\n",
    "    'database': 'simulator'\n",
    "}"
   ]
  },
  {
   "cell_type": "code",
   "execution_count": 22,
   "id": "1bd2e1fa",
   "metadata": {},
   "outputs": [],
   "source": [
    "q = \"\"\"\n",
    "SELECT *\n",
    "FROM simulator_20220620.feed_actions \n",
    "WHERE toDate(time) >= '2022-05-17' and toDate(time) <= '2022-05-23'\n",
    "limit 5\n",
    "\"\"\""
   ]
  },
  {
   "cell_type": "markdown",
   "id": "60fc21a5",
   "metadata": {},
   "source": [
    "Посмотрим на данные:"
   ]
  },
  {
   "cell_type": "code",
   "execution_count": 23,
   "id": "32c33cdb",
   "metadata": {
    "scrolled": true
   },
   "outputs": [
    {
     "name": "stdout",
     "output_type": "stream",
     "text": [
      "   user_id  post_id action                time  gender  age  country    city  \\\n",
      "0     3011     1283   view 2022-05-17 00:00:00       1   27   Russia  Moscow   \n",
      "1    11066     1398   like 2022-05-17 00:00:00       0   20   Russia   Tomsk   \n",
      "2    14843     1454   like 2022-05-17 00:00:00       0   20   Russia  Kaluga   \n",
      "3    15938     1378   view 2022-05-17 00:00:00       1   19   Russia  Moscow   \n",
      "4     1725     1507   view 2022-05-17 00:00:01       1   19  Ukraine   Kovel   \n",
      "\n",
      "        os source  exp_group  \n",
      "0      iOS    ads          4  \n",
      "1  Android    ads          3  \n",
      "2  Android    ads          3  \n",
      "3  Android    ads          1  \n",
      "4  Android    ads          4  \n"
     ]
    }
   ],
   "source": [
    "df = pandahouse.read_clickhouse(q, connection=connection)\n",
    "\n",
    "print(df.head())"
   ]
  },
  {
   "cell_type": "markdown",
   "id": "a112b3fd",
   "metadata": {},
   "source": [
    "# Подготовка и сам A/A тест"
   ]
  },
  {
   "cell_type": "markdown",
   "id": "8774dcec",
   "metadata": {},
   "source": [
    "Перейдем к нашему CTR:"
   ]
  },
  {
   "cell_type": "code",
   "execution_count": 24,
   "id": "15790f85",
   "metadata": {},
   "outputs": [],
   "source": [
    "q = \"\"\"\n",
    "SELECT user_id, exp_group, countIf(action='like') likes,\n",
    "countIf(action='view') views,\n",
    "countIf(action='like')/countIf(action='view') ctr\n",
    "from simulator_20220620.feed_actions \n",
    "group by user_id, exp_group\n",
    "having toDate(time)>='2022-06-17' and toDate(time)<='2022-06-23'\n",
    "\"\"\""
   ]
  },
  {
   "cell_type": "markdown",
   "id": "906e6008",
   "metadata": {},
   "source": [
    "И сразу посмотрим на информацию о распредениях в группах:"
   ]
  },
  {
   "cell_type": "code",
   "execution_count": 25,
   "id": "b4dc2a4f",
   "metadata": {},
   "outputs": [
    {
     "data": {
      "text/html": [
       "<div>\n",
       "<style scoped>\n",
       "    .dataframe tbody tr th:only-of-type {\n",
       "        vertical-align: middle;\n",
       "    }\n",
       "\n",
       "    .dataframe tbody tr th {\n",
       "        vertical-align: top;\n",
       "    }\n",
       "\n",
       "    .dataframe thead th {\n",
       "        text-align: right;\n",
       "    }\n",
       "</style>\n",
       "<table border=\"1\" class=\"dataframe\">\n",
       "  <thead>\n",
       "    <tr style=\"text-align: right;\">\n",
       "      <th></th>\n",
       "      <th>count</th>\n",
       "      <th>mean</th>\n",
       "      <th>std</th>\n",
       "      <th>min</th>\n",
       "      <th>25%</th>\n",
       "      <th>50%</th>\n",
       "      <th>75%</th>\n",
       "      <th>max</th>\n",
       "    </tr>\n",
       "    <tr>\n",
       "      <th>exp_group</th>\n",
       "      <th></th>\n",
       "      <th></th>\n",
       "      <th></th>\n",
       "      <th></th>\n",
       "      <th></th>\n",
       "      <th></th>\n",
       "      <th></th>\n",
       "      <th></th>\n",
       "    </tr>\n",
       "  </thead>\n",
       "  <tbody>\n",
       "    <tr>\n",
       "      <th>2</th>\n",
       "      <td>14725.000</td>\n",
       "      <td>0.217</td>\n",
       "      <td>0.090</td>\n",
       "      <td>0.000</td>\n",
       "      <td>0.158</td>\n",
       "      <td>0.203</td>\n",
       "      <td>0.264</td>\n",
       "      <td>0.750</td>\n",
       "    </tr>\n",
       "    <tr>\n",
       "      <th>3</th>\n",
       "      <td>14885.000</td>\n",
       "      <td>0.214</td>\n",
       "      <td>0.091</td>\n",
       "      <td>0.000</td>\n",
       "      <td>0.156</td>\n",
       "      <td>0.200</td>\n",
       "      <td>0.261</td>\n",
       "      <td>0.750</td>\n",
       "    </tr>\n",
       "  </tbody>\n",
       "</table>\n",
       "</div>"
      ],
      "text/plain": [
       "              count  mean   std   min   25%   50%   75%   max\n",
       "exp_group                                                    \n",
       "2         14725.000 0.217 0.090 0.000 0.158 0.203 0.264 0.750\n",
       "3         14885.000 0.214 0.091 0.000 0.156 0.200 0.261 0.750"
      ]
     },
     "execution_count": 25,
     "metadata": {},
     "output_type": "execute_result"
    }
   ],
   "source": [
    "df_ctr = pandahouse.read_clickhouse(query=q, connection=connection)\n",
    "df_ctr.groupby('exp_group')['ctr'].describe()[2:4]"
   ]
  },
  {
   "cell_type": "markdown",
   "id": "7ed8e59a",
   "metadata": {},
   "source": [
    "Параметры распределений групп 2 и 3 достаточно близкие. Посмотрим на их гистограммы"
   ]
  },
  {
   "cell_type": "code",
   "execution_count": 26,
   "id": "9f9c354d",
   "metadata": {},
   "outputs": [],
   "source": [
    "sns.set(rc={'figure.figsize':(15,7)})"
   ]
  },
  {
   "cell_type": "code",
   "execution_count": 27,
   "id": "e2daf58a",
   "metadata": {},
   "outputs": [
    {
     "data": {
      "text/plain": [
       "Text(0.5, 1.0, 'Распределение CTR')"
      ]
     },
     "execution_count": 27,
     "metadata": {},
     "output_type": "execute_result"
    },
    {
     "data": {
      "image/png": "[encoded data removed]",
      "text/plain": [
       "<Figure size 1080x504 with 1 Axes>"
      ]
     },
     "metadata": {},
     "output_type": "display_data"
    }
   ],
   "source": [
    "sns.histplot(data = df_ctr[(df_ctr['exp_group']==2) | (df_ctr['exp_group']==3)], \n",
    "              x='ctr', \n",
    "              hue='exp_group', \n",
    "              palette = ['r', 'b'],\n",
    "              alpha=0.5,\n",
    "              kde=False)\n",
    "plt.title('Распределение CTR')"
   ]
  },
  {
   "cell_type": "markdown",
   "id": "e1577dc8",
   "metadata": {},
   "source": [
    "Все примерно похоже, посчитаем количество ctr = 0 или 1"
   ]
  },
  {
   "cell_type": "code",
   "execution_count": 28,
   "id": "4a681378",
   "metadata": {},
   "outputs": [
    {
     "data": {
      "text/plain": [
       "(143, 0, 176, 0)"
      ]
     },
     "execution_count": 28,
     "metadata": {},
     "output_type": "execute_result"
    }
   ],
   "source": [
    "df_ctr_2 = df_ctr[df_ctr['exp_group']==2]\n",
    "df_ctr_3 = df_ctr[df_ctr['exp_group']==3]\n",
    "(df_ctr_2.ctr==0).sum(), (df_ctr_2.ctr==1).sum(), (df_ctr_3.ctr==0).sum(), (df_ctr_3.ctr==1).sum()"
   ]
  },
  {
   "cell_type": "markdown",
   "id": "4aed4597",
   "metadata": {},
   "source": [
    "В принципе такой результат и виден на графике, всплеск у нуля. Теперь проведём симуляцию 10000 АА-тестов с подвыборками по 500 пользователей с возвращением из каждой группы. Значения p-value t-тестов сохраним в `result`. Сделаем итерации выборок из множеств групп 2 и 3 и считаем p-value на каждую выборку."
   ]
  },
  {
   "cell_type": "code",
   "execution_count": 29,
   "id": "94d6fd88",
   "metadata": {},
   "outputs": [],
   "source": [
    "iter = 10**5#сделаем на порядок побольше чем указано в задании,\n",
    "#чтобы увидеть всплеск p-value у нуля, на 10000 тестах видно(но шумно получается)\n",
    "sample_size = 500\n",
    "\n",
    "result=[]\n",
    "for i in range(0, iter):\n",
    "    _, pvalue = stats.ttest_ind(df_ctr_2['ctr'].sample(sample_size, replace=True),\n",
    "                                df_ctr_3['ctr'].sample(sample_size, replace=True),\n",
    "                                equal_var=False)\n",
    "    result.append(pvalue)"
   ]
  },
  {
   "cell_type": "markdown",
   "id": "9ed30a16",
   "metadata": {},
   "source": [
    "Посмоторим на распределение p-value"
   ]
  },
  {
   "cell_type": "code",
   "execution_count": 30,
   "id": "37e85c34",
   "metadata": {},
   "outputs": [
    {
     "data": {
      "text/plain": [
       "Text(0.5, 1.0, 'Распределение p-values')"
      ]
     },
     "execution_count": 30,
     "metadata": {},
     "output_type": "execute_result"
    },
    {
     "data": {
      "image/png": "[encoded data removed]",
      "text/plain": [
       "<Figure size 1080x504 with 1 Axes>"
      ]
     },
     "metadata": {},
     "output_type": "display_data"
    }
   ],
   "source": [
    "sns.histplot(result, bins=100)\n",
    "plt.title('Распределение p-values')"
   ]
  },
  {
   "cell_type": "markdown",
   "id": "8dc53a59",
   "metadata": {},
   "source": [
    "Теперь посчитаем долю p-values, которые меньше или равны 0.5."
   ]
  },
  {
   "cell_type": "code",
   "execution_count": 31,
   "id": "c79cc4dc",
   "metadata": {},
   "outputs": [
    {
     "data": {
      "text/plain": [
       "0.07247"
      ]
     },
     "execution_count": 31,
     "metadata": {},
     "output_type": "execute_result"
    }
   ],
   "source": [
    "(pd.Series(result)<=0.05).sum()/(pd.Series(result)).count()"
   ]
  },
  {
   "cell_type": "markdown",
   "id": "ad87e1d6",
   "metadata": {},
   "source": [
    "Таких p-value оказалось 7%"
   ]
  },
  {
   "cell_type": "markdown",
   "id": "377e88a9",
   "metadata": {},
   "source": [
    "## Первый вывод  \n",
    "Доля p-values, равных или меньше 0,5, составляет чуть больше 7%. Само распределение p-values равномерное. Но есть некоторый выступ в районе нуля. \n",
    "\n",
    "Из этого можно сделать вывод, что выборки довольно одинаковые. Система сплитования в целом работает."
   ]
  },
  {
   "cell_type": "markdown",
   "id": "3694ef7a",
   "metadata": {},
   "source": [
    "# Сглаживание"
   ]
  },
  {
   "cell_type": "markdown",
   "id": "8bc4efdb",
   "metadata": {},
   "source": [
    "Попробуем применить сглаживание"
   ]
  },
  {
   "cell_type": "code",
   "execution_count": 32,
   "id": "a7547c80",
   "metadata": {},
   "outputs": [],
   "source": [
    "def smoothed_ctr(like, view, general_ctr, alpha):#сама функция\n",
    "    return (like + alpha*general_ctr) / (view + alpha)"
   ]
  },
  {
   "cell_type": "markdown",
   "id": "47ff6291",
   "metadata": {},
   "source": [
    "Считаем глобальные ctr"
   ]
  },
  {
   "cell_type": "code",
   "execution_count": 33,
   "id": "3d04bde5",
   "metadata": {},
   "outputs": [],
   "source": [
    "global_ctr2 = df_ctr_2.likes.sum() / df_ctr_2.views.sum()\n",
    "global_ctr3 = df_ctr_3.likes.sum() / df_ctr_3.views.sum()"
   ]
  },
  {
   "cell_type": "markdown",
   "id": "45760168",
   "metadata": {},
   "source": [
    "И теперь смотрим на сглаженные ctr"
   ]
  },
  {
   "cell_type": "code",
   "execution_count": 34,
   "id": "60e960fe",
   "metadata": {},
   "outputs": [],
   "source": [
    "df_ctr_2['smoothed_ctr'] = df_ctr_2.apply(\n",
    "    lambda x: smoothed_ctr(x['likes'], x['views'], global_ctr2, 5), axis=1)\n",
    "\n",
    "df_ctr_3['smoothed_ctr'] = df_ctr_3.apply(\n",
    "    lambda x: smoothed_ctr(x['likes'], x['views'], global_ctr3, 5), axis=1)"
   ]
  },
  {
   "cell_type": "code",
   "execution_count": 35,
   "id": "817150bd",
   "metadata": {},
   "outputs": [
    {
     "data": {
      "text/plain": [
       "Text(0.5, 1.0, 'Сглаженные ctr')"
      ]
     },
     "execution_count": 35,
     "metadata": {},
     "output_type": "execute_result"
    },
    {
     "data": {
      "image/png": "[encoded data removed]",
      "text/plain": [
       "<Figure size 1080x504 with 1 Axes>"
      ]
     },
     "metadata": {},
     "output_type": "display_data"
    }
   ],
   "source": [
    "sns.histplot(df_ctr_2.smoothed_ctr, color='r')\n",
    "sns.histplot(df_ctr_3.smoothed_ctr, color='b')\n",
    "plt.title('Сглаженные ctr')"
   ]
  },
  {
   "cell_type": "markdown",
   "id": "c35968f7",
   "metadata": {},
   "source": [
    "Теперь опять делаем итерации выборок из множеств групп 2 и 3 и считаем p-value на каждую выборку."
   ]
  },
  {
   "cell_type": "code",
   "execution_count": 36,
   "id": "c19cb2cc",
   "metadata": {},
   "outputs": [],
   "source": [
    "iter = 10**5 # опять остановимся на 100000\n",
    "sample_size = 500\n",
    "\n",
    "result=[]\n",
    "for i in range(0, iter):\n",
    "    _, pvalue = stats.ttest_ind(df_ctr_2.smoothed_ctr.sample(sample_size, replace=True),\n",
    "                                df_ctr_3.smoothed_ctr.sample(sample_size, replace=True),\n",
    "                                equal_var=False)\n",
    "    result.append(pvalue)"
   ]
  },
  {
   "cell_type": "markdown",
   "id": "fe450977",
   "metadata": {},
   "source": [
    "И смотрим на распределение p-value со сглаживанием"
   ]
  },
  {
   "cell_type": "code",
   "execution_count": 37,
   "id": "bf4b0f05",
   "metadata": {},
   "outputs": [
    {
     "data": {
      "text/plain": [
       "Text(0.5, 1.0, 'Распределение p-values со сглаживанием')"
      ]
     },
     "execution_count": 37,
     "metadata": {},
     "output_type": "execute_result"
    },
    {
     "data": {
      "image/png": "[encoded data removed]",
      "text/plain": [
       "<Figure size 1080x504 with 1 Axes>"
      ]
     },
     "metadata": {},
     "output_type": "display_data"
    }
   ],
   "source": [
    "sns.histplot(result, bins=100)\n",
    "plt.title('Распределение p-values со сглаживанием')"
   ]
  },
  {
   "cell_type": "markdown",
   "id": "58c70420",
   "metadata": {},
   "source": [
    "Распредеоение кажется стало немного более равномерным (но всплекск у нуля стал более выраженным). Посчитаем долю p-values, которые меньше или равны 0.5"
   ]
  },
  {
   "cell_type": "code",
   "execution_count": 38,
   "id": "4bb78d95",
   "metadata": {},
   "outputs": [
    {
     "name": "stdout",
     "output_type": "stream",
     "text": [
      "Доля p-values меньше или равно 0,05 = 0.0848\n"
     ]
    }
   ],
   "source": [
    "print(f'Доля p-values меньше или равно 0,05 = {(pd.Series(result)<=0.05).sum()/(pd.Series(result)).count()}')"
   ]
  },
  {
   "cell_type": "markdown",
   "id": "0eac3a4f",
   "metadata": {},
   "source": [
    "## Второй вывод\n",
    "После сглаживания доля p-values, которые меньше или равны 0.5 уведичилась, сглаживание не помогло улучшить результат. Остановимся на версии без сглаживания."
   ]
  }
 ],
 "metadata": {
  "kernelspec": {
   "display_name": "Python 3 (ipykernel)",
   "language": "python",
   "name": "python3"
  },
  "language_info": {
   "codemirror_mode": {
    "name": "ipython",
    "version": 3
   },
   "file_extension": ".py",
   "mimetype": "text/x-python",
   "name": "python",
   "nbconvert_exporter": "python",
   "pygments_lexer": "ipython3",
   "version": "3.9.7"
  },
  "toc": {
   "base_numbering": 1,
   "nav_menu": {},
   "number_sections": true,
   "sideBar": true,
   "skip_h1_title": false,
   "title_cell": "Table of Contents",
   "title_sidebar": "Contents",
   "toc_cell": false,
   "toc_position": {},
   "toc_section_display": true,
   "toc_window_display": false
  }
 },
 "nbformat": 4,
 "nbformat_minor": 5
}

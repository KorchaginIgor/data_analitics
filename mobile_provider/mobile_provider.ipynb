{
 "cells": [
  {
   "cell_type": "markdown",
   "id": "d6375d53",
   "metadata": {},
   "source": [
    "# Определение перспективного тарифа для телеком-компании"
   ]
  },
  {
   "cell_type": "markdown",
   "id": "575a6a63",
   "metadata": {},
   "source": [
    "Я аналитик компании «Мегалайн» — федерального оператора сотовой связи. Клиентам предлагают два тарифных плана: «Смарт» и «Ультра». Чтобы скорректировать рекламный бюджет, коммерческий департамент хочет понять, какой тариф приносит больше денег.\n",
    "Вам предстоит сделать предварительный анализ тарифов на небольшой выборке клиентов. В вашем распоряжении данные 500 пользователей «Мегалайна»: кто они, откуда, каким тарифом пользуются, сколько звонков и сообщений каждый отправил за 2018 год. Нужно проанализировать поведение клиентов и сделать вывод — какой тариф лучше."
   ]
  },
  {
   "cell_type": "markdown",
   "id": "8e7ab837",
   "metadata": {},
   "source": [
    "## Описание тарифов"
   ]
  },
  {
   "cell_type": "markdown",
   "id": "8b78b14c",
   "metadata": {},
   "source": [
    "### Тариф «Смарт»\n",
    "1. Ежемесячная плата: 550 рублей\n",
    "2. Включено 500 минут разговора, 50 сообщений и 15 Гб интернет-трафика\n",
    "3. Стоимость услуг сверх тарифного пакета: 1. минута разговора: 3 рубля («Мегалайн» всегда округляет вверх значения минут и мегабайтов. Если пользователь проговорил всего 1 секунду, в тарифе засчитывается целая минута); 2. сообщение: 3 рубля; 3. 1 Гб интернет-трафика: 200 рублей."
   ]
  },
  {
   "cell_type": "markdown",
   "id": "70121765",
   "metadata": {},
   "source": [
    "### Тариф «Ультра»\n",
    "1. Ежемесячная плата: 1950 рублей\n",
    "2. Включено 3000 минут разговора, 1000 сообщений и 30 Гб интернет-трафика\n",
    "3. Стоимость услуг сверх тарифного пакета: 1. минута разговора: 1 рубль; 2. сообщение: 1 рубль; 3. 1 Гб интернет-трафика: 150 рублей."
   ]
  },
  {
   "cell_type": "markdown",
   "id": "9b5b9051",
   "metadata": {},
   "source": [
    "### Примечание:\n",
    "«Мегалайн» всегда округляет секунды до минут, а мегабайты — до гигабайт. Каждый звонок округляется отдельно: даже если он длился всего 1 секунду, будет засчитан как 1 минута.\n",
    "Для веб-трафика отдельные сессии не считаются. Вместо этого общая сумма за месяц округляется в бо́льшую сторону. Если абонент использует 1025 мегабайт в этом месяце, с него возьмут плату за 2 гигабайта."
   ]
  },
  {
   "cell_type": "markdown",
   "id": "0366a38d",
   "metadata": {},
   "source": [
    "## Изучение данных из файлов"
   ]
  },
  {
   "cell_type": "code",
   "execution_count": 3,
   "id": "0eb94b07",
   "metadata": {},
   "outputs": [
    {
     "name": "stdout",
     "output_type": "stream",
     "text": [
      "<class 'pandas.core.frame.DataFrame'>\n",
      "RangeIndex: 202607 entries, 0 to 202606\n",
      "Data columns (total 4 columns):\n",
      " #   Column     Non-Null Count   Dtype  \n",
      "---  ------     --------------   -----  \n",
      " 0   id         202607 non-null  object \n",
      " 1   call_date  202607 non-null  object \n",
      " 2   duration   202607 non-null  float64\n",
      " 3   user_id    202607 non-null  int64  \n",
      "dtypes: float64(1), int64(1), object(2)\n",
      "memory usage: 6.2+ MB\n"
     ]
    },
    {
     "data": {
      "text/plain": [
       "None"
      ]
     },
     "metadata": {},
     "output_type": "display_data"
    },
    {
     "data": {
      "text/html": [
       "<div>\n",
       "<style scoped>\n",
       "    .dataframe tbody tr th:only-of-type {\n",
       "        vertical-align: middle;\n",
       "    }\n",
       "\n",
       "    .dataframe tbody tr th {\n",
       "        vertical-align: top;\n",
       "    }\n",
       "\n",
       "    .dataframe thead th {\n",
       "        text-align: right;\n",
       "    }\n",
       "</style>\n",
       "<table border=\"1\" class=\"dataframe\">\n",
       "  <thead>\n",
       "    <tr style=\"text-align: right;\">\n",
       "      <th></th>\n",
       "      <th>id</th>\n",
       "      <th>call_date</th>\n",
       "      <th>duration</th>\n",
       "      <th>user_id</th>\n",
       "    </tr>\n",
       "  </thead>\n",
       "  <tbody>\n",
       "    <tr>\n",
       "      <th>0</th>\n",
       "      <td>1000_0</td>\n",
       "      <td>2018-07-25</td>\n",
       "      <td>0.00</td>\n",
       "      <td>1000</td>\n",
       "    </tr>\n",
       "    <tr>\n",
       "      <th>1</th>\n",
       "      <td>1000_1</td>\n",
       "      <td>2018-08-17</td>\n",
       "      <td>0.00</td>\n",
       "      <td>1000</td>\n",
       "    </tr>\n",
       "    <tr>\n",
       "      <th>2</th>\n",
       "      <td>1000_2</td>\n",
       "      <td>2018-06-11</td>\n",
       "      <td>2.85</td>\n",
       "      <td>1000</td>\n",
       "    </tr>\n",
       "    <tr>\n",
       "      <th>3</th>\n",
       "      <td>1000_3</td>\n",
       "      <td>2018-09-21</td>\n",
       "      <td>13.80</td>\n",
       "      <td>1000</td>\n",
       "    </tr>\n",
       "    <tr>\n",
       "      <th>4</th>\n",
       "      <td>1000_4</td>\n",
       "      <td>2018-12-15</td>\n",
       "      <td>5.18</td>\n",
       "      <td>1000</td>\n",
       "    </tr>\n",
       "    <tr>\n",
       "      <th>5</th>\n",
       "      <td>1000_5</td>\n",
       "      <td>2018-11-02</td>\n",
       "      <td>0.00</td>\n",
       "      <td>1000</td>\n",
       "    </tr>\n",
       "    <tr>\n",
       "      <th>6</th>\n",
       "      <td>1000_6</td>\n",
       "      <td>2018-10-18</td>\n",
       "      <td>0.00</td>\n",
       "      <td>1000</td>\n",
       "    </tr>\n",
       "    <tr>\n",
       "      <th>7</th>\n",
       "      <td>1000_7</td>\n",
       "      <td>2018-08-22</td>\n",
       "      <td>18.31</td>\n",
       "      <td>1000</td>\n",
       "    </tr>\n",
       "    <tr>\n",
       "      <th>8</th>\n",
       "      <td>1000_8</td>\n",
       "      <td>2018-09-15</td>\n",
       "      <td>18.44</td>\n",
       "      <td>1000</td>\n",
       "    </tr>\n",
       "    <tr>\n",
       "      <th>9</th>\n",
       "      <td>1000_9</td>\n",
       "      <td>2018-08-15</td>\n",
       "      <td>0.00</td>\n",
       "      <td>1000</td>\n",
       "    </tr>\n",
       "  </tbody>\n",
       "</table>\n",
       "</div>"
      ],
      "text/plain": [
       "       id   call_date  duration  user_id\n",
       "0  1000_0  2018-07-25      0.00     1000\n",
       "1  1000_1  2018-08-17      0.00     1000\n",
       "2  1000_2  2018-06-11      2.85     1000\n",
       "3  1000_3  2018-09-21     13.80     1000\n",
       "4  1000_4  2018-12-15      5.18     1000\n",
       "5  1000_5  2018-11-02      0.00     1000\n",
       "6  1000_6  2018-10-18      0.00     1000\n",
       "7  1000_7  2018-08-22     18.31     1000\n",
       "8  1000_8  2018-09-15     18.44     1000\n",
       "9  1000_9  2018-08-15      0.00     1000"
      ]
     },
     "metadata": {},
     "output_type": "display_data"
    }
   ],
   "source": [
    "import pandas as pd\n",
    "import matplotlib.pyplot as plt \n",
    "import numpy as np \n",
    "from scipy import stats as st\n",
    "\n",
    "calls = pd.read_csv('calls.csv')#/datasets/calls.csv\n",
    "display(calls.info())\n",
    "display(calls.head(10))"
   ]
  },
  {
   "cell_type": "code",
   "execution_count": 4,
   "id": "3d7cf2f4",
   "metadata": {},
   "outputs": [
    {
     "name": "stdout",
     "output_type": "stream",
     "text": [
      "<class 'pandas.core.frame.DataFrame'>\n",
      "RangeIndex: 149396 entries, 0 to 149395\n",
      "Data columns (total 5 columns):\n",
      " #   Column        Non-Null Count   Dtype  \n",
      "---  ------        --------------   -----  \n",
      " 0   Unnamed: 0    149396 non-null  int64  \n",
      " 1   id            149396 non-null  object \n",
      " 2   mb_used       149396 non-null  float64\n",
      " 3   session_date  149396 non-null  object \n",
      " 4   user_id       149396 non-null  int64  \n",
      "dtypes: float64(1), int64(2), object(2)\n",
      "memory usage: 5.7+ MB\n"
     ]
    },
    {
     "data": {
      "text/plain": [
       "None"
      ]
     },
     "metadata": {},
     "output_type": "display_data"
    },
    {
     "data": {
      "text/html": [
       "<div>\n",
       "<style scoped>\n",
       "    .dataframe tbody tr th:only-of-type {\n",
       "        vertical-align: middle;\n",
       "    }\n",
       "\n",
       "    .dataframe tbody tr th {\n",
       "        vertical-align: top;\n",
       "    }\n",
       "\n",
       "    .dataframe thead th {\n",
       "        text-align: right;\n",
       "    }\n",
       "</style>\n",
       "<table border=\"1\" class=\"dataframe\">\n",
       "  <thead>\n",
       "    <tr style=\"text-align: right;\">\n",
       "      <th></th>\n",
       "      <th>Unnamed: 0</th>\n",
       "      <th>id</th>\n",
       "      <th>mb_used</th>\n",
       "      <th>session_date</th>\n",
       "      <th>user_id</th>\n",
       "    </tr>\n",
       "  </thead>\n",
       "  <tbody>\n",
       "    <tr>\n",
       "      <th>0</th>\n",
       "      <td>0</td>\n",
       "      <td>1000_0</td>\n",
       "      <td>112.95</td>\n",
       "      <td>2018-11-25</td>\n",
       "      <td>1000</td>\n",
       "    </tr>\n",
       "    <tr>\n",
       "      <th>1</th>\n",
       "      <td>1</td>\n",
       "      <td>1000_1</td>\n",
       "      <td>1052.81</td>\n",
       "      <td>2018-09-07</td>\n",
       "      <td>1000</td>\n",
       "    </tr>\n",
       "    <tr>\n",
       "      <th>2</th>\n",
       "      <td>2</td>\n",
       "      <td>1000_2</td>\n",
       "      <td>1197.26</td>\n",
       "      <td>2018-06-25</td>\n",
       "      <td>1000</td>\n",
       "    </tr>\n",
       "    <tr>\n",
       "      <th>3</th>\n",
       "      <td>3</td>\n",
       "      <td>1000_3</td>\n",
       "      <td>550.27</td>\n",
       "      <td>2018-08-22</td>\n",
       "      <td>1000</td>\n",
       "    </tr>\n",
       "    <tr>\n",
       "      <th>4</th>\n",
       "      <td>4</td>\n",
       "      <td>1000_4</td>\n",
       "      <td>302.56</td>\n",
       "      <td>2018-09-24</td>\n",
       "      <td>1000</td>\n",
       "    </tr>\n",
       "    <tr>\n",
       "      <th>5</th>\n",
       "      <td>5</td>\n",
       "      <td>1000_5</td>\n",
       "      <td>399.97</td>\n",
       "      <td>2018-10-02</td>\n",
       "      <td>1000</td>\n",
       "    </tr>\n",
       "    <tr>\n",
       "      <th>6</th>\n",
       "      <td>6</td>\n",
       "      <td>1000_6</td>\n",
       "      <td>540.08</td>\n",
       "      <td>2018-09-07</td>\n",
       "      <td>1000</td>\n",
       "    </tr>\n",
       "    <tr>\n",
       "      <th>7</th>\n",
       "      <td>7</td>\n",
       "      <td>1000_7</td>\n",
       "      <td>415.70</td>\n",
       "      <td>2018-07-11</td>\n",
       "      <td>1000</td>\n",
       "    </tr>\n",
       "    <tr>\n",
       "      <th>8</th>\n",
       "      <td>8</td>\n",
       "      <td>1000_8</td>\n",
       "      <td>505.40</td>\n",
       "      <td>2018-10-08</td>\n",
       "      <td>1000</td>\n",
       "    </tr>\n",
       "    <tr>\n",
       "      <th>9</th>\n",
       "      <td>9</td>\n",
       "      <td>1000_9</td>\n",
       "      <td>345.54</td>\n",
       "      <td>2018-09-03</td>\n",
       "      <td>1000</td>\n",
       "    </tr>\n",
       "  </tbody>\n",
       "</table>\n",
       "</div>"
      ],
      "text/plain": [
       "   Unnamed: 0      id  mb_used session_date  user_id\n",
       "0           0  1000_0   112.95   2018-11-25     1000\n",
       "1           1  1000_1  1052.81   2018-09-07     1000\n",
       "2           2  1000_2  1197.26   2018-06-25     1000\n",
       "3           3  1000_3   550.27   2018-08-22     1000\n",
       "4           4  1000_4   302.56   2018-09-24     1000\n",
       "5           5  1000_5   399.97   2018-10-02     1000\n",
       "6           6  1000_6   540.08   2018-09-07     1000\n",
       "7           7  1000_7   415.70   2018-07-11     1000\n",
       "8           8  1000_8   505.40   2018-10-08     1000\n",
       "9           9  1000_9   345.54   2018-09-03     1000"
      ]
     },
     "metadata": {},
     "output_type": "display_data"
    }
   ],
   "source": [
    "internet = pd.read_csv('internet.csv')\n",
    "display(internet.info())\n",
    "display(internet.head(10))"
   ]
  },
  {
   "cell_type": "code",
   "execution_count": 5,
   "id": "dfb16d54",
   "metadata": {},
   "outputs": [
    {
     "name": "stdout",
     "output_type": "stream",
     "text": [
      "<class 'pandas.core.frame.DataFrame'>\n",
      "RangeIndex: 123036 entries, 0 to 123035\n",
      "Data columns (total 3 columns):\n",
      " #   Column        Non-Null Count   Dtype \n",
      "---  ------        --------------   ----- \n",
      " 0   id            123036 non-null  object\n",
      " 1   message_date  123036 non-null  object\n",
      " 2   user_id       123036 non-null  int64 \n",
      "dtypes: int64(1), object(2)\n",
      "memory usage: 2.8+ MB\n"
     ]
    },
    {
     "data": {
      "text/plain": [
       "None"
      ]
     },
     "metadata": {},
     "output_type": "display_data"
    },
    {
     "data": {
      "text/html": [
       "<div>\n",
       "<style scoped>\n",
       "    .dataframe tbody tr th:only-of-type {\n",
       "        vertical-align: middle;\n",
       "    }\n",
       "\n",
       "    .dataframe tbody tr th {\n",
       "        vertical-align: top;\n",
       "    }\n",
       "\n",
       "    .dataframe thead th {\n",
       "        text-align: right;\n",
       "    }\n",
       "</style>\n",
       "<table border=\"1\" class=\"dataframe\">\n",
       "  <thead>\n",
       "    <tr style=\"text-align: right;\">\n",
       "      <th></th>\n",
       "      <th>id</th>\n",
       "      <th>message_date</th>\n",
       "      <th>user_id</th>\n",
       "    </tr>\n",
       "  </thead>\n",
       "  <tbody>\n",
       "    <tr>\n",
       "      <th>0</th>\n",
       "      <td>1000_0</td>\n",
       "      <td>2018-06-27</td>\n",
       "      <td>1000</td>\n",
       "    </tr>\n",
       "    <tr>\n",
       "      <th>1</th>\n",
       "      <td>1000_1</td>\n",
       "      <td>2018-10-08</td>\n",
       "      <td>1000</td>\n",
       "    </tr>\n",
       "    <tr>\n",
       "      <th>2</th>\n",
       "      <td>1000_2</td>\n",
       "      <td>2018-08-04</td>\n",
       "      <td>1000</td>\n",
       "    </tr>\n",
       "    <tr>\n",
       "      <th>3</th>\n",
       "      <td>1000_3</td>\n",
       "      <td>2018-06-16</td>\n",
       "      <td>1000</td>\n",
       "    </tr>\n",
       "    <tr>\n",
       "      <th>4</th>\n",
       "      <td>1000_4</td>\n",
       "      <td>2018-12-05</td>\n",
       "      <td>1000</td>\n",
       "    </tr>\n",
       "    <tr>\n",
       "      <th>5</th>\n",
       "      <td>1000_5</td>\n",
       "      <td>2018-06-20</td>\n",
       "      <td>1000</td>\n",
       "    </tr>\n",
       "    <tr>\n",
       "      <th>6</th>\n",
       "      <td>1000_6</td>\n",
       "      <td>2018-11-19</td>\n",
       "      <td>1000</td>\n",
       "    </tr>\n",
       "    <tr>\n",
       "      <th>7</th>\n",
       "      <td>1000_7</td>\n",
       "      <td>2018-10-29</td>\n",
       "      <td>1000</td>\n",
       "    </tr>\n",
       "    <tr>\n",
       "      <th>8</th>\n",
       "      <td>1000_8</td>\n",
       "      <td>2018-06-25</td>\n",
       "      <td>1000</td>\n",
       "    </tr>\n",
       "    <tr>\n",
       "      <th>9</th>\n",
       "      <td>1000_9</td>\n",
       "      <td>2018-12-18</td>\n",
       "      <td>1000</td>\n",
       "    </tr>\n",
       "  </tbody>\n",
       "</table>\n",
       "</div>"
      ],
      "text/plain": [
       "       id message_date  user_id\n",
       "0  1000_0   2018-06-27     1000\n",
       "1  1000_1   2018-10-08     1000\n",
       "2  1000_2   2018-08-04     1000\n",
       "3  1000_3   2018-06-16     1000\n",
       "4  1000_4   2018-12-05     1000\n",
       "5  1000_5   2018-06-20     1000\n",
       "6  1000_6   2018-11-19     1000\n",
       "7  1000_7   2018-10-29     1000\n",
       "8  1000_8   2018-06-25     1000\n",
       "9  1000_9   2018-12-18     1000"
      ]
     },
     "metadata": {},
     "output_type": "display_data"
    }
   ],
   "source": [
    "messages = pd.read_csv('messages.csv')\n",
    "display(messages.info())\n",
    "display(messages.head(10))"
   ]
  },
  {
   "cell_type": "code",
   "execution_count": 6,
   "id": "a0c11657",
   "metadata": {},
   "outputs": [
    {
     "name": "stdout",
     "output_type": "stream",
     "text": [
      "<class 'pandas.core.frame.DataFrame'>\n",
      "RangeIndex: 2 entries, 0 to 1\n",
      "Data columns (total 8 columns):\n",
      " #   Column                 Non-Null Count  Dtype \n",
      "---  ------                 --------------  ----- \n",
      " 0   messages_included      2 non-null      int64 \n",
      " 1   mb_per_month_included  2 non-null      int64 \n",
      " 2   minutes_included       2 non-null      int64 \n",
      " 3   rub_monthly_fee        2 non-null      int64 \n",
      " 4   rub_per_gb             2 non-null      int64 \n",
      " 5   rub_per_message        2 non-null      int64 \n",
      " 6   rub_per_minute         2 non-null      int64 \n",
      " 7   tariff_name            2 non-null      object\n",
      "dtypes: int64(7), object(1)\n",
      "memory usage: 256.0+ bytes\n"
     ]
    },
    {
     "data": {
      "text/plain": [
       "None"
      ]
     },
     "metadata": {},
     "output_type": "display_data"
    },
    {
     "data": {
      "text/html": [
       "<div>\n",
       "<style scoped>\n",
       "    .dataframe tbody tr th:only-of-type {\n",
       "        vertical-align: middle;\n",
       "    }\n",
       "\n",
       "    .dataframe tbody tr th {\n",
       "        vertical-align: top;\n",
       "    }\n",
       "\n",
       "    .dataframe thead th {\n",
       "        text-align: right;\n",
       "    }\n",
       "</style>\n",
       "<table border=\"1\" class=\"dataframe\">\n",
       "  <thead>\n",
       "    <tr style=\"text-align: right;\">\n",
       "      <th></th>\n",
       "      <th>messages_included</th>\n",
       "      <th>mb_per_month_included</th>\n",
       "      <th>minutes_included</th>\n",
       "      <th>rub_monthly_fee</th>\n",
       "      <th>rub_per_gb</th>\n",
       "      <th>rub_per_message</th>\n",
       "      <th>rub_per_minute</th>\n",
       "      <th>tariff_name</th>\n",
       "    </tr>\n",
       "  </thead>\n",
       "  <tbody>\n",
       "    <tr>\n",
       "      <th>0</th>\n",
       "      <td>50</td>\n",
       "      <td>15360</td>\n",
       "      <td>500</td>\n",
       "      <td>550</td>\n",
       "      <td>200</td>\n",
       "      <td>3</td>\n",
       "      <td>3</td>\n",
       "      <td>smart</td>\n",
       "    </tr>\n",
       "    <tr>\n",
       "      <th>1</th>\n",
       "      <td>1000</td>\n",
       "      <td>30720</td>\n",
       "      <td>3000</td>\n",
       "      <td>1950</td>\n",
       "      <td>150</td>\n",
       "      <td>1</td>\n",
       "      <td>1</td>\n",
       "      <td>ultra</td>\n",
       "    </tr>\n",
       "  </tbody>\n",
       "</table>\n",
       "</div>"
      ],
      "text/plain": [
       "   messages_included  mb_per_month_included  minutes_included  \\\n",
       "0                 50                  15360               500   \n",
       "1               1000                  30720              3000   \n",
       "\n",
       "   rub_monthly_fee  rub_per_gb  rub_per_message  rub_per_minute tariff_name  \n",
       "0              550         200                3               3       smart  \n",
       "1             1950         150                1               1       ultra  "
      ]
     },
     "metadata": {},
     "output_type": "display_data"
    }
   ],
   "source": [
    "tariffs = pd.read_csv('tariffs.csv')\n",
    "display(tariffs.info())\n",
    "display(tariffs.head(10))"
   ]
  },
  {
   "cell_type": "code",
   "execution_count": 7,
   "id": "2ee23a67",
   "metadata": {},
   "outputs": [
    {
     "name": "stdout",
     "output_type": "stream",
     "text": [
      "<class 'pandas.core.frame.DataFrame'>\n",
      "RangeIndex: 500 entries, 0 to 499\n",
      "Data columns (total 8 columns):\n",
      " #   Column      Non-Null Count  Dtype \n",
      "---  ------      --------------  ----- \n",
      " 0   user_id     500 non-null    int64 \n",
      " 1   age         500 non-null    int64 \n",
      " 2   churn_date  38 non-null     object\n",
      " 3   city        500 non-null    object\n",
      " 4   first_name  500 non-null    object\n",
      " 5   last_name   500 non-null    object\n",
      " 6   reg_date    500 non-null    object\n",
      " 7   tariff      500 non-null    object\n",
      "dtypes: int64(2), object(6)\n",
      "memory usage: 31.4+ KB\n"
     ]
    },
    {
     "data": {
      "text/plain": [
       "None"
      ]
     },
     "metadata": {},
     "output_type": "display_data"
    },
    {
     "data": {
      "text/html": [
       "<div>\n",
       "<style scoped>\n",
       "    .dataframe tbody tr th:only-of-type {\n",
       "        vertical-align: middle;\n",
       "    }\n",
       "\n",
       "    .dataframe tbody tr th {\n",
       "        vertical-align: top;\n",
       "    }\n",
       "\n",
       "    .dataframe thead th {\n",
       "        text-align: right;\n",
       "    }\n",
       "</style>\n",
       "<table border=\"1\" class=\"dataframe\">\n",
       "  <thead>\n",
       "    <tr style=\"text-align: right;\">\n",
       "      <th></th>\n",
       "      <th>user_id</th>\n",
       "      <th>age</th>\n",
       "      <th>churn_date</th>\n",
       "      <th>city</th>\n",
       "      <th>first_name</th>\n",
       "      <th>last_name</th>\n",
       "      <th>reg_date</th>\n",
       "      <th>tariff</th>\n",
       "    </tr>\n",
       "  </thead>\n",
       "  <tbody>\n",
       "    <tr>\n",
       "      <th>0</th>\n",
       "      <td>1000</td>\n",
       "      <td>52</td>\n",
       "      <td>NaN</td>\n",
       "      <td>Краснодар</td>\n",
       "      <td>Рафаил</td>\n",
       "      <td>Верещагин</td>\n",
       "      <td>2018-05-25</td>\n",
       "      <td>ultra</td>\n",
       "    </tr>\n",
       "    <tr>\n",
       "      <th>1</th>\n",
       "      <td>1001</td>\n",
       "      <td>41</td>\n",
       "      <td>NaN</td>\n",
       "      <td>Москва</td>\n",
       "      <td>Иван</td>\n",
       "      <td>Ежов</td>\n",
       "      <td>2018-11-01</td>\n",
       "      <td>smart</td>\n",
       "    </tr>\n",
       "    <tr>\n",
       "      <th>2</th>\n",
       "      <td>1002</td>\n",
       "      <td>59</td>\n",
       "      <td>NaN</td>\n",
       "      <td>Стерлитамак</td>\n",
       "      <td>Евгений</td>\n",
       "      <td>Абрамович</td>\n",
       "      <td>2018-06-17</td>\n",
       "      <td>smart</td>\n",
       "    </tr>\n",
       "    <tr>\n",
       "      <th>3</th>\n",
       "      <td>1003</td>\n",
       "      <td>23</td>\n",
       "      <td>NaN</td>\n",
       "      <td>Москва</td>\n",
       "      <td>Белла</td>\n",
       "      <td>Белякова</td>\n",
       "      <td>2018-08-17</td>\n",
       "      <td>ultra</td>\n",
       "    </tr>\n",
       "    <tr>\n",
       "      <th>4</th>\n",
       "      <td>1004</td>\n",
       "      <td>68</td>\n",
       "      <td>NaN</td>\n",
       "      <td>Новокузнецк</td>\n",
       "      <td>Татьяна</td>\n",
       "      <td>Авдеенко</td>\n",
       "      <td>2018-05-14</td>\n",
       "      <td>ultra</td>\n",
       "    </tr>\n",
       "    <tr>\n",
       "      <th>5</th>\n",
       "      <td>1005</td>\n",
       "      <td>67</td>\n",
       "      <td>NaN</td>\n",
       "      <td>Набережные Челны</td>\n",
       "      <td>Афанасий</td>\n",
       "      <td>Горлов</td>\n",
       "      <td>2018-01-25</td>\n",
       "      <td>smart</td>\n",
       "    </tr>\n",
       "    <tr>\n",
       "      <th>6</th>\n",
       "      <td>1006</td>\n",
       "      <td>21</td>\n",
       "      <td>NaN</td>\n",
       "      <td>Ульяновск</td>\n",
       "      <td>Леонид</td>\n",
       "      <td>Ермолаев</td>\n",
       "      <td>2018-02-26</td>\n",
       "      <td>smart</td>\n",
       "    </tr>\n",
       "    <tr>\n",
       "      <th>7</th>\n",
       "      <td>1007</td>\n",
       "      <td>65</td>\n",
       "      <td>NaN</td>\n",
       "      <td>Москва</td>\n",
       "      <td>Юна</td>\n",
       "      <td>Березина</td>\n",
       "      <td>2018-04-19</td>\n",
       "      <td>smart</td>\n",
       "    </tr>\n",
       "    <tr>\n",
       "      <th>8</th>\n",
       "      <td>1008</td>\n",
       "      <td>63</td>\n",
       "      <td>NaN</td>\n",
       "      <td>Челябинск</td>\n",
       "      <td>Рустэм</td>\n",
       "      <td>Пономарёв</td>\n",
       "      <td>2018-12-19</td>\n",
       "      <td>smart</td>\n",
       "    </tr>\n",
       "    <tr>\n",
       "      <th>9</th>\n",
       "      <td>1009</td>\n",
       "      <td>24</td>\n",
       "      <td>NaN</td>\n",
       "      <td>Пермь</td>\n",
       "      <td>Василиса</td>\n",
       "      <td>Блинова</td>\n",
       "      <td>2018-03-22</td>\n",
       "      <td>smart</td>\n",
       "    </tr>\n",
       "  </tbody>\n",
       "</table>\n",
       "</div>"
      ],
      "text/plain": [
       "   user_id  age churn_date              city first_name  last_name  \\\n",
       "0     1000   52        NaN         Краснодар     Рафаил  Верещагин   \n",
       "1     1001   41        NaN            Москва       Иван       Ежов   \n",
       "2     1002   59        NaN       Стерлитамак    Евгений  Абрамович   \n",
       "3     1003   23        NaN            Москва      Белла   Белякова   \n",
       "4     1004   68        NaN       Новокузнецк    Татьяна   Авдеенко   \n",
       "5     1005   67        NaN  Набережные Челны   Афанасий     Горлов   \n",
       "6     1006   21        NaN         Ульяновск     Леонид   Ермолаев   \n",
       "7     1007   65        NaN            Москва        Юна   Березина   \n",
       "8     1008   63        NaN         Челябинск     Рустэм  Пономарёв   \n",
       "9     1009   24        NaN             Пермь   Василиса    Блинова   \n",
       "\n",
       "     reg_date tariff  \n",
       "0  2018-05-25  ultra  \n",
       "1  2018-11-01  smart  \n",
       "2  2018-06-17  smart  \n",
       "3  2018-08-17  ultra  \n",
       "4  2018-05-14  ultra  \n",
       "5  2018-01-25  smart  \n",
       "6  2018-02-26  smart  \n",
       "7  2018-04-19  smart  \n",
       "8  2018-12-19  smart  \n",
       "9  2018-03-22  smart  "
      ]
     },
     "metadata": {},
     "output_type": "display_data"
    }
   ],
   "source": [
    "users = pd.read_csv('users.csv')\n",
    "display(users.info())\n",
    "display(users.head(10))"
   ]
  },
  {
   "cell_type": "markdown",
   "id": "6a7964ec",
   "metadata": {},
   "source": [
    "### Вывод изучения данных"
   ]
  },
  {
   "cell_type": "markdown",
   "id": "59a8a6b5",
   "metadata": {},
   "source": [
    "В принципе данные понятные, сомнительный столбец id там где он есть и user_id, но с ними справимся далее, пропусков нет(кроме churn_date), типы данных поменяем дальше. Вижу в таблице internet ненужный столбец Unnamed: 0 (это просто технический артефакт). Менять будем только тип в датах, чтобы потом сгруппировать по месяцу. Пропуски в принципе можно не заполнять, они есть только в одном столбце(churn_date) и имеют смысл(нет даты прекращения пользования тарифом, потому что пользователь не прекратил пользование тарифом).\n",
    "\n",
    "Согласно документации к данным:\n",
    "\n",
    "Таблица users (информация о пользователях):\n",
    "- user_id — уникальный идентификатор пользователя\n",
    "- first_name — имя пользователя\n",
    "- last_name — фамилия пользователя\n",
    "- age — возраст пользователя (годы)\n",
    "- reg_date — дата подключения тарифа (день, месяц, год)\n",
    "- churn_date — дата прекращения пользования тарифом (если значение пропущено, то тариф ещё действовал на момент выгрузки данных)\n",
    "- city — город проживания пользователя\n",
    "- tarif — название тарифного плана\n",
    "\n",
    "Таблица calls (информация о звонках):\n",
    "- id — уникальный номер звонка\n",
    "- call_date — дата звонка\n",
    "- duration — длительность звонка в минутах\n",
    "- user_id — идентификатор пользователя, сделавшего звонок\n",
    "\n",
    "Таблица messages (информация о сообщениях):\n",
    "- id — уникальный номер сообщения\n",
    "- message_date — дата сообщения\n",
    "- user_id — идентификатор пользователя, отправившего сообщение\n",
    "\n",
    "Таблица internet (информация об интернет-сессиях):\n",
    "- id — уникальный номер сессии\n",
    "- mb_used — объём потраченного за сессию интернет-трафика (в мегабайтах)\n",
    "- session_date — дата интернет-сессии\n",
    "- user_id — идентификатор пользователя\n",
    "\n",
    "Таблица tariffs (информация о тарифах):\n",
    "- tariff_name — название тарифа\n",
    "- rub_monthly_fee — ежемесячная абонентская плата в рублях\n",
    "- minutes_included — количество минут разговора в месяц, включённых в абонентскую плату\n",
    "- messages_included — количество сообщений в месяц, включённых в абонентскую плату\n",
    "- mb_per_month_included — объём интернет-трафика, включённого в абонентскую плату (в мегабайтах)\n",
    "- rub_per_minute — стоимость минуты разговора сверх тарифного пакета (например, если в тарифе 100 минут разговора в месяц, то со 101 минуты будет взиматься плата)\n",
    "- rub_per_message — стоимость отправки сообщения сверх тарифного пакета\n",
    "- rub_per_gb — стоимость дополнительного гигабайта интернет-трафика сверх тарифного пакета (1 гигабайт = 1024 мегабайта)\n",
    "\n",
    "Предварительно можно утверждать, что данных достаточно для проведения статистического анализа.\n",
    "\n",
    "Чтобы двигаться дальше, нужно устранить проблемы в данных."
   ]
  },
  {
   "cell_type": "markdown",
   "id": "3a067d03",
   "metadata": {},
   "source": [
    "## Подготовка данных (замена типов, ошибки, заполнение пропусков и т.д.)"
   ]
  },
  {
   "cell_type": "code",
   "execution_count": 8,
   "id": "7827a1ef",
   "metadata": {},
   "outputs": [
    {
     "name": "stdout",
     "output_type": "stream",
     "text": [
      "<class 'pandas.core.frame.DataFrame'>\n",
      "RangeIndex: 202607 entries, 0 to 202606\n",
      "Data columns (total 5 columns):\n",
      " #   Column     Non-Null Count   Dtype         \n",
      "---  ------     --------------   -----         \n",
      " 0   id         202607 non-null  object        \n",
      " 1   call_date  202607 non-null  datetime64[ns]\n",
      " 2   duration   202607 non-null  float64       \n",
      " 3   user_id    202607 non-null  int64         \n",
      " 4   month      202607 non-null  int64         \n",
      "dtypes: datetime64[ns](1), float64(1), int64(2), object(1)\n",
      "memory usage: 7.7+ MB\n"
     ]
    },
    {
     "data": {
      "text/plain": [
       "0.0     39613\n",
       "7.0     11510\n",
       "6.0     11457\n",
       "5.0     11411\n",
       "8.0     11272\n",
       "9.0     10973\n",
       "4.0     10918\n",
       "3.0     10362\n",
       "10.0    10186\n",
       "11.0     9385\n",
       "2.0      9194\n",
       "12.0     8448\n",
       "1.0      8402\n",
       "13.0     7486\n",
       "14.0     6554\n",
       "15.0     5505\n",
       "16.0     4551\n",
       "17.0     3671\n",
       "18.0     2984\n",
       "19.0     2411\n",
       "20.0     1806\n",
       "21.0     1304\n",
       "22.0      975\n",
       "23.0      720\n",
       "24.0      468\n",
       "25.0      363\n",
       "26.0      257\n",
       "27.0      151\n",
       "28.0      104\n",
       "29.0       56\n",
       "30.0       39\n",
       "31.0       30\n",
       "32.0       17\n",
       "33.0       10\n",
       "35.0        5\n",
       "34.0        3\n",
       "36.0        2\n",
       "37.0        2\n",
       "38.0        2\n",
       "Name: duration, dtype: int64"
      ]
     },
     "execution_count": 8,
     "metadata": {},
     "output_type": "execute_result"
    }
   ],
   "source": [
    "calls['call_date'] = pd.to_datetime(\n",
    "    calls['call_date'], format='%Y-%m-%d')\n",
    "calls['month'] = calls['call_date'].dt.month#берем только месяц, потому что анализ будет по месяцам\n",
    "calls.info()\n",
    "calls['duration'] = calls['duration'].apply(np.ceil)\n",
    "calls['duration'].sort_values().value_counts()#округляем в большую сторону по условиям Мегалайна"
   ]
  },
  {
   "cell_type": "code",
   "execution_count": 9,
   "id": "6de5167e",
   "metadata": {},
   "outputs": [
    {
     "name": "stdout",
     "output_type": "stream",
     "text": [
      "<class 'pandas.core.frame.DataFrame'>\n",
      "RangeIndex: 500 entries, 0 to 499\n",
      "Data columns (total 8 columns):\n",
      " #   Column      Non-Null Count  Dtype         \n",
      "---  ------      --------------  -----         \n",
      " 0   user_id     500 non-null    int64         \n",
      " 1   age         500 non-null    int64         \n",
      " 2   churn_date  38 non-null     object        \n",
      " 3   city        500 non-null    object        \n",
      " 4   first_name  500 non-null    object        \n",
      " 5   last_name   500 non-null    object        \n",
      " 6   reg_date    500 non-null    datetime64[ns]\n",
      " 7   tariff      500 non-null    object        \n",
      "dtypes: datetime64[ns](1), int64(2), object(5)\n",
      "memory usage: 31.4+ KB\n"
     ]
    }
   ],
   "source": [
    "users['reg_date'] = pd.to_datetime(\n",
    "    users['reg_date'], format='%Y-%m-%d')\n",
    "users.info()"
   ]
  },
  {
   "cell_type": "code",
   "execution_count": 10,
   "id": "57b821ba",
   "metadata": {},
   "outputs": [
    {
     "name": "stdout",
     "output_type": "stream",
     "text": [
      "<class 'pandas.core.frame.DataFrame'>\n",
      "RangeIndex: 123036 entries, 0 to 123035\n",
      "Data columns (total 4 columns):\n",
      " #   Column        Non-Null Count   Dtype         \n",
      "---  ------        --------------   -----         \n",
      " 0   id            123036 non-null  object        \n",
      " 1   message_date  123036 non-null  datetime64[ns]\n",
      " 2   user_id       123036 non-null  int64         \n",
      " 3   month         123036 non-null  int64         \n",
      "dtypes: datetime64[ns](1), int64(2), object(1)\n",
      "memory usage: 3.8+ MB\n"
     ]
    },
    {
     "data": {
      "text/html": [
       "<div>\n",
       "<style scoped>\n",
       "    .dataframe tbody tr th:only-of-type {\n",
       "        vertical-align: middle;\n",
       "    }\n",
       "\n",
       "    .dataframe tbody tr th {\n",
       "        vertical-align: top;\n",
       "    }\n",
       "\n",
       "    .dataframe thead th {\n",
       "        text-align: right;\n",
       "    }\n",
       "</style>\n",
       "<table border=\"1\" class=\"dataframe\">\n",
       "  <thead>\n",
       "    <tr style=\"text-align: right;\">\n",
       "      <th></th>\n",
       "      <th>id</th>\n",
       "      <th>message_date</th>\n",
       "      <th>user_id</th>\n",
       "      <th>month</th>\n",
       "    </tr>\n",
       "  </thead>\n",
       "  <tbody>\n",
       "    <tr>\n",
       "      <th>0</th>\n",
       "      <td>1000_0</td>\n",
       "      <td>2018-06-27</td>\n",
       "      <td>1000</td>\n",
       "      <td>6</td>\n",
       "    </tr>\n",
       "    <tr>\n",
       "      <th>1</th>\n",
       "      <td>1000_1</td>\n",
       "      <td>2018-10-08</td>\n",
       "      <td>1000</td>\n",
       "      <td>10</td>\n",
       "    </tr>\n",
       "    <tr>\n",
       "      <th>2</th>\n",
       "      <td>1000_2</td>\n",
       "      <td>2018-08-04</td>\n",
       "      <td>1000</td>\n",
       "      <td>8</td>\n",
       "    </tr>\n",
       "    <tr>\n",
       "      <th>3</th>\n",
       "      <td>1000_3</td>\n",
       "      <td>2018-06-16</td>\n",
       "      <td>1000</td>\n",
       "      <td>6</td>\n",
       "    </tr>\n",
       "    <tr>\n",
       "      <th>4</th>\n",
       "      <td>1000_4</td>\n",
       "      <td>2018-12-05</td>\n",
       "      <td>1000</td>\n",
       "      <td>12</td>\n",
       "    </tr>\n",
       "  </tbody>\n",
       "</table>\n",
       "</div>"
      ],
      "text/plain": [
       "       id message_date  user_id  month\n",
       "0  1000_0   2018-06-27     1000      6\n",
       "1  1000_1   2018-10-08     1000     10\n",
       "2  1000_2   2018-08-04     1000      8\n",
       "3  1000_3   2018-06-16     1000      6\n",
       "4  1000_4   2018-12-05     1000     12"
      ]
     },
     "execution_count": 10,
     "metadata": {},
     "output_type": "execute_result"
    }
   ],
   "source": [
    "messages['message_date'] = pd.to_datetime(\n",
    "    messages['message_date'], format='%Y-%m-%d')\n",
    "messages['month'] = messages['message_date'].dt.month#берем только месяц, потому что анализ будет по месяцам\n",
    "messages.info()\n",
    "messages.head()"
   ]
  },
  {
   "cell_type": "code",
   "execution_count": 11,
   "id": "d61b0cf4",
   "metadata": {},
   "outputs": [
    {
     "name": "stdout",
     "output_type": "stream",
     "text": [
      "<class 'pandas.core.frame.DataFrame'>\n",
      "RangeIndex: 149396 entries, 0 to 149395\n",
      "Data columns (total 6 columns):\n",
      " #   Column        Non-Null Count   Dtype         \n",
      "---  ------        --------------   -----         \n",
      " 0   Unnamed: 0    149396 non-null  int64         \n",
      " 1   id            149396 non-null  object        \n",
      " 2   mb_used       149396 non-null  float64       \n",
      " 3   session_date  149396 non-null  datetime64[ns]\n",
      " 4   user_id       149396 non-null  int64         \n",
      " 5   month         149396 non-null  int64         \n",
      "dtypes: datetime64[ns](1), float64(1), int64(3), object(1)\n",
      "memory usage: 6.8+ MB\n"
     ]
    }
   ],
   "source": [
    "internet['session_date'] = pd.to_datetime(\n",
    "    internet['session_date'], format='%Y-%m-%d')\n",
    "internet['month'] = internet['session_date'].dt.month#берем только месяц, потому что анализ будет по месяцам\n",
    "internet['mb_used'] = internet['mb_used'].apply(np.ceil)#округляем в большую сторону по условиям Мегалайна\n",
    "internet['mb_used'].sort_values().value_counts()\n",
    "\n",
    "internet.info()"
   ]
  },
  {
   "cell_type": "markdown",
   "id": "4610a8aa",
   "metadata": {},
   "source": [
    "Теперь соединяем таблицы по такой логике: сначала сгруппируем по паре пользователь+месяц, а потом объединим с помощью merge c how = 'outer'. Получается как-то так:"
   ]
  },
  {
   "cell_type": "code",
   "execution_count": 12,
   "id": "eb0b060f",
   "metadata": {},
   "outputs": [
    {
     "data": {
      "text/html": [
       "<div>\n",
       "<style scoped>\n",
       "    .dataframe tbody tr th:only-of-type {\n",
       "        vertical-align: middle;\n",
       "    }\n",
       "\n",
       "    .dataframe tbody tr th {\n",
       "        vertical-align: top;\n",
       "    }\n",
       "\n",
       "    .dataframe thead th {\n",
       "        text-align: right;\n",
       "    }\n",
       "</style>\n",
       "<table border=\"1\" class=\"dataframe\">\n",
       "  <thead>\n",
       "    <tr style=\"text-align: right;\">\n",
       "      <th></th>\n",
       "      <th>user_id</th>\n",
       "      <th>month</th>\n",
       "      <th>calls_duration</th>\n",
       "      <th>mb_used</th>\n",
       "      <th>message_count</th>\n",
       "      <th>age</th>\n",
       "      <th>churn_date</th>\n",
       "      <th>city</th>\n",
       "      <th>first_name</th>\n",
       "      <th>last_name</th>\n",
       "      <th>reg_date</th>\n",
       "      <th>tariff</th>\n",
       "      <th>messages_included</th>\n",
       "      <th>mb_per_month_included</th>\n",
       "      <th>minutes_included</th>\n",
       "      <th>rub_monthly_fee</th>\n",
       "      <th>rub_per_gb</th>\n",
       "      <th>rub_per_message</th>\n",
       "      <th>rub_per_minute</th>\n",
       "      <th>tariff_name</th>\n",
       "    </tr>\n",
       "  </thead>\n",
       "  <tbody>\n",
       "    <tr>\n",
       "      <th>2071</th>\n",
       "      <td>1331</td>\n",
       "      <td>4</td>\n",
       "      <td>275.0</td>\n",
       "      <td>20018.0</td>\n",
       "      <td>49.0</td>\n",
       "      <td>26</td>\n",
       "      <td>NaN</td>\n",
       "      <td>Москва</td>\n",
       "      <td>Юлия</td>\n",
       "      <td>Малинина</td>\n",
       "      <td>2018-04-12</td>\n",
       "      <td>ultra</td>\n",
       "      <td>1000</td>\n",
       "      <td>30720</td>\n",
       "      <td>3000</td>\n",
       "      <td>1950</td>\n",
       "      <td>150</td>\n",
       "      <td>1</td>\n",
       "      <td>1</td>\n",
       "      <td>ultra</td>\n",
       "    </tr>\n",
       "    <tr>\n",
       "      <th>388</th>\n",
       "      <td>1061</td>\n",
       "      <td>11</td>\n",
       "      <td>768.0</td>\n",
       "      <td>18265.0</td>\n",
       "      <td>8.0</td>\n",
       "      <td>41</td>\n",
       "      <td>NaN</td>\n",
       "      <td>Санкт-Петербург</td>\n",
       "      <td>Тамара</td>\n",
       "      <td>Ситникова</td>\n",
       "      <td>2018-07-15</td>\n",
       "      <td>smart</td>\n",
       "      <td>50</td>\n",
       "      <td>15360</td>\n",
       "      <td>500</td>\n",
       "      <td>550</td>\n",
       "      <td>200</td>\n",
       "      <td>3</td>\n",
       "      <td>3</td>\n",
       "      <td>smart</td>\n",
       "    </tr>\n",
       "    <tr>\n",
       "      <th>784</th>\n",
       "      <td>1124</td>\n",
       "      <td>12</td>\n",
       "      <td>1106.0</td>\n",
       "      <td>39930.0</td>\n",
       "      <td>120.0</td>\n",
       "      <td>54</td>\n",
       "      <td>NaN</td>\n",
       "      <td>Махачкала</td>\n",
       "      <td>Альбин</td>\n",
       "      <td>Андрианов</td>\n",
       "      <td>2018-09-24</td>\n",
       "      <td>ultra</td>\n",
       "      <td>1000</td>\n",
       "      <td>30720</td>\n",
       "      <td>3000</td>\n",
       "      <td>1950</td>\n",
       "      <td>150</td>\n",
       "      <td>1</td>\n",
       "      <td>1</td>\n",
       "      <td>ultra</td>\n",
       "    </tr>\n",
       "    <tr>\n",
       "      <th>634</th>\n",
       "      <td>1101</td>\n",
       "      <td>7</td>\n",
       "      <td>535.0</td>\n",
       "      <td>8623.0</td>\n",
       "      <td>0.0</td>\n",
       "      <td>27</td>\n",
       "      <td>NaN</td>\n",
       "      <td>Казань</td>\n",
       "      <td>Онисим</td>\n",
       "      <td>Колобов</td>\n",
       "      <td>2018-05-21</td>\n",
       "      <td>smart</td>\n",
       "      <td>50</td>\n",
       "      <td>15360</td>\n",
       "      <td>500</td>\n",
       "      <td>550</td>\n",
       "      <td>200</td>\n",
       "      <td>3</td>\n",
       "      <td>3</td>\n",
       "      <td>smart</td>\n",
       "    </tr>\n",
       "    <tr>\n",
       "      <th>1791</th>\n",
       "      <td>1285</td>\n",
       "      <td>12</td>\n",
       "      <td>380.0</td>\n",
       "      <td>4525.0</td>\n",
       "      <td>106.0</td>\n",
       "      <td>44</td>\n",
       "      <td>NaN</td>\n",
       "      <td>Краснодар</td>\n",
       "      <td>Ефим</td>\n",
       "      <td>Амельченко</td>\n",
       "      <td>2018-02-20</td>\n",
       "      <td>smart</td>\n",
       "      <td>50</td>\n",
       "      <td>15360</td>\n",
       "      <td>500</td>\n",
       "      <td>550</td>\n",
       "      <td>200</td>\n",
       "      <td>3</td>\n",
       "      <td>3</td>\n",
       "      <td>smart</td>\n",
       "    </tr>\n",
       "  </tbody>\n",
       "</table>\n",
       "</div>"
      ],
      "text/plain": [
       "      user_id  month  calls_duration  mb_used  message_count  age churn_date  \\\n",
       "2071     1331      4           275.0  20018.0           49.0   26        NaN   \n",
       "388      1061     11           768.0  18265.0            8.0   41        NaN   \n",
       "784      1124     12          1106.0  39930.0          120.0   54        NaN   \n",
       "634      1101      7           535.0   8623.0            0.0   27        NaN   \n",
       "1791     1285     12           380.0   4525.0          106.0   44        NaN   \n",
       "\n",
       "                 city first_name   last_name   reg_date tariff  \\\n",
       "2071           Москва       Юлия    Малинина 2018-04-12  ultra   \n",
       "388   Санкт-Петербург     Тамара   Ситникова 2018-07-15  smart   \n",
       "784         Махачкала     Альбин   Андрианов 2018-09-24  ultra   \n",
       "634            Казань     Онисим     Колобов 2018-05-21  smart   \n",
       "1791        Краснодар       Ефим  Амельченко 2018-02-20  smart   \n",
       "\n",
       "      messages_included  mb_per_month_included  minutes_included  \\\n",
       "2071               1000                  30720              3000   \n",
       "388                  50                  15360               500   \n",
       "784                1000                  30720              3000   \n",
       "634                  50                  15360               500   \n",
       "1791                 50                  15360               500   \n",
       "\n",
       "      rub_monthly_fee  rub_per_gb  rub_per_message  rub_per_minute tariff_name  \n",
       "2071             1950         150                1               1       ultra  \n",
       "388               550         200                3               3       smart  \n",
       "784              1950         150                1               1       ultra  \n",
       "634               550         200                3               3       smart  \n",
       "1791              550         200                3               3       smart  "
      ]
     },
     "execution_count": 12,
     "metadata": {},
     "output_type": "execute_result"
    }
   ],
   "source": [
    "calls = calls.groupby(['user_id', 'month']).agg({'duration': 'sum'}).reset_index()\n",
    "internet = internet.groupby(['user_id', 'month']).agg({'mb_used': 'sum'}).reset_index()\n",
    "messages = messages.groupby(['user_id', 'month']).agg({'message_date': 'count'}).reset_index()\n",
    "#messages.head(10)\n",
    "#messages['message_date'].unique() у меня тут траблы были, проверял, что внутри\n",
    "\n",
    "df = calls.merge(internet, on = ['user_id', 'month'], how = 'outer')\\\n",
    "              .merge(messages, on = ['user_id', 'month'], how = 'outer').fillna(0)\n",
    "df = df.merge(users, on = 'user_id', how = 'left').merge(tariffs, left_on = 'tariff', \n",
    "                                                                 right_on = 'tariff_name', how = 'left')\n",
    "df = df.rename(columns={'message_date': 'message_count', 'duration': 'calls_duration'})#переименовал для удобства\n",
    "df.sample(5)"
   ]
  },
  {
   "cell_type": "code",
   "execution_count": 13,
   "id": "7043d63e",
   "metadata": {},
   "outputs": [
    {
     "data": {
      "text/plain": [
       "0"
      ]
     },
     "execution_count": 13,
     "metadata": {},
     "output_type": "execute_result"
    }
   ],
   "source": [
    "df.duplicated().sum()"
   ]
  },
  {
   "cell_type": "markdown",
   "id": "f916a99b",
   "metadata": {},
   "source": [
    "Посчитаем помесячную выручку с каждого пользователя (вычтем бесплатный лимит из суммарного количества звонков, сообщений и интернет-трафика; остаток умножим на значение из тарифного плана; прибавим абонентскую плату, соответствующую тарифному плану)."
   ]
  },
  {
   "cell_type": "code",
   "execution_count": 14,
   "id": "499b167d",
   "metadata": {},
   "outputs": [
    {
     "data": {
      "text/html": [
       "<div>\n",
       "<style scoped>\n",
       "    .dataframe tbody tr th:only-of-type {\n",
       "        vertical-align: middle;\n",
       "    }\n",
       "\n",
       "    .dataframe tbody tr th {\n",
       "        vertical-align: top;\n",
       "    }\n",
       "\n",
       "    .dataframe thead th {\n",
       "        text-align: right;\n",
       "    }\n",
       "</style>\n",
       "<table border=\"1\" class=\"dataframe\">\n",
       "  <thead>\n",
       "    <tr style=\"text-align: right;\">\n",
       "      <th></th>\n",
       "      <th>user_id</th>\n",
       "      <th>month</th>\n",
       "      <th>calls_duration</th>\n",
       "      <th>mb_used</th>\n",
       "      <th>message_count</th>\n",
       "      <th>age</th>\n",
       "      <th>churn_date</th>\n",
       "      <th>city</th>\n",
       "      <th>first_name</th>\n",
       "      <th>last_name</th>\n",
       "      <th>reg_date</th>\n",
       "      <th>tariff</th>\n",
       "      <th>messages_included</th>\n",
       "      <th>mb_per_month_included</th>\n",
       "      <th>minutes_included</th>\n",
       "      <th>rub_monthly_fee</th>\n",
       "      <th>rub_per_gb</th>\n",
       "      <th>rub_per_message</th>\n",
       "      <th>rub_per_minute</th>\n",
       "      <th>tariff_name</th>\n",
       "      <th>gb_used</th>\n",
       "      <th>minutes_over</th>\n",
       "      <th>messages_over</th>\n",
       "      <th>internet_over</th>\n",
       "      <th>fee</th>\n",
       "    </tr>\n",
       "  </thead>\n",
       "  <tbody>\n",
       "    <tr>\n",
       "      <th>1919</th>\n",
       "      <td>1307</td>\n",
       "      <td>9</td>\n",
       "      <td>578.0</td>\n",
       "      <td>20323.0</td>\n",
       "      <td>17.0</td>\n",
       "      <td>53</td>\n",
       "      <td>NaN</td>\n",
       "      <td>Самара</td>\n",
       "      <td>Симона</td>\n",
       "      <td>Авсейкина</td>\n",
       "      <td>2018-05-04</td>\n",
       "      <td>smart</td>\n",
       "      <td>50</td>\n",
       "      <td>15360</td>\n",
       "      <td>500</td>\n",
       "      <td>550</td>\n",
       "      <td>200</td>\n",
       "      <td>3</td>\n",
       "      <td>3</td>\n",
       "      <td>smart</td>\n",
       "      <td>19.846680</td>\n",
       "      <td>234.0</td>\n",
       "      <td>0.0</td>\n",
       "      <td>1000.0</td>\n",
       "      <td>1784.0</td>\n",
       "    </tr>\n",
       "    <tr>\n",
       "      <th>2254</th>\n",
       "      <td>1361</td>\n",
       "      <td>9</td>\n",
       "      <td>169.0</td>\n",
       "      <td>22291.0</td>\n",
       "      <td>33.0</td>\n",
       "      <td>38</td>\n",
       "      <td>NaN</td>\n",
       "      <td>Екатеринбург</td>\n",
       "      <td>Рената</td>\n",
       "      <td>Кошелева</td>\n",
       "      <td>2018-09-09</td>\n",
       "      <td>ultra</td>\n",
       "      <td>1000</td>\n",
       "      <td>30720</td>\n",
       "      <td>3000</td>\n",
       "      <td>1950</td>\n",
       "      <td>150</td>\n",
       "      <td>1</td>\n",
       "      <td>1</td>\n",
       "      <td>ultra</td>\n",
       "      <td>21.768555</td>\n",
       "      <td>0.0</td>\n",
       "      <td>0.0</td>\n",
       "      <td>0.0</td>\n",
       "      <td>1950.0</td>\n",
       "    </tr>\n",
       "    <tr>\n",
       "      <th>2042</th>\n",
       "      <td>1326</td>\n",
       "      <td>7</td>\n",
       "      <td>277.0</td>\n",
       "      <td>17016.0</td>\n",
       "      <td>29.0</td>\n",
       "      <td>37</td>\n",
       "      <td>NaN</td>\n",
       "      <td>Санкт-Петербург</td>\n",
       "      <td>Леонид</td>\n",
       "      <td>Барсуков</td>\n",
       "      <td>2018-05-29</td>\n",
       "      <td>smart</td>\n",
       "      <td>50</td>\n",
       "      <td>15360</td>\n",
       "      <td>500</td>\n",
       "      <td>550</td>\n",
       "      <td>200</td>\n",
       "      <td>3</td>\n",
       "      <td>3</td>\n",
       "      <td>smart</td>\n",
       "      <td>16.617188</td>\n",
       "      <td>0.0</td>\n",
       "      <td>0.0</td>\n",
       "      <td>400.0</td>\n",
       "      <td>950.0</td>\n",
       "    </tr>\n",
       "    <tr>\n",
       "      <th>1557</th>\n",
       "      <td>1249</td>\n",
       "      <td>12</td>\n",
       "      <td>231.0</td>\n",
       "      <td>15520.0</td>\n",
       "      <td>23.0</td>\n",
       "      <td>25</td>\n",
       "      <td>NaN</td>\n",
       "      <td>Курск</td>\n",
       "      <td>Изольда</td>\n",
       "      <td>Авдушева</td>\n",
       "      <td>2018-08-14</td>\n",
       "      <td>smart</td>\n",
       "      <td>50</td>\n",
       "      <td>15360</td>\n",
       "      <td>500</td>\n",
       "      <td>550</td>\n",
       "      <td>200</td>\n",
       "      <td>3</td>\n",
       "      <td>3</td>\n",
       "      <td>smart</td>\n",
       "      <td>15.156250</td>\n",
       "      <td>0.0</td>\n",
       "      <td>0.0</td>\n",
       "      <td>200.0</td>\n",
       "      <td>750.0</td>\n",
       "    </tr>\n",
       "    <tr>\n",
       "      <th>1001</th>\n",
       "      <td>1160</td>\n",
       "      <td>7</td>\n",
       "      <td>307.0</td>\n",
       "      <td>12766.0</td>\n",
       "      <td>46.0</td>\n",
       "      <td>73</td>\n",
       "      <td>NaN</td>\n",
       "      <td>Ульяновск</td>\n",
       "      <td>Борис</td>\n",
       "      <td>Авдонюшкин</td>\n",
       "      <td>2018-07-03</td>\n",
       "      <td>smart</td>\n",
       "      <td>50</td>\n",
       "      <td>15360</td>\n",
       "      <td>500</td>\n",
       "      <td>550</td>\n",
       "      <td>200</td>\n",
       "      <td>3</td>\n",
       "      <td>3</td>\n",
       "      <td>smart</td>\n",
       "      <td>12.466797</td>\n",
       "      <td>0.0</td>\n",
       "      <td>0.0</td>\n",
       "      <td>0.0</td>\n",
       "      <td>550.0</td>\n",
       "    </tr>\n",
       "  </tbody>\n",
       "</table>\n",
       "</div>"
      ],
      "text/plain": [
       "      user_id  month  calls_duration  mb_used  message_count  age churn_date  \\\n",
       "1919     1307      9           578.0  20323.0           17.0   53        NaN   \n",
       "2254     1361      9           169.0  22291.0           33.0   38        NaN   \n",
       "2042     1326      7           277.0  17016.0           29.0   37        NaN   \n",
       "1557     1249     12           231.0  15520.0           23.0   25        NaN   \n",
       "1001     1160      7           307.0  12766.0           46.0   73        NaN   \n",
       "\n",
       "                 city first_name   last_name   reg_date tariff  \\\n",
       "1919           Самара     Симона   Авсейкина 2018-05-04  smart   \n",
       "2254     Екатеринбург     Рената    Кошелева 2018-09-09  ultra   \n",
       "2042  Санкт-Петербург     Леонид    Барсуков 2018-05-29  smart   \n",
       "1557            Курск    Изольда    Авдушева 2018-08-14  smart   \n",
       "1001        Ульяновск      Борис  Авдонюшкин 2018-07-03  smart   \n",
       "\n",
       "      messages_included  mb_per_month_included  minutes_included  \\\n",
       "1919                 50                  15360               500   \n",
       "2254               1000                  30720              3000   \n",
       "2042                 50                  15360               500   \n",
       "1557                 50                  15360               500   \n",
       "1001                 50                  15360               500   \n",
       "\n",
       "      rub_monthly_fee  rub_per_gb  rub_per_message  rub_per_minute  \\\n",
       "1919              550         200                3               3   \n",
       "2254             1950         150                1               1   \n",
       "2042              550         200                3               3   \n",
       "1557              550         200                3               3   \n",
       "1001              550         200                3               3   \n",
       "\n",
       "     tariff_name    gb_used  minutes_over  messages_over  internet_over  \\\n",
       "1919       smart  19.846680         234.0            0.0         1000.0   \n",
       "2254       ultra  21.768555           0.0            0.0            0.0   \n",
       "2042       smart  16.617188           0.0            0.0          400.0   \n",
       "1557       smart  15.156250           0.0            0.0          200.0   \n",
       "1001       smart  12.466797           0.0            0.0            0.0   \n",
       "\n",
       "         fee  \n",
       "1919  1784.0  \n",
       "2254  1950.0  \n",
       "2042   950.0  \n",
       "1557   750.0  \n",
       "1001   550.0  "
      ]
     },
     "execution_count": 14,
     "metadata": {},
     "output_type": "execute_result"
    }
   ],
   "source": [
    "# добавляем гигабайты\n",
    "df['gb_used'] = df['mb_used']/1024\n",
    "# считаем овердрафты\n",
    "df['minutes_over'] = (df['calls_duration'] - df['minutes_included']) *  df['rub_per_minute']\n",
    "df['messages_over'] = (df['message_count'] - df['messages_included']) *  df['rub_per_message']\n",
    "df['internet_over'] = (df['mb_used'] - df['mb_per_month_included'])/1024\n",
    "df['internet_over'] = df['internet_over'].apply(np.ceil) *  df['rub_per_gb']\n",
    "# убираем отрицательные овердрафты\n",
    "df.loc[df['minutes_over'] < 0, 'minutes_over'] = 0\n",
    "df.loc[df['messages_over'] < 0, 'messages_over'] = 0\n",
    "df.loc[df['internet_over'] < 0, 'internet_over'] = 0\n",
    "# считаем выручку\n",
    "df['fee'] = df['internet_over'] + df['messages_over'] + df['minutes_over'] + df['rub_monthly_fee']\n",
    "pd.set_option('display.max_columns', None)\n",
    "df.sample(5)"
   ]
  },
  {
   "cell_type": "markdown",
   "id": "9b36fba4",
   "metadata": {},
   "source": [
    "### Вывод подготовки данных и добавления расчетов"
   ]
  },
  {
   "cell_type": "markdown",
   "id": "de0665a8",
   "metadata": {},
   "source": [
    "Мы устранили некоторые проблемы в данных, округлили звонки, вытащили из даты месяц и сгруппировали данные по номеру пользователя и месяцу. Потом собрали все данные в одну таблицу и посчитали выручку по каждому пользователю. Также посчитали по месяцам количество отправленных сообщений, объем израсходованного интернет-трафика и количество израсходованных минут разговора."
   ]
  },
  {
   "cell_type": "markdown",
   "id": "7dc247af",
   "metadata": {},
   "source": [
    "### Анализ и описание данных"
   ]
  },
  {
   "cell_type": "markdown",
   "id": "e1f86c8b",
   "metadata": {},
   "source": [
    "Здесь мы опишем поведение клиентов оператора, исходя из выборки. Сколько минут разговора, сколько сообщений и какой объём интернет-трафика требуется пользователям каждого тарифа в месяц? Посчитаем среднее количество, дисперсию и стандартное отклонение. Построим гистограммы. Опишем распределения."
   ]
  },
  {
   "cell_type": "code",
   "execution_count": 15,
   "id": "7dfa924e",
   "metadata": {},
   "outputs": [
    {
     "data": {
      "text/html": [
       "<div>\n",
       "<style scoped>\n",
       "    .dataframe tbody tr th:only-of-type {\n",
       "        vertical-align: middle;\n",
       "    }\n",
       "\n",
       "    .dataframe tbody tr th {\n",
       "        vertical-align: top;\n",
       "    }\n",
       "\n",
       "    .dataframe thead tr th {\n",
       "        text-align: left;\n",
       "    }\n",
       "\n",
       "    .dataframe thead tr:last-of-type th {\n",
       "        text-align: right;\n",
       "    }\n",
       "</style>\n",
       "<table border=\"1\" class=\"dataframe\">\n",
       "  <thead>\n",
       "    <tr>\n",
       "      <th></th>\n",
       "      <th colspan=\"3\" halign=\"left\">calls_duration</th>\n",
       "    </tr>\n",
       "    <tr>\n",
       "      <th></th>\n",
       "      <th>mean</th>\n",
       "      <th>std</th>\n",
       "      <th>var</th>\n",
       "    </tr>\n",
       "    <tr>\n",
       "      <th>tariff</th>\n",
       "      <th></th>\n",
       "      <th></th>\n",
       "      <th></th>\n",
       "    </tr>\n",
       "  </thead>\n",
       "  <tbody>\n",
       "    <tr>\n",
       "      <th>smart</th>\n",
       "      <td>417.934948</td>\n",
       "      <td>190.313730</td>\n",
       "      <td>36219.315784</td>\n",
       "    </tr>\n",
       "    <tr>\n",
       "      <th>ultra</th>\n",
       "      <td>526.623350</td>\n",
       "      <td>317.606098</td>\n",
       "      <td>100873.633397</td>\n",
       "    </tr>\n",
       "  </tbody>\n",
       "</table>\n",
       "</div>"
      ],
      "text/plain": [
       "       calls_duration                           \n",
       "                 mean         std            var\n",
       "tariff                                          \n",
       "smart      417.934948  190.313730   36219.315784\n",
       "ultra      526.623350  317.606098  100873.633397"
      ]
     },
     "execution_count": 15,
     "metadata": {},
     "output_type": "execute_result"
    }
   ],
   "source": [
    "df.groupby('tariff').agg({'calls_duration': ['mean', 'std', 'var']})"
   ]
  },
  {
   "cell_type": "markdown",
   "id": "31489c40",
   "metadata": {},
   "source": [
    "Как можно видеть, среднее кол-во минут для пользователей тарифа смарт 418, а у пользователей тарифа ультра 527. По дисперсии и стандартному отклонению видно, что для тарифа ультра значения сильно разбросаны относительно математического ожидания, а для тарифа смарт значения более компактно укладываются вокруг мат. ожидания."
   ]
  },
  {
   "cell_type": "code",
   "execution_count": 16,
   "id": "54545659",
   "metadata": {},
   "outputs": [
    {
     "data": {
      "text/html": [
       "<div>\n",
       "<style scoped>\n",
       "    .dataframe tbody tr th:only-of-type {\n",
       "        vertical-align: middle;\n",
       "    }\n",
       "\n",
       "    .dataframe tbody tr th {\n",
       "        vertical-align: top;\n",
       "    }\n",
       "\n",
       "    .dataframe thead tr th {\n",
       "        text-align: left;\n",
       "    }\n",
       "\n",
       "    .dataframe thead tr:last-of-type th {\n",
       "        text-align: right;\n",
       "    }\n",
       "</style>\n",
       "<table border=\"1\" class=\"dataframe\">\n",
       "  <thead>\n",
       "    <tr>\n",
       "      <th></th>\n",
       "      <th colspan=\"3\" halign=\"left\">gb_used</th>\n",
       "    </tr>\n",
       "    <tr>\n",
       "      <th></th>\n",
       "      <th>mean</th>\n",
       "      <th>std</th>\n",
       "      <th>var</th>\n",
       "    </tr>\n",
       "    <tr>\n",
       "      <th>tariff</th>\n",
       "      <th></th>\n",
       "      <th></th>\n",
       "      <th></th>\n",
       "    </tr>\n",
       "  </thead>\n",
       "  <tbody>\n",
       "    <tr>\n",
       "      <th>smart</th>\n",
       "      <td>15.848817</td>\n",
       "      <td>5.739821</td>\n",
       "      <td>32.945548</td>\n",
       "    </tr>\n",
       "    <tr>\n",
       "      <th>ultra</th>\n",
       "      <td>19.030177</td>\n",
       "      <td>9.859685</td>\n",
       "      <td>97.213384</td>\n",
       "    </tr>\n",
       "  </tbody>\n",
       "</table>\n",
       "</div>"
      ],
      "text/plain": [
       "          gb_used                     \n",
       "             mean       std        var\n",
       "tariff                                \n",
       "smart   15.848817  5.739821  32.945548\n",
       "ultra   19.030177  9.859685  97.213384"
      ]
     },
     "execution_count": 16,
     "metadata": {},
     "output_type": "execute_result"
    }
   ],
   "source": [
    "df.groupby('tariff').agg({'gb_used': ['mean', 'std', 'var']})"
   ]
  },
  {
   "cell_type": "markdown",
   "id": "1b9f268f",
   "metadata": {},
   "source": [
    "Здесь можно видеть, что среднее кол-во гигабайт интернет-трафика для пользователей тарифа смарт 16, а у пользователей тарифа ультра 19. По дисперсии и стандартному отклонению видно, что для тарифа ультра значения  опять сильнее разбросаны относительно математического ожидания, чем для тарифа смарт, значения которого более компактно укладываются вокруг мат. ожидания."
   ]
  },
  {
   "cell_type": "code",
   "execution_count": 17,
   "id": "46199344",
   "metadata": {},
   "outputs": [
    {
     "data": {
      "text/html": [
       "<div>\n",
       "<style scoped>\n",
       "    .dataframe tbody tr th:only-of-type {\n",
       "        vertical-align: middle;\n",
       "    }\n",
       "\n",
       "    .dataframe tbody tr th {\n",
       "        vertical-align: top;\n",
       "    }\n",
       "\n",
       "    .dataframe thead tr th {\n",
       "        text-align: left;\n",
       "    }\n",
       "\n",
       "    .dataframe thead tr:last-of-type th {\n",
       "        text-align: right;\n",
       "    }\n",
       "</style>\n",
       "<table border=\"1\" class=\"dataframe\">\n",
       "  <thead>\n",
       "    <tr>\n",
       "      <th></th>\n",
       "      <th colspan=\"3\" halign=\"left\">message_count</th>\n",
       "    </tr>\n",
       "    <tr>\n",
       "      <th></th>\n",
       "      <th>mean</th>\n",
       "      <th>std</th>\n",
       "      <th>var</th>\n",
       "    </tr>\n",
       "    <tr>\n",
       "      <th>tariff</th>\n",
       "      <th></th>\n",
       "      <th></th>\n",
       "      <th></th>\n",
       "    </tr>\n",
       "  </thead>\n",
       "  <tbody>\n",
       "    <tr>\n",
       "      <th>smart</th>\n",
       "      <td>33.384029</td>\n",
       "      <td>28.227876</td>\n",
       "      <td>796.812958</td>\n",
       "    </tr>\n",
       "    <tr>\n",
       "      <th>ultra</th>\n",
       "      <td>49.363452</td>\n",
       "      <td>47.804457</td>\n",
       "      <td>2285.266143</td>\n",
       "    </tr>\n",
       "  </tbody>\n",
       "</table>\n",
       "</div>"
      ],
      "text/plain": [
       "       message_count                        \n",
       "                mean        std          var\n",
       "tariff                                      \n",
       "smart      33.384029  28.227876   796.812958\n",
       "ultra      49.363452  47.804457  2285.266143"
      ]
     },
     "execution_count": 17,
     "metadata": {},
     "output_type": "execute_result"
    }
   ],
   "source": [
    "df.groupby('tariff').agg({'message_count': ['mean', 'std', 'var']})"
   ]
  },
  {
   "cell_type": "markdown",
   "id": "4308f3e2",
   "metadata": {},
   "source": [
    "Здесь можно видеть, что среднее кол-во сообщений для пользователей тарифа смарт 33, а у пользователей тарифа ультра 49. По дисперсии и стандартному отклонению видно, что для тарифа ультра значения снова сильнее разбросаны относительно математического ожидания, чем для тарифа смарт, значения которого более компактно укладываются вокруг мат. ожидания. В среднем пользователи тарифа ультра не используют свой тариф эффективно, у них остается большое кол-во оплаченных сообщений и минут, даже половину своих лимитов они не тратят, а пользователи тарифа смарт ближе подходят к пределам своего тарифа."
   ]
  },
  {
   "cell_type": "code",
   "execution_count": 18,
   "id": "c6715fcb",
   "metadata": {},
   "outputs": [
    {
     "name": "stdout",
     "output_type": "stream",
     "text": [
      "Длительности звонков за месяц по тарифу \"смарт\"\n",
      " count    2229.000000\n",
      "mean      417.934948\n",
      "std       190.313730\n",
      "min         0.000000\n",
      "25%       282.000000\n",
      "50%       422.000000\n",
      "75%       545.000000\n",
      "max      1435.000000\n",
      "Name: calls_duration, dtype: float64\n",
      "Длительности звонков за месяц по тарифу \"ультра\"\n",
      " count     985.000000\n",
      "mean      526.623350\n",
      "std       317.606098\n",
      "min         0.000000\n",
      "25%       284.000000\n",
      "50%       518.000000\n",
      "75%       752.000000\n",
      "max      1673.000000\n",
      "Name: calls_duration, dtype: float64\n"
     ]
    },
    {
     "data": {
      "image/png": "[encoded data removed]",
      "text/plain": [
       "<Figure size 432x288 with 1 Axes>"
      ]
     },
     "metadata": {
      "needs_background": "light"
     },
     "output_type": "display_data"
    }
   ],
   "source": [
    "ax = df[df['tariff']=='smart']['calls_duration'].hist(bins = 30, alpha = 0.5)\n",
    "df[df['tariff']=='ultra']['calls_duration'].hist(ax=ax, bins = 20, alpha = 0.5)\n",
    "plt.title(\"Распределение длительности звонков за месяц\")\n",
    "plt.legend(['smart', 'ultra'])\n",
    "plt.xlabel(\"Продолжительность(мин.)\")\n",
    "plt.ylabel(\"Частота\")\n",
    "df[df['tariff']=='ultra']['calls_duration'].describe()\n",
    "df[df['tariff']=='ultra']['calls_duration'].describe()\n",
    "\n",
    "print('Длительности звонков за месяц по тарифу \"смарт\"\\n', df[df['tariff']=='smart']['calls_duration'].describe())\n",
    "print('Длительности звонков за месяц по тарифу \"ультра\"\\n', df[df['tariff']=='ultra']['calls_duration'].describe())"
   ]
  },
  {
   "cell_type": "markdown",
   "id": "0f2ed664",
   "metadata": {},
   "source": [
    "Из гистограмм видно, что распределение для тарифа смарт нормальное(распределение Пуассона стремящееся к нормальному) и немного скошено влево, а для тарифа ультра необычно много значений около нуля, распредение тоже нормальное(распределение Пуассона стремящееся к нормальному), скошенности не замечаю. Медианы очень близки к средним значениям, значит огромного количества выбросов нет. Проделаем то же самое с распределениями кол-ва сообщений и объема интернет-трафика:"
   ]
  },
  {
   "cell_type": "code",
   "execution_count": 19,
   "id": "a8d3639f",
   "metadata": {},
   "outputs": [
    {
     "name": "stdout",
     "output_type": "stream",
     "text": [
      "Количество сообщений за месяц по тарифу \"смарт\"\n",
      " count    2229.000000\n",
      "mean       33.384029\n",
      "std        28.227876\n",
      "min         0.000000\n",
      "25%        10.000000\n",
      "50%        28.000000\n",
      "75%        51.000000\n",
      "max       143.000000\n",
      "Name: message_count, dtype: float64\n",
      "Количество сообщений за месяц по тарифу \"ультра\"\n",
      " count    985.000000\n",
      "mean      49.363452\n",
      "std       47.804457\n",
      "min        0.000000\n",
      "25%        6.000000\n",
      "50%       38.000000\n",
      "75%       79.000000\n",
      "max      224.000000\n",
      "Name: message_count, dtype: float64\n"
     ]
    },
    {
     "data": {
      "image/png": "[encoded data removed]",
      "text/plain": [
       "<Figure size 432x288 with 1 Axes>"
      ]
     },
     "metadata": {
      "needs_background": "light"
     },
     "output_type": "display_data"
    }
   ],
   "source": [
    "ax = df[df['tariff']=='smart']['message_count'].hist(bins = 10, alpha = 0.5)\n",
    "df[df['tariff']=='ultra']['message_count'].hist(ax=ax, bins = 10, alpha = 0.5)\n",
    "plt.title(\"Распределение количества сообщений за месяц\")\n",
    "plt.legend(['smart', 'ultra'])\n",
    "plt.xlabel(\"Количество(шт.)\")\n",
    "plt.ylabel(\"Частота\")\n",
    "df[df['tariff']=='ultra']['message_count'].describe()\n",
    "df[df['tariff']=='ultra']['message_count'].describe()\n",
    "\n",
    "print('Количество сообщений за месяц по тарифу \"смарт\"\\n', df[df['tariff']=='smart']['message_count'].describe())\n",
    "print('Количество сообщений за месяц по тарифу \"ультра\"\\n', df[df['tariff']=='ultra']['message_count'].describe())"
   ]
  },
  {
   "cell_type": "markdown",
   "id": "d4dfcbb1",
   "metadata": {},
   "source": [
    "Здесь у нас явно видно два распределения Пуассона, по тарифу ультра можно заметить хвост, который переваливает за значение в 200 сообщений в месяц. Это отражается и на среднем, можно заметить, что медиана меньше среднего для тарифа ультра значительно. Переходим к интернет-трафику."
   ]
  },
  {
   "cell_type": "code",
   "execution_count": 20,
   "id": "a0624865",
   "metadata": {},
   "outputs": [
    {
     "name": "stdout",
     "output_type": "stream",
     "text": [
      "Количество сообщений за месяц по тарифу \"смарт\"\n",
      " count    2229.000000\n",
      "mean       15.848817\n",
      "std         5.739821\n",
      "min         0.000000\n",
      "25%        12.361328\n",
      "50%        16.143555\n",
      "75%        19.597656\n",
      "max        37.705078\n",
      "Name: gb_used, dtype: float64\n",
      "Количество сообщений за месяц по тарифу \"ультра\"\n",
      " count    985.000000\n",
      "mean      19.030177\n",
      "std        9.859685\n",
      "min        0.000000\n",
      "25%       11.508789\n",
      "50%       18.871094\n",
      "75%       26.233398\n",
      "max       48.622070\n",
      "Name: gb_used, dtype: float64\n"
     ]
    },
    {
     "data": {
      "image/png": "[encoded data removed]",
      "text/plain": [
       "<Figure size 432x288 with 1 Axes>"
      ]
     },
     "metadata": {
      "needs_background": "light"
     },
     "output_type": "display_data"
    }
   ],
   "source": [
    "ax = df[df['tariff']=='smart']['gb_used'].hist(bins = 20, alpha = 0.5)\n",
    "df[df['tariff']=='ultra']['gb_used'].hist(ax=ax, bins = 20, alpha = 0.5)\n",
    "plt.title(\"Распределение объема интренет-трафика за месяц\")\n",
    "plt.legend(['smart', 'ultra'])\n",
    "plt.xlabel(\"Объем(gb.)\")\n",
    "plt.ylabel(\"Частота\")\n",
    "df[df['tariff']=='ultra']['gb_used'].describe()\n",
    "df[df['tariff']=='ultra']['gb_used'].describe()\n",
    "\n",
    "print('Количество сообщений за месяц по тарифу \"смарт\"\\n', df[df['tariff']=='smart']['gb_used'].describe())\n",
    "print('Количество сообщений за месяц по тарифу \"ультра\"\\n', df[df['tariff']=='ultra']['gb_used'].describe())"
   ]
  },
  {
   "cell_type": "markdown",
   "id": "9c66abea",
   "metadata": {},
   "source": [
    "По гистограммам видно, что распределение для тарифа смарт нормальное(распределение Пуассона стремящееся к нормальному) и немного скошено вправо, а для тарифа ультра распредение тоже нормальное(распределение Пуассона стремящееся к нормальному), скошено немного влево. Медианы очень близки к средним значениям, значит огромного количества выбросов нет."
   ]
  },
  {
   "cell_type": "markdown",
   "id": "764dd2de",
   "metadata": {},
   "source": [
    "### Вывод анализа и описания данных"
   ]
  },
  {
   "cell_type": "markdown",
   "id": "621c9287",
   "metadata": {},
   "source": [
    "Все параметры распределений описаны, из необычного можно отметить большое кол-во абонентов на тарифе ультра с околонулевой продолжительностью за месяц, возможно они общаются больше по смс или через интернет. Определили типы распределений, в основном это распределения Пуассона или они же, но стремящиеся к нормальным. Провели визуальное сравнение распределений для обоих тарифов."
   ]
  },
  {
   "cell_type": "markdown",
   "id": "a7c1492d",
   "metadata": {},
   "source": [
    "## Проверка гипотез и пояснения"
   ]
  },
  {
   "cell_type": "markdown",
   "id": "cc49c926",
   "metadata": {},
   "source": [
    "Проверим первую гипотезу: средняя выручка пользователей тарифов «Ультра» и «Смарт» различаются.\n",
    "Нулевая гипотеза всегда формулируется так, чтобы использовать знак равенства, альтернативная будет отрицанием нулевой. Чтобы проверить гипотезу о равенстве среднего двух генеральных совокупностей по взятым из них выборкам, применим метод scipy.stats.ttest_ind() \n",
    "Нулевая гипотеза: средние выручки пользователей тарифов «Ультра» и «Смарт» равны.\n",
    "Альтернативная гипотеза: средняя выручка пользователей тарифов «Ультра» и «Смарт» различаются."
   ]
  },
  {
   "cell_type": "code",
   "execution_count": 21,
   "id": "ef1bcbe5",
   "metadata": {
    "scrolled": true
   },
   "outputs": [
    {
     "name": "stdout",
     "output_type": "stream",
     "text": [
      "p-значение: 2.9776448000521676e-158\n",
      "Отвергаем нулевую гипотезу\n"
     ]
    }
   ],
   "source": [
    "sample_1 = df[df['tariff']=='smart']['fee']\n",
    "sample_2 = df[df['tariff']=='ultra']['fee']\n",
    "\n",
    "alpha = 0.05  # критический уровень статистической значимости\n",
    "# если p-value окажется меньше него - отвергнем гипотезу\n",
    "\n",
    "results = st.ttest_ind(sample_1, sample_2)\n",
    "\n",
    "print('p-значение:', results.pvalue)\n",
    "\n",
    "if results.pvalue < alpha:\n",
    "    print('Отвергаем нулевую гипотезу')\n",
    "else:\n",
    "    print('Не получилось отвергнуть нулевую гипотезу') "
   ]
  },
  {
   "cell_type": "code",
   "execution_count": 22,
   "id": "8ee44413",
   "metadata": {},
   "outputs": [
    {
     "name": "stdout",
     "output_type": "stream",
     "text": [
      "count    2229.000000\n",
      "mean     1294.639300\n",
      "std       820.933202\n",
      "min       550.000000\n",
      "25%       550.000000\n",
      "50%      1038.000000\n",
      "75%      1750.000000\n",
      "max      6770.000000\n",
      "Name: fee, dtype: float64\n",
      "count     985.000000\n",
      "mean     2071.065990\n",
      "std       378.802377\n",
      "min      1950.000000\n",
      "25%      1950.000000\n",
      "50%      1950.000000\n",
      "75%      1950.000000\n",
      "max      4800.000000\n",
      "Name: fee, dtype: float64\n"
     ]
    }
   ],
   "source": [
    "print(sample_1.describe())\n",
    "print(sample_2.describe())"
   ]
  },
  {
   "cell_type": "markdown",
   "id": "9f054333",
   "metadata": {},
   "source": [
    "Видимо средняя выручка пользователей тарифов «Ультра» и «Смарт» и правда отличаются."
   ]
  },
  {
   "cell_type": "markdown",
   "id": "59f71360",
   "metadata": {},
   "source": [
    "Проверим вторую гипотезу: средняя выручка пользователей из Москвы отличается от выручки пользователей из других регионов. Нулевую гипотезу формулируем так, чтобы использовать знак равенства, альтернативную же через отрицание нулевой. Чтобы проверить гипотезу о равенстве среднего двух генеральных совокупностей по взятым из них выборкам, применим метод scipy.stats.ttest_ind() Нулевая гипотеза: средняя выручка пользователей из Москвы равна выручке пользователей из других регионов.\n",
    "Альтернативная гипотеза: средняя выручка пользователей из Москвы отличается(или не равна) от выручки пользователей из других регионов."
   ]
  },
  {
   "cell_type": "code",
   "execution_count": 23,
   "id": "8a8d48ab",
   "metadata": {},
   "outputs": [
    {
     "name": "stdout",
     "output_type": "stream",
     "text": [
      "p-значение: 0.531666503831252\n",
      "Не получилось отвергнуть нулевую гипотезу\n"
     ]
    }
   ],
   "source": [
    "sample_1 = df[df['city']=='Москва']['fee']\n",
    "sample_2 = df[df['city']!='Москва']['fee']\n",
    "\n",
    "alpha = 0.05  # критический уровень статистической значимости\n",
    "# если p-value окажется меньше него - отвергнем гипотезу\n",
    "\n",
    "results = st.ttest_ind(sample_1, sample_2)\n",
    "\n",
    "print('p-значение:', results.pvalue)\n",
    "\n",
    "if results.pvalue < alpha:\n",
    "    print('Отвергаем нулевую гипотезу')\n",
    "else:\n",
    "    print('Не получилось отвергнуть нулевую гипотезу') "
   ]
  },
  {
   "cell_type": "markdown",
   "id": "f945e6e9",
   "metadata": {},
   "source": [
    "Похоже, что средняя выручка от пользователей из Москвы скорее всего не отличается от пользователей из других городов."
   ]
  },
  {
   "cell_type": "markdown",
   "id": "3a04cd6f",
   "metadata": {},
   "source": [
    "### Вывод проверки гипотез"
   ]
  },
  {
   "cell_type": "markdown",
   "id": "9776689d",
   "metadata": {},
   "source": [
    "Мы проверили две гипотезы, одну получилось отвергнуть, а другую нет. В обоих проверках был критический уровень значимости равен 5%, если его поменять в первой проверке, то результат останется тем же, потому что p-значение в ней почти нулевое. Во второй проверке p-значение наоборот очень большое, результат опять бы не поменялся, если бы мы взяли немного другой критический уровень значимости(больше 10% вроде бы не берут обычно)."
   ]
  },
  {
   "cell_type": "markdown",
   "id": "9c9bbf06",
   "metadata": {},
   "source": [
    "## Общий вывод"
   ]
  },
  {
   "cell_type": "markdown",
   "id": "f24bcaaf",
   "metadata": {},
   "source": [
    "Мы проделали большую работу с данными, сначала изучили каждую таблицу отдельно, исправили в них некоторые ошибки(тип дат и округлили значения). Потом вытащили в таблицах звонков, интернета и сообщений месяц, сгруппировали все таблицы в одну большую по месяцу и номеру пользователя. Добавили значение выручки по каждому пользователю и изучили, как выглядят распределения продолжительности звонков, количества сообщений и объема интернет-трафика. Напоследок мы проверили две гипотезы о средних значениях выручки для разных тарифов и для населенного пункта(Москва и не Москва). Пришли к таким выводам: средняя выручка от пользователей из Москвы скорее всего не отличается от пользователей из других городов и средняя выручка пользователей тарифов «Ультра» и «Смарт» и правда отличаются. Ответить однозначно на вопрос названия проекта(Определение перспективного тарифа для телеком-компании) не получается, но можно заметить, что в имеющейся выборке средний и медианный чеки за месяц абонента тарифа \"Ультра\" больше, чем абонента тарифа \"Смарт\", но и выборка по тарифу смарт больше в 2,5 раза, поэтому это просто заметка для себя, которую можно использовать для проверки следующих гипотез."
   ]
  }
 ],
 "metadata": {
  "ExecuteTimeLog": [
   {
    "duration": 1225,
    "start_time": "2021-12-23T00:00:44.208Z"
   },
   {
    "duration": 148,
    "start_time": "2021-12-23T00:00:45.434Z"
   },
   {
    "duration": 113,
    "start_time": "2021-12-23T00:00:45.584Z"
   },
   {
    "duration": 25,
    "start_time": "2021-12-23T00:00:45.699Z"
   },
   {
    "duration": 39,
    "start_time": "2021-12-23T00:00:45.726Z"
   },
   {
    "duration": 108,
    "start_time": "2021-12-23T00:00:45.767Z"
   },
   {
    "duration": 8,
    "start_time": "2021-12-23T00:00:45.877Z"
   },
   {
    "duration": 41,
    "start_time": "2021-12-23T00:00:45.887Z"
   },
   {
    "duration": 83,
    "start_time": "2021-12-23T00:00:45.931Z"
   },
   {
    "duration": 87,
    "start_time": "2021-12-23T00:00:46.017Z"
   },
   {
    "duration": 12,
    "start_time": "2021-12-23T00:00:46.105Z"
   },
   {
    "duration": 48,
    "start_time": "2021-12-23T00:00:46.119Z"
   },
   {
    "duration": 13,
    "start_time": "2021-12-23T00:00:46.169Z"
   },
   {
    "duration": 14,
    "start_time": "2021-12-23T00:00:46.183Z"
   },
   {
    "duration": 12,
    "start_time": "2021-12-23T00:00:46.199Z"
   },
   {
    "duration": 309,
    "start_time": "2021-12-23T00:00:46.213Z"
   },
   {
    "duration": 243,
    "start_time": "2021-12-23T00:00:46.524Z"
   },
   {
    "duration": 272,
    "start_time": "2021-12-23T00:00:46.769Z"
   },
   {
    "duration": 20,
    "start_time": "2021-12-23T00:00:47.042Z"
   },
   {
    "duration": 11,
    "start_time": "2021-12-23T00:00:47.064Z"
   },
   {
    "duration": 8,
    "start_time": "2021-12-23T00:00:47.077Z"
   },
   {
    "duration": 1265,
    "start_time": "2021-12-23T20:11:44.368Z"
   },
   {
    "duration": 153,
    "start_time": "2021-12-23T20:11:45.635Z"
   },
   {
    "duration": 110,
    "start_time": "2021-12-23T20:11:45.791Z"
   },
   {
    "duration": 26,
    "start_time": "2021-12-23T20:11:45.903Z"
   },
   {
    "duration": 39,
    "start_time": "2021-12-23T20:11:45.931Z"
   },
   {
    "duration": 100,
    "start_time": "2021-12-23T20:11:45.972Z"
   },
   {
    "duration": 10,
    "start_time": "2021-12-23T20:11:46.074Z"
   },
   {
    "duration": 41,
    "start_time": "2021-12-23T20:11:46.087Z"
   },
   {
    "duration": 100,
    "start_time": "2021-12-23T20:11:46.130Z"
   },
   {
    "duration": 89,
    "start_time": "2021-12-23T20:11:46.232Z"
   },
   {
    "duration": 12,
    "start_time": "2021-12-23T20:11:46.323Z"
   },
   {
    "duration": 48,
    "start_time": "2021-12-23T20:11:46.336Z"
   },
   {
    "duration": 13,
    "start_time": "2021-12-23T20:11:46.386Z"
   },
   {
    "duration": 13,
    "start_time": "2021-12-23T20:11:46.401Z"
   },
   {
    "duration": 12,
    "start_time": "2021-12-23T20:11:46.416Z"
   },
   {
    "duration": 349,
    "start_time": "2021-12-23T20:11:46.430Z"
   },
   {
    "duration": 239,
    "start_time": "2021-12-23T20:11:46.781Z"
   },
   {
    "duration": 284,
    "start_time": "2021-12-23T20:11:47.022Z"
   },
   {
    "duration": 9,
    "start_time": "2021-12-23T20:11:47.307Z"
   },
   {
    "duration": 9,
    "start_time": "2021-12-23T20:11:47.318Z"
   },
   {
    "duration": 31,
    "start_time": "2021-12-23T20:11:47.329Z"
   },
   {
    "duration": 22,
    "start_time": "2021-12-23T20:30:35.212Z"
   },
   {
    "duration": 264,
    "start_time": "2021-12-23T22:52:00.583Z"
   },
   {
    "duration": 1291,
    "start_time": "2021-12-23T22:52:16.004Z"
   },
   {
    "duration": 168,
    "start_time": "2021-12-23T22:52:17.297Z"
   },
   {
    "duration": 163,
    "start_time": "2021-12-23T22:52:17.467Z"
   },
   {
    "duration": 32,
    "start_time": "2021-12-23T22:52:17.632Z"
   },
   {
    "duration": 47,
    "start_time": "2021-12-23T22:52:17.666Z"
   },
   {
    "duration": 104,
    "start_time": "2021-12-23T22:52:17.715Z"
   },
   {
    "duration": 8,
    "start_time": "2021-12-23T22:52:17.821Z"
   },
   {
    "duration": 51,
    "start_time": "2021-12-23T22:52:17.831Z"
   },
   {
    "duration": 90,
    "start_time": "2021-12-23T22:52:17.885Z"
   },
   {
    "duration": 309,
    "start_time": "2021-12-23T22:52:17.977Z"
   },
   {
    "duration": -20,
    "start_time": "2021-12-23T22:52:18.308Z"
   },
   {
    "duration": -26,
    "start_time": "2021-12-23T22:52:18.315Z"
   },
   {
    "duration": -26,
    "start_time": "2021-12-23T22:52:18.316Z"
   },
   {
    "duration": -26,
    "start_time": "2021-12-23T22:52:18.317Z"
   },
   {
    "duration": -25,
    "start_time": "2021-12-23T22:52:18.317Z"
   },
   {
    "duration": -25,
    "start_time": "2021-12-23T22:52:18.318Z"
   },
   {
    "duration": -25,
    "start_time": "2021-12-23T22:52:18.319Z"
   },
   {
    "duration": -26,
    "start_time": "2021-12-23T22:52:18.321Z"
   },
   {
    "duration": -25,
    "start_time": "2021-12-23T22:52:18.322Z"
   },
   {
    "duration": -25,
    "start_time": "2021-12-23T22:52:18.323Z"
   },
   {
    "duration": -25,
    "start_time": "2021-12-23T22:52:18.324Z"
   },
   {
    "duration": 15,
    "start_time": "2021-12-23T22:53:02.505Z"
   },
   {
    "duration": 14,
    "start_time": "2021-12-23T22:53:34.454Z"
   },
   {
    "duration": 183,
    "start_time": "2021-12-23T22:53:41.602Z"
   },
   {
    "duration": 161,
    "start_time": "2021-12-23T22:53:41.787Z"
   },
   {
    "duration": 117,
    "start_time": "2021-12-23T22:53:41.951Z"
   },
   {
    "duration": 31,
    "start_time": "2021-12-23T22:53:42.070Z"
   },
   {
    "duration": 51,
    "start_time": "2021-12-23T22:53:42.103Z"
   },
   {
    "duration": 96,
    "start_time": "2021-12-23T22:53:42.157Z"
   },
   {
    "duration": 12,
    "start_time": "2021-12-23T22:53:42.255Z"
   },
   {
    "duration": 79,
    "start_time": "2021-12-23T22:53:42.269Z"
   },
   {
    "duration": 115,
    "start_time": "2021-12-23T22:53:42.352Z"
   },
   {
    "duration": 113,
    "start_time": "2021-12-23T22:53:42.469Z"
   },
   {
    "duration": 15,
    "start_time": "2021-12-23T22:53:42.584Z"
   },
   {
    "duration": 66,
    "start_time": "2021-12-23T22:53:42.601Z"
   },
   {
    "duration": 17,
    "start_time": "2021-12-23T22:53:42.669Z"
   },
   {
    "duration": 13,
    "start_time": "2021-12-23T22:53:42.687Z"
   },
   {
    "duration": 13,
    "start_time": "2021-12-23T22:53:42.701Z"
   },
   {
    "duration": 341,
    "start_time": "2021-12-23T22:53:42.742Z"
   },
   {
    "duration": 256,
    "start_time": "2021-12-23T22:53:43.085Z"
   },
   {
    "duration": 307,
    "start_time": "2021-12-23T22:53:43.343Z"
   },
   {
    "duration": 12,
    "start_time": "2021-12-23T22:53:43.653Z"
   },
   {
    "duration": 10,
    "start_time": "2021-12-23T22:53:43.667Z"
   },
   {
    "duration": 9,
    "start_time": "2021-12-23T22:53:43.679Z"
   }
  ],
  "kernelspec": {
   "display_name": "Python 3 (ipykernel)",
   "language": "python",
   "name": "python3"
  },
  "language_info": {
   "codemirror_mode": {
    "name": "ipython",
    "version": 3
   },
   "file_extension": ".py",
   "mimetype": "text/x-python",
   "name": "python",
   "nbconvert_exporter": "python",
   "pygments_lexer": "ipython3",
   "version": "3.9.7"
  },
  "toc": {
   "base_numbering": 1,
   "nav_menu": {},
   "number_sections": true,
   "sideBar": true,
   "skip_h1_title": true,
   "title_cell": "Table of Contents",
   "title_sidebar": "Contents",
   "toc_cell": false,
   "toc_position": {},
   "toc_section_display": true,
   "toc_window_display": false
  }
 },
 "nbformat": 4,
 "nbformat_minor": 5
}

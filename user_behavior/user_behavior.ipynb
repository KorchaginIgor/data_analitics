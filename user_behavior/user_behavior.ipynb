{
 "cells": [
  {
   "cell_type": "markdown",
   "id": "41098a2c",
   "metadata": {},
   "source": [
    "# Название проекта\n",
    "Исследование поведения пользователей нашего мобильного приложения."
   ]
  },
  {
   "cell_type": "markdown",
   "id": "3c944732",
   "metadata": {},
   "source": [
    "## Описание проекта\n",
    "Я работаю в стартапе, который продаёт продукты питания. Нужно разобраться, как ведут себя пользователи вашего мобильного приложения.\n",
    "Изучим воронку продаж. Узнаем, как пользователи доходят до покупки. Сколько пользователей доходит до покупки, а сколько — «застревает» на предыдущих шагах? На каких именно?\n",
    "После этого исследуем результаты A/A/B-эксперимента. Дизайнеры захотели поменять шрифты во всём приложении, а менеджеры испугались, что пользователям будет непривычно. Договорились принять решение по результатам A/A/B-теста. Пользователей разбили на 3 группы: 2 контрольные со старыми шрифтами и одну экспериментальную — с новыми. Выясним, какой шрифт лучше."
   ]
  },
  {
   "cell_type": "markdown",
   "id": "3f343047",
   "metadata": {},
   "source": [
    "## Цель проекта\n",
    "Построить воронку продаж и изучить поведение пользователей. Исследовать резултаты А/А/В тест, прокомментировать результаты и выяснить, какой шрифт лучше."
   ]
  },
  {
   "cell_type": "markdown",
   "id": "b5c3bde8",
   "metadata": {},
   "source": [
    "# Предобработка данных"
   ]
  },
  {
   "cell_type": "code",
   "execution_count": 1,
   "id": "1df4dbd8",
   "metadata": {},
   "outputs": [],
   "source": [
    "import math as mth\n",
    "import pandas as pd\n",
    "import numpy as np\n",
    "import scipy.stats as stats\n",
    "import datetime as dt\n",
    "import seaborn as sns\n",
    "import matplotlib.pyplot as plt\n",
    "import plotly as py\n",
    "from plotly import graph_objects as go\n",
    "from pandas.plotting import register_matplotlib_converters\n",
    "pd.options.mode.chained_assignment = None  # default='warn'\n",
    "import warnings"
   ]
  },
  {
   "cell_type": "code",
   "execution_count": 2,
   "id": "a9912c47",
   "metadata": {},
   "outputs": [
    {
     "data": {
      "text/html": [
       "<div>\n",
       "<style scoped>\n",
       "    .dataframe tbody tr th:only-of-type {\n",
       "        vertical-align: middle;\n",
       "    }\n",
       "\n",
       "    .dataframe tbody tr th {\n",
       "        vertical-align: top;\n",
       "    }\n",
       "\n",
       "    .dataframe thead th {\n",
       "        text-align: right;\n",
       "    }\n",
       "</style>\n",
       "<table border=\"1\" class=\"dataframe\">\n",
       "  <thead>\n",
       "    <tr style=\"text-align: right;\">\n",
       "      <th></th>\n",
       "      <th>EventName</th>\n",
       "      <th>DeviceIDHash</th>\n",
       "      <th>EventTimestamp</th>\n",
       "      <th>ExpId</th>\n",
       "    </tr>\n",
       "  </thead>\n",
       "  <tbody>\n",
       "    <tr>\n",
       "      <th>0</th>\n",
       "      <td>MainScreenAppear</td>\n",
       "      <td>4575588528974610257</td>\n",
       "      <td>1564029816</td>\n",
       "      <td>246</td>\n",
       "    </tr>\n",
       "    <tr>\n",
       "      <th>1</th>\n",
       "      <td>MainScreenAppear</td>\n",
       "      <td>7416695313311560658</td>\n",
       "      <td>1564053102</td>\n",
       "      <td>246</td>\n",
       "    </tr>\n",
       "    <tr>\n",
       "      <th>2</th>\n",
       "      <td>PaymentScreenSuccessful</td>\n",
       "      <td>3518123091307005509</td>\n",
       "      <td>1564054127</td>\n",
       "      <td>248</td>\n",
       "    </tr>\n",
       "    <tr>\n",
       "      <th>3</th>\n",
       "      <td>CartScreenAppear</td>\n",
       "      <td>3518123091307005509</td>\n",
       "      <td>1564054127</td>\n",
       "      <td>248</td>\n",
       "    </tr>\n",
       "    <tr>\n",
       "      <th>4</th>\n",
       "      <td>PaymentScreenSuccessful</td>\n",
       "      <td>6217807653094995999</td>\n",
       "      <td>1564055322</td>\n",
       "      <td>248</td>\n",
       "    </tr>\n",
       "  </tbody>\n",
       "</table>\n",
       "</div>"
      ],
      "text/plain": [
       "                 EventName         DeviceIDHash  EventTimestamp  ExpId\n",
       "0         MainScreenAppear  4575588528974610257      1564029816    246\n",
       "1         MainScreenAppear  7416695313311560658      1564053102    246\n",
       "2  PaymentScreenSuccessful  3518123091307005509      1564054127    248\n",
       "3         CartScreenAppear  3518123091307005509      1564054127    248\n",
       "4  PaymentScreenSuccessful  6217807653094995999      1564055322    248"
      ]
     },
     "metadata": {},
     "output_type": "display_data"
    },
    {
     "name": "stdout",
     "output_type": "stream",
     "text": [
      "<class 'pandas.core.frame.DataFrame'>\n",
      "RangeIndex: 244126 entries, 0 to 244125\n",
      "Data columns (total 4 columns):\n",
      " #   Column          Non-Null Count   Dtype \n",
      "---  ------          --------------   ----- \n",
      " 0   EventName       244126 non-null  object\n",
      " 1   DeviceIDHash    244126 non-null  int64 \n",
      " 2   EventTimestamp  244126 non-null  int64 \n",
      " 3   ExpId           244126 non-null  int64 \n",
      "dtypes: int64(3), object(1)\n",
      "memory usage: 7.5+ MB\n"
     ]
    }
   ],
   "source": [
    "pd.set_option('display.float_format', '{:,.2f}'.format)\n",
    "data = pd.read_csv('logs_exp.csv', sep='\\t')\n",
    "pd.options.display.max_colwidth = 150\n",
    "display(data.head(5))\n",
    "data.info()"
   ]
  },
  {
   "cell_type": "markdown",
   "id": "be5a1c3f",
   "metadata": {},
   "source": [
    "У нас есть таблица logs_exp, где каждая запись в логе — это действие пользователя, или событие:\n",
    "- EventName — название события;\n",
    "- DeviceIDHash — уникальный идентификатор пользователя;\n",
    "- EventTimestamp — время события;\n",
    "- ExpId — номер эксперимента: 246 и 247 — контрольные группы, а 248 — экспериментальная.\n",
    "\n",
    "Пропусков в таблице нет. Посмотрим на дубликаты:"
   ]
  },
  {
   "cell_type": "code",
   "execution_count": 3,
   "id": "27c738ee",
   "metadata": {},
   "outputs": [
    {
     "name": "stdout",
     "output_type": "stream",
     "text": [
      "413\n"
     ]
    }
   ],
   "source": [
    "print(data.duplicated().sum())# подсчёт явных дубликатов"
   ]
  },
  {
   "cell_type": "markdown",
   "id": "cede6d04",
   "metadata": {},
   "source": [
    "В этом проекте мы работаем с воронками, в воронках не важно сколько раз появлялось то или иное событие от пользователя, важно что оно появлялось хотя бы один раз. Поэтому дубликаты чистить не обязательно.\n"
   ]
  },
  {
   "cell_type": "markdown",
   "id": "760eb1be",
   "metadata": {},
   "source": [
    "Заменим названия столбцов на более удобные."
   ]
  },
  {
   "cell_type": "code",
   "execution_count": 4,
   "id": "e53d6f6e",
   "metadata": {},
   "outputs": [
    {
     "data": {
      "text/html": [
       "<div>\n",
       "<style scoped>\n",
       "    .dataframe tbody tr th:only-of-type {\n",
       "        vertical-align: middle;\n",
       "    }\n",
       "\n",
       "    .dataframe tbody tr th {\n",
       "        vertical-align: top;\n",
       "    }\n",
       "\n",
       "    .dataframe thead th {\n",
       "        text-align: right;\n",
       "    }\n",
       "</style>\n",
       "<table border=\"1\" class=\"dataframe\">\n",
       "  <thead>\n",
       "    <tr style=\"text-align: right;\">\n",
       "      <th></th>\n",
       "      <th>event_name</th>\n",
       "      <th>device_id_hash</th>\n",
       "      <th>event_timestamp</th>\n",
       "      <th>exp_id</th>\n",
       "    </tr>\n",
       "  </thead>\n",
       "  <tbody>\n",
       "    <tr>\n",
       "      <th>0</th>\n",
       "      <td>MainScreenAppear</td>\n",
       "      <td>4575588528974610257</td>\n",
       "      <td>1564029816</td>\n",
       "      <td>246</td>\n",
       "    </tr>\n",
       "    <tr>\n",
       "      <th>1</th>\n",
       "      <td>MainScreenAppear</td>\n",
       "      <td>7416695313311560658</td>\n",
       "      <td>1564053102</td>\n",
       "      <td>246</td>\n",
       "    </tr>\n",
       "    <tr>\n",
       "      <th>2</th>\n",
       "      <td>PaymentScreenSuccessful</td>\n",
       "      <td>3518123091307005509</td>\n",
       "      <td>1564054127</td>\n",
       "      <td>248</td>\n",
       "    </tr>\n",
       "    <tr>\n",
       "      <th>3</th>\n",
       "      <td>CartScreenAppear</td>\n",
       "      <td>3518123091307005509</td>\n",
       "      <td>1564054127</td>\n",
       "      <td>248</td>\n",
       "    </tr>\n",
       "    <tr>\n",
       "      <th>4</th>\n",
       "      <td>PaymentScreenSuccessful</td>\n",
       "      <td>6217807653094995999</td>\n",
       "      <td>1564055322</td>\n",
       "      <td>248</td>\n",
       "    </tr>\n",
       "  </tbody>\n",
       "</table>\n",
       "</div>"
      ],
      "text/plain": [
       "                event_name       device_id_hash  event_timestamp  exp_id\n",
       "0         MainScreenAppear  4575588528974610257       1564029816     246\n",
       "1         MainScreenAppear  7416695313311560658       1564053102     246\n",
       "2  PaymentScreenSuccessful  3518123091307005509       1564054127     248\n",
       "3         CartScreenAppear  3518123091307005509       1564054127     248\n",
       "4  PaymentScreenSuccessful  6217807653094995999       1564055322     248"
      ]
     },
     "execution_count": 4,
     "metadata": {},
     "output_type": "execute_result"
    }
   ],
   "source": [
    "data.columns = data.columns.str.lower()\n",
    "data = data.rename(columns={'eventname': 'event_name', 'deviceidhash': 'device_id_hash',\n",
    "                   'eventtimestamp': 'event_timestamp', 'expid': 'exp_id'})  # переименование столбцов\n",
    "data.head()"
   ]
  },
  {
   "cell_type": "markdown",
   "id": "ffa03f57",
   "metadata": {},
   "source": [
    "Поменяем тип данных в столбце с датами на datetime и добавим новый столбец с датой отдельно."
   ]
  },
  {
   "cell_type": "code",
   "execution_count": 5,
   "id": "01b30c1e",
   "metadata": {},
   "outputs": [
    {
     "data": {
      "text/html": [
       "<div>\n",
       "<style scoped>\n",
       "    .dataframe tbody tr th:only-of-type {\n",
       "        vertical-align: middle;\n",
       "    }\n",
       "\n",
       "    .dataframe tbody tr th {\n",
       "        vertical-align: top;\n",
       "    }\n",
       "\n",
       "    .dataframe thead th {\n",
       "        text-align: right;\n",
       "    }\n",
       "</style>\n",
       "<table border=\"1\" class=\"dataframe\">\n",
       "  <thead>\n",
       "    <tr style=\"text-align: right;\">\n",
       "      <th></th>\n",
       "      <th>event_name</th>\n",
       "      <th>device_id_hash</th>\n",
       "      <th>event_timestamp</th>\n",
       "      <th>exp_id</th>\n",
       "      <th>event_date</th>\n",
       "    </tr>\n",
       "  </thead>\n",
       "  <tbody>\n",
       "    <tr>\n",
       "      <th>0</th>\n",
       "      <td>MainScreenAppear</td>\n",
       "      <td>4575588528974610257</td>\n",
       "      <td>2019-07-25 04:43:36</td>\n",
       "      <td>246</td>\n",
       "      <td>2019-07-25</td>\n",
       "    </tr>\n",
       "    <tr>\n",
       "      <th>1</th>\n",
       "      <td>MainScreenAppear</td>\n",
       "      <td>7416695313311560658</td>\n",
       "      <td>2019-07-25 11:11:42</td>\n",
       "      <td>246</td>\n",
       "      <td>2019-07-25</td>\n",
       "    </tr>\n",
       "    <tr>\n",
       "      <th>2</th>\n",
       "      <td>PaymentScreenSuccessful</td>\n",
       "      <td>3518123091307005509</td>\n",
       "      <td>2019-07-25 11:28:47</td>\n",
       "      <td>248</td>\n",
       "      <td>2019-07-25</td>\n",
       "    </tr>\n",
       "    <tr>\n",
       "      <th>3</th>\n",
       "      <td>CartScreenAppear</td>\n",
       "      <td>3518123091307005509</td>\n",
       "      <td>2019-07-25 11:28:47</td>\n",
       "      <td>248</td>\n",
       "      <td>2019-07-25</td>\n",
       "    </tr>\n",
       "    <tr>\n",
       "      <th>4</th>\n",
       "      <td>PaymentScreenSuccessful</td>\n",
       "      <td>6217807653094995999</td>\n",
       "      <td>2019-07-25 11:48:42</td>\n",
       "      <td>248</td>\n",
       "      <td>2019-07-25</td>\n",
       "    </tr>\n",
       "  </tbody>\n",
       "</table>\n",
       "</div>"
      ],
      "text/plain": [
       "                event_name       device_id_hash     event_timestamp  exp_id  \\\n",
       "0         MainScreenAppear  4575588528974610257 2019-07-25 04:43:36     246   \n",
       "1         MainScreenAppear  7416695313311560658 2019-07-25 11:11:42     246   \n",
       "2  PaymentScreenSuccessful  3518123091307005509 2019-07-25 11:28:47     248   \n",
       "3         CartScreenAppear  3518123091307005509 2019-07-25 11:28:47     248   \n",
       "4  PaymentScreenSuccessful  6217807653094995999 2019-07-25 11:48:42     248   \n",
       "\n",
       "   event_date  \n",
       "0  2019-07-25  \n",
       "1  2019-07-25  \n",
       "2  2019-07-25  \n",
       "3  2019-07-25  \n",
       "4  2019-07-25  "
      ]
     },
     "execution_count": 5,
     "metadata": {},
     "output_type": "execute_result"
    }
   ],
   "source": [
    "data['event_timestamp'] = pd.to_datetime(data['event_timestamp'], unit='s')\n",
    "data['event_date'] = pd.to_datetime(data['event_timestamp']).dt.date\n",
    "#data['event_date'] = pd.to_datetime(data['event_date'])\n",
    "\n",
    "data.head()"
   ]
  },
  {
   "cell_type": "markdown",
   "id": "86ad4fad",
   "metadata": {},
   "source": [
    "## Выводы предобработки"
   ]
  },
  {
   "cell_type": "markdown",
   "id": "1bc7f146",
   "metadata": {},
   "source": [
    "Мы заменили названия столбцов на удобные, проверили пропуски и типы данных. Откорректировали и добавили столбец даты и времени, а также добавили отдельный столбец дат."
   ]
  },
  {
   "cell_type": "markdown",
   "id": "c8985b78",
   "metadata": {},
   "source": [
    "# Изучение и проверка данных"
   ]
  },
  {
   "cell_type": "markdown",
   "id": "761f2986",
   "metadata": {},
   "source": [
    "Посмотрим сколько всего событий в логе."
   ]
  },
  {
   "cell_type": "code",
   "execution_count": 6,
   "id": "77dfb97a",
   "metadata": {},
   "outputs": [
    {
     "name": "stdout",
     "output_type": "stream",
     "text": [
      "Всего различных событий в логе: 5\n"
     ]
    },
    {
     "data": {
      "text/html": [
       "<div>\n",
       "<style scoped>\n",
       "    .dataframe tbody tr th:only-of-type {\n",
       "        vertical-align: middle;\n",
       "    }\n",
       "\n",
       "    .dataframe tbody tr th {\n",
       "        vertical-align: top;\n",
       "    }\n",
       "\n",
       "    .dataframe thead th {\n",
       "        text-align: right;\n",
       "    }\n",
       "</style>\n",
       "<table border=\"1\" class=\"dataframe\">\n",
       "  <thead>\n",
       "    <tr style=\"text-align: right;\">\n",
       "      <th></th>\n",
       "      <th>device_id_hash</th>\n",
       "    </tr>\n",
       "    <tr>\n",
       "      <th>event_name</th>\n",
       "      <th></th>\n",
       "    </tr>\n",
       "  </thead>\n",
       "  <tbody>\n",
       "    <tr>\n",
       "      <th>MainScreenAppear</th>\n",
       "      <td>119205</td>\n",
       "    </tr>\n",
       "    <tr>\n",
       "      <th>OffersScreenAppear</th>\n",
       "      <td>46825</td>\n",
       "    </tr>\n",
       "    <tr>\n",
       "      <th>CartScreenAppear</th>\n",
       "      <td>42731</td>\n",
       "    </tr>\n",
       "    <tr>\n",
       "      <th>PaymentScreenSuccessful</th>\n",
       "      <td>34313</td>\n",
       "    </tr>\n",
       "    <tr>\n",
       "      <th>Tutorial</th>\n",
       "      <td>1052</td>\n",
       "    </tr>\n",
       "  </tbody>\n",
       "</table>\n",
       "</div>"
      ],
      "text/plain": [
       "                         device_id_hash\n",
       "event_name                             \n",
       "MainScreenAppear                 119205\n",
       "OffersScreenAppear                46825\n",
       "CartScreenAppear                  42731\n",
       "PaymentScreenSuccessful           34313\n",
       "Tutorial                           1052"
      ]
     },
     "execution_count": 6,
     "metadata": {},
     "output_type": "execute_result"
    }
   ],
   "source": [
    "print('Всего различных событий в логе:', data['event_name'].nunique())\n",
    "data_sob = data.groupby('event_name').agg({\n",
    "    'device_id_hash': 'count'\n",
    "}).sort_values(by= 'device_id_hash', ascending=False)\n",
    "data_sob"
   ]
  },
  {
   "cell_type": "markdown",
   "id": "214602ce",
   "metadata": {},
   "source": [
    "Посмотрим сколько всего пользователей в логе."
   ]
  },
  {
   "cell_type": "code",
   "execution_count": 7,
   "id": "07b414e0",
   "metadata": {
    "scrolled": true
   },
   "outputs": [
    {
     "name": "stdout",
     "output_type": "stream",
     "text": [
      "Всего пользователей в логе: 7551\n"
     ]
    }
   ],
   "source": [
    "print('Всего пользователей в логе:', data['device_id_hash'].nunique())"
   ]
  },
  {
   "cell_type": "markdown",
   "id": "3cd5eab8",
   "metadata": {},
   "source": [
    "Посмотрим сколько в среднем событий приходится на пользователя."
   ]
  },
  {
   "cell_type": "code",
   "execution_count": 8,
   "id": "9398c2f7",
   "metadata": {},
   "outputs": [
    {
     "data": {
      "text/html": [
       "<div>\n",
       "<style scoped>\n",
       "    .dataframe tbody tr th:only-of-type {\n",
       "        vertical-align: middle;\n",
       "    }\n",
       "\n",
       "    .dataframe tbody tr th {\n",
       "        vertical-align: top;\n",
       "    }\n",
       "\n",
       "    .dataframe thead th {\n",
       "        text-align: right;\n",
       "    }\n",
       "</style>\n",
       "<table border=\"1\" class=\"dataframe\">\n",
       "  <thead>\n",
       "    <tr style=\"text-align: right;\">\n",
       "      <th></th>\n",
       "      <th>event_name</th>\n",
       "    </tr>\n",
       "  </thead>\n",
       "  <tbody>\n",
       "    <tr>\n",
       "      <th>count</th>\n",
       "      <td>7,551.00</td>\n",
       "    </tr>\n",
       "    <tr>\n",
       "      <th>mean</th>\n",
       "      <td>32.33</td>\n",
       "    </tr>\n",
       "    <tr>\n",
       "      <th>std</th>\n",
       "      <td>65.31</td>\n",
       "    </tr>\n",
       "    <tr>\n",
       "      <th>min</th>\n",
       "      <td>1.00</td>\n",
       "    </tr>\n",
       "    <tr>\n",
       "      <th>25%</th>\n",
       "      <td>9.00</td>\n",
       "    </tr>\n",
       "    <tr>\n",
       "      <th>50%</th>\n",
       "      <td>20.00</td>\n",
       "    </tr>\n",
       "    <tr>\n",
       "      <th>75%</th>\n",
       "      <td>37.50</td>\n",
       "    </tr>\n",
       "    <tr>\n",
       "      <th>max</th>\n",
       "      <td>2,308.00</td>\n",
       "    </tr>\n",
       "  </tbody>\n",
       "</table>\n",
       "</div>"
      ],
      "text/plain": [
       "       event_name\n",
       "count    7,551.00\n",
       "mean        32.33\n",
       "std         65.31\n",
       "min          1.00\n",
       "25%          9.00\n",
       "50%         20.00\n",
       "75%         37.50\n",
       "max      2,308.00"
      ]
     },
     "execution_count": 8,
     "metadata": {},
     "output_type": "execute_result"
    }
   ],
   "source": [
    "data_pivot = data.pivot_table(values='event_name',\n",
    "                              index='device_id_hash', aggfunc='count')\n",
    "data_pivot.describe()"
   ]
  },
  {
   "cell_type": "markdown",
   "id": "84b3f88e",
   "metadata": {},
   "source": [
    "В среденем на пользователя приходится 32 события. Минимально одно событие на пользователя, а медианное значение 20 событий. Посмотрим, данными за какой период мы располагаем."
   ]
  },
  {
   "cell_type": "code",
   "execution_count": 9,
   "id": "e51ad31e",
   "metadata": {},
   "outputs": [
    {
     "name": "stdout",
     "output_type": "stream",
     "text": [
      "Начало периода 2019-07-25\n",
      "Конец периода 2019-08-07\n"
     ]
    }
   ],
   "source": [
    "print('Начало периода', data['event_date'].min())\n",
    "print('Конец периода', data['event_date'].max())"
   ]
  },
  {
   "cell_type": "markdown",
   "id": "3d0952af",
   "metadata": {},
   "source": [
    "То есть у нас есть данные за две недели. Построим гистограмму по дате и времени."
   ]
  },
  {
   "cell_type": "code",
   "execution_count": 10,
   "id": "ee4bab2f",
   "metadata": {},
   "outputs": [
    {
     "data": {
      "text/plain": [
       "(Text(0.5, 0, 'Дата'),\n",
       " Text(0, 0.5, 'Число событий'),\n",
       " Text(0.5, 1.0, 'Распределений событий по времени'))"
      ]
     },
     "execution_count": 10,
     "metadata": {},
     "output_type": "execute_result"
    },
    {
     "data": {
      "image/png": "[encoded data removed]",
      "text/plain": [
       "<Figure size 1080x360 with 1 Axes>"
      ]
     },
     "metadata": {
      "needs_background": "light"
     },
     "output_type": "display_data"
    }
   ],
   "source": [
    "data.groupby('event_date').agg({'event_name': 'count'}).plot(kind='bar', figsize=(15,5))\n",
    "plt.xlabel('Дата'), plt.ylabel('Число событий'), plt.title('Распределений событий по времени')"
   ]
  },
  {
   "cell_type": "markdown",
   "id": "513c431d",
   "metadata": {},
   "source": [
    "Можно увидеть, что у нас данные только за одну неделю с первого августа. Поэтому возьмем срез данных только за вторую неделю из двух. Такое возможно, так как технически в логи новых дней по некоторым пользователям могут «доезжать» события из прошлого — это может «перекашивать данные». Откуда берутся события из прошлого - события обычно шлются в систему с клиентских устройств (с мобильных телефонов, например). Иногда, когда устройство не в сети, оно может накапливать события и слать позже при входе в сеть. При этом момент времени, когда событие случилось и когда оно принято сервером могут сильно различаться. Для любого события хранятся, как правило, два поля с датой-временем - время отправки и время приема. В нашей задаче, скорее всего, данные выгрузили по времени приема, а не по времени отправки, но в датасете оставили только время отправки."
   ]
  },
  {
   "cell_type": "code",
   "execution_count": 11,
   "id": "0cd73f9e",
   "metadata": {
    "scrolled": false
   },
   "outputs": [
    {
     "name": "stdout",
     "output_type": "stream",
     "text": [
      "<class 'pandas.core.frame.DataFrame'>\n",
      "Int64Index: 241298 entries, 2828 to 244125\n",
      "Data columns (total 5 columns):\n",
      " #   Column           Non-Null Count   Dtype         \n",
      "---  ------           --------------   -----         \n",
      " 0   event_name       241298 non-null  object        \n",
      " 1   device_id_hash   241298 non-null  int64         \n",
      " 2   event_timestamp  241298 non-null  datetime64[ns]\n",
      " 3   exp_id           241298 non-null  int64         \n",
      " 4   event_date       241298 non-null  datetime64[ns]\n",
      "dtypes: datetime64[ns](2), int64(2), object(1)\n",
      "memory usage: 11.0+ MB\n"
     ]
    }
   ],
   "source": [
    "data['event_date'] = pd.to_datetime(data['event_date'])\n",
    "data_new = data.query('event_date >= \"2019-08-01\"')\n",
    "data_new.info()"
   ]
  },
  {
   "cell_type": "markdown",
   "id": "c06e70d5",
   "metadata": {},
   "source": [
    "Посмотрим, сколько строк потеряли при срезе:"
   ]
  },
  {
   "cell_type": "code",
   "execution_count": 12,
   "id": "c79dddab",
   "metadata": {},
   "outputs": [
    {
     "name": "stdout",
     "output_type": "stream",
     "text": [
      "Потеряли строк: 2828\n",
      "Потеряли долю от всех: 0.011584181938834865\n"
     ]
    },
    {
     "data": {
      "text/html": [
       "<div>\n",
       "<style scoped>\n",
       "    .dataframe tbody tr th:only-of-type {\n",
       "        vertical-align: middle;\n",
       "    }\n",
       "\n",
       "    .dataframe tbody tr th {\n",
       "        vertical-align: top;\n",
       "    }\n",
       "\n",
       "    .dataframe thead th {\n",
       "        text-align: right;\n",
       "    }\n",
       "</style>\n",
       "<table border=\"1\" class=\"dataframe\">\n",
       "  <thead>\n",
       "    <tr style=\"text-align: right;\">\n",
       "      <th></th>\n",
       "      <th>device_id_hash</th>\n",
       "      <th>% потерь</th>\n",
       "    </tr>\n",
       "    <tr>\n",
       "      <th>event_name</th>\n",
       "      <th></th>\n",
       "      <th></th>\n",
       "    </tr>\n",
       "  </thead>\n",
       "  <tbody>\n",
       "    <tr>\n",
       "      <th>MainScreenAppear</th>\n",
       "      <td>117431</td>\n",
       "      <td>0.01</td>\n",
       "    </tr>\n",
       "    <tr>\n",
       "      <th>OffersScreenAppear</th>\n",
       "      <td>46350</td>\n",
       "      <td>0.01</td>\n",
       "    </tr>\n",
       "    <tr>\n",
       "      <th>CartScreenAppear</th>\n",
       "      <td>42365</td>\n",
       "      <td>0.01</td>\n",
       "    </tr>\n",
       "    <tr>\n",
       "      <th>PaymentScreenSuccessful</th>\n",
       "      <td>34113</td>\n",
       "      <td>0.01</td>\n",
       "    </tr>\n",
       "    <tr>\n",
       "      <th>Tutorial</th>\n",
       "      <td>1039</td>\n",
       "      <td>0.01</td>\n",
       "    </tr>\n",
       "  </tbody>\n",
       "</table>\n",
       "</div>"
      ],
      "text/plain": [
       "                         device_id_hash  % потерь\n",
       "event_name                                       \n",
       "MainScreenAppear                 117431      0.01\n",
       "OffersScreenAppear                46350      0.01\n",
       "CartScreenAppear                  42365      0.01\n",
       "PaymentScreenSuccessful           34113      0.01\n",
       "Tutorial                           1039      0.01"
      ]
     },
     "execution_count": 12,
     "metadata": {},
     "output_type": "execute_result"
    }
   ],
   "source": [
    "print('Потеряли строк:', len(data['event_date']) - len(data_new['event_date']))\n",
    "print('Потеряли долю от всех:', (len(data['event_date']) - len(data_new['event_date']))/len(data['event_date']))\n",
    "data_new_sob = data_new.groupby('event_name').agg({\n",
    "    'device_id_hash': 'count'\n",
    "}).sort_values(by= 'device_id_hash', ascending=False)\n",
    "data_new_sob['% потерь'] = (data_sob['device_id_hash'] - data_new_sob['device_id_hash'])\\\n",
    "/data_sob['device_id_hash']\n",
    "data_new_sob"
   ]
  },
  {
   "cell_type": "markdown",
   "id": "1414cb8b",
   "metadata": {},
   "source": [
    "В целом мы потеряли только один процент данных при срезе и по каждому событию тоже без перекосов, везде по одному проценту. Проверим, что у нас есть пользователи из всех трёх экспериментальных групп."
   ]
  },
  {
   "cell_type": "code",
   "execution_count": 13,
   "id": "18575358",
   "metadata": {},
   "outputs": [
    {
     "data": {
      "text/html": [
       "<div>\n",
       "<style scoped>\n",
       "    .dataframe tbody tr th:only-of-type {\n",
       "        vertical-align: middle;\n",
       "    }\n",
       "\n",
       "    .dataframe tbody tr th {\n",
       "        vertical-align: top;\n",
       "    }\n",
       "\n",
       "    .dataframe thead th {\n",
       "        text-align: right;\n",
       "    }\n",
       "</style>\n",
       "<table border=\"1\" class=\"dataframe\">\n",
       "  <thead>\n",
       "    <tr style=\"text-align: right;\">\n",
       "      <th></th>\n",
       "      <th>device_id_hash</th>\n",
       "    </tr>\n",
       "    <tr>\n",
       "      <th>exp_id</th>\n",
       "      <th></th>\n",
       "    </tr>\n",
       "  </thead>\n",
       "  <tbody>\n",
       "    <tr>\n",
       "      <th>248</th>\n",
       "      <td>84726</td>\n",
       "    </tr>\n",
       "    <tr>\n",
       "      <th>246</th>\n",
       "      <td>79425</td>\n",
       "    </tr>\n",
       "    <tr>\n",
       "      <th>247</th>\n",
       "      <td>77147</td>\n",
       "    </tr>\n",
       "  </tbody>\n",
       "</table>\n",
       "</div>"
      ],
      "text/plain": [
       "        device_id_hash\n",
       "exp_id                \n",
       "248              84726\n",
       "246              79425\n",
       "247              77147"
      ]
     },
     "execution_count": 13,
     "metadata": {},
     "output_type": "execute_result"
    }
   ],
   "source": [
    "data_new.groupby('exp_id').agg({\n",
    "    'device_id_hash': 'count'\n",
    "}).sort_values(by= 'device_id_hash', ascending=False)"
   ]
  },
  {
   "cell_type": "markdown",
   "id": "2e588aad",
   "metadata": {},
   "source": [
    "Таким образом, у нас есть пользователи из всех трех экспериментальных групп."
   ]
  },
  {
   "cell_type": "markdown",
   "id": "2d9dc0e4",
   "metadata": {},
   "source": [
    "## Выводы изучения и проверки данных\n",
    "\n",
    "Мы посмотрели, данными за какой период мы располагаем(2 недели). Нашли максимальную и минимальную дату и построили гистограмму по дате и времени. Определили, с какого момента данные полные и отбросили более старые. Оказалось, что на самом деле мы располагаем данными за одну неделю, а также проверили, что у нас есть пользователи из всех трёх экспериментальных групп. Приступим к изучению воронки событий."
   ]
  },
  {
   "cell_type": "markdown",
   "id": "4f17f332",
   "metadata": {},
   "source": [
    "# Изучение воронки событий"
   ]
  },
  {
   "cell_type": "markdown",
   "id": "efe05ea9",
   "metadata": {},
   "source": [
    "Посмотрим, какие события есть в логах, как часто они встречаются, отсортируем события по частоте и посчитаем, сколько пользователей совершали каждое из этих событий. Потом отсортируем события по числу пользователей и посчитаем долю пользователей, которые хоть раз совершали событие."
   ]
  },
  {
   "cell_type": "code",
   "execution_count": 14,
   "id": "08489f0a",
   "metadata": {},
   "outputs": [
    {
     "data": {
      "text/html": [
       "<div>\n",
       "<style scoped>\n",
       "    .dataframe tbody tr th:only-of-type {\n",
       "        vertical-align: middle;\n",
       "    }\n",
       "\n",
       "    .dataframe tbody tr th {\n",
       "        vertical-align: top;\n",
       "    }\n",
       "\n",
       "    .dataframe thead th {\n",
       "        text-align: right;\n",
       "    }\n",
       "</style>\n",
       "<table border=\"1\" class=\"dataframe\">\n",
       "  <thead>\n",
       "    <tr style=\"text-align: right;\">\n",
       "      <th></th>\n",
       "      <th>кол-во</th>\n",
       "      <th>уникальные</th>\n",
       "      <th>% уникальных от всех уникальных</th>\n",
       "    </tr>\n",
       "    <tr>\n",
       "      <th>event_name</th>\n",
       "      <th></th>\n",
       "      <th></th>\n",
       "      <th></th>\n",
       "    </tr>\n",
       "  </thead>\n",
       "  <tbody>\n",
       "    <tr>\n",
       "      <th>MainScreenAppear</th>\n",
       "      <td>117431</td>\n",
       "      <td>7419</td>\n",
       "      <td>0.98</td>\n",
       "    </tr>\n",
       "    <tr>\n",
       "      <th>OffersScreenAppear</th>\n",
       "      <td>46350</td>\n",
       "      <td>4593</td>\n",
       "      <td>0.61</td>\n",
       "    </tr>\n",
       "    <tr>\n",
       "      <th>CartScreenAppear</th>\n",
       "      <td>42365</td>\n",
       "      <td>3734</td>\n",
       "      <td>0.50</td>\n",
       "    </tr>\n",
       "    <tr>\n",
       "      <th>PaymentScreenSuccessful</th>\n",
       "      <td>34113</td>\n",
       "      <td>3539</td>\n",
       "      <td>0.47</td>\n",
       "    </tr>\n",
       "    <tr>\n",
       "      <th>Tutorial</th>\n",
       "      <td>1039</td>\n",
       "      <td>840</td>\n",
       "      <td>0.11</td>\n",
       "    </tr>\n",
       "  </tbody>\n",
       "</table>\n",
       "</div>"
      ],
      "text/plain": [
       "                         кол-во  уникальные  % уникальных от всех уникальных\n",
       "event_name                                                                  \n",
       "MainScreenAppear         117431        7419                             0.98\n",
       "OffersScreenAppear        46350        4593                             0.61\n",
       "CartScreenAppear          42365        3734                             0.50\n",
       "PaymentScreenSuccessful   34113        3539                             0.47\n",
       "Tutorial                   1039         840                             0.11"
      ]
     },
     "execution_count": 14,
     "metadata": {},
     "output_type": "execute_result"
    }
   ],
   "source": [
    "voronka = data_new.groupby('event_name').agg({\n",
    "    'event_date': 'count',\n",
    "    'device_id_hash': 'nunique'\n",
    "}).sort_values(by='device_id_hash', ascending=False)\n",
    "voronka['% уникальных от всех уникальных'] = voronka['device_id_hash']/data_new['device_id_hash'].nunique()\n",
    "voronka = voronka.rename(columns={'event_date': 'кол-во', 'device_id_hash': 'уникальные'})\n",
    "voronka"
   ]
  },
  {
   "cell_type": "markdown",
   "id": "49bf8ef1",
   "metadata": {},
   "source": [
    "Судя про тому, что даже на первом этапе не 100%, то пользователь не обязан пройти по всем этапам для того, чтобы купить товар, то есть этапы воронки не являются обязательными. Возможно он может по прямой ссылке попадать сразу к товару и т.д. Можно сделать предположение, что события выстраиваются в последовательности MainScreenAppear(главный экран) → OffersScreenAppear(появление предложений) → CartScreenAppear(корзина) → PaymentScreenSuccessful(успешный платеж). Туториал - это обучалка в приложении. Обычно ее показывают самым новым пользователям. Думаю, что это событие не имеет отношения к воронке покупок, поэтому можно его исключить из нашей воронки."
   ]
  },
  {
   "cell_type": "code",
   "execution_count": 15,
   "id": "d1d41950",
   "metadata": {},
   "outputs": [
    {
     "data": {
      "text/html": [
       "<div>\n",
       "<style scoped>\n",
       "    .dataframe tbody tr th:only-of-type {\n",
       "        vertical-align: middle;\n",
       "    }\n",
       "\n",
       "    .dataframe tbody tr th {\n",
       "        vertical-align: top;\n",
       "    }\n",
       "\n",
       "    .dataframe thead th {\n",
       "        text-align: right;\n",
       "    }\n",
       "</style>\n",
       "<table border=\"1\" class=\"dataframe\">\n",
       "  <thead>\n",
       "    <tr style=\"text-align: right;\">\n",
       "      <th></th>\n",
       "      <th>кол-во</th>\n",
       "      <th>уникальные</th>\n",
       "      <th>% уникальных от всех уникальных</th>\n",
       "    </tr>\n",
       "    <tr>\n",
       "      <th>event_name</th>\n",
       "      <th></th>\n",
       "      <th></th>\n",
       "      <th></th>\n",
       "    </tr>\n",
       "  </thead>\n",
       "  <tbody>\n",
       "    <tr>\n",
       "      <th>MainScreenAppear</th>\n",
       "      <td>117431</td>\n",
       "      <td>7419</td>\n",
       "      <td>0.98</td>\n",
       "    </tr>\n",
       "    <tr>\n",
       "      <th>OffersScreenAppear</th>\n",
       "      <td>46350</td>\n",
       "      <td>4593</td>\n",
       "      <td>0.61</td>\n",
       "    </tr>\n",
       "    <tr>\n",
       "      <th>CartScreenAppear</th>\n",
       "      <td>42365</td>\n",
       "      <td>3734</td>\n",
       "      <td>0.50</td>\n",
       "    </tr>\n",
       "    <tr>\n",
       "      <th>PaymentScreenSuccessful</th>\n",
       "      <td>34113</td>\n",
       "      <td>3539</td>\n",
       "      <td>0.47</td>\n",
       "    </tr>\n",
       "  </tbody>\n",
       "</table>\n",
       "</div>"
      ],
      "text/plain": [
       "                         кол-во  уникальные  % уникальных от всех уникальных\n",
       "event_name                                                                  \n",
       "MainScreenAppear         117431        7419                             0.98\n",
       "OffersScreenAppear        46350        4593                             0.61\n",
       "CartScreenAppear          42365        3734                             0.50\n",
       "PaymentScreenSuccessful   34113        3539                             0.47"
      ]
     },
     "execution_count": 15,
     "metadata": {},
     "output_type": "execute_result"
    }
   ],
   "source": [
    "voronka = voronka.query('event_name != \"Tutorial\"')\n",
    "voronka"
   ]
  },
  {
   "cell_type": "markdown",
   "id": "1e14d795",
   "metadata": {},
   "source": [
    "По воронке событий посчитаем, какая доля пользователей проходит на следующий шаг воронки (от числа пользователей на предыдущем). \n",
    "Посмотрим на каком шаге теряем больше всего пользователей и какая доля пользователей доходит от первого события до оплаты."
   ]
  },
  {
   "cell_type": "code",
   "execution_count": 16,
   "id": "56c007aa",
   "metadata": {
    "scrolled": false
   },
   "outputs": [
    {
     "data": {
      "text/html": [
       "<div>\n",
       "<style scoped>\n",
       "    .dataframe tbody tr th:only-of-type {\n",
       "        vertical-align: middle;\n",
       "    }\n",
       "\n",
       "    .dataframe tbody tr th {\n",
       "        vertical-align: top;\n",
       "    }\n",
       "\n",
       "    .dataframe thead th {\n",
       "        text-align: right;\n",
       "    }\n",
       "</style>\n",
       "<table border=\"1\" class=\"dataframe\">\n",
       "  <thead>\n",
       "    <tr style=\"text-align: right;\">\n",
       "      <th></th>\n",
       "      <th>кол-во</th>\n",
       "      <th>уникальные</th>\n",
       "      <th>% уникальных от всех уникальных</th>\n",
       "      <th>conv</th>\n",
       "      <th>prev_step</th>\n",
       "      <th>step_conv</th>\n",
       "    </tr>\n",
       "    <tr>\n",
       "      <th>event_name</th>\n",
       "      <th></th>\n",
       "      <th></th>\n",
       "      <th></th>\n",
       "      <th></th>\n",
       "      <th></th>\n",
       "      <th></th>\n",
       "    </tr>\n",
       "  </thead>\n",
       "  <tbody>\n",
       "    <tr>\n",
       "      <th>MainScreenAppear</th>\n",
       "      <td>117431</td>\n",
       "      <td>7419</td>\n",
       "      <td>0.98</td>\n",
       "      <td>1.00</td>\n",
       "      <td>NaN</td>\n",
       "      <td>NaN</td>\n",
       "    </tr>\n",
       "    <tr>\n",
       "      <th>OffersScreenAppear</th>\n",
       "      <td>46350</td>\n",
       "      <td>4593</td>\n",
       "      <td>0.61</td>\n",
       "      <td>0.62</td>\n",
       "      <td>7,419.00</td>\n",
       "      <td>0.62</td>\n",
       "    </tr>\n",
       "    <tr>\n",
       "      <th>CartScreenAppear</th>\n",
       "      <td>42365</td>\n",
       "      <td>3734</td>\n",
       "      <td>0.50</td>\n",
       "      <td>0.50</td>\n",
       "      <td>4,593.00</td>\n",
       "      <td>0.81</td>\n",
       "    </tr>\n",
       "    <tr>\n",
       "      <th>PaymentScreenSuccessful</th>\n",
       "      <td>34113</td>\n",
       "      <td>3539</td>\n",
       "      <td>0.47</td>\n",
       "      <td>0.48</td>\n",
       "      <td>3,734.00</td>\n",
       "      <td>0.95</td>\n",
       "    </tr>\n",
       "  </tbody>\n",
       "</table>\n",
       "</div>"
      ],
      "text/plain": [
       "                         кол-во  уникальные  % уникальных от всех уникальных  \\\n",
       "event_name                                                                     \n",
       "MainScreenAppear         117431        7419                             0.98   \n",
       "OffersScreenAppear        46350        4593                             0.61   \n",
       "CartScreenAppear          42365        3734                             0.50   \n",
       "PaymentScreenSuccessful   34113        3539                             0.47   \n",
       "\n",
       "                         conv  prev_step  step_conv  \n",
       "event_name                                           \n",
       "MainScreenAppear         1.00        NaN        NaN  \n",
       "OffersScreenAppear       0.62   7,419.00       0.62  \n",
       "CartScreenAppear         0.50   4,593.00       0.81  \n",
       "PaymentScreenSuccessful  0.48   3,734.00       0.95  "
      ]
     },
     "execution_count": 16,
     "metadata": {},
     "output_type": "execute_result"
    }
   ],
   "source": [
    "voronka['conv'] = voronka['уникальные']/voronka['уникальные'].values[0]\n",
    "voronka['prev_step'] = voronka['уникальные'].shift()\n",
    "voronka['step_conv'] = voronka['уникальные']/voronka['prev_step']#конверсия в следующий шаг\n",
    "voronka"
   ]
  },
  {
   "cell_type": "markdown",
   "id": "1649f76c",
   "metadata": {},
   "source": [
    "На мой взгляд относительные воронки - это зло. Потому, что в них неуклонно снижается на каждом шаге число наблюдений и, следовательно, адекватность оценки % прохождения на следующий шаг. Поэтому я построил конверсию в шаг. По ней видно, что больше всего не переходящих дальше пользователей с первого на второй шаг(MainScreenAppear(главный экран) → OffersScreenAppear(появление предложений)). По абсолютной воронке видно, что почти половина пользователей доходит от первого события до оплаты."
   ]
  },
  {
   "cell_type": "markdown",
   "id": "281cdc45",
   "metadata": {},
   "source": [
    "## Выводы изучения воронки событий\n",
    "\n",
    "Мы посмотрели, какие события есть в логах, как часто они встречаются, отсортировали события по частоте. Посчитали, сколько пользователей совершали каждое из этих событий, отсортировали события по числу пользователей и посчитали долю пользователей, которые хоть раз совершали событие. Предположили, в каком порядке происходят события. Решили убрать \"туториал\" из воронки.\n",
    "По воронке событий посчитали, какая доля пользователей проходит на следующий шаг воронки (от числа пользователей на предыдущем). \n",
    "Определили, на каком шаге теряли больше всего пользователей и какая доля пользователей доходит от первого события до оплаты."
   ]
  },
  {
   "cell_type": "markdown",
   "id": "daf54cc7",
   "metadata": {},
   "source": [
    "#  Изучение результатов эксперимента"
   ]
  },
  {
   "cell_type": "markdown",
   "id": "cc2c0a60",
   "metadata": {},
   "source": [
    "Посмотрим сколько пользователей в каждой экспериментальной группе и проверим, находят ли статистические критерии разницу между выборками 246 и 247.\n",
    "\n",
    "Критерии успешного A/A-теста:\n",
    "- Количество пользователей в различных группах различается не более, чем на 1%;\n",
    "- Для всех групп фиксируют и отправляют в системы аналитики данные об одном и том же;\n",
    "- Различие ключевых метрик по группам не превышает 1% и не имеет статистической значимости;\n",
    "- Попавший в одну из групп посетитель остаётся в этой группе до конца теста. Если пользователь видит разные версии исследуемой страницы в ходе одного исследования, неизвестно, какая именно повлияла на его решения. Значит, и результаты такого теста нельзя интерпретировать однозначно.\n",
    "\n",
    "Таким образом, сформулируем гипотезы Н0: Нет статистически значимых различий в доле пользователей, совершивших событие Х.\n",
    "H1: Есть статистически значимые различия в доле пользователей, совершивших событие Х\n",
    "Проверим, встречаются ли пользователи в разных контрольных группах."
   ]
  },
  {
   "cell_type": "code",
   "execution_count": 18,
   "id": "e30448e8",
   "metadata": {},
   "outputs": [
    {
     "name": "stdout",
     "output_type": "stream",
     "text": [
      "Пересечение пользователей в группах 246 и 247: 0\n",
      "Пересечение пользователей в группах 248 и 247: 0\n",
      "Пересечение пользователей в группах 246 и 248: 0\n"
     ]
    }
   ],
   "source": [
    "data_246 = data_new.query('exp_id == 246')\n",
    "data_247 = data_new.query('exp_id == 247')\n",
    "data_248 = data_new.query('exp_id == 248')\n",
    "# проверка на пересечение пользователей\n",
    "print('Пересечение пользователей в группах 246 и 247:', len(np.intersect1d(\n",
    "    data_246['device_id_hash'].unique(), data_247['device_id_hash'].unique())))\n",
    "print('Пересечение пользователей в группах 248 и 247:', len(np.intersect1d(\n",
    "    data_248['device_id_hash'].unique(), data_247['device_id_hash'].unique())))\n",
    "print('Пересечение пользователей в группах 246 и 248:', len(np.intersect1d(\n",
    "    data_246['device_id_hash'].unique(), data_248['device_id_hash'].unique())))"
   ]
  },
  {
   "cell_type": "code",
   "execution_count": 19,
   "id": "7db884e4",
   "metadata": {},
   "outputs": [
    {
     "data": {
      "text/html": [
       "<div>\n",
       "<style scoped>\n",
       "    .dataframe tbody tr th:only-of-type {\n",
       "        vertical-align: middle;\n",
       "    }\n",
       "\n",
       "    .dataframe tbody tr th {\n",
       "        vertical-align: top;\n",
       "    }\n",
       "\n",
       "    .dataframe thead th {\n",
       "        text-align: right;\n",
       "    }\n",
       "</style>\n",
       "<table border=\"1\" class=\"dataframe\">\n",
       "  <thead>\n",
       "    <tr style=\"text-align: right;\">\n",
       "      <th></th>\n",
       "      <th>device_id_hash</th>\n",
       "    </tr>\n",
       "    <tr>\n",
       "      <th>exp_id</th>\n",
       "      <th></th>\n",
       "    </tr>\n",
       "  </thead>\n",
       "  <tbody>\n",
       "    <tr>\n",
       "      <th>246</th>\n",
       "      <td>2484</td>\n",
       "    </tr>\n",
       "    <tr>\n",
       "      <th>247</th>\n",
       "      <td>2513</td>\n",
       "    </tr>\n",
       "    <tr>\n",
       "      <th>248</th>\n",
       "      <td>2537</td>\n",
       "    </tr>\n",
       "  </tbody>\n",
       "</table>\n",
       "</div>"
      ],
      "text/plain": [
       "        device_id_hash\n",
       "exp_id                \n",
       "246               2484\n",
       "247               2513\n",
       "248               2537"
      ]
     },
     "metadata": {},
     "output_type": "display_data"
    },
    {
     "data": {
      "text/html": [
       "<div>\n",
       "<style scoped>\n",
       "    .dataframe tbody tr th:only-of-type {\n",
       "        vertical-align: middle;\n",
       "    }\n",
       "\n",
       "    .dataframe tbody tr th {\n",
       "        vertical-align: top;\n",
       "    }\n",
       "\n",
       "    .dataframe thead th {\n",
       "        text-align: right;\n",
       "    }\n",
       "</style>\n",
       "<table border=\"1\" class=\"dataframe\">\n",
       "  <thead>\n",
       "    <tr style=\"text-align: right;\">\n",
       "      <th>exp_id</th>\n",
       "      <th>246</th>\n",
       "      <th>247</th>\n",
       "      <th>248</th>\n",
       "    </tr>\n",
       "    <tr>\n",
       "      <th>event_name</th>\n",
       "      <th></th>\n",
       "      <th></th>\n",
       "      <th></th>\n",
       "    </tr>\n",
       "  </thead>\n",
       "  <tbody>\n",
       "    <tr>\n",
       "      <th>CartScreenAppear</th>\n",
       "      <td>1266</td>\n",
       "      <td>1238</td>\n",
       "      <td>1230</td>\n",
       "    </tr>\n",
       "    <tr>\n",
       "      <th>MainScreenAppear</th>\n",
       "      <td>2450</td>\n",
       "      <td>2476</td>\n",
       "      <td>2493</td>\n",
       "    </tr>\n",
       "    <tr>\n",
       "      <th>OffersScreenAppear</th>\n",
       "      <td>1542</td>\n",
       "      <td>1520</td>\n",
       "      <td>1531</td>\n",
       "    </tr>\n",
       "    <tr>\n",
       "      <th>PaymentScreenSuccessful</th>\n",
       "      <td>1200</td>\n",
       "      <td>1158</td>\n",
       "      <td>1181</td>\n",
       "    </tr>\n",
       "    <tr>\n",
       "      <th>Tutorial</th>\n",
       "      <td>278</td>\n",
       "      <td>283</td>\n",
       "      <td>279</td>\n",
       "    </tr>\n",
       "  </tbody>\n",
       "</table>\n",
       "</div>"
      ],
      "text/plain": [
       "exp_id                    246   247   248\n",
       "event_name                               \n",
       "CartScreenAppear         1266  1238  1230\n",
       "MainScreenAppear         2450  2476  2493\n",
       "OffersScreenAppear       1542  1520  1531\n",
       "PaymentScreenSuccessful  1200  1158  1181\n",
       "Tutorial                  278   283   279"
      ]
     },
     "execution_count": 19,
     "metadata": {},
     "output_type": "execute_result"
    }
   ],
   "source": [
    "trials = data_new.groupby('exp_id').agg({'device_id_hash': 'nunique'})\n",
    "display(trials)\n",
    "funnel = data_new.pivot_table(index='event_name', columns='exp_id', values='device_id_hash', aggfunc='nunique')\n",
    "funnel"
   ]
  },
  {
   "cell_type": "markdown",
   "id": "574f4384",
   "metadata": {},
   "source": [
    "Посмотрев на группы можно сказать, что размеры групп таковы, что количественно между группами отличие около одного процента. Рзличия между группами минимальны."
   ]
  },
  {
   "cell_type": "code",
   "execution_count": 20,
   "id": "16aafbbe",
   "metadata": {},
   "outputs": [
    {
     "name": "stdout",
     "output_type": "stream",
     "text": [
      "Отличие между группами 246 и 247 по событию MainScreenAppear статистически незначимо, p_value =  0.7570597232046099\n",
      "Отличие между группами 246 и 247 по событию OffersScreenAppear статистически незначимо, p_value =  0.2480954578522181\n",
      "Отличие между группами 246 и 247 по событию CartScreenAppear статистически незначимо, p_value =  0.22883372237997213\n",
      "Отличие между группами 246 и 247 по событию PaymentScreenSuccessful статистически незначимо, p_value =  0.11456679313141849\n"
     ]
    }
   ],
   "source": [
    "def check_hypothesis(successes1, successes2, trials1, trials2):\n",
    "    p1 = successes1/trials1\n",
    "    p2 = successes2/trials2\n",
    "    p_combined = (successes1+successes2)/(trials1+trials2)\n",
    "    difference = p1-p2\n",
    "    # считаем статистику в ст.отклонениях стандартного нормального распределения\n",
    "    z_value = difference / \\\n",
    "        mth.sqrt(p_combined * (1 - p_combined) * (1/trials1 + 1/trials2))\n",
    "    # задаем стандартное нормальное распределение (среднее 0, ст.отклонение 1)\n",
    "    distr = stats.norm(0, 1)\n",
    "    p_value = (1 - distr.cdf(abs(z_value))) * 2\n",
    "    return p_value\n",
    "\n",
    "\n",
    "alpha = 0.01\n",
    "for event in ['MainScreenAppear', 'OffersScreenAppear', 'CartScreenAppear', 'PaymentScreenSuccessful']:\n",
    "    if check_hypothesis(funnel.loc[event, 246], funnel.loc[event, 247],\n",
    "                        trials.loc[246].values[0], trials.loc[247].values[0]) < alpha:\n",
    "        result = 'значимо'\n",
    "    else:\n",
    "        result = 'незначимо'\n",
    "    print(f'Отличие между группами 246 и 247 по событию {event} статистически {result}, p_value = ',\n",
    "          check_hypothesis(funnel.loc[event, 246], funnel.loc[event, 247],\n",
    "                           trials.loc[246].values[0], trials.loc[247].values[0]))"
   ]
  },
  {
   "cell_type": "markdown",
   "id": "4f696a7f",
   "metadata": {},
   "source": [
    "Здесь использовали критерий значимости = 0,01, так как А/А тест применяют там, где степень различия между группами не больше 10%. В таких случаях точность A/A-теста в 1% — распространённый критерий. Таким образом, после проведения А/А теста можно видеть, что нет статистически значимых различий в доле пользователей, совершивших все события в нашей воронке. Теперь посмотрим на результаты сравнения 246 и 248 группы."
   ]
  },
  {
   "cell_type": "markdown",
   "id": "dca834bc",
   "metadata": {},
   "source": [
    "В этом тесте и в следующих использоваю альфа = 0.00427(поправка Шидака), так как тестов у нас будет 3 по 4(А/В, А/В и А+А/В). А теперь посмотрим разницу между группами 247 и 248"
   ]
  },
  {
   "cell_type": "code",
   "execution_count": 21,
   "id": "c116eaf9",
   "metadata": {},
   "outputs": [
    {
     "name": "stdout",
     "output_type": "stream",
     "text": [
      "Отличие между группами 246 и 248 по событию MainScreenAppear статистически незначимо, p_value =  0.2949721933554552\n",
      "Отличие между группами 246 и 248 по событию OffersScreenAppear статистически незначимо, p_value =  0.20836205402738917\n",
      "Отличие между группами 246 и 248 по событию CartScreenAppear статистически незначимо, p_value =  0.07842923237520116\n",
      "Отличие между группами 246 и 248 по событию PaymentScreenSuccessful статистически незначимо, p_value =  0.2122553275697796\n"
     ]
    }
   ],
   "source": [
    "alpha = 0.017\n",
    "for event in ['MainScreenAppear', 'OffersScreenAppear', 'CartScreenAppear', 'PaymentScreenSuccessful']:\n",
    "    if check_hypothesis(funnel.loc[event, 246], funnel.loc[event, 248],\n",
    "                        trials.loc[246].values[0], trials.loc[248].values[0]) < alpha:\n",
    "        result = 'значимо'\n",
    "    else:\n",
    "        result = 'незначимо'\n",
    "    print(f'Отличие между группами 246 и 248 по событию {event} статистически {result}, p_value = ',\n",
    "          check_hypothesis(funnel.loc[event, 246], funnel.loc[event, 248],\n",
    "                           trials.loc[246].values[0], trials.loc[248].values[0]))"
   ]
  },
  {
   "cell_type": "code",
   "execution_count": 22,
   "id": "1f20efe5",
   "metadata": {},
   "outputs": [
    {
     "name": "stdout",
     "output_type": "stream",
     "text": [
      "Отличие между группами 247 и 248 по событию MainScreenAppear статистически незначимо, p_value =  0.4587053616621515\n",
      "Отличие между группами 247 и 248 по событию OffersScreenAppear статистически незначимо, p_value =  0.9197817830592261\n",
      "Отличие между группами 247 и 248 по событию CartScreenAppear статистически незначимо, p_value =  0.5786197879539783\n",
      "Отличие между группами 247 и 248 по событию PaymentScreenSuccessful статистически незначимо, p_value =  0.7373415053803964\n"
     ]
    }
   ],
   "source": [
    "alpha = 0.017\n",
    "for event in ['MainScreenAppear', 'OffersScreenAppear', 'CartScreenAppear', 'PaymentScreenSuccessful']:\n",
    "    if check_hypothesis(funnel.loc[event, 247], funnel.loc[event, 248],\n",
    "                        trials.loc[247].values[0], trials.loc[248].values[0]) < alpha:\n",
    "        result = 'значимо'\n",
    "    else:\n",
    "        result = 'незначимо'\n",
    "    print(f'Отличие между группами 247 и 248 по событию {event} статистически {result}, p_value = ',\n",
    "          check_hypothesis(funnel.loc[event, 247], funnel.loc[event, 248],\n",
    "                           trials.loc[247].values[0], trials.loc[248].values[0]))"
   ]
  },
  {
   "cell_type": "markdown",
   "id": "9e93fbaa",
   "metadata": {},
   "source": [
    "После проведения А/В(группы 246 и 248, группы 247 и 248) теста можно видеть, что нет статистически значимых различий в доле пользователей, совершивших все события в нашей воронке. Теперь сравним результаты с объединённой контрольной группой. Сначала объединим группы и назовем их группу 0."
   ]
  },
  {
   "cell_type": "code",
   "execution_count": 23,
   "id": "9655d51b",
   "metadata": {
    "scrolled": true
   },
   "outputs": [
    {
     "data": {
      "text/html": [
       "<div>\n",
       "<style scoped>\n",
       "    .dataframe tbody tr th:only-of-type {\n",
       "        vertical-align: middle;\n",
       "    }\n",
       "\n",
       "    .dataframe tbody tr th {\n",
       "        vertical-align: top;\n",
       "    }\n",
       "\n",
       "    .dataframe thead th {\n",
       "        text-align: right;\n",
       "    }\n",
       "</style>\n",
       "<table border=\"1\" class=\"dataframe\">\n",
       "  <thead>\n",
       "    <tr style=\"text-align: right;\">\n",
       "      <th></th>\n",
       "      <th>device_id_hash</th>\n",
       "    </tr>\n",
       "    <tr>\n",
       "      <th>exp_id</th>\n",
       "      <th></th>\n",
       "    </tr>\n",
       "  </thead>\n",
       "  <tbody>\n",
       "    <tr>\n",
       "      <th>0</th>\n",
       "      <td>4997</td>\n",
       "    </tr>\n",
       "    <tr>\n",
       "      <th>248</th>\n",
       "      <td>2537</td>\n",
       "    </tr>\n",
       "  </tbody>\n",
       "</table>\n",
       "</div>"
      ],
      "text/plain": [
       "        device_id_hash\n",
       "exp_id                \n",
       "0                 4997\n",
       "248               2537"
      ]
     },
     "metadata": {},
     "output_type": "display_data"
    },
    {
     "data": {
      "text/html": [
       "<div>\n",
       "<style scoped>\n",
       "    .dataframe tbody tr th:only-of-type {\n",
       "        vertical-align: middle;\n",
       "    }\n",
       "\n",
       "    .dataframe tbody tr th {\n",
       "        vertical-align: top;\n",
       "    }\n",
       "\n",
       "    .dataframe thead th {\n",
       "        text-align: right;\n",
       "    }\n",
       "</style>\n",
       "<table border=\"1\" class=\"dataframe\">\n",
       "  <thead>\n",
       "    <tr style=\"text-align: right;\">\n",
       "      <th>exp_id</th>\n",
       "      <th>0</th>\n",
       "      <th>248</th>\n",
       "    </tr>\n",
       "    <tr>\n",
       "      <th>event_name</th>\n",
       "      <th></th>\n",
       "      <th></th>\n",
       "    </tr>\n",
       "  </thead>\n",
       "  <tbody>\n",
       "    <tr>\n",
       "      <th>CartScreenAppear</th>\n",
       "      <td>2504</td>\n",
       "      <td>1230</td>\n",
       "    </tr>\n",
       "    <tr>\n",
       "      <th>MainScreenAppear</th>\n",
       "      <td>4926</td>\n",
       "      <td>2493</td>\n",
       "    </tr>\n",
       "    <tr>\n",
       "      <th>OffersScreenAppear</th>\n",
       "      <td>3062</td>\n",
       "      <td>1531</td>\n",
       "    </tr>\n",
       "    <tr>\n",
       "      <th>PaymentScreenSuccessful</th>\n",
       "      <td>2358</td>\n",
       "      <td>1181</td>\n",
       "    </tr>\n",
       "    <tr>\n",
       "      <th>Tutorial</th>\n",
       "      <td>561</td>\n",
       "      <td>279</td>\n",
       "    </tr>\n",
       "  </tbody>\n",
       "</table>\n",
       "</div>"
      ],
      "text/plain": [
       "exp_id                    0     248\n",
       "event_name                         \n",
       "CartScreenAppear         2504  1230\n",
       "MainScreenAppear         4926  2493\n",
       "OffersScreenAppear       3062  1531\n",
       "PaymentScreenSuccessful  2358  1181\n",
       "Tutorial                  561   279"
      ]
     },
     "execution_count": 23,
     "metadata": {},
     "output_type": "execute_result"
    }
   ],
   "source": [
    "data_new.loc[(data_new.exp_id < 248), ('exp_id')] = 0\n",
    "trials0 = data_new.groupby('exp_id').agg({'device_id_hash': 'nunique'})\n",
    "display(trials0)\n",
    "funnel0 = data_new.pivot_table(index='event_name', columns='exp_id', values='device_id_hash', aggfunc='nunique')\n",
    "funnel0"
   ]
  },
  {
   "cell_type": "markdown",
   "id": "b6d1f73c",
   "metadata": {},
   "source": [
    "Единственное, теперь группы перекошены... Но все равно проверим."
   ]
  },
  {
   "cell_type": "code",
   "execution_count": 24,
   "id": "8f656ce0",
   "metadata": {
    "scrolled": false
   },
   "outputs": [
    {
     "name": "stdout",
     "output_type": "stream",
     "text": [
      "Отличие между группами 0 и 248 по событию MainScreenAppear статистически незначимо, p_value =  0.29424526837179577\n",
      "Отличие между группами 0 и 248 по событию OffersScreenAppear статистически незначимо, p_value =  0.43425549655188256\n",
      "Отличие между группами 0 и 248 по событию CartScreenAppear статистически незначимо, p_value =  0.18175875284404386\n",
      "Отличие между группами 0 и 248 по событию PaymentScreenSuccessful статистически незначимо, p_value =  0.6004294282308704\n"
     ]
    }
   ],
   "source": [
    "alpha = 0.017\n",
    "for event in ['MainScreenAppear', 'OffersScreenAppear', 'CartScreenAppear', 'PaymentScreenSuccessful']:\n",
    "    if check_hypothesis(funnel0.loc[event,0], funnel.loc[event, 248],\n",
    "                        trials0.loc[0].values[0], trials.loc[248].values[0]) < alpha:\n",
    "        result = 'значимо'\n",
    "    else:\n",
    "        result = 'незначимо'\n",
    "    print(f'Отличие между группами 0 и 248 по событию {event} статистически {result}, p_value = ',\n",
    "          check_hypothesis(funnel0.loc[event, 0], funnel.loc[event, 248],\n",
    "                           trials0.loc[0].values[0], trials.loc[248].values[0]))"
   ]
  },
  {
   "cell_type": "markdown",
   "id": "0498eeb1",
   "metadata": {},
   "source": [
    "Здесь мы тоже видим, что нет статистически значимых различий в доле пользователей, совершивших все события в нашей воронке. А значит, шрифт можно менять, а можно оставить, на продажах это не сказывается."
   ]
  },
  {
   "cell_type": "markdown",
   "id": "9673f159",
   "metadata": {},
   "source": [
    "## Выводы изучения эксперимента"
   ]
  },
  {
   "cell_type": "markdown",
   "id": "cd160c06",
   "metadata": {},
   "source": [
    "Мы проделали 16 тестов и приняли в них поправку Шидака. Ни в одном из проделанных тестов отличие между группами не было статистически значимо. Это значит, что мы не отвергли нулевую гипотезу, следовательно, и разницу между новым и старым шрифтом стат-тест не заметил."
   ]
  },
  {
   "cell_type": "markdown",
   "id": "426ef887",
   "metadata": {},
   "source": [
    "# Вывод\n",
    "\n",
    "Мы проделали большую работу:\n",
    "- Сначала предобработали данные: заменили названия столбцов на удобные, проверили пропуски и типы данных, откорректировали и добавили столбец даты и времени, а также добавили отдельный столбец дат. \n",
    "- Дальше проверили, данными за какой период мы располагаем(2 недели). Нашли максимальную и минимальную дату и построили гистограмму по дате и времени.\n",
    "- Определили, с какого момента данные полные и отбросили более старые. Оказалось, что на самом деле мы располагаем данными за одну неделю, а также проверили, что у нас есть пользователи из всех трёх экспериментальных групп.\n",
    "- Посмотрели, какие события есть в логах, как часто они встречаются, отсортировали события по частоте. Посчитали, сколько пользователей совершали каждое из этих событий, отсортировали события по числу пользователей и посчитали долю пользователей, которые хоть раз совершали событие. Предположили, в каком порядке происходят события и решили убрать \"туториал\" из воронки.\n",
    "- По воронке событий посчитали, какая доля пользователей проходит на следующий шаг воронки (от числа пользователей на предыдущем). Определили, на каком шаге теряли больше всего пользователей и какая доля пользователей доходит от первого события до оплаты.\n",
    "- И наконец проделали 16 статистических тестов, по итогам которых мы не отвергли нулевую гипотезу, следовательно, и разницу между новым и старым шрифтом стат-тест не заметил."
   ]
  }
 ],
 "metadata": {
  "ExecuteTimeLog": [
   {
    "duration": 149,
    "start_time": "2022-03-19T06:46:14.581Z"
   },
   {
    "duration": 1313,
    "start_time": "2022-03-19T06:46:22.254Z"
   },
   {
    "duration": 60,
    "start_time": "2022-03-19T06:46:23.569Z"
   },
   {
    "duration": 31,
    "start_time": "2022-03-19T06:46:23.634Z"
   },
   {
    "duration": 103,
    "start_time": "2022-03-19T06:46:23.667Z"
   },
   {
    "duration": 32,
    "start_time": "2022-03-19T06:46:23.772Z"
   },
   {
    "duration": 8,
    "start_time": "2022-03-19T06:46:23.806Z"
   },
   {
    "duration": 64,
    "start_time": "2022-03-19T06:46:23.815Z"
   },
   {
    "duration": 28,
    "start_time": "2022-03-19T06:46:23.881Z"
   },
   {
    "duration": 259,
    "start_time": "2022-03-19T06:46:23.912Z"
   },
   {
    "duration": 66,
    "start_time": "2022-03-19T06:46:24.174Z"
   },
   {
    "duration": 4,
    "start_time": "2022-03-19T06:46:24.241Z"
   },
   {
    "duration": 13,
    "start_time": "2022-03-19T06:46:24.263Z"
   },
   {
    "duration": 58,
    "start_time": "2022-03-19T06:46:24.277Z"
   },
   {
    "duration": 29,
    "start_time": "2022-03-19T06:46:24.336Z"
   },
   {
    "duration": 12,
    "start_time": "2022-03-19T06:46:24.367Z"
   },
   {
    "duration": 32,
    "start_time": "2022-03-19T06:46:24.381Z"
   },
   {
    "duration": 135,
    "start_time": "2022-03-19T06:46:24.416Z"
   },
   {
    "duration": 21,
    "start_time": "2022-03-19T06:46:24.553Z"
   },
   {
    "duration": 22,
    "start_time": "2022-03-19T06:46:24.576Z"
   },
   {
    "duration": 16,
    "start_time": "2022-03-19T06:46:24.600Z"
   },
   {
    "duration": 127,
    "start_time": "2022-03-19T06:46:24.618Z"
   },
   {
    "duration": 23,
    "start_time": "2022-03-19T06:46:24.747Z"
   },
   {
    "duration": 9,
    "start_time": "2022-03-19T07:17:42.233Z"
   },
   {
    "duration": 148,
    "start_time": "2022-03-19T07:37:59.154Z"
   },
   {
    "duration": 135,
    "start_time": "2022-03-19T10:07:50.115Z"
   },
   {
    "duration": 1716,
    "start_time": "2022-03-19T11:43:06.428Z"
   },
   {
    "duration": 230,
    "start_time": "2022-03-19T11:43:09.111Z"
   },
   {
    "duration": 115,
    "start_time": "2022-03-19T11:46:45.075Z"
   },
   {
    "duration": 153,
    "start_time": "2022-03-19T12:35:44.466Z"
   },
   {
    "duration": 4,
    "start_time": "2022-03-19T12:35:47.863Z"
   },
   {
    "duration": 251,
    "start_time": "2022-03-19T12:35:47.870Z"
   },
   {
    "duration": 105,
    "start_time": "2022-03-19T12:35:48.123Z"
   },
   {
    "duration": 39,
    "start_time": "2022-03-19T12:35:48.230Z"
   },
   {
    "duration": 145,
    "start_time": "2022-03-19T12:35:48.272Z"
   },
   {
    "duration": 87,
    "start_time": "2022-03-19T12:35:48.419Z"
   },
   {
    "duration": 10,
    "start_time": "2022-03-19T12:35:48.508Z"
   },
   {
    "duration": 80,
    "start_time": "2022-03-19T12:35:48.520Z"
   },
   {
    "duration": 40,
    "start_time": "2022-03-19T12:35:48.602Z"
   },
   {
    "duration": 452,
    "start_time": "2022-03-19T12:35:48.645Z"
   },
   {
    "duration": 101,
    "start_time": "2022-03-19T12:35:49.101Z"
   },
   {
    "duration": 6,
    "start_time": "2022-03-19T12:35:49.204Z"
   },
   {
    "duration": 20,
    "start_time": "2022-03-19T12:35:49.212Z"
   },
   {
    "duration": 105,
    "start_time": "2022-03-19T12:35:49.234Z"
   },
   {
    "duration": 27,
    "start_time": "2022-03-19T12:35:49.341Z"
   },
   {
    "duration": 15,
    "start_time": "2022-03-19T12:35:49.371Z"
   },
   {
    "duration": 41,
    "start_time": "2022-03-19T12:35:49.388Z"
   },
   {
    "duration": 186,
    "start_time": "2022-03-19T12:35:49.431Z"
   },
   {
    "duration": 25,
    "start_time": "2022-03-19T12:35:49.619Z"
   },
   {
    "duration": 43,
    "start_time": "2022-03-19T12:35:49.646Z"
   },
   {
    "duration": 23,
    "start_time": "2022-03-19T12:35:49.691Z"
   },
   {
    "duration": 173,
    "start_time": "2022-03-19T12:35:49.716Z"
   },
   {
    "duration": 24,
    "start_time": "2022-03-19T12:35:49.891Z"
   },
   {
    "duration": 85,
    "start_time": "2022-03-19T12:36:09.635Z"
   },
   {
    "duration": 80,
    "start_time": "2022-03-19T12:56:47.631Z"
   },
   {
    "duration": 81,
    "start_time": "2022-03-19T12:57:40.628Z"
   },
   {
    "duration": 381,
    "start_time": "2022-03-19T13:18:53.525Z"
   },
   {
    "duration": 1615,
    "start_time": "2022-03-19T13:24:03.913Z"
   },
   {
    "duration": 247,
    "start_time": "2022-03-19T13:24:05.532Z"
   },
   {
    "duration": 99,
    "start_time": "2022-03-19T13:24:05.783Z"
   },
   {
    "duration": 22,
    "start_time": "2022-03-19T13:24:05.885Z"
   },
   {
    "duration": 172,
    "start_time": "2022-03-19T13:24:05.912Z"
   },
   {
    "duration": 98,
    "start_time": "2022-03-19T13:24:06.087Z"
   },
   {
    "duration": 10,
    "start_time": "2022-03-19T13:24:06.187Z"
   },
   {
    "duration": 84,
    "start_time": "2022-03-19T13:24:06.199Z"
   },
   {
    "duration": 56,
    "start_time": "2022-03-19T13:24:06.285Z"
   },
   {
    "duration": 472,
    "start_time": "2022-03-19T13:24:06.344Z"
   },
   {
    "duration": 102,
    "start_time": "2022-03-19T13:24:06.818Z"
   },
   {
    "duration": 6,
    "start_time": "2022-03-19T13:24:06.923Z"
   },
   {
    "duration": 39,
    "start_time": "2022-03-19T13:24:06.932Z"
   },
   {
    "duration": 94,
    "start_time": "2022-03-19T13:24:06.976Z"
   },
   {
    "duration": 13,
    "start_time": "2022-03-19T13:24:07.072Z"
   },
   {
    "duration": 16,
    "start_time": "2022-03-19T13:24:07.087Z"
   },
   {
    "duration": 72,
    "start_time": "2022-03-19T13:24:07.106Z"
   },
   {
    "duration": 180,
    "start_time": "2022-03-19T13:24:07.181Z"
   },
   {
    "duration": 31,
    "start_time": "2022-03-19T13:24:07.363Z"
   },
   {
    "duration": 36,
    "start_time": "2022-03-19T13:24:07.396Z"
   },
   {
    "duration": 47,
    "start_time": "2022-03-19T13:24:07.434Z"
   },
   {
    "duration": 185,
    "start_time": "2022-03-19T13:24:07.483Z"
   },
   {
    "duration": 30,
    "start_time": "2022-03-19T13:24:07.671Z"
   },
   {
    "duration": 133,
    "start_time": "2022-03-19T13:33:25.457Z"
   },
   {
    "duration": 7,
    "start_time": "2022-03-19T13:33:43.415Z"
   },
   {
    "duration": 7,
    "start_time": "2022-03-19T13:34:28.190Z"
   },
   {
    "duration": 6,
    "start_time": "2022-03-19T13:34:40.150Z"
   },
   {
    "duration": 43,
    "start_time": "2022-03-19T13:38:53.549Z"
   },
   {
    "duration": 175,
    "start_time": "2022-03-19T13:40:47.801Z"
   },
   {
    "duration": 86,
    "start_time": "2022-03-19T13:41:00.027Z"
   },
   {
    "duration": 39,
    "start_time": "2022-03-19T13:44:17.013Z"
   },
   {
    "duration": 38,
    "start_time": "2022-03-19T13:50:24.884Z"
   },
   {
    "duration": 44,
    "start_time": "2022-03-19T13:50:36.712Z"
   },
   {
    "duration": 61,
    "start_time": "2022-03-19T13:53:43.297Z"
   },
   {
    "duration": 44,
    "start_time": "2022-03-19T13:53:55.639Z"
   },
   {
    "duration": 85,
    "start_time": "2022-03-19T13:54:19.214Z"
   },
   {
    "duration": 78,
    "start_time": "2022-03-19T13:54:55.633Z"
   },
   {
    "duration": 81,
    "start_time": "2022-03-19T13:57:52.444Z"
   },
   {
    "duration": 80,
    "start_time": "2022-03-19T13:58:29.103Z"
   },
   {
    "duration": 7,
    "start_time": "2022-03-19T14:12:29.604Z"
   },
   {
    "duration": 2285,
    "start_time": "2022-03-19T14:14:51.208Z"
   },
   {
    "duration": 2077,
    "start_time": "2022-03-19T14:15:27.417Z"
   },
   {
    "duration": 2108,
    "start_time": "2022-03-19T14:15:37.022Z"
   },
   {
    "duration": 1995,
    "start_time": "2022-03-19T14:19:55.305Z"
   },
   {
    "duration": 11,
    "start_time": "2022-03-19T14:20:27.383Z"
   },
   {
    "duration": 2190,
    "start_time": "2022-03-19T14:21:24.139Z"
   },
   {
    "duration": 2139,
    "start_time": "2022-03-19T14:21:37.289Z"
   },
   {
    "duration": 16,
    "start_time": "2022-03-19T14:22:29.270Z"
   },
   {
    "duration": 2049,
    "start_time": "2022-03-19T14:22:41.399Z"
   },
   {
    "duration": 18,
    "start_time": "2022-03-19T14:23:20.160Z"
   },
   {
    "duration": 7,
    "start_time": "2022-03-19T14:27:03.933Z"
   },
   {
    "duration": 6,
    "start_time": "2022-03-19T14:27:42.823Z"
   },
   {
    "duration": 6,
    "start_time": "2022-03-19T14:27:53.724Z"
   },
   {
    "duration": 6,
    "start_time": "2022-03-19T14:28:07.743Z"
   },
   {
    "duration": 11,
    "start_time": "2022-03-19T14:28:32.515Z"
   },
   {
    "duration": 6,
    "start_time": "2022-03-19T14:28:39.342Z"
   },
   {
    "duration": 5,
    "start_time": "2022-03-19T14:29:40.455Z"
   },
   {
    "duration": 280,
    "start_time": "2022-03-19T14:29:46.369Z"
   },
   {
    "duration": 21,
    "start_time": "2022-03-19T14:47:49.574Z"
   },
   {
    "duration": 12,
    "start_time": "2022-03-19T14:48:00.844Z"
   },
   {
    "duration": 3,
    "start_time": "2022-03-19T14:48:23.348Z"
   },
   {
    "duration": 7,
    "start_time": "2022-03-19T14:48:27.638Z"
   },
   {
    "duration": 6,
    "start_time": "2022-03-19T14:48:46.535Z"
   },
   {
    "duration": 5,
    "start_time": "2022-03-19T15:00:37.545Z"
   },
   {
    "duration": 6,
    "start_time": "2022-03-19T15:19:23.007Z"
   },
   {
    "duration": 1499,
    "start_time": "2022-03-19T16:02:41.144Z"
   },
   {
    "duration": 239,
    "start_time": "2022-03-19T16:02:42.646Z"
   },
   {
    "duration": 102,
    "start_time": "2022-03-19T16:02:42.887Z"
   },
   {
    "duration": 27,
    "start_time": "2022-03-19T16:02:42.992Z"
   },
   {
    "duration": 239,
    "start_time": "2022-03-19T16:02:43.023Z"
   },
   {
    "duration": 103,
    "start_time": "2022-03-19T16:02:43.265Z"
   },
   {
    "duration": 10,
    "start_time": "2022-03-19T16:02:43.371Z"
   },
   {
    "duration": 83,
    "start_time": "2022-03-19T16:02:43.384Z"
   },
   {
    "duration": 42,
    "start_time": "2022-03-19T16:02:43.469Z"
   },
   {
    "duration": 471,
    "start_time": "2022-03-19T16:02:43.513Z"
   },
   {
    "duration": 106,
    "start_time": "2022-03-19T16:02:43.987Z"
   },
   {
    "duration": 48,
    "start_time": "2022-03-19T16:02:44.096Z"
   },
   {
    "duration": 19,
    "start_time": "2022-03-19T16:02:44.167Z"
   },
   {
    "duration": 107,
    "start_time": "2022-03-19T16:02:44.190Z"
   },
   {
    "duration": 12,
    "start_time": "2022-03-19T16:02:44.299Z"
   },
   {
    "duration": 18,
    "start_time": "2022-03-19T16:02:44.313Z"
   },
   {
    "duration": 341,
    "start_time": "2022-03-19T16:02:44.334Z"
   },
   {
    "duration": 115,
    "start_time": "2022-03-19T16:02:44.678Z"
   },
   {
    "duration": 244,
    "start_time": "2022-03-19T16:02:44.796Z"
   },
   {
    "duration": 34,
    "start_time": "2022-03-19T16:02:45.043Z"
   },
   {
    "duration": 26,
    "start_time": "2022-03-19T16:02:45.079Z"
   },
   {
    "duration": 29,
    "start_time": "2022-03-19T16:02:45.107Z"
   },
   {
    "duration": 192,
    "start_time": "2022-03-19T16:02:45.138Z"
   },
   {
    "duration": 23,
    "start_time": "2022-03-19T16:02:45.334Z"
   },
   {
    "duration": 1348,
    "start_time": "2022-03-20T11:06:56.968Z"
   },
   {
    "duration": 199,
    "start_time": "2022-03-20T11:06:58.318Z"
   },
   {
    "duration": 74,
    "start_time": "2022-03-20T11:06:58.519Z"
   },
   {
    "duration": 14,
    "start_time": "2022-03-20T11:06:58.595Z"
   },
   {
    "duration": 108,
    "start_time": "2022-03-20T11:06:58.611Z"
   },
   {
    "duration": 67,
    "start_time": "2022-03-20T11:06:58.722Z"
   },
   {
    "duration": 8,
    "start_time": "2022-03-20T11:06:58.791Z"
   },
   {
    "duration": 63,
    "start_time": "2022-03-20T11:06:58.801Z"
   },
   {
    "duration": 30,
    "start_time": "2022-03-20T11:06:58.866Z"
   },
   {
    "duration": 266,
    "start_time": "2022-03-20T11:06:58.899Z"
   },
   {
    "duration": 63,
    "start_time": "2022-03-20T11:06:59.167Z"
   },
   {
    "duration": 48,
    "start_time": "2022-03-20T11:06:59.232Z"
   },
   {
    "duration": 11,
    "start_time": "2022-03-20T11:06:59.281Z"
   },
   {
    "duration": 73,
    "start_time": "2022-03-20T11:06:59.293Z"
   },
   {
    "duration": 8,
    "start_time": "2022-03-20T11:06:59.368Z"
   },
   {
    "duration": 11,
    "start_time": "2022-03-20T11:06:59.377Z"
   },
   {
    "duration": 220,
    "start_time": "2022-03-20T11:06:59.390Z"
   },
   {
    "duration": 63,
    "start_time": "2022-03-20T11:06:59.612Z"
   },
   {
    "duration": 200,
    "start_time": "2022-03-20T11:06:59.677Z"
   },
   {
    "duration": 18,
    "start_time": "2022-03-20T11:06:59.879Z"
   },
   {
    "duration": 16,
    "start_time": "2022-03-20T11:06:59.898Z"
   },
   {
    "duration": 16,
    "start_time": "2022-03-20T11:06:59.916Z"
   },
   {
    "duration": 141,
    "start_time": "2022-03-20T11:06:59.934Z"
   },
   {
    "duration": 16,
    "start_time": "2022-03-20T11:07:00.077Z"
   }
  ],
  "kernelspec": {
   "display_name": "Python 3 (ipykernel)",
   "language": "python",
   "name": "python3"
  },
  "language_info": {
   "codemirror_mode": {
    "name": "ipython",
    "version": 3
   },
   "file_extension": ".py",
   "mimetype": "text/x-python",
   "name": "python",
   "nbconvert_exporter": "python",
   "pygments_lexer": "ipython3",
   "version": "3.9.7"
  },
  "toc": {
   "base_numbering": 1,
   "nav_menu": {},
   "number_sections": true,
   "sideBar": true,
   "skip_h1_title": false,
   "title_cell": "Table of Contents",
   "title_sidebar": "Contents",
   "toc_cell": false,
   "toc_position": {
    "height": "calc(100% - 180px)",
    "left": "10px",
    "top": "150px",
    "width": "307.2px"
   },
   "toc_section_display": true,
   "toc_window_display": true
  }
 },
 "nbformat": 4,
 "nbformat_minor": 5
}

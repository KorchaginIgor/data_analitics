{
 "cells": [
  {
   "cell_type": "markdown",
   "id": "75c0281b",
   "metadata": {},
   "source": [
    "# Название проекта\n",
    "Рынок заведений общественного питания Москвы."
   ]
  },
  {
   "cell_type": "markdown",
   "id": "c524d069",
   "metadata": {},
   "source": [
    "## Описание проекта\n",
    "Мы решили открыть небольшое кафе в Москве. Оно оригинальное — гостей должны обслуживать роботы. Проект многообещающий, но дорогой. Вместе с партнёрами мы решились обратиться к инвесторам. Их интересует текущее положение дел на рынке — сможем ли мы снискать популярность на долгое время, когда все зеваки насмотрятся на роботов-официантов?\n",
    "Я — гуру аналитики, и партнёры просят меня подготовить исследование рынка. У меня есть открытые данные о заведениях общественного питания в Москве."
   ]
  },
  {
   "cell_type": "markdown",
   "id": "f880009a",
   "metadata": {},
   "source": [
    "## Цель проекта\n",
    "Провести исследование рынка, дать рекомендации о виде заведения, количестве посадочных мест, а также районе расположения. Прокомментировать возможность развития сети. Подготовить презентацию."
   ]
  },
  {
   "cell_type": "markdown",
   "id": "b334170a",
   "metadata": {},
   "source": [
    "# Предобработка данных"
   ]
  },
  {
   "cell_type": "code",
   "execution_count": 1,
   "id": "d80734da",
   "metadata": {},
   "outputs": [
    {
     "data": {
      "text/html": [
       "<div>\n",
       "<style scoped>\n",
       "    .dataframe tbody tr th:only-of-type {\n",
       "        vertical-align: middle;\n",
       "    }\n",
       "\n",
       "    .dataframe tbody tr th {\n",
       "        vertical-align: top;\n",
       "    }\n",
       "\n",
       "    .dataframe thead th {\n",
       "        text-align: right;\n",
       "    }\n",
       "</style>\n",
       "<table border=\"1\" class=\"dataframe\">\n",
       "  <thead>\n",
       "    <tr style=\"text-align: right;\">\n",
       "      <th></th>\n",
       "      <th>id</th>\n",
       "      <th>object_name</th>\n",
       "      <th>chain</th>\n",
       "      <th>object_type</th>\n",
       "      <th>address</th>\n",
       "      <th>number</th>\n",
       "    </tr>\n",
       "  </thead>\n",
       "  <tbody>\n",
       "    <tr>\n",
       "      <th>0</th>\n",
       "      <td>151635</td>\n",
       "      <td>СМЕТАНА</td>\n",
       "      <td>нет</td>\n",
       "      <td>кафе</td>\n",
       "      <td>город Москва, улица Егора Абакумова, дом 9</td>\n",
       "      <td>48</td>\n",
       "    </tr>\n",
       "    <tr>\n",
       "      <th>1</th>\n",
       "      <td>77874</td>\n",
       "      <td>Родник</td>\n",
       "      <td>нет</td>\n",
       "      <td>кафе</td>\n",
       "      <td>город Москва, улица Талалихина, дом 2/1, корпус 1</td>\n",
       "      <td>35</td>\n",
       "    </tr>\n",
       "    <tr>\n",
       "      <th>2</th>\n",
       "      <td>24309</td>\n",
       "      <td>Кафе «Академия»</td>\n",
       "      <td>нет</td>\n",
       "      <td>кафе</td>\n",
       "      <td>город Москва, Абельмановская улица, дом 6</td>\n",
       "      <td>95</td>\n",
       "    </tr>\n",
       "    <tr>\n",
       "      <th>3</th>\n",
       "      <td>21894</td>\n",
       "      <td>ПИЦЦЕТОРИЯ</td>\n",
       "      <td>да</td>\n",
       "      <td>кафе</td>\n",
       "      <td>город Москва, Абрамцевская улица, дом 1</td>\n",
       "      <td>40</td>\n",
       "    </tr>\n",
       "    <tr>\n",
       "      <th>4</th>\n",
       "      <td>119365</td>\n",
       "      <td>Кафе «Вишневая метель»</td>\n",
       "      <td>нет</td>\n",
       "      <td>кафе</td>\n",
       "      <td>город Москва, Абрамцевская улица, дом 9, корпус 1</td>\n",
       "      <td>50</td>\n",
       "    </tr>\n",
       "    <tr>\n",
       "      <th>...</th>\n",
       "      <td>...</td>\n",
       "      <td>...</td>\n",
       "      <td>...</td>\n",
       "      <td>...</td>\n",
       "      <td>...</td>\n",
       "      <td>...</td>\n",
       "    </tr>\n",
       "    <tr>\n",
       "      <th>15361</th>\n",
       "      <td>208537</td>\n",
       "      <td>Шоколадница</td>\n",
       "      <td>да</td>\n",
       "      <td>кафе</td>\n",
       "      <td>город Москва, 3-й Крутицкий переулок, дом 18</td>\n",
       "      <td>50</td>\n",
       "    </tr>\n",
       "    <tr>\n",
       "      <th>15362</th>\n",
       "      <td>209264</td>\n",
       "      <td>Шоколадница</td>\n",
       "      <td>да</td>\n",
       "      <td>кафе</td>\n",
       "      <td>город Москва, улица Земляной Вал, дом 33</td>\n",
       "      <td>10</td>\n",
       "    </tr>\n",
       "    <tr>\n",
       "      <th>15363</th>\n",
       "      <td>209186</td>\n",
       "      <td>Шоколадница</td>\n",
       "      <td>да</td>\n",
       "      <td>кафе</td>\n",
       "      <td>город Москва, улица Земляной Вал, дом 33</td>\n",
       "      <td>20</td>\n",
       "    </tr>\n",
       "    <tr>\n",
       "      <th>15364</th>\n",
       "      <td>221900</td>\n",
       "      <td>Шоколадница</td>\n",
       "      <td>да</td>\n",
       "      <td>кафе</td>\n",
       "      <td>город Москва, поселение Московский, Киевское шоссе, 22-й километр, домовладение 4, строение 1</td>\n",
       "      <td>36</td>\n",
       "    </tr>\n",
       "    <tr>\n",
       "      <th>15365</th>\n",
       "      <td>222535</td>\n",
       "      <td>Шоколадница</td>\n",
       "      <td>да</td>\n",
       "      <td>кафе</td>\n",
       "      <td>город Москва, Ходынский бульвар, дом 4</td>\n",
       "      <td>10</td>\n",
       "    </tr>\n",
       "  </tbody>\n",
       "</table>\n",
       "<p>15366 rows × 6 columns</p>\n",
       "</div>"
      ],
      "text/plain": [
       "           id             object_name chain object_type  \\\n",
       "0      151635                 СМЕТАНА   нет        кафе   \n",
       "1       77874                  Родник   нет        кафе   \n",
       "2       24309         Кафе «Академия»   нет        кафе   \n",
       "3       21894              ПИЦЦЕТОРИЯ    да        кафе   \n",
       "4      119365  Кафе «Вишневая метель»   нет        кафе   \n",
       "...       ...                     ...   ...         ...   \n",
       "15361  208537             Шоколадница    да        кафе   \n",
       "15362  209264             Шоколадница    да        кафе   \n",
       "15363  209186             Шоколадница    да        кафе   \n",
       "15364  221900             Шоколадница    да        кафе   \n",
       "15365  222535             Шоколадница    да        кафе   \n",
       "\n",
       "                                                                                             address  \\\n",
       "0                                                         город Москва, улица Егора Абакумова, дом 9   \n",
       "1                                                  город Москва, улица Талалихина, дом 2/1, корпус 1   \n",
       "2                                                          город Москва, Абельмановская улица, дом 6   \n",
       "3                                                            город Москва, Абрамцевская улица, дом 1   \n",
       "4                                                  город Москва, Абрамцевская улица, дом 9, корпус 1   \n",
       "...                                                                                              ...   \n",
       "15361                                                   город Москва, 3-й Крутицкий переулок, дом 18   \n",
       "15362                                                       город Москва, улица Земляной Вал, дом 33   \n",
       "15363                                                       город Москва, улица Земляной Вал, дом 33   \n",
       "15364  город Москва, поселение Московский, Киевское шоссе, 22-й километр, домовладение 4, строение 1   \n",
       "15365                                                         город Москва, Ходынский бульвар, дом 4   \n",
       "\n",
       "       number  \n",
       "0          48  \n",
       "1          35  \n",
       "2          95  \n",
       "3          40  \n",
       "4          50  \n",
       "...       ...  \n",
       "15361      50  \n",
       "15362      10  \n",
       "15363      20  \n",
       "15364      36  \n",
       "15365      10  \n",
       "\n",
       "[15366 rows x 6 columns]"
      ]
     },
     "metadata": {},
     "output_type": "display_data"
    },
    {
     "name": "stdout",
     "output_type": "stream",
     "text": [
      "<class 'pandas.core.frame.DataFrame'>\n",
      "RangeIndex: 15366 entries, 0 to 15365\n",
      "Data columns (total 6 columns):\n",
      " #   Column       Non-Null Count  Dtype \n",
      "---  ------       --------------  ----- \n",
      " 0   id           15366 non-null  int64 \n",
      " 1   object_name  15366 non-null  object\n",
      " 2   chain        15366 non-null  object\n",
      " 3   object_type  15366 non-null  object\n",
      " 4   address      15366 non-null  object\n",
      " 5   number       15366 non-null  int64 \n",
      "dtypes: int64(2), object(4)\n",
      "memory usage: 720.4+ KB\n"
     ]
    }
   ],
   "source": [
    "import pandas as pd\n",
    "import numpy as np\n",
    "import seaborn as sns\n",
    "import matplotlib.pyplot as plt\n",
    "from pandas.plotting import register_matplotlib_converters\n",
    "import warnings\n",
    "pd.set_option('display.float_format', '{:,.2f}'.format)\n",
    "data = pd.read_csv('rest_data.csv')\n",
    "pd.options.display.max_colwidth = 150\n",
    "display(data)\n",
    "data.info()"
   ]
  },
  {
   "cell_type": "markdown",
   "id": "525fb7f2",
   "metadata": {},
   "source": [
    "У нас есть таблица rest_data, где:\n",
    "- id — идентификатор объекта;\n",
    "- object_name — название объекта общественного питания;\n",
    "- chain — сетевой ресторан;\n",
    "- object_type — тип объекта общественного питания;\n",
    "- address — адрес;\n",
    "- number — количество посадочных мест.\n",
    "\n",
    "Пропусков в таблице нет. Посмотрим на дубликаты:"
   ]
  },
  {
   "cell_type": "code",
   "execution_count": 2,
   "id": "29cd4cc6",
   "metadata": {},
   "outputs": [
    {
     "name": "stdout",
     "output_type": "stream",
     "text": [
      "0\n"
     ]
    }
   ],
   "source": [
    "print(data.duplicated().sum())# подсчёт явных дубликатов"
   ]
  },
  {
   "cell_type": "markdown",
   "id": "d7f2fcd8",
   "metadata": {},
   "source": [
    "Явных дубликатов нет, поищем другие проблемы."
   ]
  },
  {
   "cell_type": "code",
   "execution_count": 3,
   "id": "060aa428",
   "metadata": {},
   "outputs": [
    {
     "data": {
      "text/html": [
       "<div>\n",
       "<style scoped>\n",
       "    .dataframe tbody tr th:only-of-type {\n",
       "        vertical-align: middle;\n",
       "    }\n",
       "\n",
       "    .dataframe tbody tr th {\n",
       "        vertical-align: top;\n",
       "    }\n",
       "\n",
       "    .dataframe thead th {\n",
       "        text-align: right;\n",
       "    }\n",
       "</style>\n",
       "<table border=\"1\" class=\"dataframe\">\n",
       "  <thead>\n",
       "    <tr style=\"text-align: right;\">\n",
       "      <th></th>\n",
       "      <th>object_type</th>\n",
       "    </tr>\n",
       "    <tr>\n",
       "      <th>object_name</th>\n",
       "      <th></th>\n",
       "    </tr>\n",
       "  </thead>\n",
       "  <tbody>\n",
       "    <tr>\n",
       "      <th>Beverly Hills Diner</th>\n",
       "      <td>1</td>\n",
       "    </tr>\n",
       "    <tr>\n",
       "      <th>Мюнгер</th>\n",
       "      <td>1</td>\n",
       "    </tr>\n",
       "    <tr>\n",
       "      <th>Му-му</th>\n",
       "      <td>1</td>\n",
       "    </tr>\n",
       "    <tr>\n",
       "      <th>Молли гвинз</th>\n",
       "      <td>1</td>\n",
       "    </tr>\n",
       "    <tr>\n",
       "      <th>Мираторг</th>\n",
       "      <td>1</td>\n",
       "    </tr>\n",
       "    <tr>\n",
       "      <th>...</th>\n",
       "      <td>...</td>\n",
       "    </tr>\n",
       "    <tr>\n",
       "      <th>Домино'с Пицца</th>\n",
       "      <td>86</td>\n",
       "    </tr>\n",
       "    <tr>\n",
       "      <th>Макдоналдс</th>\n",
       "      <td>122</td>\n",
       "    </tr>\n",
       "    <tr>\n",
       "      <th>Бургер Кинг</th>\n",
       "      <td>122</td>\n",
       "    </tr>\n",
       "    <tr>\n",
       "      <th>Шоколадница</th>\n",
       "      <td>141</td>\n",
       "    </tr>\n",
       "    <tr>\n",
       "      <th>KFC</th>\n",
       "      <td>155</td>\n",
       "    </tr>\n",
       "  </tbody>\n",
       "</table>\n",
       "<p>724 rows × 1 columns</p>\n",
       "</div>"
      ],
      "text/plain": [
       "                     object_type\n",
       "object_name                     \n",
       "Beverly Hills Diner            1\n",
       "Мюнгер                         1\n",
       "Му-му                          1\n",
       "Молли гвинз                    1\n",
       "Мираторг                       1\n",
       "...                          ...\n",
       "Домино'с Пицца                86\n",
       "Макдоналдс                   122\n",
       "Бургер Кинг                  122\n",
       "Шоколадница                  141\n",
       "KFC                          155\n",
       "\n",
       "[724 rows x 1 columns]"
      ]
     },
     "execution_count": 3,
     "metadata": {},
     "output_type": "execute_result"
    }
   ],
   "source": [
    "data.query('chain == \"да\"').groupby('object_name').agg({'object_type': 'count'}).sort_values(by= 'object_type')"
   ]
  },
  {
   "cell_type": "markdown",
   "id": "042937d6",
   "metadata": {},
   "source": [
    "Сначала сделаем все слова со строчными буквами в названии. Потом уберем кавычки, апостроф, точку, запятую и слова кафе, ресторан, бар, закусочная, корчма, кофейня, кондитерская, пиццерия, пбо и предприятие быстрого обслуживания из названий заведений."
   ]
  },
  {
   "cell_type": "code",
   "execution_count": 4,
   "id": "12015549",
   "metadata": {},
   "outputs": [
    {
     "data": {
      "text/html": [
       "<div>\n",
       "<style scoped>\n",
       "    .dataframe tbody tr th:only-of-type {\n",
       "        vertical-align: middle;\n",
       "    }\n",
       "\n",
       "    .dataframe tbody tr th {\n",
       "        vertical-align: top;\n",
       "    }\n",
       "\n",
       "    .dataframe thead th {\n",
       "        text-align: right;\n",
       "    }\n",
       "</style>\n",
       "<table border=\"1\" class=\"dataframe\">\n",
       "  <thead>\n",
       "    <tr style=\"text-align: right;\">\n",
       "      <th></th>\n",
       "      <th>id</th>\n",
       "      <th>object_name</th>\n",
       "      <th>chain</th>\n",
       "      <th>object_type</th>\n",
       "      <th>address</th>\n",
       "      <th>number</th>\n",
       "    </tr>\n",
       "  </thead>\n",
       "  <tbody>\n",
       "    <tr>\n",
       "      <th>0</th>\n",
       "      <td>151635</td>\n",
       "      <td>сметана</td>\n",
       "      <td>нет</td>\n",
       "      <td>кафе</td>\n",
       "      <td>город Москва, улица Егора Абакумова, дом 9</td>\n",
       "      <td>48</td>\n",
       "    </tr>\n",
       "    <tr>\n",
       "      <th>1</th>\n",
       "      <td>77874</td>\n",
       "      <td>родник</td>\n",
       "      <td>нет</td>\n",
       "      <td>кафе</td>\n",
       "      <td>город Москва, улица Талалихина, дом 2/1, корпус 1</td>\n",
       "      <td>35</td>\n",
       "    </tr>\n",
       "    <tr>\n",
       "      <th>2</th>\n",
       "      <td>24309</td>\n",
       "      <td>кафе «академия»</td>\n",
       "      <td>нет</td>\n",
       "      <td>кафе</td>\n",
       "      <td>город Москва, Абельмановская улица, дом 6</td>\n",
       "      <td>95</td>\n",
       "    </tr>\n",
       "    <tr>\n",
       "      <th>3</th>\n",
       "      <td>21894</td>\n",
       "      <td>пиццетория</td>\n",
       "      <td>да</td>\n",
       "      <td>кафе</td>\n",
       "      <td>город Москва, Абрамцевская улица, дом 1</td>\n",
       "      <td>40</td>\n",
       "    </tr>\n",
       "    <tr>\n",
       "      <th>4</th>\n",
       "      <td>119365</td>\n",
       "      <td>кафе «вишневая метель»</td>\n",
       "      <td>нет</td>\n",
       "      <td>кафе</td>\n",
       "      <td>город Москва, Абрамцевская улица, дом 9, корпус 1</td>\n",
       "      <td>50</td>\n",
       "    </tr>\n",
       "  </tbody>\n",
       "</table>\n",
       "</div>"
      ],
      "text/plain": [
       "       id             object_name chain object_type  \\\n",
       "0  151635                 сметана   нет        кафе   \n",
       "1   77874                  родник   нет        кафе   \n",
       "2   24309         кафе «академия»   нет        кафе   \n",
       "3   21894              пиццетория    да        кафе   \n",
       "4  119365  кафе «вишневая метель»   нет        кафе   \n",
       "\n",
       "                                             address  number  \n",
       "0         город Москва, улица Егора Абакумова, дом 9      48  \n",
       "1  город Москва, улица Талалихина, дом 2/1, корпус 1      35  \n",
       "2          город Москва, Абельмановская улица, дом 6      95  \n",
       "3            город Москва, Абрамцевская улица, дом 1      40  \n",
       "4  город Москва, Абрамцевская улица, дом 9, корпус 1      50  "
      ]
     },
     "execution_count": 4,
     "metadata": {},
     "output_type": "execute_result"
    }
   ],
   "source": [
    "data['object_name'] = data['object_name'].str.lower()\n",
    "data.head(5)"
   ]
  },
  {
   "cell_type": "markdown",
   "id": "8aace887",
   "metadata": {},
   "source": [
    "А теперь уберем дополнения в названиях"
   ]
  },
  {
   "cell_type": "code",
   "execution_count": 5,
   "id": "62d2f93d",
   "metadata": {},
   "outputs": [
    {
     "name": "stderr",
     "output_type": "stream",
     "text": [
      "C:\\Users\\Igor\\AppData\\Local\\Temp/ipykernel_2868/532160144.py:2: FutureWarning: The default value of regex will change from True to False in a future version. In addition, single character regular expressions will *not* be treated as literal strings when regex=True.\n",
      "  data['object_name'] = data['object_name'].str.replace(name, '')\n"
     ]
    },
    {
     "data": {
      "text/html": [
       "<div>\n",
       "<style scoped>\n",
       "    .dataframe tbody tr th:only-of-type {\n",
       "        vertical-align: middle;\n",
       "    }\n",
       "\n",
       "    .dataframe tbody tr th {\n",
       "        vertical-align: top;\n",
       "    }\n",
       "\n",
       "    .dataframe thead th {\n",
       "        text-align: right;\n",
       "    }\n",
       "</style>\n",
       "<table border=\"1\" class=\"dataframe\">\n",
       "  <thead>\n",
       "    <tr style=\"text-align: right;\">\n",
       "      <th></th>\n",
       "      <th>id</th>\n",
       "      <th>object_name</th>\n",
       "      <th>chain</th>\n",
       "      <th>object_type</th>\n",
       "      <th>address</th>\n",
       "      <th>number</th>\n",
       "    </tr>\n",
       "  </thead>\n",
       "  <tbody>\n",
       "    <tr>\n",
       "      <th>0</th>\n",
       "      <td>151635</td>\n",
       "      <td>сметана</td>\n",
       "      <td>нет</td>\n",
       "      <td>кафе</td>\n",
       "      <td>город Москва, улица Егора Абакумова, дом 9</td>\n",
       "      <td>48</td>\n",
       "    </tr>\n",
       "    <tr>\n",
       "      <th>1</th>\n",
       "      <td>77874</td>\n",
       "      <td>родник</td>\n",
       "      <td>нет</td>\n",
       "      <td>кафе</td>\n",
       "      <td>город Москва, улица Талалихина, дом 2/1, корпус 1</td>\n",
       "      <td>35</td>\n",
       "    </tr>\n",
       "    <tr>\n",
       "      <th>2</th>\n",
       "      <td>24309</td>\n",
       "      <td>академия</td>\n",
       "      <td>нет</td>\n",
       "      <td>кафе</td>\n",
       "      <td>город Москва, Абельмановская улица, дом 6</td>\n",
       "      <td>95</td>\n",
       "    </tr>\n",
       "    <tr>\n",
       "      <th>3</th>\n",
       "      <td>21894</td>\n",
       "      <td>пиццетория</td>\n",
       "      <td>да</td>\n",
       "      <td>кафе</td>\n",
       "      <td>город Москва, Абрамцевская улица, дом 1</td>\n",
       "      <td>40</td>\n",
       "    </tr>\n",
       "    <tr>\n",
       "      <th>4</th>\n",
       "      <td>119365</td>\n",
       "      <td>вишневаяметель</td>\n",
       "      <td>нет</td>\n",
       "      <td>кафе</td>\n",
       "      <td>город Москва, Абрамцевская улица, дом 9, корпус 1</td>\n",
       "      <td>50</td>\n",
       "    </tr>\n",
       "  </tbody>\n",
       "</table>\n",
       "</div>"
      ],
      "text/plain": [
       "       id     object_name chain object_type  \\\n",
       "0  151635         сметана   нет        кафе   \n",
       "1   77874          родник   нет        кафе   \n",
       "2   24309        академия   нет        кафе   \n",
       "3   21894      пиццетория    да        кафе   \n",
       "4  119365  вишневаяметель   нет        кафе   \n",
       "\n",
       "                                             address  number  \n",
       "0         город Москва, улица Егора Абакумова, дом 9      48  \n",
       "1  город Москва, улица Талалихина, дом 2/1, корпус 1      35  \n",
       "2          город Москва, Абельмановская улица, дом 6      95  \n",
       "3            город Москва, Абрамцевская улица, дом 1      40  \n",
       "4  город Москва, Абрамцевская улица, дом 9, корпус 1      50  "
      ]
     },
     "execution_count": 5,
     "metadata": {},
     "output_type": "execute_result"
    }
   ],
   "source": [
    "for name in ['\"', '»', '«',\"'\", '.', ',', 'кафе', 'ресторан', 'бар','закусочная', 'корчма', 'кофейня', 'кондитерская', 'пиццерия', 'пбо', 'предприятие быстрого обслуживания', 'быстрого питания', 'волгоградский', 'покрышкина',' ', '-']:\n",
    "         data['object_name'] = data['object_name'].str.replace(name, '')\n",
    "data.head(5)        "
   ]
  },
  {
   "cell_type": "code",
   "execution_count": 6,
   "id": "24fbfd8a",
   "metadata": {
    "scrolled": false
   },
   "outputs": [
    {
     "data": {
      "text/html": [
       "<div>\n",
       "<style scoped>\n",
       "    .dataframe tbody tr th:only-of-type {\n",
       "        vertical-align: middle;\n",
       "    }\n",
       "\n",
       "    .dataframe tbody tr th {\n",
       "        vertical-align: top;\n",
       "    }\n",
       "\n",
       "    .dataframe thead th {\n",
       "        text-align: right;\n",
       "    }\n",
       "</style>\n",
       "<table border=\"1\" class=\"dataframe\">\n",
       "  <thead>\n",
       "    <tr style=\"text-align: right;\">\n",
       "      <th></th>\n",
       "      <th>object_type</th>\n",
       "    </tr>\n",
       "    <tr>\n",
       "      <th>object_name</th>\n",
       "      <th></th>\n",
       "    </tr>\n",
       "  </thead>\n",
       "  <tbody>\n",
       "    <tr>\n",
       "      <th>beverlyhillsdiner</th>\n",
       "      <td>1</td>\n",
       "    </tr>\n",
       "    <tr>\n",
       "      <th>гурмания</th>\n",
       "      <td>1</td>\n",
       "    </tr>\n",
       "    <tr>\n",
       "      <th>даблбиблэк</th>\n",
       "      <td>1</td>\n",
       "    </tr>\n",
       "    <tr>\n",
       "      <th>пикколо</th>\n",
       "      <td>1</td>\n",
       "    </tr>\n",
       "    <tr>\n",
       "      <th>пестоимитлес</th>\n",
       "      <td>1</td>\n",
       "    </tr>\n",
       "    <tr>\n",
       "      <th>...</th>\n",
       "      <td>...</td>\n",
       "    </tr>\n",
       "    <tr>\n",
       "      <th>vietcafeвьет</th>\n",
       "      <td>1</td>\n",
       "    </tr>\n",
       "    <tr>\n",
       "      <th>whiterabbite(белыйкролик)</th>\n",
       "      <td>1</td>\n",
       "    </tr>\n",
       "    <tr>\n",
       "      <th>шантимель(кондитерские)</th>\n",
       "      <td>1</td>\n",
       "    </tr>\n",
       "    <tr>\n",
       "      <th>братьякараваевых</th>\n",
       "      <td>1</td>\n",
       "    </tr>\n",
       "    <tr>\n",
       "      <th>шашлыкмашлык</th>\n",
       "      <td>1</td>\n",
       "    </tr>\n",
       "  </tbody>\n",
       "</table>\n",
       "<p>205 rows × 1 columns</p>\n",
       "</div>"
      ],
      "text/plain": [
       "                           object_type\n",
       "object_name                           \n",
       "beverlyhillsdiner                    1\n",
       "гурмания                             1\n",
       "даблбиблэк                           1\n",
       "пикколо                              1\n",
       "пестоимитлес                         1\n",
       "...                                ...\n",
       "vietcafeвьет                         1\n",
       "whiterabbite(белыйкролик)            1\n",
       "шантимель(кондитерские)              1\n",
       "братьякараваевых                     1\n",
       "шашлыкмашлык                         1\n",
       "\n",
       "[205 rows x 1 columns]"
      ]
     },
     "execution_count": 6,
     "metadata": {},
     "output_type": "execute_result"
    }
   ],
   "source": [
    "fake_chain = data.query('chain == \"да\"').groupby('object_name').agg({\n",
    "    'object_type': 'count'\n",
    "}).sort_values(by= 'object_type').query('object_type == 1')\n",
    "fake_chain"
   ]
  },
  {
   "cell_type": "markdown",
   "id": "c7ed13a2",
   "metadata": {},
   "source": [
    "У нас есть 205 объектов, которые называют себя сетевыми, но имеют одно заведение в сети. В ходе избавления от слов кафе и т.д. у нас пропали скорее всего названия у некоторых объектов совсем."
   ]
  },
  {
   "cell_type": "code",
   "execution_count": 7,
   "id": "f0c96175",
   "metadata": {},
   "outputs": [
    {
     "data": {
      "text/html": [
       "<div>\n",
       "<style scoped>\n",
       "    .dataframe tbody tr th:only-of-type {\n",
       "        vertical-align: middle;\n",
       "    }\n",
       "\n",
       "    .dataframe tbody tr th {\n",
       "        vertical-align: top;\n",
       "    }\n",
       "\n",
       "    .dataframe thead th {\n",
       "        text-align: right;\n",
       "    }\n",
       "</style>\n",
       "<table border=\"1\" class=\"dataframe\">\n",
       "  <thead>\n",
       "    <tr style=\"text-align: right;\">\n",
       "      <th></th>\n",
       "      <th>id</th>\n",
       "      <th>object_name</th>\n",
       "      <th>chain</th>\n",
       "      <th>object_type</th>\n",
       "      <th>address</th>\n",
       "      <th>number</th>\n",
       "    </tr>\n",
       "  </thead>\n",
       "  <tbody>\n",
       "    <tr>\n",
       "      <th>20</th>\n",
       "      <td>21950</td>\n",
       "      <td></td>\n",
       "      <td>нет</td>\n",
       "      <td>кафе</td>\n",
       "      <td>город Москва, Алтайская улица, дом 33/7</td>\n",
       "      <td>30</td>\n",
       "    </tr>\n",
       "    <tr>\n",
       "      <th>238</th>\n",
       "      <td>27703</td>\n",
       "      <td></td>\n",
       "      <td>нет</td>\n",
       "      <td>столовая</td>\n",
       "      <td>город Москва, улица Бориса Галушкина, дом 26</td>\n",
       "      <td>45</td>\n",
       "    </tr>\n",
       "    <tr>\n",
       "      <th>347</th>\n",
       "      <td>130124</td>\n",
       "      <td></td>\n",
       "      <td>нет</td>\n",
       "      <td>кафе</td>\n",
       "      <td>город Москва, улица Дыбенко, дом 44</td>\n",
       "      <td>40</td>\n",
       "    </tr>\n",
       "    <tr>\n",
       "      <th>361</th>\n",
       "      <td>25493</td>\n",
       "      <td></td>\n",
       "      <td>нет</td>\n",
       "      <td>ресторан</td>\n",
       "      <td>город Москва, Заревый проезд, дом 12</td>\n",
       "      <td>200</td>\n",
       "    </tr>\n",
       "    <tr>\n",
       "      <th>411</th>\n",
       "      <td>23869</td>\n",
       "      <td></td>\n",
       "      <td>нет</td>\n",
       "      <td>кафе</td>\n",
       "      <td>город Москва, Керченская улица, дом 1А, корпус 3</td>\n",
       "      <td>50</td>\n",
       "    </tr>\n",
       "    <tr>\n",
       "      <th>...</th>\n",
       "      <td>...</td>\n",
       "      <td>...</td>\n",
       "      <td>...</td>\n",
       "      <td>...</td>\n",
       "      <td>...</td>\n",
       "      <td>...</td>\n",
       "    </tr>\n",
       "    <tr>\n",
       "      <th>15007</th>\n",
       "      <td>219569</td>\n",
       "      <td></td>\n",
       "      <td>нет</td>\n",
       "      <td>кафе</td>\n",
       "      <td>город Москва, Береговой проезд, дом 5А, корпус 1</td>\n",
       "      <td>2</td>\n",
       "    </tr>\n",
       "    <tr>\n",
       "      <th>15008</th>\n",
       "      <td>219570</td>\n",
       "      <td></td>\n",
       "      <td>нет</td>\n",
       "      <td>кафе</td>\n",
       "      <td>город Москва, Береговой проезд, дом 5А, корпус 1</td>\n",
       "      <td>4</td>\n",
       "    </tr>\n",
       "    <tr>\n",
       "      <th>15011</th>\n",
       "      <td>206099</td>\n",
       "      <td></td>\n",
       "      <td>нет</td>\n",
       "      <td>закусочная</td>\n",
       "      <td>город Москва, поселение Сосенское, посёлок Коммунарка, улица Александры Монаховой, дом 92, корпус 1</td>\n",
       "      <td>0</td>\n",
       "    </tr>\n",
       "    <tr>\n",
       "      <th>15014</th>\n",
       "      <td>210231</td>\n",
       "      <td></td>\n",
       "      <td>нет</td>\n",
       "      <td>кафе</td>\n",
       "      <td>город Москва, Люблинская улица, владение 60, строение 1/1</td>\n",
       "      <td>20</td>\n",
       "    </tr>\n",
       "    <tr>\n",
       "      <th>15017</th>\n",
       "      <td>205588</td>\n",
       "      <td></td>\n",
       "      <td>нет</td>\n",
       "      <td>кафетерий</td>\n",
       "      <td>город Москва, поселение Щаповское, улица Евгения Родионова, владение 1</td>\n",
       "      <td>16</td>\n",
       "    </tr>\n",
       "  </tbody>\n",
       "</table>\n",
       "<p>402 rows × 6 columns</p>\n",
       "</div>"
      ],
      "text/plain": [
       "           id object_name chain object_type  \\\n",
       "20      21950               нет        кафе   \n",
       "238     27703               нет    столовая   \n",
       "347    130124               нет        кафе   \n",
       "361     25493               нет    ресторан   \n",
       "411     23869               нет        кафе   \n",
       "...       ...         ...   ...         ...   \n",
       "15007  219569               нет        кафе   \n",
       "15008  219570               нет        кафе   \n",
       "15011  206099               нет  закусочная   \n",
       "15014  210231               нет        кафе   \n",
       "15017  205588               нет   кафетерий   \n",
       "\n",
       "                                                                                                   address  \\\n",
       "20                                                                 город Москва, Алтайская улица, дом 33/7   \n",
       "238                                                           город Москва, улица Бориса Галушкина, дом 26   \n",
       "347                                                                    город Москва, улица Дыбенко, дом 44   \n",
       "361                                                                   город Москва, Заревый проезд, дом 12   \n",
       "411                                                       город Москва, Керченская улица, дом 1А, корпус 3   \n",
       "...                                                                                                    ...   \n",
       "15007                                                     город Москва, Береговой проезд, дом 5А, корпус 1   \n",
       "15008                                                     город Москва, Береговой проезд, дом 5А, корпус 1   \n",
       "15011  город Москва, поселение Сосенское, посёлок Коммунарка, улица Александры Монаховой, дом 92, корпус 1   \n",
       "15014                                            город Москва, Люблинская улица, владение 60, строение 1/1   \n",
       "15017                               город Москва, поселение Щаповское, улица Евгения Родионова, владение 1   \n",
       "\n",
       "       number  \n",
       "20         30  \n",
       "238        45  \n",
       "347        40  \n",
       "361       200  \n",
       "411        50  \n",
       "...       ...  \n",
       "15007       2  \n",
       "15008       4  \n",
       "15011       0  \n",
       "15014      20  \n",
       "15017      16  \n",
       "\n",
       "[402 rows x 6 columns]"
      ]
     },
     "execution_count": 7,
     "metadata": {},
     "output_type": "execute_result"
    }
   ],
   "source": [
    "data.query('object_name == \"\"')"
   ]
  },
  {
   "cell_type": "markdown",
   "id": "a7b26110",
   "metadata": {},
   "source": [
    "Безымянные объекты мы удалим, их всего лишь 402 штуки(незначительное кол-во), а оставшиеся фэйковые сетевые сделаем несетевыми."
   ]
  },
  {
   "cell_type": "code",
   "execution_count": 8,
   "id": "3efe0f7e",
   "metadata": {},
   "outputs": [
    {
     "name": "stdout",
     "output_type": "stream",
     "text": [
      "<class 'pandas.core.frame.DataFrame'>\n",
      "Int64Index: 14964 entries, 0 to 15365\n",
      "Data columns (total 6 columns):\n",
      " #   Column       Non-Null Count  Dtype \n",
      "---  ------       --------------  ----- \n",
      " 0   id           14964 non-null  int64 \n",
      " 1   object_name  14964 non-null  object\n",
      " 2   chain        14964 non-null  object\n",
      " 3   object_type  14964 non-null  object\n",
      " 4   address      14964 non-null  object\n",
      " 5   number       14964 non-null  int64 \n",
      "dtypes: int64(2), object(4)\n",
      "memory usage: 818.3+ KB\n"
     ]
    }
   ],
   "source": [
    "data['object_name'].replace('', np.nan, inplace=True)\n",
    "data.dropna(subset=['object_name'], inplace=True)\n",
    "data.info()"
   ]
  },
  {
   "cell_type": "code",
   "execution_count": 9,
   "id": "0b45a1ed",
   "metadata": {},
   "outputs": [],
   "source": [
    "fake_chain.index\n",
    "data.loc[data['object_name'].isin(fake_chain.index), 'chain'] = 'нет'"
   ]
  },
  {
   "cell_type": "markdown",
   "id": "37910c6e",
   "metadata": {},
   "source": [
    "И проверим, остались ли такие \"сети\"."
   ]
  },
  {
   "cell_type": "code",
   "execution_count": 10,
   "id": "f7b9a6e5",
   "metadata": {},
   "outputs": [
    {
     "data": {
      "text/html": [
       "<div>\n",
       "<style scoped>\n",
       "    .dataframe tbody tr th:only-of-type {\n",
       "        vertical-align: middle;\n",
       "    }\n",
       "\n",
       "    .dataframe tbody tr th {\n",
       "        vertical-align: top;\n",
       "    }\n",
       "\n",
       "    .dataframe thead th {\n",
       "        text-align: right;\n",
       "    }\n",
       "</style>\n",
       "<table border=\"1\" class=\"dataframe\">\n",
       "  <thead>\n",
       "    <tr style=\"text-align: right;\">\n",
       "      <th></th>\n",
       "      <th>object_type</th>\n",
       "    </tr>\n",
       "    <tr>\n",
       "      <th>object_name</th>\n",
       "      <th></th>\n",
       "    </tr>\n",
       "  </thead>\n",
       "  <tbody>\n",
       "  </tbody>\n",
       "</table>\n",
       "</div>"
      ],
      "text/plain": [
       "Empty DataFrame\n",
       "Columns: [object_type]\n",
       "Index: []"
      ]
     },
     "execution_count": 10,
     "metadata": {},
     "output_type": "execute_result"
    }
   ],
   "source": [
    "data.query('chain == \"да\"').groupby('object_name').agg({\n",
    "    'object_type': 'count'\n",
    "}).sort_values(by= 'object_type').query('object_type == 1')"
   ]
  },
  {
   "cell_type": "markdown",
   "id": "eab8377c",
   "metadata": {},
   "source": [
    "## Выводы предобработки"
   ]
  },
  {
   "cell_type": "code",
   "execution_count": 11,
   "id": "0103f676",
   "metadata": {},
   "outputs": [
    {
     "data": {
      "text/plain": [
       "9043"
      ]
     },
     "execution_count": 11,
     "metadata": {},
     "output_type": "execute_result"
    }
   ],
   "source": [
    "data['object_name'].nunique()"
   ]
  },
  {
   "cell_type": "markdown",
   "id": "364d48a2",
   "metadata": {},
   "source": [
    "Мы проверили данные не явные дубликаты и их не оказалось, потом обнаружились фэйковые сетевые заведения, их количество удалось снизить до 205 штук, путем приведения всех названий к единому стилю, а эти 205 заведений были отправлены в несетевые, безымянные заведения были уделены из данных, благо их было около 3 процентов от всех данных. На данный момент имеем 9043 уникальных названий заведений. Данные идеальными сделать не получится, можно приступать к анализу данных."
   ]
  },
  {
   "cell_type": "markdown",
   "id": "41347d78",
   "metadata": {},
   "source": [
    "# Анализ данных"
   ]
  },
  {
   "cell_type": "markdown",
   "id": "09f604b0",
   "metadata": {},
   "source": [
    "## Количество заведений по видам объектов и по сетевым/несетевым"
   ]
  },
  {
   "cell_type": "markdown",
   "id": "97ea31a8",
   "metadata": {},
   "source": [
    "Посмотрим соотношение видов объектов общественного питания по количеству и построим график. А также посмотрим на соотношение сетевых и несетевых заведений по количеству."
   ]
  },
  {
   "cell_type": "code",
   "execution_count": 12,
   "id": "286fbd0c",
   "metadata": {},
   "outputs": [
    {
     "data": {
      "text/html": [
       "<div>\n",
       "<style scoped>\n",
       "    .dataframe tbody tr th:only-of-type {\n",
       "        vertical-align: middle;\n",
       "    }\n",
       "\n",
       "    .dataframe tbody tr th {\n",
       "        vertical-align: top;\n",
       "    }\n",
       "\n",
       "    .dataframe thead th {\n",
       "        text-align: right;\n",
       "    }\n",
       "</style>\n",
       "<table border=\"1\" class=\"dataframe\">\n",
       "  <thead>\n",
       "    <tr style=\"text-align: right;\">\n",
       "      <th>chain</th>\n",
       "      <th>да</th>\n",
       "      <th>нет</th>\n",
       "      <th>total</th>\n",
       "      <th>да(%)</th>\n",
       "      <th>нет(%)</th>\n",
       "    </tr>\n",
       "    <tr>\n",
       "      <th>object_type</th>\n",
       "      <th></th>\n",
       "      <th></th>\n",
       "      <th></th>\n",
       "      <th></th>\n",
       "      <th></th>\n",
       "    </tr>\n",
       "  </thead>\n",
       "  <tbody>\n",
       "    <tr>\n",
       "      <th>кафе</th>\n",
       "      <td>1292</td>\n",
       "      <td>4514</td>\n",
       "      <td>5806</td>\n",
       "      <td>0.22</td>\n",
       "      <td>0.78</td>\n",
       "    </tr>\n",
       "    <tr>\n",
       "      <th>столовая</th>\n",
       "      <td>3</td>\n",
       "      <td>2578</td>\n",
       "      <td>2581</td>\n",
       "      <td>0.00</td>\n",
       "      <td>1.00</td>\n",
       "    </tr>\n",
       "    <tr>\n",
       "      <th>ресторан</th>\n",
       "      <td>487</td>\n",
       "      <td>1785</td>\n",
       "      <td>2272</td>\n",
       "      <td>0.21</td>\n",
       "      <td>0.79</td>\n",
       "    </tr>\n",
       "    <tr>\n",
       "      <th>предприятие быстрого обслуживания</th>\n",
       "      <td>776</td>\n",
       "      <td>1121</td>\n",
       "      <td>1897</td>\n",
       "      <td>0.41</td>\n",
       "      <td>0.59</td>\n",
       "    </tr>\n",
       "    <tr>\n",
       "      <th>бар</th>\n",
       "      <td>25</td>\n",
       "      <td>809</td>\n",
       "      <td>834</td>\n",
       "      <td>0.03</td>\n",
       "      <td>0.97</td>\n",
       "    </tr>\n",
       "    <tr>\n",
       "      <th>буфет</th>\n",
       "      <td>11</td>\n",
       "      <td>568</td>\n",
       "      <td>579</td>\n",
       "      <td>0.02</td>\n",
       "      <td>0.98</td>\n",
       "    </tr>\n",
       "    <tr>\n",
       "      <th>кафетерий</th>\n",
       "      <td>46</td>\n",
       "      <td>335</td>\n",
       "      <td>381</td>\n",
       "      <td>0.12</td>\n",
       "      <td>0.88</td>\n",
       "    </tr>\n",
       "    <tr>\n",
       "      <th>закусочная</th>\n",
       "      <td>50</td>\n",
       "      <td>293</td>\n",
       "      <td>343</td>\n",
       "      <td>0.15</td>\n",
       "      <td>0.85</td>\n",
       "    </tr>\n",
       "    <tr>\n",
       "      <th>магазин (отдел кулинарии)</th>\n",
       "      <td>73</td>\n",
       "      <td>198</td>\n",
       "      <td>271</td>\n",
       "      <td>0.27</td>\n",
       "      <td>0.73</td>\n",
       "    </tr>\n",
       "  </tbody>\n",
       "</table>\n",
       "</div>"
      ],
      "text/plain": [
       "chain                                да   нет  total  да(%)  нет(%)\n",
       "object_type                                                        \n",
       "кафе                               1292  4514   5806   0.22    0.78\n",
       "столовая                              3  2578   2581   0.00    1.00\n",
       "ресторан                            487  1785   2272   0.21    0.79\n",
       "предприятие быстрого обслуживания   776  1121   1897   0.41    0.59\n",
       "бар                                  25   809    834   0.03    0.97\n",
       "буфет                                11   568    579   0.02    0.98\n",
       "кафетерий                            46   335    381   0.12    0.88\n",
       "закусочная                           50   293    343   0.15    0.85\n",
       "магазин (отдел кулинарии)            73   198    271   0.27    0.73"
      ]
     },
     "metadata": {},
     "output_type": "display_data"
    },
    {
     "data": {
      "text/plain": [
       "Text(0.5, 0, 'Кол-во заведений')"
      ]
     },
     "execution_count": 12,
     "metadata": {},
     "output_type": "execute_result"
    },
    {
     "data": {
      "image/png": "[encoded data removed]",
      "text/plain": [
       "<Figure size 432x288 with 1 Axes>"
      ]
     },
     "metadata": {
      "needs_background": "light"
     },
     "output_type": "display_data"
    }
   ],
   "source": [
    "report = data.pivot_table(index='object_type', columns='chain', values='id', aggfunc='nunique')\n",
    "report['total'] = report['да'] + report['нет']\n",
    "report['да(%)'] = report['да']/report['total']\n",
    "report['нет(%)'] = report['нет']/report['total']\n",
    "report = report.sort_values(by='total', ascending=False)\n",
    "display(report)\n",
    "\n",
    "report[['да', 'нет']].plot(kind='barh', stacked=True)\n",
    "plt.xlabel(\"Кол-во заведений\")"
   ]
  },
  {
   "cell_type": "markdown",
   "id": "f5ec6a54",
   "metadata": {},
   "source": [
    "Как мы можем видеть, наибольшее количество заведений из сетевых у типа кафе, но в процентном соотношении относительно заведений в типе, у предприятий быстрого питания 41% заведений относится к сетевым, а у кафе таких заведений всего лишь 22%."
   ]
  },
  {
   "cell_type": "markdown",
   "id": "2b2dfef5",
   "metadata": {},
   "source": [
    "## Параметры сетевых заведений"
   ]
  },
  {
   "cell_type": "markdown",
   "id": "ffc49420",
   "metadata": {},
   "source": [
    "Посмотрим что характерно для сетевых заведений: много заведений с небольшим числом посадочных мест в каждом или мало заведений с большим количеством посадочных мест?"
   ]
  },
  {
   "cell_type": "code",
   "execution_count": 13,
   "id": "18d9f757",
   "metadata": {
    "scrolled": false
   },
   "outputs": [
    {
     "data": {
      "text/html": [
       "<div>\n",
       "<style scoped>\n",
       "    .dataframe tbody tr th:only-of-type {\n",
       "        vertical-align: middle;\n",
       "    }\n",
       "\n",
       "    .dataframe tbody tr th {\n",
       "        vertical-align: top;\n",
       "    }\n",
       "\n",
       "    .dataframe thead th {\n",
       "        text-align: right;\n",
       "    }\n",
       "</style>\n",
       "<table border=\"1\" class=\"dataframe\">\n",
       "  <thead>\n",
       "    <tr style=\"text-align: right;\">\n",
       "      <th></th>\n",
       "      <th>id</th>\n",
       "      <th>number</th>\n",
       "    </tr>\n",
       "    <tr>\n",
       "      <th>object_name</th>\n",
       "      <th></th>\n",
       "      <th></th>\n",
       "    </tr>\n",
       "  </thead>\n",
       "  <tbody>\n",
       "    <tr>\n",
       "      <th>bocconcino</th>\n",
       "      <td>3</td>\n",
       "      <td>66.67</td>\n",
       "    </tr>\n",
       "    <tr>\n",
       "      <th>burgerclub</th>\n",
       "      <td>3</td>\n",
       "      <td>20.33</td>\n",
       "    </tr>\n",
       "    <tr>\n",
       "      <th>coffeeshopcompany</th>\n",
       "      <td>4</td>\n",
       "      <td>47.25</td>\n",
       "    </tr>\n",
       "    <tr>\n",
       "      <th>cofix</th>\n",
       "      <td>25</td>\n",
       "      <td>9.60</td>\n",
       "    </tr>\n",
       "    <tr>\n",
       "      <th>correas</th>\n",
       "      <td>3</td>\n",
       "      <td>44.00</td>\n",
       "    </tr>\n",
       "    <tr>\n",
       "      <th>...</th>\n",
       "      <td>...</td>\n",
       "      <td>...</td>\n",
       "    </tr>\n",
       "    <tr>\n",
       "      <th>штолле</th>\n",
       "      <td>17</td>\n",
       "      <td>27.82</td>\n",
       "    </tr>\n",
       "    <tr>\n",
       "      <th>якитория</th>\n",
       "      <td>48</td>\n",
       "      <td>115.12</td>\n",
       "    </tr>\n",
       "    <tr>\n",
       "      <th>янпримус</th>\n",
       "      <td>2</td>\n",
       "      <td>200.00</td>\n",
       "    </tr>\n",
       "    <tr>\n",
       "      <th>япоша</th>\n",
       "      <td>2</td>\n",
       "      <td>105.00</td>\n",
       "    </tr>\n",
       "    <tr>\n",
       "      <th>ёрш</th>\n",
       "      <td>6</td>\n",
       "      <td>103.17</td>\n",
       "    </tr>\n",
       "  </tbody>\n",
       "</table>\n",
       "<p>206 rows × 2 columns</p>\n",
       "</div>"
      ],
      "text/plain": [
       "                   id  number\n",
       "object_name                  \n",
       "bocconcino          3   66.67\n",
       "burgerclub          3   20.33\n",
       "coffeeshopcompany   4   47.25\n",
       "cofix              25    9.60\n",
       "correas             3   44.00\n",
       "...                ..     ...\n",
       "штолле             17   27.82\n",
       "якитория           48  115.12\n",
       "янпримус            2  200.00\n",
       "япоша               2  105.00\n",
       "ёрш                 6  103.17\n",
       "\n",
       "[206 rows x 2 columns]"
      ]
     },
     "metadata": {},
     "output_type": "display_data"
    }
   ],
   "source": [
    "data_chain = data.query('chain == \"да\"')\n",
    "data_chain = data_chain.groupby('object_name').agg({'id': 'count', 'number':'mean'})\n",
    "display(data_chain)"
   ]
  },
  {
   "cell_type": "markdown",
   "id": "40386d47",
   "metadata": {},
   "source": [
    "Чтобы определить рамки \"мало\" и \"много\"\n",
    "Найдем 25 процентиль для количества посадочных мест в сетевых заведениях."
   ]
  },
  {
   "cell_type": "code",
   "execution_count": 14,
   "id": "4cbd51dd",
   "metadata": {
    "scrolled": true
   },
   "outputs": [
    {
     "data": {
      "text/plain": [
       "count   206.00\n",
       "mean     56.98\n",
       "std      47.96\n",
       "min       0.00\n",
       "25%      20.06\n",
       "50%      43.50\n",
       "75%      81.13\n",
       "max     245.00\n",
       "Name: number, dtype: float64"
      ]
     },
     "execution_count": 14,
     "metadata": {},
     "output_type": "execute_result"
    }
   ],
   "source": [
    "data_chain['number'].describe()"
   ]
  },
  {
   "cell_type": "markdown",
   "id": "87c7d375",
   "metadata": {},
   "source": [
    "А для количества заведений возьмем медианное значение"
   ]
  },
  {
   "cell_type": "code",
   "execution_count": 15,
   "id": "07be83de",
   "metadata": {},
   "outputs": [
    {
     "data": {
      "text/plain": [
       "count   206.00\n",
       "mean     13.41\n",
       "std      27.95\n",
       "min       2.00\n",
       "25%       2.00\n",
       "50%       4.00\n",
       "75%       9.00\n",
       "max     183.00\n",
       "Name: id, dtype: float64"
      ]
     },
     "execution_count": 15,
     "metadata": {},
     "output_type": "execute_result"
    }
   ],
   "source": [
    "data_chain['id'].describe()"
   ]
  },
  {
   "cell_type": "code",
   "execution_count": 16,
   "id": "45714b31",
   "metadata": {},
   "outputs": [
    {
     "data": {
      "text/html": [
       "<div>\n",
       "<style scoped>\n",
       "    .dataframe tbody tr th:only-of-type {\n",
       "        vertical-align: middle;\n",
       "    }\n",
       "\n",
       "    .dataframe tbody tr th {\n",
       "        vertical-align: top;\n",
       "    }\n",
       "\n",
       "    .dataframe thead th {\n",
       "        text-align: right;\n",
       "    }\n",
       "</style>\n",
       "<table border=\"1\" class=\"dataframe\">\n",
       "  <thead>\n",
       "    <tr style=\"text-align: right;\">\n",
       "      <th></th>\n",
       "      <th>Число сетей</th>\n",
       "      <th>Медианное число заведений</th>\n",
       "      <th>Медианное число посадочных мест</th>\n",
       "    </tr>\n",
       "    <tr>\n",
       "      <th>Группа</th>\n",
       "      <th></th>\n",
       "      <th></th>\n",
       "      <th></th>\n",
       "    </tr>\n",
       "  </thead>\n",
       "  <tbody>\n",
       "    <tr>\n",
       "      <th>Мало заведений - Мало мест</th>\n",
       "      <td>26</td>\n",
       "      <td>2.00</td>\n",
       "      <td>13.25</td>\n",
       "    </tr>\n",
       "    <tr>\n",
       "      <th>Мало заведений - Много мест</th>\n",
       "      <td>80</td>\n",
       "      <td>2.00</td>\n",
       "      <td>60.17</td>\n",
       "    </tr>\n",
       "    <tr>\n",
       "      <th>Много заведений - Мало мест</th>\n",
       "      <td>26</td>\n",
       "      <td>11.50</td>\n",
       "      <td>11.75</td>\n",
       "    </tr>\n",
       "    <tr>\n",
       "      <th>Много заведений - Много мест</th>\n",
       "      <td>74</td>\n",
       "      <td>9.00</td>\n",
       "      <td>57.99</td>\n",
       "    </tr>\n",
       "  </tbody>\n",
       "</table>\n",
       "</div>"
      ],
      "text/plain": [
       "                              Число сетей  Медианное число заведений  \\\n",
       "Группа                                                                 \n",
       "Мало заведений - Мало мест             26                       2.00   \n",
       "Мало заведений - Много мест            80                       2.00   \n",
       "Много заведений - Мало мест            26                      11.50   \n",
       "Много заведений - Много мест           74                       9.00   \n",
       "\n",
       "                              Медианное число посадочных мест  \n",
       "Группа                                                         \n",
       "Мало заведений - Мало мест                              13.25  \n",
       "Мало заведений - Много мест                             60.17  \n",
       "Много заведений - Мало мест                             11.75  \n",
       "Много заведений - Много мест                            57.99  "
      ]
     },
     "execution_count": 16,
     "metadata": {},
     "output_type": "execute_result"
    },
    {
     "data": {
      "image/png": "[encoded data removed]",
      "text/plain": [
       "<Figure size 432x288 with 1 Axes>"
      ]
     },
     "metadata": {
      "needs_background": "light"
     },
     "output_type": "display_data"
    }
   ],
   "source": [
    "data_chain['rest_num_group'] = 'Мало заведений'\n",
    "data_chain.loc[data_chain['id'] > 4, 'rest_num_group'] = 'Много заведений'\n",
    "\n",
    "data_chain['seat_num_group'] = 'Мало мест'\n",
    "data_chain.loc[data_chain['number'] > 20, 'seat_num_group'] = 'Много мест'\n",
    "data_chain['Группа'] = data_chain['rest_num_group'].astype(str) + ' - ' + data_chain['seat_num_group'].astype(str)\n",
    "sns.scatterplot(data=data_chain, x='id', y='number', hue='Группа')\n",
    "plt.xlabel('Число заведений'), plt.ylabel('Среднее число посадочных мест')\n",
    "\n",
    "data_chain.reset_index().groupby('Группа').agg({'object_name':'nunique', 'id':'median', 'number':'median'})\\\n",
    "                                          .rename(columns={'object_name':'Число сетей',\n",
    "                                                          'id':'Медианное число заведений',\n",
    "                                                          'number':'Медианное число посадочных мест'})\n"
   ]
  },
  {
   "cell_type": "markdown",
   "id": "2df0ee10",
   "metadata": {},
   "source": [
    "По таблице и графикам можно видеть, что для сетевых заведений наиболее характерно наибольшее количество мест в заведениях, вне зависимости от количества заведений. А наименее характерно маленькое число посадочных мест."
   ]
  },
  {
   "cell_type": "markdown",
   "id": "9a117878",
   "metadata": {},
   "source": [
    "## Среднее число посадочных мест по видам объектов "
   ]
  },
  {
   "cell_type": "markdown",
   "id": "7fb0698e",
   "metadata": {},
   "source": [
    "Для каждого вида объекта общественного питания опишем среднее количество посадочных мест. Посмотрим какой вид предоставляет в среднем самое большое количество посадочных мест и построим графики."
   ]
  },
  {
   "cell_type": "code",
   "execution_count": 17,
   "id": "7e281aee",
   "metadata": {},
   "outputs": [
    {
     "data": {
      "text/html": [
       "<div>\n",
       "<style scoped>\n",
       "    .dataframe tbody tr th:only-of-type {\n",
       "        vertical-align: middle;\n",
       "    }\n",
       "\n",
       "    .dataframe tbody tr th {\n",
       "        vertical-align: top;\n",
       "    }\n",
       "\n",
       "    .dataframe thead th {\n",
       "        text-align: right;\n",
       "    }\n",
       "</style>\n",
       "<table border=\"1\" class=\"dataframe\">\n",
       "  <thead>\n",
       "    <tr style=\"text-align: right;\">\n",
       "      <th></th>\n",
       "      <th>number</th>\n",
       "    </tr>\n",
       "    <tr>\n",
       "      <th>object_type</th>\n",
       "      <th></th>\n",
       "    </tr>\n",
       "  </thead>\n",
       "  <tbody>\n",
       "    <tr>\n",
       "      <th>столовая</th>\n",
       "      <td>130.45</td>\n",
       "    </tr>\n",
       "    <tr>\n",
       "      <th>ресторан</th>\n",
       "      <td>97.01</td>\n",
       "    </tr>\n",
       "    <tr>\n",
       "      <th>буфет</th>\n",
       "      <td>51.49</td>\n",
       "    </tr>\n",
       "    <tr>\n",
       "      <th>бар</th>\n",
       "      <td>44.01</td>\n",
       "    </tr>\n",
       "    <tr>\n",
       "      <th>кафе</th>\n",
       "      <td>40.37</td>\n",
       "    </tr>\n",
       "    <tr>\n",
       "      <th>предприятие быстрого обслуживания</th>\n",
       "      <td>20.70</td>\n",
       "    </tr>\n",
       "    <tr>\n",
       "      <th>кафетерий</th>\n",
       "      <td>9.11</td>\n",
       "    </tr>\n",
       "    <tr>\n",
       "      <th>закусочная</th>\n",
       "      <td>7.83</td>\n",
       "    </tr>\n",
       "    <tr>\n",
       "      <th>магазин (отдел кулинарии)</th>\n",
       "      <td>5.54</td>\n",
       "    </tr>\n",
       "  </tbody>\n",
       "</table>\n",
       "</div>"
      ],
      "text/plain": [
       "                                   number\n",
       "object_type                              \n",
       "столовая                           130.45\n",
       "ресторан                            97.01\n",
       "буфет                               51.49\n",
       "бар                                 44.01\n",
       "кафе                                40.37\n",
       "предприятие быстрого обслуживания   20.70\n",
       "кафетерий                            9.11\n",
       "закусочная                           7.83\n",
       "магазин (отдел кулинарии)            5.54"
      ]
     },
     "metadata": {},
     "output_type": "display_data"
    },
    {
     "data": {
      "text/plain": [
       "Text(0.5, 0, 'Посадочных мест')"
      ]
     },
     "execution_count": 17,
     "metadata": {},
     "output_type": "execute_result"
    },
    {
     "data": {
      "image/png": "[encoded data removed]",
      "text/plain": [
       "<Figure size 432x288 with 1 Axes>"
      ]
     },
     "metadata": {
      "needs_background": "light"
     },
     "output_type": "display_data"
    }
   ],
   "source": [
    "data_vidi = data.groupby('object_type').agg({'number':'mean'}).sort_values(by='number', ascending=False)\n",
    "display(data_vidi)\n",
    "data_vidi.plot(kind='barh', stacked=True)\n",
    "plt.xlabel('Посадочных мест')"
   ]
  },
  {
   "cell_type": "markdown",
   "id": "405fd1c9",
   "metadata": {},
   "source": [
    "Можно видеть, что наибольшее среднее количество посадочных мест в заведениях типа столовые(у них в среднем 130 посадочных мест), дальше идут рестораны(у них в среднем 100 посадочных мест), дальше буфеты, бары, кафе имеют в районе 40-50 посадочных мест в среднем.\n",
    "Теперь выделим в отдельный столбец информацию о улице на которой находится заведение. Это нам необходимо для дальнейшего анализа."
   ]
  },
  {
   "cell_type": "code",
   "execution_count": 18,
   "id": "b4bb4115",
   "metadata": {},
   "outputs": [
    {
     "data": {
      "text/html": [
       "<div>\n",
       "<style scoped>\n",
       "    .dataframe tbody tr th:only-of-type {\n",
       "        vertical-align: middle;\n",
       "    }\n",
       "\n",
       "    .dataframe tbody tr th {\n",
       "        vertical-align: top;\n",
       "    }\n",
       "\n",
       "    .dataframe thead th {\n",
       "        text-align: right;\n",
       "    }\n",
       "</style>\n",
       "<table border=\"1\" class=\"dataframe\">\n",
       "  <thead>\n",
       "    <tr style=\"text-align: right;\">\n",
       "      <th></th>\n",
       "      <th>id</th>\n",
       "      <th>object_name</th>\n",
       "      <th>chain</th>\n",
       "      <th>object_type</th>\n",
       "      <th>address</th>\n",
       "      <th>number</th>\n",
       "      <th>street</th>\n",
       "    </tr>\n",
       "  </thead>\n",
       "  <tbody>\n",
       "    <tr>\n",
       "      <th>0</th>\n",
       "      <td>151635</td>\n",
       "      <td>сметана</td>\n",
       "      <td>нет</td>\n",
       "      <td>кафе</td>\n",
       "      <td>город Москва, улица Егора Абакумова, дом 9</td>\n",
       "      <td>48</td>\n",
       "      <td>улица Егора Абакумова</td>\n",
       "    </tr>\n",
       "    <tr>\n",
       "      <th>1</th>\n",
       "      <td>77874</td>\n",
       "      <td>родник</td>\n",
       "      <td>нет</td>\n",
       "      <td>кафе</td>\n",
       "      <td>город Москва, улица Талалихина, дом 2/1, корпус 1</td>\n",
       "      <td>35</td>\n",
       "      <td>улица Талалихина</td>\n",
       "    </tr>\n",
       "    <tr>\n",
       "      <th>2</th>\n",
       "      <td>24309</td>\n",
       "      <td>академия</td>\n",
       "      <td>нет</td>\n",
       "      <td>кафе</td>\n",
       "      <td>город Москва, Абельмановская улица, дом 6</td>\n",
       "      <td>95</td>\n",
       "      <td>Абельмановская улица</td>\n",
       "    </tr>\n",
       "    <tr>\n",
       "      <th>3</th>\n",
       "      <td>21894</td>\n",
       "      <td>пиццетория</td>\n",
       "      <td>да</td>\n",
       "      <td>кафе</td>\n",
       "      <td>город Москва, Абрамцевская улица, дом 1</td>\n",
       "      <td>40</td>\n",
       "      <td>Абрамцевская улица</td>\n",
       "    </tr>\n",
       "    <tr>\n",
       "      <th>4</th>\n",
       "      <td>119365</td>\n",
       "      <td>вишневаяметель</td>\n",
       "      <td>нет</td>\n",
       "      <td>кафе</td>\n",
       "      <td>город Москва, Абрамцевская улица, дом 9, корпус 1</td>\n",
       "      <td>50</td>\n",
       "      <td>Абрамцевская улица</td>\n",
       "    </tr>\n",
       "  </tbody>\n",
       "</table>\n",
       "</div>"
      ],
      "text/plain": [
       "       id     object_name chain object_type  \\\n",
       "0  151635         сметана   нет        кафе   \n",
       "1   77874          родник   нет        кафе   \n",
       "2   24309        академия   нет        кафе   \n",
       "3   21894      пиццетория    да        кафе   \n",
       "4  119365  вишневаяметель   нет        кафе   \n",
       "\n",
       "                                             address  number  \\\n",
       "0         город Москва, улица Егора Абакумова, дом 9      48   \n",
       "1  город Москва, улица Талалихина, дом 2/1, корпус 1      35   \n",
       "2          город Москва, Абельмановская улица, дом 6      95   \n",
       "3            город Москва, Абрамцевская улица, дом 1      40   \n",
       "4  город Москва, Абрамцевская улица, дом 9, корпус 1      50   \n",
       "\n",
       "                  street  \n",
       "0  улица Егора Абакумова  \n",
       "1       улица Талалихина  \n",
       "2   Абельмановская улица  \n",
       "3     Абрамцевская улица  \n",
       "4     Абрамцевская улица  "
      ]
     },
     "execution_count": 18,
     "metadata": {},
     "output_type": "execute_result"
    }
   ],
   "source": [
    "data['street'] = data['address'].apply(lambda x: x.split(',')[1])\n",
    "data['street'] = data['street'].str.strip()\n",
    "data.head(5)"
   ]
  },
  {
   "cell_type": "markdown",
   "id": "f62511b2",
   "metadata": {},
   "source": [
    "##  Tоп-10 улиц по количеству объектов общественного питания"
   ]
  },
  {
   "cell_type": "markdown",
   "id": "7e442d59",
   "metadata": {},
   "source": [
    "Добавим районы из внешнего источника."
   ]
  },
  {
   "cell_type": "code",
   "execution_count": 19,
   "id": "f5d3ac0e",
   "metadata": {},
   "outputs": [],
   "source": [
    "from io import BytesIO\n",
    "import requests"
   ]
  },
  {
   "cell_type": "code",
   "execution_count": 20,
   "id": "333c88bc",
   "metadata": {},
   "outputs": [
    {
     "data": {
      "text/html": [
       "<div>\n",
       "<style scoped>\n",
       "    .dataframe tbody tr th:only-of-type {\n",
       "        vertical-align: middle;\n",
       "    }\n",
       "\n",
       "    .dataframe tbody tr th {\n",
       "        vertical-align: top;\n",
       "    }\n",
       "\n",
       "    .dataframe thead th {\n",
       "        text-align: right;\n",
       "    }\n",
       "</style>\n",
       "<table border=\"1\" class=\"dataframe\">\n",
       "  <thead>\n",
       "    <tr style=\"text-align: right;\">\n",
       "      <th></th>\n",
       "      <th>streetname</th>\n",
       "      <th>areaid</th>\n",
       "      <th>okrug</th>\n",
       "      <th>area</th>\n",
       "    </tr>\n",
       "  </thead>\n",
       "  <tbody>\n",
       "    <tr>\n",
       "      <th>323</th>\n",
       "      <td>Большая Никитская улица</td>\n",
       "      <td>19</td>\n",
       "      <td>ЦАО</td>\n",
       "      <td>Тверской район</td>\n",
       "    </tr>\n",
       "    <tr>\n",
       "      <th>2578</th>\n",
       "      <td>проспект Мира</td>\n",
       "      <td>79</td>\n",
       "      <td>СВАО</td>\n",
       "      <td>Останкинский район</td>\n",
       "    </tr>\n",
       "    <tr>\n",
       "      <th>1681</th>\n",
       "      <td>Советская улица</td>\n",
       "      <td>43</td>\n",
       "      <td>ЗАО</td>\n",
       "      <td>Район Внуково</td>\n",
       "    </tr>\n",
       "    <tr>\n",
       "      <th>2127</th>\n",
       "      <td>1-я Хуторская улица</td>\n",
       "      <td>65</td>\n",
       "      <td>САО</td>\n",
       "      <td>Савеловский район</td>\n",
       "    </tr>\n",
       "    <tr>\n",
       "      <th>3503</th>\n",
       "      <td>1-я Кабельная улица</td>\n",
       "      <td>114</td>\n",
       "      <td>ЮВАО</td>\n",
       "      <td>Район Лефортово</td>\n",
       "    </tr>\n",
       "    <tr>\n",
       "      <th>377</th>\n",
       "      <td>Москворецкая набережная</td>\n",
       "      <td>19</td>\n",
       "      <td>ЦАО</td>\n",
       "      <td>Тверской район</td>\n",
       "    </tr>\n",
       "    <tr>\n",
       "      <th>1828</th>\n",
       "      <td>улица Радио</td>\n",
       "      <td>13</td>\n",
       "      <td>ЦАО</td>\n",
       "      <td>Басманный район</td>\n",
       "    </tr>\n",
       "    <tr>\n",
       "      <th>3196</th>\n",
       "      <td>3-й Павелецкий проезд</td>\n",
       "      <td>98</td>\n",
       "      <td>ЮАО</td>\n",
       "      <td>Даниловский район</td>\n",
       "    </tr>\n",
       "    <tr>\n",
       "      <th>988</th>\n",
       "      <td>Зверинецкая улица</td>\n",
       "      <td>36</td>\n",
       "      <td>ВАО</td>\n",
       "      <td>Район Соколиная Гора</td>\n",
       "    </tr>\n",
       "    <tr>\n",
       "      <th>2030</th>\n",
       "      <td>Левобережная улица</td>\n",
       "      <td>68</td>\n",
       "      <td>САО</td>\n",
       "      <td>Район Ховрино</td>\n",
       "    </tr>\n",
       "  </tbody>\n",
       "</table>\n",
       "</div>"
      ],
      "text/plain": [
       "                   streetname  areaid okrug                  area\n",
       "323   Большая Никитская улица      19   ЦАО        Тверской район\n",
       "2578            проспект Мира      79  СВАО    Останкинский район\n",
       "1681          Советская улица      43   ЗАО         Район Внуково\n",
       "2127      1-я Хуторская улица      65   САО     Савеловский район\n",
       "3503      1-я Кабельная улица     114  ЮВАО       Район Лефортово\n",
       "377   Москворецкая набережная      19   ЦАО        Тверской район\n",
       "1828              улица Радио      13   ЦАО       Басманный район\n",
       "3196    3-й Павелецкий проезд      98   ЮАО     Даниловский район\n",
       "988         Зверинецкая улица      36   ВАО  Район Соколиная Гора\n",
       "2030       Левобережная улица      68   САО         Район Ховрино"
      ]
     },
     "execution_count": 20,
     "metadata": {},
     "output_type": "execute_result"
    }
   ],
   "source": [
    "spreadsheed_id = '1ehA935smfoQrLsg6tg-1z2E9BbAQyvdxaF5Qx7ZNgbY'\n",
    "file_name = 'https://docs.google.com/spreadsheets/d/1ehA935smfoQrLsg6tg-1z2E9BbAQyvdxaF5Qx7ZNgbY/export?format=csv'.format(spreadsheed_id)\n",
    "r = requests.get(file_name)\n",
    "df = pd.read_csv(BytesIO(r.content))\n",
    "df.sample(10)"
   ]
  },
  {
   "cell_type": "markdown",
   "id": "c30b38c3",
   "metadata": {},
   "source": [
    "Найдем топ-10, а потом, объеденим с таблицей с районами."
   ]
  },
  {
   "cell_type": "code",
   "execution_count": 21,
   "id": "bdbcb6a0",
   "metadata": {},
   "outputs": [
    {
     "data": {
      "text/html": [
       "<div>\n",
       "<style scoped>\n",
       "    .dataframe tbody tr th:only-of-type {\n",
       "        vertical-align: middle;\n",
       "    }\n",
       "\n",
       "    .dataframe tbody tr th {\n",
       "        vertical-align: top;\n",
       "    }\n",
       "\n",
       "    .dataframe thead th {\n",
       "        text-align: right;\n",
       "    }\n",
       "</style>\n",
       "<table border=\"1\" class=\"dataframe\">\n",
       "  <thead>\n",
       "    <tr style=\"text-align: right;\">\n",
       "      <th></th>\n",
       "      <th>id</th>\n",
       "    </tr>\n",
       "    <tr>\n",
       "      <th>street</th>\n",
       "      <th></th>\n",
       "    </tr>\n",
       "  </thead>\n",
       "  <tbody>\n",
       "    <tr>\n",
       "      <th>город Зеленоград</th>\n",
       "      <td>232</td>\n",
       "    </tr>\n",
       "    <tr>\n",
       "      <th>проспект Мира</th>\n",
       "      <td>199</td>\n",
       "    </tr>\n",
       "    <tr>\n",
       "      <th>Профсоюзная улица</th>\n",
       "      <td>178</td>\n",
       "    </tr>\n",
       "    <tr>\n",
       "      <th>Ленинградский проспект</th>\n",
       "      <td>171</td>\n",
       "    </tr>\n",
       "    <tr>\n",
       "      <th>Пресненская набережная</th>\n",
       "      <td>167</td>\n",
       "    </tr>\n",
       "    <tr>\n",
       "      <th>Варшавское шоссе</th>\n",
       "      <td>153</td>\n",
       "    </tr>\n",
       "    <tr>\n",
       "      <th>Ленинский проспект</th>\n",
       "      <td>146</td>\n",
       "    </tr>\n",
       "    <tr>\n",
       "      <th>поселение Сосенское</th>\n",
       "      <td>124</td>\n",
       "    </tr>\n",
       "    <tr>\n",
       "      <th>проспект Вернадского</th>\n",
       "      <td>124</td>\n",
       "    </tr>\n",
       "    <tr>\n",
       "      <th>Кутузовский проспект</th>\n",
       "      <td>113</td>\n",
       "    </tr>\n",
       "  </tbody>\n",
       "</table>\n",
       "</div>"
      ],
      "text/plain": [
       "                         id\n",
       "street                     \n",
       "город Зеленоград        232\n",
       "проспект Мира           199\n",
       "Профсоюзная улица       178\n",
       "Ленинградский проспект  171\n",
       "Пресненская набережная  167\n",
       "Варшавское шоссе        153\n",
       "Ленинский проспект      146\n",
       "поселение Сосенское     124\n",
       "проспект Вернадского    124\n",
       "Кутузовский проспект    113"
      ]
     },
     "metadata": {},
     "output_type": "display_data"
    },
    {
     "data": {
      "text/plain": [
       "Text(0.5, 0, 'Число заведений')"
      ]
     },
     "execution_count": 21,
     "metadata": {},
     "output_type": "execute_result"
    },
    {
     "data": {
      "image/png": "[encoded data removed]",
      "text/plain": [
       "<Figure size 432x288 with 1 Axes>"
      ]
     },
     "metadata": {
      "needs_background": "light"
     },
     "output_type": "display_data"
    }
   ],
   "source": [
    "top_10 = data.groupby('street').agg({'id':'count'}).sort_values(by='id', ascending=False)\n",
    "display(top_10.head(10))\n",
    "top_10.head(10).plot(kind='barh', stacked=True)\n",
    "plt.xlabel('Число заведений')"
   ]
  },
  {
   "cell_type": "code",
   "execution_count": 22,
   "id": "f257a527",
   "metadata": {},
   "outputs": [
    {
     "name": "stderr",
     "output_type": "stream",
     "text": [
      "C:\\Users\\Igor\\AppData\\Local\\Temp/ipykernel_2868/3807506266.py:8: FutureWarning: In a future version of pandas all arguments of DataFrame.drop except for the argument 'labels' will be keyword-only\n",
      "  top_10_merge = top_10_merge.drop(['areaid'], 1)\n"
     ]
    },
    {
     "data": {
      "text/html": [
       "<div>\n",
       "<style scoped>\n",
       "    .dataframe tbody tr th:only-of-type {\n",
       "        vertical-align: middle;\n",
       "    }\n",
       "\n",
       "    .dataframe tbody tr th {\n",
       "        vertical-align: top;\n",
       "    }\n",
       "\n",
       "    .dataframe thead th {\n",
       "        text-align: right;\n",
       "    }\n",
       "</style>\n",
       "<table border=\"1\" class=\"dataframe\">\n",
       "  <thead>\n",
       "    <tr style=\"text-align: right;\">\n",
       "      <th></th>\n",
       "      <th>streetname</th>\n",
       "      <th>okrug</th>\n",
       "      <th>area</th>\n",
       "      <th>id</th>\n",
       "    </tr>\n",
       "  </thead>\n",
       "  <tbody>\n",
       "    <tr>\n",
       "      <th>10</th>\n",
       "      <td>город Зеленоград</td>\n",
       "      <td>Зеленоград</td>\n",
       "      <td>Панфиловский район</td>\n",
       "      <td>232</td>\n",
       "    </tr>\n",
       "    <tr>\n",
       "      <th>8</th>\n",
       "      <td>город Зеленоград</td>\n",
       "      <td>Зеленоград</td>\n",
       "      <td>Район Крюково</td>\n",
       "      <td>232</td>\n",
       "    </tr>\n",
       "    <tr>\n",
       "      <th>9</th>\n",
       "      <td>город Зеленоград</td>\n",
       "      <td>Зеленоград</td>\n",
       "      <td>Район Матушкино-Савелки</td>\n",
       "      <td>232</td>\n",
       "    </tr>\n",
       "    <tr>\n",
       "      <th>18</th>\n",
       "      <td>проспект Мира</td>\n",
       "      <td>СВАО</td>\n",
       "      <td>Останкинский район</td>\n",
       "      <td>199</td>\n",
       "    </tr>\n",
       "    <tr>\n",
       "      <th>17</th>\n",
       "      <td>проспект Мира</td>\n",
       "      <td>СВАО</td>\n",
       "      <td>Район Марьина роща</td>\n",
       "      <td>199</td>\n",
       "    </tr>\n",
       "    <tr>\n",
       "      <th>16</th>\n",
       "      <td>проспект Мира</td>\n",
       "      <td>СВАО</td>\n",
       "      <td>Ярославский Район</td>\n",
       "      <td>199</td>\n",
       "    </tr>\n",
       "    <tr>\n",
       "      <th>15</th>\n",
       "      <td>проспект Мира</td>\n",
       "      <td>СВАО</td>\n",
       "      <td>Алексеевский район</td>\n",
       "      <td>199</td>\n",
       "    </tr>\n",
       "    <tr>\n",
       "      <th>20</th>\n",
       "      <td>проспект Мира</td>\n",
       "      <td>СВАО</td>\n",
       "      <td>Район Свиблово</td>\n",
       "      <td>199</td>\n",
       "    </tr>\n",
       "    <tr>\n",
       "      <th>43</th>\n",
       "      <td>проспект Мира</td>\n",
       "      <td>ЦАО</td>\n",
       "      <td>Мещанский район</td>\n",
       "      <td>199</td>\n",
       "    </tr>\n",
       "    <tr>\n",
       "      <th>19</th>\n",
       "      <td>проспект Мира</td>\n",
       "      <td>СВАО</td>\n",
       "      <td>Район Ростокино</td>\n",
       "      <td>199</td>\n",
       "    </tr>\n",
       "    <tr>\n",
       "      <th>28</th>\n",
       "      <td>Профсоюзная улица</td>\n",
       "      <td>ЮЗАО</td>\n",
       "      <td>Академический район</td>\n",
       "      <td>178</td>\n",
       "    </tr>\n",
       "    <tr>\n",
       "      <th>29</th>\n",
       "      <td>Профсоюзная улица</td>\n",
       "      <td>ЮЗАО</td>\n",
       "      <td>Район Черемушки</td>\n",
       "      <td>178</td>\n",
       "    </tr>\n",
       "    <tr>\n",
       "      <th>32</th>\n",
       "      <td>Профсоюзная улица</td>\n",
       "      <td>ЮЗАО</td>\n",
       "      <td>Район Ясенево</td>\n",
       "      <td>178</td>\n",
       "    </tr>\n",
       "    <tr>\n",
       "      <th>33</th>\n",
       "      <td>Профсоюзная улица</td>\n",
       "      <td>ЮЗАО</td>\n",
       "      <td>Район Коньково</td>\n",
       "      <td>178</td>\n",
       "    </tr>\n",
       "    <tr>\n",
       "      <th>37</th>\n",
       "      <td>Профсоюзная улица</td>\n",
       "      <td>ЮЗАО</td>\n",
       "      <td>Обручевский район</td>\n",
       "      <td>178</td>\n",
       "    </tr>\n",
       "    <tr>\n",
       "      <th>40</th>\n",
       "      <td>Профсоюзная улица</td>\n",
       "      <td>ЮЗАО</td>\n",
       "      <td>Район Теплый Стан</td>\n",
       "      <td>178</td>\n",
       "    </tr>\n",
       "    <tr>\n",
       "      <th>11</th>\n",
       "      <td>Ленинградский проспект</td>\n",
       "      <td>САО</td>\n",
       "      <td>Район Аэропорт</td>\n",
       "      <td>171</td>\n",
       "    </tr>\n",
       "    <tr>\n",
       "      <th>12</th>\n",
       "      <td>Ленинградский проспект</td>\n",
       "      <td>САО</td>\n",
       "      <td>Район Беговой</td>\n",
       "      <td>171</td>\n",
       "    </tr>\n",
       "    <tr>\n",
       "      <th>13</th>\n",
       "      <td>Ленинградский проспект</td>\n",
       "      <td>САО</td>\n",
       "      <td>Хорошевский район</td>\n",
       "      <td>171</td>\n",
       "    </tr>\n",
       "    <tr>\n",
       "      <th>14</th>\n",
       "      <td>Ленинградский проспект</td>\n",
       "      <td>САО</td>\n",
       "      <td>Район Сокол</td>\n",
       "      <td>171</td>\n",
       "    </tr>\n",
       "    <tr>\n",
       "      <th>0</th>\n",
       "      <td>Пресненская набережная</td>\n",
       "      <td>ЦАО</td>\n",
       "      <td>Пресненский район</td>\n",
       "      <td>167</td>\n",
       "    </tr>\n",
       "    <tr>\n",
       "      <th>21</th>\n",
       "      <td>Варшавское шоссе</td>\n",
       "      <td>ЮАО</td>\n",
       "      <td>Район Чертаново Центральное</td>\n",
       "      <td>153</td>\n",
       "    </tr>\n",
       "    <tr>\n",
       "      <th>26</th>\n",
       "      <td>Варшавское шоссе</td>\n",
       "      <td>ЮАО</td>\n",
       "      <td>Район Нагатино-Садовники</td>\n",
       "      <td>153</td>\n",
       "    </tr>\n",
       "    <tr>\n",
       "      <th>41</th>\n",
       "      <td>Варшавское шоссе</td>\n",
       "      <td>ЮЗАО</td>\n",
       "      <td>Район Южное Бутово</td>\n",
       "      <td>153</td>\n",
       "    </tr>\n",
       "    <tr>\n",
       "      <th>38</th>\n",
       "      <td>Варшавское шоссе</td>\n",
       "      <td>ЮЗАО</td>\n",
       "      <td>Район Северное Бутово</td>\n",
       "      <td>153</td>\n",
       "    </tr>\n",
       "    <tr>\n",
       "      <th>27</th>\n",
       "      <td>Варшавское шоссе</td>\n",
       "      <td>ЮАО</td>\n",
       "      <td>Нагорный район</td>\n",
       "      <td>153</td>\n",
       "    </tr>\n",
       "    <tr>\n",
       "      <th>22</th>\n",
       "      <td>Варшавское шоссе</td>\n",
       "      <td>ЮАО</td>\n",
       "      <td>Район Чертаново Северное</td>\n",
       "      <td>153</td>\n",
       "    </tr>\n",
       "    <tr>\n",
       "      <th>23</th>\n",
       "      <td>Варшавское шоссе</td>\n",
       "      <td>ЮАО</td>\n",
       "      <td>Район Чертаново Южное</td>\n",
       "      <td>153</td>\n",
       "    </tr>\n",
       "    <tr>\n",
       "      <th>24</th>\n",
       "      <td>Варшавское шоссе</td>\n",
       "      <td>ЮАО</td>\n",
       "      <td>Донской район</td>\n",
       "      <td>153</td>\n",
       "    </tr>\n",
       "    <tr>\n",
       "      <th>25</th>\n",
       "      <td>Ленинский проспект</td>\n",
       "      <td>ЮАО</td>\n",
       "      <td>Донской район</td>\n",
       "      <td>146</td>\n",
       "    </tr>\n",
       "    <tr>\n",
       "      <th>7</th>\n",
       "      <td>Ленинский проспект</td>\n",
       "      <td>ЗАО</td>\n",
       "      <td>Район Тропарево-Никулино</td>\n",
       "      <td>146</td>\n",
       "    </tr>\n",
       "    <tr>\n",
       "      <th>42</th>\n",
       "      <td>Ленинский проспект</td>\n",
       "      <td>ЦАО</td>\n",
       "      <td>Район Якиманка</td>\n",
       "      <td>146</td>\n",
       "    </tr>\n",
       "    <tr>\n",
       "      <th>39</th>\n",
       "      <td>Ленинский проспект</td>\n",
       "      <td>ЮЗАО</td>\n",
       "      <td>Район Теплый Стан</td>\n",
       "      <td>146</td>\n",
       "    </tr>\n",
       "    <tr>\n",
       "      <th>36</th>\n",
       "      <td>Ленинский проспект</td>\n",
       "      <td>ЮЗАО</td>\n",
       "      <td>Обручевский район</td>\n",
       "      <td>146</td>\n",
       "    </tr>\n",
       "    <tr>\n",
       "      <th>35</th>\n",
       "      <td>Ленинский проспект</td>\n",
       "      <td>ЮЗАО</td>\n",
       "      <td>Ломоносовский район</td>\n",
       "      <td>146</td>\n",
       "    </tr>\n",
       "    <tr>\n",
       "      <th>4</th>\n",
       "      <td>Ленинский проспект</td>\n",
       "      <td>ЗАО</td>\n",
       "      <td>Район Проспект Вернадского</td>\n",
       "      <td>146</td>\n",
       "    </tr>\n",
       "    <tr>\n",
       "      <th>31</th>\n",
       "      <td>Ленинский проспект</td>\n",
       "      <td>ЮЗАО</td>\n",
       "      <td>Район Гагаринский</td>\n",
       "      <td>146</td>\n",
       "    </tr>\n",
       "    <tr>\n",
       "      <th>34</th>\n",
       "      <td>проспект Вернадского</td>\n",
       "      <td>ЮЗАО</td>\n",
       "      <td>Ломоносовский район</td>\n",
       "      <td>124</td>\n",
       "    </tr>\n",
       "    <tr>\n",
       "      <th>3</th>\n",
       "      <td>проспект Вернадского</td>\n",
       "      <td>ЗАО</td>\n",
       "      <td>Район Проспект Вернадского</td>\n",
       "      <td>124</td>\n",
       "    </tr>\n",
       "    <tr>\n",
       "      <th>30</th>\n",
       "      <td>проспект Вернадского</td>\n",
       "      <td>ЮЗАО</td>\n",
       "      <td>Район Гагаринский</td>\n",
       "      <td>124</td>\n",
       "    </tr>\n",
       "    <tr>\n",
       "      <th>6</th>\n",
       "      <td>проспект Вернадского</td>\n",
       "      <td>ЗАО</td>\n",
       "      <td>Район Тропарево-Никулино</td>\n",
       "      <td>124</td>\n",
       "    </tr>\n",
       "    <tr>\n",
       "      <th>5</th>\n",
       "      <td>проспект Вернадского</td>\n",
       "      <td>ЗАО</td>\n",
       "      <td>Район Раменки</td>\n",
       "      <td>124</td>\n",
       "    </tr>\n",
       "    <tr>\n",
       "      <th>1</th>\n",
       "      <td>Кутузовский проспект</td>\n",
       "      <td>ЗАО</td>\n",
       "      <td>Район Дорогомилово</td>\n",
       "      <td>113</td>\n",
       "    </tr>\n",
       "    <tr>\n",
       "      <th>2</th>\n",
       "      <td>Кутузовский проспект</td>\n",
       "      <td>ЗАО</td>\n",
       "      <td>Район Фили-Давыдково</td>\n",
       "      <td>113</td>\n",
       "    </tr>\n",
       "  </tbody>\n",
       "</table>\n",
       "</div>"
      ],
      "text/plain": [
       "                streetname       okrug                         area   id\n",
       "10        город Зеленоград  Зеленоград           Панфиловский район  232\n",
       "8         город Зеленоград  Зеленоград                Район Крюково  232\n",
       "9         город Зеленоград  Зеленоград      Район Матушкино-Савелки  232\n",
       "18           проспект Мира        СВАО           Останкинский район  199\n",
       "17           проспект Мира        СВАО           Район Марьина роща  199\n",
       "16           проспект Мира        СВАО            Ярославский Район  199\n",
       "15           проспект Мира        СВАО           Алексеевский район  199\n",
       "20           проспект Мира        СВАО               Район Свиблово  199\n",
       "43           проспект Мира         ЦАО              Мещанский район  199\n",
       "19           проспект Мира        СВАО              Район Ростокино  199\n",
       "28       Профсоюзная улица        ЮЗАО          Академический район  178\n",
       "29       Профсоюзная улица        ЮЗАО              Район Черемушки  178\n",
       "32       Профсоюзная улица        ЮЗАО                Район Ясенево  178\n",
       "33       Профсоюзная улица        ЮЗАО               Район Коньково  178\n",
       "37       Профсоюзная улица        ЮЗАО            Обручевский район  178\n",
       "40       Профсоюзная улица        ЮЗАО            Район Теплый Стан  178\n",
       "11  Ленинградский проспект         САО               Район Аэропорт  171\n",
       "12  Ленинградский проспект         САО                Район Беговой  171\n",
       "13  Ленинградский проспект         САО            Хорошевский район  171\n",
       "14  Ленинградский проспект         САО                  Район Сокол  171\n",
       "0   Пресненская набережная         ЦАО            Пресненский район  167\n",
       "21        Варшавское шоссе         ЮАО  Район Чертаново Центральное  153\n",
       "26        Варшавское шоссе         ЮАО     Район Нагатино-Садовники  153\n",
       "41        Варшавское шоссе        ЮЗАО           Район Южное Бутово  153\n",
       "38        Варшавское шоссе        ЮЗАО        Район Северное Бутово  153\n",
       "27        Варшавское шоссе         ЮАО               Нагорный район  153\n",
       "22        Варшавское шоссе         ЮАО     Район Чертаново Северное  153\n",
       "23        Варшавское шоссе         ЮАО        Район Чертаново Южное  153\n",
       "24        Варшавское шоссе         ЮАО                Донской район  153\n",
       "25      Ленинский проспект         ЮАО                Донской район  146\n",
       "7       Ленинский проспект         ЗАО     Район Тропарево-Никулино  146\n",
       "42      Ленинский проспект         ЦАО               Район Якиманка  146\n",
       "39      Ленинский проспект        ЮЗАО            Район Теплый Стан  146\n",
       "36      Ленинский проспект        ЮЗАО            Обручевский район  146\n",
       "35      Ленинский проспект        ЮЗАО          Ломоносовский район  146\n",
       "4       Ленинский проспект         ЗАО   Район Проспект Вернадского  146\n",
       "31      Ленинский проспект        ЮЗАО            Район Гагаринский  146\n",
       "34    проспект Вернадского        ЮЗАО          Ломоносовский район  124\n",
       "3     проспект Вернадского         ЗАО   Район Проспект Вернадского  124\n",
       "30    проспект Вернадского        ЮЗАО            Район Гагаринский  124\n",
       "6     проспект Вернадского         ЗАО     Район Тропарево-Никулино  124\n",
       "5     проспект Вернадского         ЗАО                Район Раменки  124\n",
       "1     Кутузовский проспект         ЗАО           Район Дорогомилово  113\n",
       "2     Кутузовский проспект         ЗАО         Район Фили-Давыдково  113"
      ]
     },
     "metadata": {},
     "output_type": "display_data"
    }
   ],
   "source": [
    "street = top_10.head(10).index\n",
    "#df_top_10 = pd.DataFrame(data=None)\n",
    "# for i in street:\n",
    "#     df_top_10 = pd.concat([df_top_10, df.query('streetname == @i')])\n",
    "#df_top_10 = pd.concat([df_top_10, df.query('streetname in @street')])\n",
    "df_top_10 = df.query('streetname in @street')\n",
    "top_10_merge = df_top_10.merge(top_10, left_on='streetname',right_on='street', how='left')\n",
    "top_10_merge = top_10_merge.drop(['areaid'], 1)\n",
    "display(top_10_merge.sort_values(by='id', ascending=False))    "
   ]
  },
  {
   "cell_type": "markdown",
   "id": "7091481a",
   "metadata": {},
   "source": [
    "Таким образом найден топ-10 улиц с наибольшим количеством заведений на них, а также определены районы, в которых находятся эти улицы. Так как улицы длинные и проходят через несколько районов, получилось дублирование - некоторые улицы находятся в нескольких районах."
   ]
  },
  {
   "cell_type": "markdown",
   "id": "a66f086f",
   "metadata": {},
   "source": [
    "## Улицы и районы с одним объектом общественного питания"
   ]
  },
  {
   "cell_type": "markdown",
   "id": "87d3ff77",
   "metadata": {},
   "source": [
    "Найдем число улиц с одним объектом общественного питания и в каком числе районов Москвы находятся эти улицы."
   ]
  },
  {
   "cell_type": "code",
   "execution_count": 23,
   "id": "9a9f2ab7",
   "metadata": {},
   "outputs": [
    {
     "data": {
      "text/plain": [
       "573"
      ]
     },
     "execution_count": 23,
     "metadata": {},
     "output_type": "execute_result"
    }
   ],
   "source": [
    "# поиск улиц с одним общепитом\n",
    "streets_one_res = data.groupby('street').agg({'id': 'count'}).sort_values(by = 'id', ascending=False).query('id == 1').reset_index()\n",
    "streets_one_res['street'].count()"
   ]
  },
  {
   "cell_type": "code",
   "execution_count": 24,
   "id": "8836e0c8",
   "metadata": {},
   "outputs": [
    {
     "data": {
      "text/plain": [
       "99"
      ]
     },
     "execution_count": 24,
     "metadata": {},
     "output_type": "execute_result"
    }
   ],
   "source": [
    "# поиск районов с такими улицами \n",
    "dist_count = streets_one_res.merge(df, left_on='street',right_on='streetname', how='left')\n",
    "dist_count.dropna()\n",
    "dist_count['area'].nunique()"
   ]
  },
  {
   "cell_type": "markdown",
   "id": "ae115d0b",
   "metadata": {},
   "source": [
    "Таким образом, у нас получилось 573 улицы с одним общепитом и 99 районов, где есть улица/улицы с одним общепитом."
   ]
  },
  {
   "cell_type": "markdown",
   "id": "611962cb",
   "metadata": {},
   "source": [
    "## Распределение количества посадочных мест для улиц с большим количеством общепитов"
   ]
  },
  {
   "cell_type": "markdown",
   "id": "7c596aeb",
   "metadata": {},
   "source": [
    "Посмотрим на распределение количества посадочных мест для улиц с наибольштм количеством объектов общественного питания."
   ]
  },
  {
   "cell_type": "code",
   "execution_count": 25,
   "id": "043edb31",
   "metadata": {},
   "outputs": [
    {
     "data": {
      "text/plain": [
       "<function matplotlib.pyplot.show(close=None, block=None)>"
      ]
     },
     "execution_count": 25,
     "metadata": {},
     "output_type": "execute_result"
    },
    {
     "data": {
      "image/png": "[encoded data removed]",
      "text/plain": [
       "<Figure size 1080x576 with 1 Axes>"
      ]
     },
     "metadata": {
      "needs_background": "light"
     },
     "output_type": "display_data"
    }
   ],
   "source": [
    "data_rasp = data.query('street in @street')\n",
    "plt.figure(figsize=(15,8))\n",
    "ax = sns.boxplot(x='number', y='street',data=data_rasp, orient=\"h\")\n",
    "plt.xlabel('Посадочных мест')\n",
    "plt.xlim(-10,250)\n",
    "plt.show"
   ]
  },
  {
   "cell_type": "markdown",
   "id": "e8c76b25",
   "metadata": {},
   "source": [
    "Можно заметить, что медианное количество посадочных мест для топ 10 улиц в районе 30-50 мест, в поселении Сосенкое оно поменьше. Выбросы уже начинаются со значений примерно в 150 мест. Межквартильный размах в основном не выходит за пределы диапазона 20-100 мест."
   ]
  },
  {
   "cell_type": "markdown",
   "id": "c2cb76ea",
   "metadata": {},
   "source": [
    "# Вывод"
   ]
  },
  {
   "cell_type": "markdown",
   "id": "95db5430",
   "metadata": {},
   "source": [
    "Проведя исследования рынка, можно сказать, что если мы открываем небольшое кафе в Москве, то стоит обратить внимание на такие виды заведений, как кафе, ресторан и бар. В остальных заведениях либо формат подачи самообслуживание, либо они сетевые и крупные. Количество посадочных мест не должно быть выше 50 для начала бизнеса, а при расширении наше заведение не будет сильно выбиваться из средних для наших видов заведений, которые мы определили выше, единственное что если мы открываем ресторан, то мы можем поднять количество посадочных мест до 90-100. Самые популярные улицы в городе:\n",
    "- город Зеленоград \n",
    "- проспект Мира\n",
    "- Профсоюзная улица \n",
    "- Ленинградский проспект\n",
    "- Пресненская набережная\n",
    "- Варшавское шоссе\n",
    "- Ленинский проспект\n",
    "- поселение Сосенское\n",
    "- проспект Вернадского\n",
    "- Кутузовский проспект\n",
    "\n",
    "На них заведений больше ста. А район можно посмотреть в разделе \"Tоп-10 улиц по количеству объектов общественного питания\".\n",
    "При дальнейшем развитии как сети, можно оставать в таком же диапазоне посадочных, потому что у сетей с большим кол-вом заведений и у сетей с маленьким количеством заведений число посадочных мест в среднем около 50. Если мы будем развиваться как сеть, то нам нужно будет оставаться в \"популярных\" местах, поэтому для развития сети топ-10 улиц подойдет."
   ]
  },
  {
   "cell_type": "markdown",
   "id": "6da50d4f",
   "metadata": {},
   "source": [
    "Презентация: <https://disk.yandex.ru/i/GBGLyveAuCEDrg> "
   ]
  }
 ],
 "metadata": {
  "ExecuteTimeLog": [
   {
    "duration": 10712,
    "start_time": "2022-03-11T06:12:32.633Z"
   },
   {
    "duration": 93,
    "start_time": "2022-03-11T06:12:43.348Z"
   },
   {
    "duration": 90,
    "start_time": "2022-03-11T06:12:43.444Z"
   },
   {
    "duration": 95,
    "start_time": "2022-03-11T06:12:43.538Z"
   },
   {
    "duration": 917,
    "start_time": "2022-03-11T06:12:43.636Z"
   },
   {
    "duration": 100,
    "start_time": "2022-03-11T06:12:44.556Z"
   },
   {
    "duration": 181,
    "start_time": "2022-03-11T06:12:44.659Z"
   },
   {
    "duration": 104,
    "start_time": "2022-03-11T06:12:44.844Z"
   },
   {
    "duration": 100,
    "start_time": "2022-03-11T06:12:44.954Z"
   },
   {
    "duration": 185,
    "start_time": "2022-03-11T06:12:45.058Z"
   },
   {
    "duration": 13,
    "start_time": "2022-03-11T06:12:45.246Z"
   },
   {
    "duration": 839,
    "start_time": "2022-03-11T06:12:45.336Z"
   },
   {
    "duration": 22,
    "start_time": "2022-03-11T06:12:46.234Z"
   },
   {
    "duration": 74,
    "start_time": "2022-03-11T06:12:46.258Z"
   },
   {
    "duration": 11,
    "start_time": "2022-03-11T06:12:46.334Z"
   },
   {
    "duration": 923,
    "start_time": "2022-03-11T06:12:46.348Z"
   },
   {
    "duration": 684,
    "start_time": "2022-03-11T06:12:47.273Z"
   },
   {
    "duration": 171,
    "start_time": "2022-03-11T06:12:47.960Z"
   },
   {
    "duration": 401,
    "start_time": "2022-03-11T06:12:48.135Z"
   },
   {
    "duration": 1324,
    "start_time": "2022-03-11T06:12:48.539Z"
   },
   {
    "duration": 870,
    "start_time": "2022-03-11T06:12:49.865Z"
   },
   {
    "duration": 97,
    "start_time": "2022-03-11T06:12:50.738Z"
   },
   {
    "duration": 28,
    "start_time": "2022-03-11T06:12:50.838Z"
   },
   {
    "duration": 79,
    "start_time": "2022-03-11T06:12:50.870Z"
   },
   {
    "duration": 1799,
    "start_time": "2022-03-11T06:12:50.952Z"
   },
   {
    "duration": 100,
    "start_time": "2022-03-11T09:24:33.552Z"
   },
   {
    "duration": 1348,
    "start_time": "2022-03-11T09:25:00.861Z"
   },
   {
    "duration": 329,
    "start_time": "2022-03-11T09:25:15.142Z"
   },
   {
    "duration": 63,
    "start_time": "2022-03-11T09:25:20.376Z"
   },
   {
    "duration": 17,
    "start_time": "2022-03-11T09:25:20.441Z"
   },
   {
    "duration": 31,
    "start_time": "2022-03-11T09:25:20.460Z"
   },
   {
    "duration": 16,
    "start_time": "2022-03-11T09:25:20.493Z"
   },
   {
    "duration": 202,
    "start_time": "2022-03-11T09:25:20.510Z"
   },
   {
    "duration": 16,
    "start_time": "2022-03-11T09:25:20.714Z"
   },
   {
    "duration": 16,
    "start_time": "2022-03-11T09:25:20.731Z"
   },
   {
    "duration": 33,
    "start_time": "2022-03-11T09:25:20.749Z"
   },
   {
    "duration": 6,
    "start_time": "2022-03-11T09:25:20.784Z"
   },
   {
    "duration": 16,
    "start_time": "2022-03-11T09:25:20.792Z"
   },
   {
    "duration": 12,
    "start_time": "2022-03-11T09:25:20.809Z"
   },
   {
    "duration": 341,
    "start_time": "2022-03-11T09:25:20.822Z"
   },
   {
    "duration": 23,
    "start_time": "2022-03-11T09:25:21.165Z"
   },
   {
    "duration": 8,
    "start_time": "2022-03-11T09:25:21.190Z"
   },
   {
    "duration": 9,
    "start_time": "2022-03-11T09:25:21.200Z"
   },
   {
    "duration": 408,
    "start_time": "2022-03-11T09:25:21.211Z"
   },
   {
    "duration": 252,
    "start_time": "2022-03-11T09:25:21.621Z"
   },
   {
    "duration": 28,
    "start_time": "2022-03-11T09:25:21.875Z"
   },
   {
    "duration": 110,
    "start_time": "2022-03-11T09:25:21.905Z"
   },
   {
    "duration": 1161,
    "start_time": "2022-03-11T09:25:22.017Z"
   },
   {
    "duration": 318,
    "start_time": "2022-03-11T09:25:23.180Z"
   },
   {
    "duration": 23,
    "start_time": "2022-03-11T09:25:23.500Z"
   },
   {
    "duration": 13,
    "start_time": "2022-03-11T09:25:23.526Z"
   },
   {
    "duration": 37,
    "start_time": "2022-03-11T09:25:23.541Z"
   },
   {
    "duration": 504,
    "start_time": "2022-03-11T09:25:23.580Z"
   }
  ],
  "kernelspec": {
   "display_name": "Python 3 (ipykernel)",
   "language": "python",
   "name": "python3"
  },
  "language_info": {
   "codemirror_mode": {
    "name": "ipython",
    "version": 3
   },
   "file_extension": ".py",
   "mimetype": "text/x-python",
   "name": "python",
   "nbconvert_exporter": "python",
   "pygments_lexer": "ipython3",
   "version": "3.9.7"
  },
  "toc": {
   "base_numbering": 1,
   "nav_menu": {},
   "number_sections": true,
   "sideBar": true,
   "skip_h1_title": false,
   "title_cell": "Table of Contents",
   "title_sidebar": "Contents",
   "toc_cell": false,
   "toc_position": {
    "height": "calc(100% - 180px)",
    "left": "10px",
    "top": "150px",
    "width": "307.2px"
   },
   "toc_section_display": true,
   "toc_window_display": false
  }
 },
 "nbformat": 4,
 "nbformat_minor": 5
}
